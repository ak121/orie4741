{
 "cells": [
  {
   "cell_type": "code",
   "execution_count": 1,
   "metadata": {
    "collapsed": false
   },
   "outputs": [
    {
     "name": "stderr",
     "output_type": "stream",
     "text": [
      "\u001b[1m\u001b[36mINFO: \u001b[39m\u001b[22m\u001b[36mPackage DataFrames is already installed\n",
      "\u001b[39m\u001b[1m\u001b[36mINFO: \u001b[39m\u001b[22m\u001b[36mMETADATA is out-of-date — you may not have the latest version of DataFrames\n",
      "\u001b[39m\u001b[1m\u001b[36mINFO: \u001b[39m\u001b[22m\u001b[36mUse `Pkg.update()` to get the latest versions of your packages\n",
      "\u001b[39m\u001b[1m\u001b[36mINFO: \u001b[39m\u001b[22m\u001b[36mPackage Gadfly is already installed\n",
      "\u001b[39m\u001b[1m\u001b[36mINFO: \u001b[39m\u001b[22m\u001b[36mMETADATA is out-of-date — you may not have the latest version of Gadfly\n",
      "\u001b[39m\u001b[1m\u001b[36mINFO: \u001b[39m\u001b[22m\u001b[36mUse `Pkg.update()` to get the latest versions of your packages\n",
      "\u001b[39m\u001b[1m\u001b[36mINFO: \u001b[39m\u001b[22m\u001b[36mPackage Plots is already installed\n",
      "\u001b[39m\u001b[1m\u001b[36mINFO: \u001b[39m\u001b[22m\u001b[36mMETADATA is out-of-date — you may not have the latest version of Plots\n",
      "\u001b[39m\u001b[1m\u001b[36mINFO: \u001b[39m\u001b[22m\u001b[36mUse `Pkg.update()` to get the latest versions of your packages\n",
      "\u001b[39m"
     ]
    }
   ],
   "source": [
    "# Install packages\n",
    "Pkg.add(\"DataFrames\")\n",
    "Pkg.add(\"Gadfly\")\n",
    "Pkg.add(\"Plots\")"
   ]
  },
  {
   "cell_type": "code",
   "execution_count": 2,
   "metadata": {
    "collapsed": true
   },
   "outputs": [],
   "source": [
    "using DataFrames, Gadfly, Plots"
   ]
  },
  {
   "cell_type": "code",
   "execution_count": 3,
   "metadata": {
    "collapsed": false
   },
   "outputs": [],
   "source": [
    "\n",
    "accepted_2015 = readtable(\"data/accepted_2015.csv\", nrows=40000); # 421100 is entire dataset\n"
   ]
  },
  {
   "cell_type": "code",
   "execution_count": 4,
   "metadata": {
    "collapsed": false
   },
   "outputs": [
    {
     "data": {
      "text/html": [
       "<table class=\"data-frame\"><thead><tr><th></th><th>id</th><th>member_id</th><th>loan_amnt</th><th>funded_amnt</th><th>funded_amnt_inv</th><th>term</th><th>int_rate</th><th>installment</th><th>grade</th><th>sub_grade</th><th>emp_title</th><th>emp_length</th><th>home_ownership</th><th>annual_inc</th><th>verification_status</th><th>issue_d</th><th>loan_status</th><th>pymnt_plan</th><th>url</th><th>desc</th><th>purpose</th><th>title</th><th>zip_code</th><th>addr_state</th><th>dti</th><th>delinq_2yrs</th><th>earliest_cr_line</th><th>inq_last_6mths</th><th>mths_since_last_delinq</th><th>mths_since_last_record</th><th>open_acc</th><th>pub_rec</th><th>revol_bal</th><th>revol_util</th><th>total_acc</th><th>initial_list_status</th><th>out_prncp</th><th>out_prncp_inv</th><th>total_pymnt</th><th>total_pymnt_inv</th><th>total_rec_prncp</th><th>total_rec_int</th><th>total_rec_late_fee</th><th>recoveries</th><th>collection_recovery_fee</th><th>last_pymnt_d</th><th>last_pymnt_amnt</th><th>next_pymnt_d</th><th>last_credit_pull_d</th><th>collections_12_mths_ex_med</th><th>mths_since_last_major_derog</th><th>policy_code</th><th>application_type</th><th>annual_inc_joint</th><th>dti_joint</th><th>verification_status_joint</th><th>acc_now_delinq</th><th>tot_coll_amt</th><th>tot_cur_bal</th><th>open_acc_6m</th><th>open_il_6m</th><th>open_il_12m</th><th>open_il_24m</th><th>mths_since_rcnt_il</th><th>total_bal_il</th><th>il_util</th><th>open_rv_12m</th><th>open_rv_24m</th><th>max_bal_bc</th><th>all_util</th><th>total_rev_hi_lim</th><th>inq_fi</th><th>total_cu_tl</th><th>inq_last_12m</th><th>acc_open_past_24mths</th><th>avg_cur_bal</th><th>bc_open_to_buy</th><th>bc_util</th><th>chargeoff_within_12_mths</th><th>delinq_amnt</th><th>mo_sin_old_il_acct</th><th>mo_sin_old_rev_tl_op</th><th>mo_sin_rcnt_rev_tl_op</th><th>mo_sin_rcnt_tl</th><th>mort_acc</th><th>mths_since_recent_bc</th><th>mths_since_recent_bc_dlq</th><th>mths_since_recent_inq</th><th>mths_since_recent_revol_delinq</th><th>num_accts_ever_120_pd</th><th>num_actv_bc_tl</th><th>num_actv_rev_tl</th><th>num_bc_sats</th><th>num_bc_tl</th><th>num_il_tl</th><th>num_op_rev_tl</th><th>num_rev_accts</th><th>num_rev_tl_bal_gt_0</th><th>num_sats</th><th>num_tl_120dpd_2m</th><th>num_tl_30dpd</th><th>num_tl_90g_dpd_24m</th><th>num_tl_op_past_12m</th><th>pct_tl_nvr_dlq</th><th>percent_bc_gt_75</th><th>pub_rec_bankruptcies</th><th>tax_liens</th><th>tot_hi_cred_lim</th><th>total_bal_ex_mort</th><th>total_bc_limit</th><th>total_il_high_credit_limit</th><th>revol_bal_joint</th><th>sec_app_earliest_cr_line</th><th>sec_app_inq_last_6mths</th><th>sec_app_mort_acc</th><th>sec_app_open_acc</th><th>sec_app_revol_util</th><th>sec_app_open_il_6m</th><th>sec_app_num_rev_accts</th><th>sec_app_chargeoff_within_12_mths</th><th>sec_app_collections_12_mths_ex_med</th><th>sec_app_mths_since_last_major_derog</th><th>hardship_flag</th><th>hardship_type</th><th>hardship_reason</th><th>hardship_status</th><th>deferral_term</th><th>hardship_amount</th><th>hardship_start_date</th><th>hardship_end_date</th><th>payment_plan_start_date</th><th>hardship_length</th><th>hardship_dpd</th><th>hardship_loan_status</th><th>orig_projected_additional_accrued_interest</th><th>hardship_payoff_balance_amount</th><th>hardship_last_payment_amount</th></tr></thead><tbody><tr><th>1</th><td>NA</td><td>NA</td><td>20000</td><td>20000</td><td>20000</td><td>36 months</td><td>6.49%</td><td>612.89</td><td>A</td><td>A2</td><td>TEAM LEAD, QUALITY ENGINEER</td><td>6 years</td><td>MORTGAGE</td><td>55000.0</td><td>Not Verified</td><td>Dec-15</td><td>Current</td><td>n</td><td>NA</td><td>NA</td><td>debt_consolidation</td><td>Debt consolidation</td><td>381xx</td><td>TN</td><td>29.15</td><td>0</td><td>Sep-94</td><td>0</td><td>74</td><td>NA</td><td>9</td><td>0</td><td>4851</td><td>23.80%</td><td>23</td><td>w</td><td>9369.66</td><td>9369.66</td><td>12239.77</td><td>12239.77</td><td>10630.34</td><td>1609.43</td><td>0.0</td><td>0.0</td><td>0.0</td><td>Sep-17</td><td>612.89</td><td>Oct-17</td><td>Sep-17</td><td>0</td><td>NA</td><td>1</td><td>INDIVIDUAL</td><td>NA</td><td>NA</td><td>NA</td><td>0</td><td>0</td><td>205155</td><td>1</td><td>3</td><td>1</td><td>4</td><td>3</td><td>36812</td><td>79</td><td>1</td><td>1</td><td>2776</td><td>62</td><td>20400</td><td>1</td><td>0</td><td>3</td><td>5</td><td>25644</td><td>9924</td><td>21.9</td><td>0</td><td>0</td><td>87</td><td>255</td><td>8</td><td>3</td><td>1</td><td>8</td><td>NA</td><td>3</td><td>NA</td><td>0</td><td>1</td><td>3</td><td>2</td><td>9</td><td>8</td><td>5</td><td>14</td><td>3</td><td>9</td><td>0</td><td>0</td><td>0</td><td>2</td><td>95.7</td><td>0.0</td><td>0</td><td>0</td><td>247433</td><td>41663</td><td>12700</td><td>46367</td><td>NA</td><td>NA</td><td>NA</td><td>NA</td><td>NA</td><td>NA</td><td>NA</td><td>NA</td><td>NA</td><td>NA</td><td>NA</td><td>N</td><td>NA</td><td>NA</td><td>NA</td><td>NA</td><td>NA</td><td>NA</td><td>NA</td><td>NA</td><td>NA</td><td>NA</td><td>NA</td><td>NA</td><td>NA</td><td>NA</td></tr><tr><th>2</th><td>NA</td><td>NA</td><td>10000</td><td>10000</td><td>10000</td><td>36 months</td><td>11.48%</td><td>329.67</td><td>B</td><td>B5</td><td>Paralegal</td><td>2 years</td><td>RENT</td><td>33000.0</td><td>Not Verified</td><td>Dec-15</td><td>Current</td><td>n</td><td>NA</td><td>NA</td><td>debt_consolidation</td><td>Debt consolidation</td><td>477xx</td><td>IN</td><td>21.75</td><td>0</td><td>Aug-09</td><td>0</td><td>NA</td><td>12</td><td>12</td><td>1</td><td>8052</td><td>35.60%</td><td>20</td><td>w</td><td>4586.07</td><td>4586.07</td><td>6888.44</td><td>6888.44</td><td>5413.93</td><td>1474.51</td><td>0.0</td><td>0.0</td><td>0.0</td><td>Sep-17</td><td>329.67</td><td>Oct-17</td><td>Sep-17</td><td>0</td><td>NA</td><td>1</td><td>INDIVIDUAL</td><td>NA</td><td>NA</td><td>NA</td><td>0</td><td>0</td><td>23197</td><td>1</td><td>4</td><td>0</td><td>0</td><td>28</td><td>15145</td><td>56</td><td>2</td><td>6</td><td>2715</td><td>47</td><td>22600</td><td>0</td><td>0</td><td>1</td><td>6</td><td>1933</td><td>12925</td><td>37.9</td><td>0</td><td>0</td><td>52</td><td>76</td><td>5</td><td>5</td><td>0</td><td>5</td><td>NA</td><td>2</td><td>NA</td><td>0</td><td>6</td><td>7</td><td>6</td><td>10</td><td>4</td><td>8</td><td>16</td><td>7</td><td>12</td><td>0</td><td>0</td><td>0</td><td>2</td><td>100.0</td><td>33.3</td><td>0</td><td>1</td><td>49732</td><td>23197</td><td>20800</td><td>27132</td><td>NA</td><td>NA</td><td>NA</td><td>NA</td><td>NA</td><td>NA</td><td>NA</td><td>NA</td><td>NA</td><td>NA</td><td>NA</td><td>N</td><td>NA</td><td>NA</td><td>NA</td><td>NA</td><td>NA</td><td>NA</td><td>NA</td><td>NA</td><td>NA</td><td>NA</td><td>NA</td><td>NA</td><td>NA</td><td>NA</td></tr><tr><th>3</th><td>NA</td><td>NA</td><td>21000</td><td>21000</td><td>21000</td><td>60 months</td><td>13.99%</td><td>488.53</td><td>C</td><td>C4</td><td>Resident physician</td><td>&lt; 1 year</td><td>RENT</td><td>52000.0</td><td>Source Verified</td><td>Dec-15</td><td>Current</td><td>n</td><td>NA</td><td>NA</td><td>credit_card</td><td>Credit card refinancing</td><td>441xx</td><td>OH</td><td>14.47</td><td>0</td><td>Jan-05</td><td>1</td><td>NA</td><td>NA</td><td>5</td><td>0</td><td>20374</td><td>87.40%</td><td>15</td><td>w</td><td>15546.37</td><td>15546.37</td><td>9852.21</td><td>9852.21</td><td>5453.63</td><td>4398.58</td><td>0.0</td><td>0.0</td><td>0.0</td><td>Sep-17</td><td>488.53</td><td>Oct-17</td><td>Sep-17</td><td>0</td><td>NA</td><td>1</td><td>INDIVIDUAL</td><td>NA</td><td>NA</td><td>NA</td><td>0</td><td>0</td><td>372407</td><td>1</td><td>1</td><td>1</td><td>1</td><td>5</td><td>352033</td><td>NA</td><td>0</td><td>0</td><td>9358</td><td>87</td><td>23300</td><td>1</td><td>0</td><td>2</td><td>1</td><td>74481</td><td>2926</td><td>87.4</td><td>0</td><td>0</td><td>76</td><td>131</td><td>85</td><td>5</td><td>0</td><td>85</td><td>NA</td><td>0</td><td>NA</td><td>0</td><td>3</td><td>3</td><td>4</td><td>4</td><td>11</td><td>4</td><td>4</td><td>3</td><td>5</td><td>0</td><td>0</td><td>0</td><td>1</td><td>100.0</td><td>75.0</td><td>0</td><td>0</td><td>370357</td><td>372407</td><td>23300</td><td>347057</td><td>NA</td><td>NA</td><td>NA</td><td>NA</td><td>NA</td><td>NA</td><td>NA</td><td>NA</td><td>NA</td><td>NA</td><td>NA</td><td>N</td><td>NA</td><td>NA</td><td>NA</td><td>NA</td><td>NA</td><td>NA</td><td>NA</td><td>NA</td><td>NA</td><td>NA</td><td>NA</td><td>NA</td><td>NA</td><td>NA</td></tr><tr><th>4</th><td>NA</td><td>NA</td><td>24000</td><td>24000</td><td>24000</td><td>60 months</td><td>9.80%</td><td>507.58</td><td>B</td><td>B3</td><td>NA</td><td>n/a</td><td>OWN</td><td>77900.0</td><td>Not Verified</td><td>Dec-15</td><td>Current</td><td>n</td><td>NA</td><td>NA</td><td>home_improvement</td><td>Home improvement</td><td>376xx</td><td>TN</td><td>10.24</td><td>0</td><td>Oct-82</td><td>1</td><td>50</td><td>NA</td><td>9</td><td>0</td><td>3454</td><td>10.30%</td><td>21</td><td>w</td><td>17260.4</td><td>17260.4</td><td>10118.93</td><td>10118.93</td><td>6739.6</td><td>3379.33</td><td>0.0</td><td>0.0</td><td>0.0</td><td>Sep-17</td><td>507.58</td><td>Oct-17</td><td>Sep-17</td><td>0</td><td>50</td><td>1</td><td>INDIVIDUAL</td><td>NA</td><td>NA</td><td>NA</td><td>0</td><td>0</td><td>127412</td><td>0</td><td>1</td><td>0</td><td>0</td><td>73</td><td>1456</td><td>4</td><td>0</td><td>1</td><td>3309</td><td>7</td><td>33600</td><td>1</td><td>0</td><td>2</td><td>1</td><td>14157</td><td>27172</td><td>10.9</td><td>0</td><td>0</td><td>139</td><td>398</td><td>22</td><td>22</td><td>2</td><td>22</td><td>NA</td><td>0</td><td>NA</td><td>1</td><td>2</td><td>3</td><td>4</td><td>6</td><td>6</td><td>7</td><td>13</td><td>3</td><td>9</td><td>0</td><td>0</td><td>0</td><td>0</td><td>95.2</td><td>0.0</td><td>0</td><td>0</td><td>202351</td><td>4910</td><td>30500</td><td>33631</td><td>NA</td><td>NA</td><td>NA</td><td>NA</td><td>NA</td><td>NA</td><td>NA</td><td>NA</td><td>NA</td><td>NA</td><td>NA</td><td>N</td><td>NA</td><td>NA</td><td>NA</td><td>NA</td><td>NA</td><td>NA</td><td>NA</td><td>NA</td><td>NA</td><td>NA</td><td>NA</td><td>NA</td><td>NA</td><td>NA</td></tr><tr><th>5</th><td>NA</td><td>NA</td><td>14025</td><td>14025</td><td>14025</td><td>60 months</td><td>18.49%</td><td>359.9</td><td>D</td><td>D5</td><td>accts payable</td><td>10+ years</td><td>MORTGAGE</td><td>39000.0</td><td>Verified</td><td>Dec-15</td><td>Fully Paid</td><td>n</td><td>NA</td><td>NA</td><td>debt_consolidation</td><td>Debt consolidation</td><td>546xx</td><td>WI</td><td>18.0</td><td>0</td><td>Aug-01</td><td>1</td><td>NA</td><td>NA</td><td>12</td><td>0</td><td>15646</td><td>74.90%</td><td>21</td><td>w</td><td>0.0</td><td>0.0</td><td>16341.39079</td><td>16341.39</td><td>14025.0</td><td>2316.39</td><td>0.0</td><td>0.0</td><td>0.0</td><td>Dec-16</td><td>12764.01</td><td>NA</td><td>Dec-16</td><td>0</td><td>NA</td><td>1</td><td>INDIVIDUAL</td><td>NA</td><td>NA</td><td>NA</td><td>0</td><td>0</td><td>60381</td><td>1</td><td>0</td><td>0</td><td>0</td><td>91</td><td>0</td><td>NA</td><td>2</td><td>5</td><td>4879</td><td>75</td><td>20900</td><td>0</td><td>0</td><td>2</td><td>5</td><td>5032</td><td>578</td><td>93.4</td><td>0</td><td>0</td><td>138</td><td>172</td><td>2</td><td>2</td><td>3</td><td>2</td><td>NA</td><td>2</td><td>NA</td><td>0</td><td>3</td><td>11</td><td>3</td><td>3</td><td>4</td><td>11</td><td>13</td><td>11</td><td>12</td><td>0</td><td>0</td><td>0</td><td>2</td><td>100.0</td><td>66.7</td><td>0</td><td>0</td><td>72286</td><td>15646</td><td>8800</td><td>0</td><td>NA</td><td>NA</td><td>NA</td><td>NA</td><td>NA</td><td>NA</td><td>NA</td><td>NA</td><td>NA</td><td>NA</td><td>NA</td><td>N</td><td>NA</td><td>NA</td><td>NA</td><td>NA</td><td>NA</td><td>NA</td><td>NA</td><td>NA</td><td>NA</td><td>NA</td><td>NA</td><td>NA</td><td>NA</td><td>NA</td></tr><tr><th>6</th><td>NA</td><td>NA</td><td>23975</td><td>23975</td><td>23975</td><td>60 months</td><td>19.89%</td><td>633.73</td><td>E</td><td>E3</td><td>Principal</td><td>10+ years</td><td>RENT</td><td>70000.0</td><td>Not Verified</td><td>Dec-15</td><td>Charged Off</td><td>n</td><td>NA</td><td>NA</td><td>credit_card</td><td>Credit card refinancing</td><td>220xx</td><td>VA</td><td>33.2</td><td>0</td><td>Jun-95</td><td>1</td><td>NA</td><td>NA</td><td>10</td><td>0</td><td>44807</td><td>94.90%</td><td>19</td><td>w</td><td>0.0</td><td>0.0</td><td>3928.86</td><td>3928.86</td><td>1478.13</td><td>2450.73</td><td>0.0</td><td>0.0</td><td>0.0</td><td>Jul-16</td><td>633.73</td><td>NA</td><td>Feb-17</td><td>0</td><td>NA</td><td>1</td><td>INDIVIDUAL</td><td>NA</td><td>NA</td><td>NA</td><td>0</td><td>0</td><td>57655</td><td>1</td><td>1</td><td>0</td><td>1</td><td>24</td><td>6234</td><td>30</td><td>1</td><td>1</td><td>9973</td><td>77</td><td>47200</td><td>0</td><td>0</td><td>1</td><td>2</td><td>6406</td><td>1249</td><td>97.2</td><td>0</td><td>0</td><td>24</td><td>240</td><td>4</td><td>4</td><td>3</td><td>52</td><td>NA</td><td>4</td><td>NA</td><td>0</td><td>5</td><td>7</td><td>6</td><td>7</td><td>1</td><td>8</td><td>14</td><td>7</td><td>10</td><td>0</td><td>0</td><td>0</td><td>1</td><td>100.0</td><td>100.0</td><td>0</td><td>0</td><td>74779</td><td>57655</td><td>44400</td><td>20800</td><td>NA</td><td>NA</td><td>NA</td><td>NA</td><td>NA</td><td>NA</td><td>NA</td><td>NA</td><td>NA</td><td>NA</td><td>NA</td><td>N</td><td>NA</td><td>NA</td><td>NA</td><td>NA</td><td>NA</td><td>NA</td><td>NA</td><td>NA</td><td>NA</td><td>NA</td><td>NA</td><td>NA</td><td>NA</td><td>NA</td></tr><tr><th>7</th><td>NA</td><td>NA</td><td>7200</td><td>7200</td><td>7200</td><td>36 months</td><td>15.77%</td><td>252.32</td><td>D</td><td>D1</td><td>Bank Officer Senior Customer Care Spec.</td><td>&lt; 1 year</td><td>RENT</td><td>55000.0</td><td>Not Verified</td><td>Dec-15</td><td>Current</td><td>n</td><td>NA</td><td>NA</td><td>debt_consolidation</td><td>NA</td><td>142xx</td><td>NY</td><td>17.35</td><td>0</td><td>Jun-05</td><td>0</td><td>59</td><td>74</td><td>24</td><td>1</td><td>5938</td><td>69%</td><td>43</td><td>w</td><td>3619.38</td><td>3619.38</td><td>5030.63</td><td>5030.63</td><td>3580.62</td><td>1450.01</td><td>0.0</td><td>0.0</td><td>0.0</td><td>Sep-17</td><td>252.32</td><td>Oct-17</td><td>Sep-17</td><td>0</td><td>NA</td><td>1</td><td>INDIVIDUAL</td><td>NA</td><td>NA</td><td>NA</td><td>0</td><td>0</td><td>275831</td><td>1</td><td>18</td><td>3</td><td>9</td><td>5</td><td>269893</td><td>110</td><td>0</td><td>3</td><td>3234</td><td>108</td><td>8600</td><td>4</td><td>0</td><td>9</td><td>12</td><td>11493</td><td>1521</td><td>77.3</td><td>0</td><td>0</td><td>111</td><td>126</td><td>15</td><td>5</td><td>0</td><td>15</td><td>NA</td><td>5</td><td>NA</td><td>0</td><td>2</td><td>3</td><td>4</td><td>5</td><td>35</td><td>6</td><td>8</td><td>3</td><td>24</td><td>0</td><td>0</td><td>0</td><td>3</td><td>97.7</td><td>50.0</td><td>0</td><td>1</td><td>255047</td><td>275831</td><td>6700</td><td>246447</td><td>NA</td><td>NA</td><td>NA</td><td>NA</td><td>NA</td><td>NA</td><td>NA</td><td>NA</td><td>NA</td><td>NA</td><td>NA</td><td>N</td><td>NA</td><td>NA</td><td>NA</td><td>NA</td><td>NA</td><td>NA</td><td>NA</td><td>NA</td><td>NA</td><td>NA</td><td>NA</td><td>NA</td><td>NA</td><td>NA</td></tr><tr><th>8</th><td>NA</td><td>NA</td><td>7200</td><td>7200</td><td>7200</td><td>36 months</td><td>11.48%</td><td>237.36</td><td>B</td><td>B5</td><td>Legal Administrative Assistant</td><td>10+ years</td><td>MORTGAGE</td><td>72500.0</td><td>Verified</td><td>Dec-15</td><td>Fully Paid</td><td>n</td><td>NA</td><td>NA</td><td>home_improvement</td><td>Home improvement</td><td>300xx</td><td>GA</td><td>8.47</td><td>0</td><td>Aug-04</td><td>1</td><td>NA</td><td>NA</td><td>5</td><td>0</td><td>5449</td><td>35.20%</td><td>7</td><td>w</td><td>0.0</td><td>0.0</td><td>8253.861926</td><td>8253.86</td><td>7200.0</td><td>1053.86</td><td>0.0</td><td>0.0</td><td>0.0</td><td>Sep-17</td><td>3755.5</td><td>NA</td><td>Sep-17</td><td>0</td><td>NA</td><td>1</td><td>INDIVIDUAL</td><td>NA</td><td>NA</td><td>NA</td><td>0</td><td>0</td><td>147791</td><td>2</td><td>1</td><td>0</td><td>1</td><td>23</td><td>14807</td><td>66</td><td>3</td><td>3</td><td>2445</td><td>53</td><td>15500</td><td>1</td><td>0</td><td>2</td><td>4</td><td>29558</td><td>10051</td><td>35.2</td><td>0</td><td>0</td><td>111</td><td>7</td><td>2</td><td>2</td><td>2</td><td>2</td><td>NA</td><td>0</td><td>NA</td><td>0</td><td>3</td><td>3</td><td>3</td><td>3</td><td>2</td><td>3</td><td>3</td><td>3</td><td>5</td><td>0</td><td>0</td><td>0</td><td>3</td><td>100.0</td><td>0.0</td><td>0</td><td>0</td><td>189950</td><td>20256</td><td>15500</td><td>22450</td><td>NA</td><td>NA</td><td>NA</td><td>NA</td><td>NA</td><td>NA</td><td>NA</td><td>NA</td><td>NA</td><td>NA</td><td>NA</td><td>N</td><td>NA</td><td>NA</td><td>NA</td><td>NA</td><td>NA</td><td>NA</td><td>NA</td><td>NA</td><td>NA</td><td>NA</td><td>NA</td><td>NA</td><td>NA</td><td>NA</td></tr><tr><th>9</th><td>NA</td><td>NA</td><td>10000</td><td>10000</td><td>10000</td><td>60 months</td><td>17.97%</td><td>253.78</td><td>D</td><td>D4</td><td>Educator</td><td>2 years</td><td>MORTGAGE</td><td>55000.0</td><td>Not Verified</td><td>Dec-15</td><td>Current</td><td>n</td><td>NA</td><td>NA</td><td>credit_card</td><td>Credit card refinancing</td><td>802xx</td><td>CO</td><td>35.7</td><td>0</td><td>Apr-01</td><td>0</td><td>NA</td><td>NA</td><td>14</td><td>0</td><td>38623</td><td>78%</td><td>28</td><td>w</td><td>7595.04</td><td>7595.04</td><td>5050.64</td><td>5050.64</td><td>2404.96</td><td>2645.68</td><td>0.0</td><td>0.0</td><td>0.0</td><td>Sep-17</td><td>253.78</td><td>Oct-17</td><td>Sep-17</td><td>0</td><td>NA</td><td>1</td><td>INDIVIDUAL</td><td>NA</td><td>NA</td><td>NA</td><td>0</td><td>0</td><td>288087</td><td>2</td><td>2</td><td>2</td><td>2</td><td>6</td><td>32895</td><td>94</td><td>1</td><td>1</td><td>6742</td><td>85</td><td>49500</td><td>0</td><td>3</td><td>3</td><td>4</td><td>20578</td><td>287</td><td>97.4</td><td>0</td><td>0</td><td>106</td><td>176</td><td>7</td><td>6</td><td>6</td><td>51</td><td>NA</td><td>6</td><td>NA</td><td>0</td><td>3</td><td>9</td><td>3</td><td>4</td><td>6</td><td>11</td><td>16</td><td>9</td><td>14</td><td>0</td><td>0</td><td>0</td><td>4</td><td>100.0</td><td>100.0</td><td>0</td><td>0</td><td>302401</td><td>71518</td><td>11000</td><td>34953</td><td>NA</td><td>NA</td><td>NA</td><td>NA</td><td>NA</td><td>NA</td><td>NA</td><td>NA</td><td>NA</td><td>NA</td><td>NA</td><td>N</td><td>NA</td><td>NA</td><td>NA</td><td>NA</td><td>NA</td><td>NA</td><td>NA</td><td>NA</td><td>NA</td><td>NA</td><td>NA</td><td>NA</td><td>NA</td><td>NA</td></tr><tr><th>10</th><td>NA</td><td>NA</td><td>20000</td><td>20000</td><td>20000</td><td>36 months</td><td>9.80%</td><td>643.47</td><td>B</td><td>B3</td><td>Manager</td><td>5 years</td><td>RENT</td><td>75000.0</td><td>Not Verified</td><td>Dec-15</td><td>Fully Paid</td><td>n</td><td>NA</td><td>NA</td><td>debt_consolidation</td><td>Debt consolidation</td><td>984xx</td><td>WA</td><td>23.45</td><td>0</td><td>May-92</td><td>0</td><td>70</td><td>NA</td><td>14</td><td>0</td><td>7558</td><td>9.60%</td><td>26</td><td>w</td><td>0.0</td><td>0.0</td><td>21918.8165</td><td>21918.82</td><td>20000.0</td><td>1918.82</td><td>0.0</td><td>0.0</td><td>0.0</td><td>Mar-17</td><td>13580.93</td><td>NA</td><td>Sep-17</td><td>0</td><td>70</td><td>1</td><td>INDIVIDUAL</td><td>NA</td><td>NA</td><td>NA</td><td>0</td><td>0</td><td>40090</td><td>2</td><td>2</td><td>2</td><td>3</td><td>8</td><td>32532</td><td>84</td><td>3</td><td>5</td><td>1600</td><td>34</td><td>78900</td><td>0</td><td>2</td><td>0</td><td>8</td><td>2864</td><td>48533</td><td>5.9</td><td>0</td><td>0</td><td>159</td><td>283</td><td>4</td><td>4</td><td>1</td><td>4</td><td>NA</td><td>19</td><td>NA</td><td>2</td><td>5</td><td>10</td><td>7</td><td>8</td><td>11</td><td>12</td><td>13</td><td>10</td><td>14</td><td>0</td><td>0</td><td>0</td><td>5</td><td>92.3</td><td>0.0</td><td>0</td><td>0</td><td>117477</td><td>40090</td><td>51600</td><td>38577</td><td>NA</td><td>NA</td><td>NA</td><td>NA</td><td>NA</td><td>NA</td><td>NA</td><td>NA</td><td>NA</td><td>NA</td><td>NA</td><td>N</td><td>NA</td><td>NA</td><td>NA</td><td>NA</td><td>NA</td><td>NA</td><td>NA</td><td>NA</td><td>NA</td><td>NA</td><td>NA</td><td>NA</td><td>NA</td><td>NA</td></tr><tr><th>11</th><td>NA</td><td>NA</td><td>15000</td><td>15000</td><td>15000</td><td>60 months</td><td>13.44%</td><td>344.69</td><td>C</td><td>C3</td><td>Counselor</td><td>4 years</td><td>RENT</td><td>77213.0</td><td>Source Verified</td><td>Dec-15</td><td>Fully Paid</td><td>n</td><td>NA</td><td>NA</td><td>credit_card</td><td>Credit card refinancing</td><td>347xx</td><td>FL</td><td>18.17</td><td>0</td><td>Dec-01</td><td>2</td><td>NA</td><td>76</td><td>17</td><td>1</td><td>59237</td><td>25.80%</td><td>44</td><td>w</td><td>0.0</td><td>0.0</td><td>17307.01868</td><td>17307.02</td><td>15000.0</td><td>2307.02</td><td>0.0</td><td>0.0</td><td>0.0</td><td>Mar-17</td><td>12793.18</td><td>NA</td><td>Mar-17</td><td>0</td><td>NA</td><td>1</td><td>INDIVIDUAL</td><td>NA</td><td>NA</td><td>NA</td><td>0</td><td>0</td><td>155521</td><td>2</td><td>2</td><td>0</td><td>0</td><td>45</td><td>96244</td><td>54</td><td>2</td><td>7</td><td>3046</td><td>36</td><td>80500</td><td>0</td><td>0</td><td>5</td><td>7</td><td>9720</td><td>6962</td><td>49.6</td><td>0</td><td>0</td><td>143</td><td>168</td><td>3</td><td>3</td><td>1</td><td>4</td><td>NA</td><td>1</td><td>NA</td><td>0</td><td>5</td><td>8</td><td>5</td><td>10</td><td>12</td><td>14</td><td>29</td><td>8</td><td>16</td><td>0</td><td>0</td><td>0</td><td>2</td><td>100.0</td><td>40.0</td><td>1</td><td>0</td><td>176208</td><td>155521</td><td>13800</td><td>95668</td><td>NA</td><td>NA</td><td>NA</td><td>NA</td><td>NA</td><td>NA</td><td>NA</td><td>NA</td><td>NA</td><td>NA</td><td>NA</td><td>N</td><td>NA</td><td>NA</td><td>NA</td><td>NA</td><td>NA</td><td>NA</td><td>NA</td><td>NA</td><td>NA</td><td>NA</td><td>NA</td><td>NA</td><td>NA</td><td>NA</td></tr><tr><th>12</th><td>NA</td><td>NA</td><td>4000</td><td>4000</td><td>4000</td><td>36 months</td><td>9.17%</td><td>127.52</td><td>B</td><td>B2</td><td>Store Manager</td><td>2 years</td><td>RENT</td><td>44500.0</td><td>Verified</td><td>Dec-15</td><td>Fully Paid</td><td>n</td><td>NA</td><td>NA</td><td>debt_consolidation</td><td>Debt consolidation</td><td>681xx</td><td>NE</td><td>15.83</td><td>0</td><td>Sep-03</td><td>0</td><td>NA</td><td>22</td><td>4</td><td>1</td><td>502</td><td>4.20%</td><td>24</td><td>w</td><td>0.0</td><td>0.0</td><td>4399.02307</td><td>4399.02</td><td>4000.0</td><td>399.02</td><td>0.0</td><td>0.0</td><td>0.0</td><td>May-17</td><td>2491.31</td><td>NA</td><td>May-17</td><td>0</td><td>NA</td><td>1</td><td>INDIVIDUAL</td><td>NA</td><td>NA</td><td>NA</td><td>0</td><td>0</td><td>7980</td><td>1</td><td>2</td><td>1</td><td>1</td><td>5</td><td>7478</td><td>36</td><td>1</td><td>2</td><td>502</td><td>24</td><td>12000</td><td>0</td><td>1</td><td>1</td><td>3</td><td>1995</td><td>11498</td><td>4.2</td><td>0</td><td>0</td><td>147</td><td>142</td><td>9</td><td>5</td><td>3</td><td>9</td><td>NA</td><td>9</td><td>NA</td><td>0</td><td>1</td><td>1</td><td>2</td><td>5</td><td>11</td><td>2</td><td>10</td><td>1</td><td>4</td><td>0</td><td>0</td><td>0</td><td>2</td><td>100.0</td><td>0.0</td><td>1</td><td>0</td><td>33017</td><td>7980</td><td>12000</td><td>21017</td><td>NA</td><td>NA</td><td>NA</td><td>NA</td><td>NA</td><td>NA</td><td>NA</td><td>NA</td><td>NA</td><td>NA</td><td>NA</td><td>N</td><td>NA</td><td>NA</td><td>NA</td><td>NA</td><td>NA</td><td>NA</td><td>NA</td><td>NA</td><td>NA</td><td>NA</td><td>NA</td><td>NA</td><td>NA</td><td>NA</td></tr><tr><th>13</th><td>NA</td><td>NA</td><td>20000</td><td>20000</td><td>20000</td><td>36 months</td><td>8.49%</td><td>631.26</td><td>B</td><td>B1</td><td>road driver</td><td>10+ years</td><td>MORTGAGE</td><td>85000.0</td><td>Not Verified</td><td>Dec-15</td><td>Fully Paid</td><td>n</td><td>NA</td><td>NA</td><td>major_purchase</td><td>Major purchase</td><td>293xx</td><td>SC</td><td>17.61</td><td>1</td><td>Feb-99</td><td>0</td><td>3</td><td>NA</td><td>8</td><td>0</td><td>826</td><td>5.70%</td><td>15</td><td>w</td><td>0.0</td><td>0.0</td><td>21538.50898</td><td>21538.51</td><td>20000.0</td><td>1538.51</td><td>0.0</td><td>0.0</td><td>0.0</td><td>Jan-17</td><td>14618.23</td><td>NA</td><td>Sep-17</td><td>0</td><td>3</td><td>1</td><td>INDIVIDUAL</td><td>NA</td><td>NA</td><td>NA</td><td>0</td><td>0</td><td>141601</td><td>0</td><td>3</td><td>0</td><td>4</td><td>13</td><td>27111</td><td>75</td><td>0</td><td>0</td><td>640</td><td>55</td><td>14500</td><td>1</td><td>0</td><td>2</td><td>4</td><td>17700</td><td>13674</td><td>5.7</td><td>0</td><td>0</td><td>149</td><td>55</td><td>32</td><td>13</td><td>3</td><td>32</td><td>NA</td><td>8</td><td>NA</td><td>1</td><td>2</td><td>2</td><td>3</td><td>3</td><td>9</td><td>3</td><td>3</td><td>2</td><td>8</td><td>0</td><td>0</td><td>1</td><td>0</td><td>93.3</td><td>0.0</td><td>0</td><td>0</td><td>193390</td><td>27937</td><td>14500</td><td>36144</td><td>NA</td><td>NA</td><td>NA</td><td>NA</td><td>NA</td><td>NA</td><td>NA</td><td>NA</td><td>NA</td><td>NA</td><td>NA</td><td>N</td><td>NA</td><td>NA</td><td>NA</td><td>NA</td><td>NA</td><td>NA</td><td>NA</td><td>NA</td><td>NA</td><td>NA</td><td>NA</td><td>NA</td><td>NA</td><td>NA</td></tr><tr><th>14</th><td>NA</td><td>NA</td><td>20000</td><td>20000</td><td>20000</td><td>36 months</td><td>12.88%</td><td>672.73</td><td>C</td><td>C2</td><td>President</td><td>10+ years</td><td>MORTGAGE</td><td>145000.0</td><td>Not Verified</td><td>Dec-15</td><td>Current</td><td>n</td><td>NA</td><td>NA</td><td>debt_consolidation</td><td>Debt consolidation</td><td>029xx</td><td>RI</td><td>12.28</td><td>0</td><td>Feb-04</td><td>0</td><td>NA</td><td>NA</td><td>12</td><td>0</td><td>22551</td><td>80.20%</td><td>21</td><td>w</td><td>9841.59</td><td>9841.59</td><td>13418.82</td><td>13418.82</td><td>10158.41</td><td>3260.41</td><td>0.0</td><td>0.0</td><td>0.0</td><td>Sep-17</td><td>672.73</td><td>Oct-17</td><td>Sep-17</td><td>0</td><td>NA</td><td>1</td><td>INDIVIDUAL</td><td>NA</td><td>NA</td><td>NA</td><td>0</td><td>0</td><td>429218</td><td>2</td><td>3</td><td>1</td><td>2</td><td>2</td><td>9935</td><td>43</td><td>2</td><td>3</td><td>4627</td><td>62</td><td>28500</td><td>1</td><td>0</td><td>6</td><td>5</td><td>39020</td><td>2822</td><td>81.6</td><td>0</td><td>0</td><td>79</td><td>142</td><td>4</td><td>2</td><td>5</td><td>27</td><td>NA</td><td>1</td><td>NA</td><td>0</td><td>4</td><td>6</td><td>5</td><td>8</td><td>5</td><td>7</td><td>11</td><td>6</td><td>12</td><td>0</td><td>0</td><td>0</td><td>3</td><td>100.0</td><td>75.0</td><td>0</td><td>0</td><td>472759</td><td>32486</td><td>13500</td><td>23259</td><td>NA</td><td>NA</td><td>NA</td><td>NA</td><td>NA</td><td>NA</td><td>NA</td><td>NA</td><td>NA</td><td>NA</td><td>NA</td><td>N</td><td>NA</td><td>NA</td><td>NA</td><td>NA</td><td>NA</td><td>NA</td><td>NA</td><td>NA</td><td>NA</td><td>NA</td><td>NA</td><td>NA</td><td>NA</td><td>NA</td></tr><tr><th>15</th><td>NA</td><td>NA</td><td>3600</td><td>3600</td><td>3600</td><td>36 months</td><td>11.48%</td><td>118.68</td><td>B</td><td>B5</td><td>Systems Administrator</td><td>&lt; 1 year</td><td>MORTGAGE</td><td>85000.0</td><td>Source Verified</td><td>Dec-15</td><td>Fully Paid</td><td>n</td><td>NA</td><td>NA</td><td>debt_consolidation</td><td>Debt consolidation</td><td>220xx</td><td>VA</td><td>17.44</td><td>0</td><td>Apr-94</td><td>2</td><td>NA</td><td>81</td><td>12</td><td>1</td><td>6952</td><td>28.70%</td><td>23</td><td>w</td><td>0.0</td><td>0.0</td><td>4049.625087</td><td>4049.63</td><td>3600.0</td><td>449.63</td><td>0.0</td><td>0.0</td><td>0.0</td><td>May-17</td><td>2275.17</td><td>NA</td><td>May-17</td><td>0</td><td>NA</td><td>1</td><td>INDIVIDUAL</td><td>NA</td><td>NA</td><td>NA</td><td>0</td><td>194</td><td>407032</td><td>0</td><td>3</td><td>1</td><td>3</td><td>9</td><td>35380</td><td>82</td><td>0</td><td>1</td><td>4288</td><td>63</td><td>24200</td><td>2</td><td>1</td><td>8</td><td>4</td><td>33919</td><td>15532</td><td>29.4</td><td>0</td><td>0</td><td>260</td><td>129</td><td>16</td><td>9</td><td>1</td><td>16</td><td>NA</td><td>1</td><td>NA</td><td>0</td><td>3</td><td>4</td><td>7</td><td>10</td><td>8</td><td>8</td><td>14</td><td>4</td><td>12</td><td>0</td><td>0</td><td>0</td><td>1</td><td>100.0</td><td>28.6</td><td>1</td><td>0</td><td>457315</td><td>42332</td><td>22000</td><td>43306</td><td>NA</td><td>NA</td><td>NA</td><td>NA</td><td>NA</td><td>NA</td><td>NA</td><td>NA</td><td>NA</td><td>NA</td><td>NA</td><td>N</td><td>NA</td><td>NA</td><td>NA</td><td>NA</td><td>NA</td><td>NA</td><td>NA</td><td>NA</td><td>NA</td><td>NA</td><td>NA</td><td>NA</td><td>NA</td><td>NA</td></tr><tr><th>16</th><td>NA</td><td>NA</td><td>25000</td><td>25000</td><td>25000</td><td>60 months</td><td>11.48%</td><td>549.57</td><td>B</td><td>B5</td><td>Project Manager</td><td>10+ years</td><td>MORTGAGE</td><td>135000.0</td><td>Not Verified</td><td>Dec-15</td><td>Fully Paid</td><td>n</td><td>NA</td><td>NA</td><td>credit_card</td><td>Credit card refinancing</td><td>774xx</td><td>TX</td><td>4.65</td><td>0</td><td>Oct-04</td><td>0</td><td>47</td><td>NA</td><td>16</td><td>0</td><td>7340</td><td>13.50%</td><td>33</td><td>w</td><td>0.0</td><td>0.0</td><td>26482.58</td><td>26482.58</td><td>25000.0</td><td>1482.58</td><td>0.0</td><td>0.0</td><td>0.0</td><td>Jul-16</td><td>23774.59</td><td>NA</td><td>Jul-16</td><td>0</td><td>47</td><td>1</td><td>INDIVIDUAL</td><td>NA</td><td>NA</td><td>NA</td><td>0</td><td>0</td><td>23522</td><td>0</td><td>1</td><td>1</td><td>2</td><td>7</td><td>16182</td><td>91</td><td>2</td><td>6</td><td>2990</td><td>33</td><td>54400</td><td>1</td><td>1</td><td>5</td><td>9</td><td>1470</td><td>38700</td><td>15.5</td><td>0</td><td>0</td><td>134</td><td>100</td><td>7</td><td>7</td><td>5</td><td>10</td><td>NA</td><td>3</td><td>NA</td><td>1</td><td>3</td><td>4</td><td>11</td><td>13</td><td>6</td><td>15</td><td>21</td><td>4</td><td>16</td><td>0</td><td>0</td><td>0</td><td>4</td><td>97.0</td><td>0.0</td><td>0</td><td>0</td><td>72150</td><td>23522</td><td>45800</td><td>17750</td><td>NA</td><td>NA</td><td>NA</td><td>NA</td><td>NA</td><td>NA</td><td>NA</td><td>NA</td><td>NA</td><td>NA</td><td>NA</td><td>N</td><td>NA</td><td>NA</td><td>NA</td><td>NA</td><td>NA</td><td>NA</td><td>NA</td><td>NA</td><td>NA</td><td>NA</td><td>NA</td><td>NA</td><td>NA</td><td>NA</td></tr><tr><th>17</th><td>NA</td><td>NA</td><td>20000</td><td>20000</td><td>20000</td><td>36 months</td><td>15.77%</td><td>700.88</td><td>D</td><td>D1</td><td>Clinical Intake</td><td>5 years</td><td>RENT</td><td>70000.0</td><td>Not Verified</td><td>Dec-15</td><td>Fully Paid</td><td>n</td><td>NA</td><td>NA</td><td>house</td><td>Home buying</td><td>331xx</td><td>FL</td><td>22.21</td><td>0</td><td>Jul-04</td><td>0</td><td>38</td><td>NA</td><td>24</td><td>0</td><td>19077</td><td>36.60%</td><td>63</td><td>w</td><td>0.0</td><td>0.0</td><td>21780.58678</td><td>21780.59</td><td>20000.0</td><td>1780.59</td><td>0.0</td><td>0.0</td><td>0.0</td><td>Dec-16</td><td>2815.6</td><td>NA</td><td>Jan-17</td><td>0</td><td>38</td><td>1</td><td>INDIVIDUAL</td><td>NA</td><td>NA</td><td>NA</td><td>0</td><td>264</td><td>63456</td><td>2</td><td>3</td><td>0</td><td>0</td><td>47</td><td>44379</td><td>84</td><td>6</td><td>9</td><td>2957</td><td>61</td><td>52100</td><td>0</td><td>0</td><td>3</td><td>9</td><td>2759</td><td>12279</td><td>48.0</td><td>0</td><td>0</td><td>131</td><td>137</td><td>2</td><td>2</td><td>1</td><td>2</td><td>NA</td><td>9</td><td>NA</td><td>5</td><td>8</td><td>17</td><td>9</td><td>9</td><td>39</td><td>21</td><td>23</td><td>17</td><td>24</td><td>0</td><td>0</td><td>0</td><td>6</td><td>92.1</td><td>0.0</td><td>0</td><td>0</td><td>104696</td><td>63456</td><td>23600</td><td>52596</td><td>NA</td><td>NA</td><td>NA</td><td>NA</td><td>NA</td><td>NA</td><td>NA</td><td>NA</td><td>NA</td><td>NA</td><td>NA</td><td>N</td><td>NA</td><td>NA</td><td>NA</td><td>NA</td><td>NA</td><td>NA</td><td>NA</td><td>NA</td><td>NA</td><td>NA</td><td>NA</td><td>NA</td><td>NA</td><td>NA</td></tr><tr><th>18</th><td>NA</td><td>NA</td><td>14000</td><td>14000</td><td>14000</td><td>36 months</td><td>9.80%</td><td>450.43</td><td>B</td><td>B3</td><td>Master mechanic</td><td>4 years</td><td>MORTGAGE</td><td>100000.0</td><td>Not Verified</td><td>Dec-15</td><td>Current</td><td>n</td><td>NA</td><td>NA</td><td>medical</td><td>Medical expenses</td><td>439xx</td><td>OH</td><td>15.97</td><td>0</td><td>Dec-97</td><td>0</td><td>NA</td><td>NA</td><td>7</td><td>0</td><td>34250</td><td>36.10%</td><td>14</td><td>f</td><td>6730.09</td><td>6730.09</td><td>8989.54</td><td>8989.54</td><td>7269.91</td><td>1719.63</td><td>0.0</td><td>0.0</td><td>0.0</td><td>Sep-17</td><td>450.43</td><td>Oct-17</td><td>Sep-17</td><td>0</td><td>NA</td><td>1</td><td>INDIVIDUAL</td><td>NA</td><td>NA</td><td>NA</td><td>0</td><td>6594</td><td>451137</td><td>0</td><td>2</td><td>2</td><td>2</td><td>7</td><td>49789</td><td>89</td><td>0</td><td>0</td><td>11535</td><td>69</td><td>84500</td><td>0</td><td>1</td><td>1</td><td>3</td><td>64448</td><td>22057</td><td>36.1</td><td>0</td><td>0</td><td>134</td><td>216</td><td>54</td><td>7</td><td>2</td><td>54</td><td>NA</td><td>7</td><td>NA</td><td>0</td><td>2</td><td>3</td><td>2</td><td>3</td><td>6</td><td>3</td><td>6</td><td>3</td><td>7</td><td>0</td><td>0</td><td>0</td><td>2</td><td>100.0</td><td>0.0</td><td>0</td><td>0</td><td>531602</td><td>84039</td><td>34500</td><td>55842</td><td>NA</td><td>NA</td><td>NA</td><td>NA</td><td>NA</td><td>NA</td><td>NA</td><td>NA</td><td>NA</td><td>NA</td><td>NA</td><td>N</td><td>NA</td><td>NA</td><td>NA</td><td>NA</td><td>NA</td><td>NA</td><td>NA</td><td>NA</td><td>NA</td><td>NA</td><td>NA</td><td>NA</td><td>NA</td><td>NA</td></tr><tr><th>19</th><td>NA</td><td>NA</td><td>12000</td><td>12000</td><td>12000</td><td>36 months</td><td>5.32%</td><td>361.38</td><td>A</td><td>A1</td><td>Network Operation Engineer</td><td>4 years</td><td>MORTGAGE</td><td>53750.0</td><td>Source Verified</td><td>Dec-15</td><td>Fully Paid</td><td>n</td><td>NA</td><td>NA</td><td>debt_consolidation</td><td>Debt consolidation</td><td>850xx</td><td>AZ</td><td>15.3</td><td>1</td><td>Sep-07</td><td>0</td><td>19</td><td>NA</td><td>8</td><td>0</td><td>3172</td><td>17.20%</td><td>19</td><td>w</td><td>0.0</td><td>0.0</td><td>12463.54</td><td>12463.54</td><td>12000.0</td><td>463.54</td><td>0.0</td><td>0.0</td><td>0.0</td><td>Nov-16</td><td>9219.99</td><td>NA</td><td>Sep-17</td><td>0</td><td>NA</td><td>1</td><td>INDIVIDUAL</td><td>NA</td><td>NA</td><td>NA</td><td>0</td><td>0</td><td>142615</td><td>0</td><td>1</td><td>0</td><td>2</td><td>17</td><td>6468</td><td>22</td><td>0</td><td>0</td><td>0</td><td>22</td><td>18400</td><td>2</td><td>6</td><td>1</td><td>3</td><td>17827</td><td>8500</td><td>0.0</td><td>0</td><td>0</td><td>99</td><td>60</td><td>35</td><td>9</td><td>2</td><td>37</td><td>19</td><td>11</td><td>19</td><td>0</td><td>0</td><td>3</td><td>2</td><td>3</td><td>10</td><td>5</td><td>6</td><td>3</td><td>8</td><td>0</td><td>0</td><td>0</td><td>1</td><td>94.7</td><td>0.0</td><td>0</td><td>0</td><td>183062</td><td>11146</td><td>8500</td><td>29053</td><td>NA</td><td>NA</td><td>NA</td><td>NA</td><td>NA</td><td>NA</td><td>NA</td><td>NA</td><td>NA</td><td>NA</td><td>NA</td><td>N</td><td>NA</td><td>NA</td><td>NA</td><td>NA</td><td>NA</td><td>NA</td><td>NA</td><td>NA</td><td>NA</td><td>NA</td><td>NA</td><td>NA</td><td>NA</td><td>NA</td></tr><tr><th>20</th><td>NA</td><td>NA</td><td>27500</td><td>27500</td><td>27500</td><td>60 months</td><td>14.85%</td><td>652.06</td><td>C</td><td>C5</td><td>Manager</td><td>10+ years</td><td>MORTGAGE</td><td>195000.0</td><td>Not Verified</td><td>Dec-15</td><td>Fully Paid</td><td>n</td><td>NA</td><td>NA</td><td>other</td><td>Other</td><td>710xx</td><td>LA</td><td>6.79</td><td>0</td><td>Jul-01</td><td>0</td><td>NA</td><td>NA</td><td>14</td><td>0</td><td>34974</td><td>50.90%</td><td>19</td><td>w</td><td>0.0</td><td>0.0</td><td>29753.17</td><td>29753.17</td><td>27500.0</td><td>2253.17</td><td>0.0</td><td>0.0</td><td>0.0</td><td>Aug-16</td><td>25897.53</td><td>NA</td><td>Jul-16</td><td>0</td><td>NA</td><td>1</td><td>INDIVIDUAL</td><td>NA</td><td>NA</td><td>NA</td><td>0</td><td>0</td><td>267500</td><td>1</td><td>1</td><td>0</td><td>1</td><td>21</td><td>10003</td><td>76</td><td>1</td><td>3</td><td>12056</td><td>55</td><td>68700</td><td>0</td><td>0</td><td>0</td><td>4</td><td>19107</td><td>23969</td><td>56.8</td><td>0</td><td>0</td><td>21</td><td>173</td><td>3</td><td>3</td><td>1</td><td>3</td><td>NA</td><td>NA</td><td>NA</td><td>0</td><td>6</td><td>10</td><td>7</td><td>9</td><td>1</td><td>12</td><td>17</td><td>10</td><td>14</td><td>0</td><td>0</td><td>0</td><td>1</td><td>100.0</td><td>57.1</td><td>0</td><td>0</td><td>325100</td><td>44977</td><td>55500</td><td>13200</td><td>NA</td><td>NA</td><td>NA</td><td>NA</td><td>NA</td><td>NA</td><td>NA</td><td>NA</td><td>NA</td><td>NA</td><td>NA</td><td>N</td><td>NA</td><td>NA</td><td>NA</td><td>NA</td><td>NA</td><td>NA</td><td>NA</td><td>NA</td><td>NA</td><td>NA</td><td>NA</td><td>NA</td><td>NA</td><td>NA</td></tr><tr><th>21</th><td>NA</td><td>NA</td><td>10000</td><td>10000</td><td>10000</td><td>60 months</td><td>16.59%</td><td>246.33</td><td>D</td><td>D2</td><td>Emergency Department technician</td><td>&lt; 1 year</td><td>RENT</td><td>30000.0</td><td>Source Verified</td><td>Dec-15</td><td>Fully Paid</td><td>n</td><td>NA</td><td>NA</td><td>debt_consolidation</td><td>Debt consolidation</td><td>447xx</td><td>OH</td><td>30.84</td><td>0</td><td>Sep-00</td><td>2</td><td>78</td><td>91</td><td>19</td><td>1</td><td>6118</td><td>26.60%</td><td>36</td><td>w</td><td>0.0</td><td>0.0</td><td>10757.52</td><td>10757.52</td><td>10000.0</td><td>757.52</td><td>0.0</td><td>0.0</td><td>0.0</td><td>Jun-16</td><td>9795.24</td><td>NA</td><td>Sep-17</td><td>0</td><td>78</td><td>1</td><td>INDIVIDUAL</td><td>NA</td><td>NA</td><td>NA</td><td>0</td><td>0</td><td>65214</td><td>2</td><td>14</td><td>1</td><td>3</td><td>5</td><td>59096</td><td>94</td><td>1</td><td>1</td><td>4807</td><td>76</td><td>23000</td><td>5</td><td>0</td><td>7</td><td>4</td><td>3432</td><td>15310</td><td>28.1</td><td>0</td><td>0</td><td>183</td><td>162</td><td>3</td><td>3</td><td>0</td><td>3</td><td>NA</td><td>1</td><td>NA</td><td>1</td><td>3</td><td>4</td><td>3</td><td>5</td><td>28</td><td>4</td><td>8</td><td>4</td><td>19</td><td>0</td><td>0</td><td>0</td><td>2</td><td>96.9</td><td>0.0</td><td>1</td><td>0</td><td>85929</td><td>65214</td><td>21300</td><td>62929</td><td>NA</td><td>NA</td><td>NA</td><td>NA</td><td>NA</td><td>NA</td><td>NA</td><td>NA</td><td>NA</td><td>NA</td><td>NA</td><td>N</td><td>NA</td><td>NA</td><td>NA</td><td>NA</td><td>NA</td><td>NA</td><td>NA</td><td>NA</td><td>NA</td><td>NA</td><td>NA</td><td>NA</td><td>NA</td><td>NA</td></tr><tr><th>22</th><td>NA</td><td>NA</td><td>16000</td><td>16000</td><td>16000</td><td>60 months</td><td>13.44%</td><td>367.67</td><td>C</td><td>C3</td><td>Merchandise Manager</td><td>1 year</td><td>RENT</td><td>42000.0</td><td>Not Verified</td><td>Dec-15</td><td>Charged Off</td><td>n</td><td>NA</td><td>NA</td><td>credit_card</td><td>Credit card refinancing</td><td>019xx</td><td>MA</td><td>9.6</td><td>0</td><td>Apr-02</td><td>0</td><td>NA</td><td>NA</td><td>29</td><td>0</td><td>11834</td><td>44.80%</td><td>48</td><td>w</td><td>0.0</td><td>0.0</td><td>4382.17</td><td>4382.17</td><td>2406.29</td><td>1975.88</td><td>0.0</td><td>0.0</td><td>0.0</td><td>Jan-17</td><td>367.67</td><td>NA</td><td>May-17</td><td>0</td><td>NA</td><td>1</td><td>INDIVIDUAL</td><td>NA</td><td>NA</td><td>NA</td><td>0</td><td>0</td><td>83690</td><td>0</td><td>15</td><td>0</td><td>0</td><td>52</td><td>71856</td><td>118</td><td>0</td><td>1</td><td>1846</td><td>96</td><td>26400</td><td>0</td><td>0</td><td>0</td><td>1</td><td>2886</td><td>14203</td><td>40.6</td><td>0</td><td>0</td><td>164</td><td>120</td><td>16</td><td>16</td><td>0</td><td>16</td><td>NA</td><td>NA</td><td>NA</td><td>0</td><td>7</td><td>8</td><td>13</td><td>20</td><td>25</td><td>14</td><td>23</td><td>8</td><td>29</td><td>0</td><td>0</td><td>0</td><td>0</td><td>97.9</td><td>30.8</td><td>0</td><td>0</td><td>87509</td><td>83690</td><td>23900</td><td>61109</td><td>NA</td><td>NA</td><td>NA</td><td>NA</td><td>NA</td><td>NA</td><td>NA</td><td>NA</td><td>NA</td><td>NA</td><td>NA</td><td>N</td><td>NA</td><td>NA</td><td>NA</td><td>NA</td><td>NA</td><td>NA</td><td>NA</td><td>NA</td><td>NA</td><td>NA</td><td>NA</td><td>NA</td><td>NA</td><td>NA</td></tr><tr><th>23</th><td>NA</td><td>NA</td><td>6000</td><td>6000</td><td>6000</td><td>36 months</td><td>7.49%</td><td>186.61</td><td>A</td><td>A4</td><td>Analyst</td><td>10+ years</td><td>MORTGAGE</td><td>100000.0</td><td>Not Verified</td><td>Dec-15</td><td>Current</td><td>n</td><td>NA</td><td>NA</td><td>debt_consolidation</td><td>Debt consolidation</td><td>750xx</td><td>TX</td><td>13.28</td><td>1</td><td>May-94</td><td>1</td><td>15</td><td>NA</td><td>9</td><td>0</td><td>8563</td><td>72%</td><td>16</td><td>w</td><td>2833.1</td><td>2833.1</td><td>3725.96</td><td>3725.96</td><td>3166.9</td><td>559.06</td><td>0.0</td><td>0.0</td><td>0.0</td><td>Sep-17</td><td>186.61</td><td>Oct-17</td><td>Sep-17</td><td>0</td><td>NA</td><td>1</td><td>INDIVIDUAL</td><td>NA</td><td>NA</td><td>NA</td><td>0</td><td>0</td><td>116195</td><td>0</td><td>2</td><td>0</td><td>0</td><td>28</td><td>12525</td><td>35</td><td>0</td><td>1</td><td>2260</td><td>45</td><td>11900</td><td>0</td><td>1</td><td>1</td><td>1</td><td>12911</td><td>437</td><td>88.5</td><td>0</td><td>0</td><td>124</td><td>259</td><td>18</td><td>18</td><td>2</td><td>36</td><td>15</td><td>6</td><td>15</td><td>0</td><td>2</td><td>4</td><td>2</td><td>6</td><td>4</td><td>5</td><td>9</td><td>4</td><td>9</td><td>0</td><td>0</td><td>0</td><td>0</td><td>93.7</td><td>50.0</td><td>0</td><td>0</td><td>156354</td><td>22741</td><td>3800</td><td>36083</td><td>NA</td><td>NA</td><td>NA</td><td>NA</td><td>NA</td><td>NA</td><td>NA</td><td>NA</td><td>NA</td><td>NA</td><td>NA</td><td>N</td><td>NA</td><td>NA</td><td>NA</td><td>NA</td><td>NA</td><td>NA</td><td>NA</td><td>NA</td><td>NA</td><td>NA</td><td>NA</td><td>NA</td><td>NA</td><td>NA</td></tr><tr><th>24</th><td>NA</td><td>NA</td><td>16000</td><td>16000</td><td>16000</td><td>60 months</td><td>8.49%</td><td>328.19</td><td>B</td><td>B1</td><td>Supervisor</td><td>5 years</td><td>MORTGAGE</td><td>62000.0</td><td>Source Verified</td><td>Dec-15</td><td>Current</td><td>n</td><td>NA</td><td>NA</td><td>credit_card</td><td>Credit card refinancing</td><td>936xx</td><td>CA</td><td>28.92</td><td>0</td><td>Mar-02</td><td>0</td><td>39</td><td>NA</td><td>10</td><td>0</td><td>15763</td><td>51.20%</td><td>24</td><td>w</td><td>11398.55</td><td>11398.55</td><td>6544.93</td><td>6544.93</td><td>4601.45</td><td>1943.48</td><td>0.0</td><td>0.0</td><td>0.0</td><td>Sep-17</td><td>328.19</td><td>Oct-17</td><td>Aug-17</td><td>0</td><td>61</td><td>1</td><td>INDIVIDUAL</td><td>NA</td><td>NA</td><td>NA</td><td>0</td><td>0</td><td>227708</td><td>3</td><td>3</td><td>1</td><td>2</td><td>3</td><td>48608</td><td>82</td><td>2</td><td>4</td><td>4727</td><td>71</td><td>30800</td><td>1</td><td>1</td><td>0</td><td>6</td><td>22771</td><td>8703</td><td>63.0</td><td>0</td><td>0</td><td>165</td><td>159</td><td>3</td><td>3</td><td>3</td><td>3</td><td>NA</td><td>17</td><td>39</td><td>1</td><td>4</td><td>5</td><td>4</td><td>7</td><td>9</td><td>6</td><td>12</td><td>6</td><td>10</td><td>0</td><td>0</td><td>0</td><td>3</td><td>87.5</td><td>50.0</td><td>0</td><td>0</td><td>307343</td><td>64371</td><td>23500</td><td>59526</td><td>NA</td><td>NA</td><td>NA</td><td>NA</td><td>NA</td><td>NA</td><td>NA</td><td>NA</td><td>NA</td><td>NA</td><td>NA</td><td>N</td><td>NA</td><td>NA</td><td>NA</td><td>NA</td><td>NA</td><td>NA</td><td>NA</td><td>NA</td><td>NA</td><td>NA</td><td>NA</td><td>NA</td><td>NA</td><td>NA</td></tr><tr><th>25</th><td>NA</td><td>NA</td><td>29900</td><td>29900</td><td>29900</td><td>60 months</td><td>12.88%</td><td>678.49</td><td>C</td><td>C2</td><td>Corporate Insurance</td><td>10+ years</td><td>MORTGAGE</td><td>65000.0</td><td>Verified</td><td>Dec-15</td><td>Fully Paid</td><td>n</td><td>NA</td><td>NA</td><td>debt_consolidation</td><td>Debt consolidation</td><td>219xx</td><td>MD</td><td>21.77</td><td>0</td><td>May-04</td><td>0</td><td>NA</td><td>NA</td><td>15</td><td>0</td><td>31682</td><td>46.70%</td><td>31</td><td>w</td><td>0.0</td><td>0.0</td><td>34033.21418</td><td>34033.21</td><td>29900.0</td><td>4133.21</td><td>0.0</td><td>0.0</td><td>0.0</td><td>Mar-17</td><td>25234.24</td><td>NA</td><td>Jun-17</td><td>0</td><td>NA</td><td>1</td><td>INDIVIDUAL</td><td>NA</td><td>NA</td><td>NA</td><td>0</td><td>0</td><td>220251</td><td>2</td><td>1</td><td>1</td><td>2</td><td>9</td><td>10815</td><td>69</td><td>3</td><td>5</td><td>12971</td><td>51</td><td>67800</td><td>0</td><td>4</td><td>1</td><td>7</td><td>15732</td><td>18383</td><td>45.9</td><td>0</td><td>0</td><td>114</td><td>139</td><td>5</td><td>5</td><td>2</td><td>5</td><td>NA</td><td>9</td><td>NA</td><td>0</td><td>2</td><td>5</td><td>4</td><td>9</td><td>8</td><td>13</td><td>21</td><td>5</td><td>15</td><td>0</td><td>0</td><td>0</td><td>4</td><td>100.0</td><td>25.0</td><td>0</td><td>0</td><td>271700</td><td>42497</td><td>34000</td><td>15574</td><td>NA</td><td>NA</td><td>NA</td><td>NA</td><td>NA</td><td>NA</td><td>NA</td><td>NA</td><td>NA</td><td>NA</td><td>NA</td><td>N</td><td>NA</td><td>NA</td><td>NA</td><td>NA</td><td>NA</td><td>NA</td><td>NA</td><td>NA</td><td>NA</td><td>NA</td><td>NA</td><td>NA</td><td>NA</td><td>NA</td></tr><tr><th>26</th><td>NA</td><td>NA</td><td>15000</td><td>15000</td><td>15000</td><td>36 months</td><td>9.80%</td><td>482.61</td><td>B</td><td>B3</td><td>Electronic Branch Manager</td><td>3 years</td><td>MORTGAGE</td><td>92000.0</td><td>Not Verified</td><td>Dec-15</td><td>Fully Paid</td><td>n</td><td>NA</td><td>NA</td><td>debt_consolidation</td><td>Debt consolidation</td><td>973xx</td><td>OR</td><td>13.89</td><td>0</td><td>Nov-01</td><td>1</td><td>NA</td><td>67</td><td>7</td><td>2</td><td>12703</td><td>35.20%</td><td>31</td><td>w</td><td>0.0</td><td>0.0</td><td>15415.46</td><td>15415.46</td><td>15000.0</td><td>415.46</td><td>0.0</td><td>0.0</td><td>0.0</td><td>Apr-16</td><td>14450.25</td><td>NA</td><td>Sep-17</td><td>0</td><td>NA</td><td>1</td><td>INDIVIDUAL</td><td>NA</td><td>NA</td><td>NA</td><td>0</td><td>0</td><td>312996</td><td>0</td><td>2</td><td>2</td><td>2</td><td>8</td><td>40694</td><td>70</td><td>1</td><td>1</td><td>7045</td><td>42</td><td>36100</td><td>0</td><td>3</td><td>2</td><td>5</td><td>44714</td><td>23397</td><td>35.2</td><td>0</td><td>0</td><td>159</td><td>169</td><td>12</td><td>8</td><td>6</td><td>12</td><td>NA</td><td>4</td><td>NA</td><td>0</td><td>3</td><td>3</td><td>4</td><td>9</td><td>15</td><td>4</td><td>10</td><td>3</td><td>7</td><td>0</td><td>0</td><td>0</td><td>4</td><td>100.0</td><td>0.0</td><td>1</td><td>0</td><td>347470</td><td>53397</td><td>36100</td><td>47370</td><td>NA</td><td>NA</td><td>NA</td><td>NA</td><td>NA</td><td>NA</td><td>NA</td><td>NA</td><td>NA</td><td>NA</td><td>NA</td><td>N</td><td>NA</td><td>NA</td><td>NA</td><td>NA</td><td>NA</td><td>NA</td><td>NA</td><td>NA</td><td>NA</td><td>NA</td><td>NA</td><td>NA</td><td>NA</td><td>NA</td></tr><tr><th>27</th><td>NA</td><td>NA</td><td>20000</td><td>20000</td><td>20000</td><td>60 months</td><td>10.78%</td><td>432.66</td><td>B</td><td>B4</td><td>truck driver</td><td>10+ years</td><td>MORTGAGE</td><td>63000.0</td><td>Not Verified</td><td>Dec-15</td><td>Fully Paid</td><td>n</td><td>NA</td><td>NA</td><td>home_improvement</td><td>NA</td><td>605xx</td><td>IL</td><td>10.78</td><td>0</td><td>Aug-00</td><td>0</td><td>NA</td><td>NA</td><td>6</td><td>0</td><td>7869</td><td>56.20%</td><td>18</td><td>w</td><td>0.0</td><td>0.0</td><td>22705.92429</td><td>22705.92</td><td>20000.0</td><td>2705.92</td><td>0.0</td><td>0.0</td><td>0.0</td><td>Jun-17</td><td>15813.3</td><td>NA</td><td>Jun-17</td><td>0</td><td>NA</td><td>1</td><td>JOINT</td><td>71000.0</td><td>13.85</td><td>Not Verified</td><td>0</td><td>0</td><td>189699</td><td>0</td><td>1</td><td>0</td><td>4</td><td>19</td><td>10827</td><td>73</td><td>0</td><td>2</td><td>2081</td><td>65</td><td>14000</td><td>2</td><td>5</td><td>1</td><td>6</td><td>31617</td><td>2737</td><td>55.9</td><td>0</td><td>0</td><td>125</td><td>184</td><td>14</td><td>14</td><td>5</td><td>101</td><td>NA</td><td>10</td><td>NA</td><td>0</td><td>2</td><td>3</td><td>2</td><td>4</td><td>6</td><td>4</td><td>7</td><td>3</td><td>6</td><td>0</td><td>0</td><td>0</td><td>0</td><td>100.0</td><td>50.0</td><td>0</td><td>0</td><td>218418</td><td>18696</td><td>6200</td><td>14877</td><td>NA</td><td>NA</td><td>NA</td><td>NA</td><td>NA</td><td>NA</td><td>NA</td><td>NA</td><td>NA</td><td>NA</td><td>NA</td><td>N</td><td>NA</td><td>NA</td><td>NA</td><td>NA</td><td>NA</td><td>NA</td><td>NA</td><td>NA</td><td>NA</td><td>NA</td><td>NA</td><td>NA</td><td>NA</td><td>NA</td></tr><tr><th>28</th><td>NA</td><td>NA</td><td>9600</td><td>9600</td><td>9600</td><td>36 months</td><td>7.49%</td><td>298.58</td><td>A</td><td>A4</td><td>tech</td><td>8 years</td><td>MORTGAGE</td><td>60000.0</td><td>Not Verified</td><td>Dec-15</td><td>Current</td><td>n</td><td>NA</td><td>NA</td><td>credit_card</td><td>Credit card refinancing</td><td>299xx</td><td>SC</td><td>22.44</td><td>0</td><td>Jun-96</td><td>0</td><td>NA</td><td>NA</td><td>7</td><td>0</td><td>7722</td><td>59.40%</td><td>9</td><td>w</td><td>4532.88</td><td>4532.88</td><td>5961.61</td><td>5961.61</td><td>5067.12</td><td>894.49</td><td>0.0</td><td>0.0</td><td>0.0</td><td>Sep-17</td><td>298.58</td><td>Oct-17</td><td>Sep-17</td><td>0</td><td>NA</td><td>1</td><td>INDIVIDUAL</td><td>NA</td><td>NA</td><td>NA</td><td>0</td><td>0</td><td>55387</td><td>0</td><td>3</td><td>0</td><td>0</td><td>47</td><td>47665</td><td>43</td><td>2</td><td>2</td><td>4744</td><td>50</td><td>13000</td><td>0</td><td>0</td><td>2</td><td>2</td><td>7912</td><td>4778</td><td>61.8</td><td>0</td><td>0</td><td>234</td><td>91</td><td>9</td><td>9</td><td>0</td><td>11</td><td>NA</td><td>9</td><td>NA</td><td>0</td><td>3</td><td>3</td><td>3</td><td>3</td><td>5</td><td>4</td><td>4</td><td>3</td><td>7</td><td>0</td><td>0</td><td>0</td><td>2</td><td>100.0</td><td>66.7</td><td>0</td><td>0</td><td>88635</td><td>55387</td><td>12500</td><td>75635</td><td>NA</td><td>NA</td><td>NA</td><td>NA</td><td>NA</td><td>NA</td><td>NA</td><td>NA</td><td>NA</td><td>NA</td><td>NA</td><td>N</td><td>NA</td><td>NA</td><td>NA</td><td>NA</td><td>NA</td><td>NA</td><td>NA</td><td>NA</td><td>NA</td><td>NA</td><td>NA</td><td>NA</td><td>NA</td><td>NA</td></tr><tr><th>29</th><td>NA</td><td>NA</td><td>21000</td><td>21000</td><td>21000</td><td>60 months</td><td>13.44%</td><td>482.56</td><td>C</td><td>C3</td><td>Teacher</td><td>2 years</td><td>RENT</td><td>54649.0</td><td>Source Verified</td><td>Dec-15</td><td>Fully Paid</td><td>n</td><td>NA</td><td>NA</td><td>debt_consolidation</td><td>Debt consolidation</td><td>761xx</td><td>TX</td><td>12.14</td><td>0</td><td>Oct-99</td><td>0</td><td>NA</td><td>48</td><td>9</td><td>1</td><td>1581</td><td>26.80%</td><td>44</td><td>w</td><td>0.0</td><td>0.0</td><td>24473.22762</td><td>24473.23</td><td>21000.0</td><td>3473.23</td><td>0.0</td><td>0.0</td><td>0.0</td><td>May-17</td><td>17274.03</td><td>NA</td><td>Sep-17</td><td>0</td><td>NA</td><td>1</td><td>INDIVIDUAL</td><td>NA</td><td>NA</td><td>NA</td><td>0</td><td>0</td><td>51489</td><td>0</td><td>7</td><td>0</td><td>2</td><td>14</td><td>49908</td><td>97</td><td>0</td><td>1</td><td>1097</td><td>89</td><td>5900</td><td>1</td><td>3</td><td>1</td><td>3</td><td>5721</td><td>4319</td><td>26.8</td><td>0</td><td>0</td><td>186</td><td>194</td><td>17</td><td>14</td><td>2</td><td>17</td><td>NA</td><td>0</td><td>NA</td><td>0</td><td>2</td><td>2</td><td>2</td><td>14</td><td>25</td><td>2</td><td>17</td><td>2</td><td>9</td><td>0</td><td>0</td><td>0</td><td>0</td><td>100.0</td><td>50.0</td><td>1</td><td>0</td><td>57564</td><td>51489</td><td>5900</td><td>51664</td><td>NA</td><td>NA</td><td>NA</td><td>NA</td><td>NA</td><td>NA</td><td>NA</td><td>NA</td><td>NA</td><td>NA</td><td>NA</td><td>N</td><td>NA</td><td>NA</td><td>NA</td><td>NA</td><td>NA</td><td>NA</td><td>NA</td><td>NA</td><td>NA</td><td>NA</td><td>NA</td><td>NA</td><td>NA</td><td>NA</td></tr><tr><th>30</th><td>NA</td><td>NA</td><td>23100</td><td>23100</td><td>23100</td><td>60 months</td><td>20.50%</td><td>618.46</td><td>E</td><td>E4</td><td>Regional Sales Direcdtor</td><td>2 years</td><td>OWN</td><td>110000.0</td><td>Not Verified</td><td>Dec-15</td><td>Charged Off</td><td>n</td><td>NA</td><td>NA</td><td>car</td><td>Car financing</td><td>197xx</td><td>DE</td><td>20.43</td><td>0</td><td>Aug-86</td><td>0</td><td>47</td><td>NA</td><td>11</td><td>0</td><td>20594</td><td>94.90%</td><td>24</td><td>w</td><td>0.0</td><td>0.0</td><td>5305.12</td><td>5305.12</td><td>1158.07</td><td>1868.46</td><td>0.0</td><td>2278.59</td><td>410.1462</td><td>Jun-16</td><td>618.46</td><td>NA</td><td>Dec-16</td><td>0</td><td>47</td><td>1</td><td>INDIVIDUAL</td><td>NA</td><td>NA</td><td>NA</td><td>0</td><td>1105</td><td>55048</td><td>1</td><td>3</td><td>0</td><td>0</td><td>25</td><td>34454</td><td>43</td><td>3</td><td>5</td><td>4871</td><td>54</td><td>21700</td><td>3</td><td>0</td><td>9</td><td>5</td><td>5505</td><td>1106</td><td>94.9</td><td>0</td><td>0</td><td>159</td><td>352</td><td>3</td><td>3</td><td>2</td><td>3</td><td>47</td><td>0</td><td>47</td><td>1</td><td>5</td><td>5</td><td>8</td><td>11</td><td>10</td><td>8</td><td>12</td><td>6</td><td>11</td><td>0</td><td>0</td><td>0</td><td>3</td><td>87.5</td><td>85.7</td><td>0</td><td>0</td><td>102524</td><td>55048</td><td>21700</td><td>80824</td><td>NA</td><td>NA</td><td>NA</td><td>NA</td><td>NA</td><td>NA</td><td>NA</td><td>NA</td><td>NA</td><td>NA</td><td>NA</td><td>N</td><td>NA</td><td>NA</td><td>NA</td><td>NA</td><td>NA</td><td>NA</td><td>NA</td><td>NA</td><td>NA</td><td>NA</td><td>NA</td><td>NA</td><td>NA</td><td>NA</td></tr><tr><th>&vellip;</th><td>&vellip;</td><td>&vellip;</td><td>&vellip;</td><td>&vellip;</td><td>&vellip;</td><td>&vellip;</td><td>&vellip;</td><td>&vellip;</td><td>&vellip;</td><td>&vellip;</td><td>&vellip;</td><td>&vellip;</td><td>&vellip;</td><td>&vellip;</td><td>&vellip;</td><td>&vellip;</td><td>&vellip;</td><td>&vellip;</td><td>&vellip;</td><td>&vellip;</td><td>&vellip;</td><td>&vellip;</td><td>&vellip;</td><td>&vellip;</td><td>&vellip;</td><td>&vellip;</td><td>&vellip;</td><td>&vellip;</td><td>&vellip;</td><td>&vellip;</td><td>&vellip;</td><td>&vellip;</td><td>&vellip;</td><td>&vellip;</td><td>&vellip;</td><td>&vellip;</td><td>&vellip;</td><td>&vellip;</td><td>&vellip;</td><td>&vellip;</td><td>&vellip;</td><td>&vellip;</td><td>&vellip;</td><td>&vellip;</td><td>&vellip;</td><td>&vellip;</td><td>&vellip;</td><td>&vellip;</td><td>&vellip;</td><td>&vellip;</td><td>&vellip;</td><td>&vellip;</td><td>&vellip;</td><td>&vellip;</td><td>&vellip;</td><td>&vellip;</td><td>&vellip;</td><td>&vellip;</td><td>&vellip;</td><td>&vellip;</td><td>&vellip;</td><td>&vellip;</td><td>&vellip;</td><td>&vellip;</td><td>&vellip;</td><td>&vellip;</td><td>&vellip;</td><td>&vellip;</td><td>&vellip;</td><td>&vellip;</td><td>&vellip;</td><td>&vellip;</td><td>&vellip;</td><td>&vellip;</td><td>&vellip;</td><td>&vellip;</td><td>&vellip;</td><td>&vellip;</td><td>&vellip;</td><td>&vellip;</td><td>&vellip;</td><td>&vellip;</td><td>&vellip;</td><td>&vellip;</td><td>&vellip;</td><td>&vellip;</td><td>&vellip;</td><td>&vellip;</td><td>&vellip;</td><td>&vellip;</td><td>&vellip;</td><td>&vellip;</td><td>&vellip;</td><td>&vellip;</td><td>&vellip;</td><td>&vellip;</td><td>&vellip;</td><td>&vellip;</td><td>&vellip;</td><td>&vellip;</td><td>&vellip;</td><td>&vellip;</td><td>&vellip;</td><td>&vellip;</td><td>&vellip;</td><td>&vellip;</td><td>&vellip;</td><td>&vellip;</td><td>&vellip;</td><td>&vellip;</td><td>&vellip;</td><td>&vellip;</td><td>&vellip;</td><td>&vellip;</td><td>&vellip;</td><td>&vellip;</td><td>&vellip;</td><td>&vellip;</td><td>&vellip;</td><td>&vellip;</td><td>&vellip;</td><td>&vellip;</td><td>&vellip;</td><td>&vellip;</td><td>&vellip;</td><td>&vellip;</td><td>&vellip;</td><td>&vellip;</td><td>&vellip;</td><td>&vellip;</td><td>&vellip;</td><td>&vellip;</td><td>&vellip;</td><td>&vellip;</td><td>&vellip;</td><td>&vellip;</td><td>&vellip;</td></tr></tbody></table>"
      ],
      "text/plain": [
       "40000×137 DataFrames.DataFrame\n",
       "│ Row   │ id │ member_id │ loan_amnt │ funded_amnt │ funded_amnt_inv │\n",
       "├───────┼────┼───────────┼───────────┼─────────────┼─────────────────┤\n",
       "│ 1     │ NA │ NA        │ 20000     │ 20000       │ 20000           │\n",
       "│ 2     │ NA │ NA        │ 10000     │ 10000       │ 10000           │\n",
       "│ 3     │ NA │ NA        │ 21000     │ 21000       │ 21000           │\n",
       "│ 4     │ NA │ NA        │ 24000     │ 24000       │ 24000           │\n",
       "│ 5     │ NA │ NA        │ 14025     │ 14025       │ 14025           │\n",
       "│ 6     │ NA │ NA        │ 23975     │ 23975       │ 23975           │\n",
       "│ 7     │ NA │ NA        │ 7200      │ 7200        │ 7200            │\n",
       "│ 8     │ NA │ NA        │ 7200      │ 7200        │ 7200            │\n",
       "│ 9     │ NA │ NA        │ 10000     │ 10000       │ 10000           │\n",
       "│ 10    │ NA │ NA        │ 20000     │ 20000       │ 20000           │\n",
       "│ 11    │ NA │ NA        │ 15000     │ 15000       │ 15000           │\n",
       "⋮\n",
       "│ 39989 │ NA │ NA        │ 6350      │ 6350        │ 6350            │\n",
       "│ 39990 │ NA │ NA        │ 6000      │ 6000        │ 6000            │\n",
       "│ 39991 │ NA │ NA        │ 13000     │ 13000       │ 13000           │\n",
       "│ 39992 │ NA │ NA        │ 20000     │ 20000       │ 20000           │\n",
       "│ 39993 │ NA │ NA        │ 17000     │ 17000       │ 17000           │\n",
       "│ 39994 │ NA │ NA        │ 12600     │ 12600       │ 12600           │\n",
       "│ 39995 │ NA │ NA        │ 12000     │ 12000       │ 12000           │\n",
       "│ 39996 │ NA │ NA        │ 21000     │ 21000       │ 20950           │\n",
       "│ 39997 │ NA │ NA        │ 19200     │ 19200       │ 19200           │\n",
       "│ 39998 │ NA │ NA        │ 6000      │ 6000        │ 6000            │\n",
       "│ 39999 │ NA │ NA        │ 13000     │ 13000       │ 13000           │\n",
       "│ 40000 │ NA │ NA        │ 28000     │ 28000       │ 28000           │\n",
       "\n",
       "│ Row   │ term        │ int_rate │ installment │ grade │ sub_grade │\n",
       "├───────┼─────────────┼──────────┼─────────────┼───────┼───────────┤\n",
       "│ 1     │ \"36 months\" │ \"6.49%\"  │ 612.89      │ \"A\"   │ \"A2\"      │\n",
       "│ 2     │ \"36 months\" │ \"11.48%\" │ 329.67      │ \"B\"   │ \"B5\"      │\n",
       "│ 3     │ \"60 months\" │ \"13.99%\" │ 488.53      │ \"C\"   │ \"C4\"      │\n",
       "│ 4     │ \"60 months\" │ \"9.80%\"  │ 507.58      │ \"B\"   │ \"B3\"      │\n",
       "│ 5     │ \"60 months\" │ \"18.49%\" │ 359.9       │ \"D\"   │ \"D5\"      │\n",
       "│ 6     │ \"60 months\" │ \"19.89%\" │ 633.73      │ \"E\"   │ \"E3\"      │\n",
       "│ 7     │ \"36 months\" │ \"15.77%\" │ 252.32      │ \"D\"   │ \"D1\"      │\n",
       "│ 8     │ \"36 months\" │ \"11.48%\" │ 237.36      │ \"B\"   │ \"B5\"      │\n",
       "│ 9     │ \"60 months\" │ \"17.97%\" │ 253.78      │ \"D\"   │ \"D4\"      │\n",
       "│ 10    │ \"36 months\" │ \"9.80%\"  │ 643.47      │ \"B\"   │ \"B3\"      │\n",
       "│ 11    │ \"60 months\" │ \"13.44%\" │ 344.69      │ \"C\"   │ \"C3\"      │\n",
       "⋮\n",
       "│ 39989 │ \"36 months\" │ \"18.49%\" │ 231.14      │ \"E\"   │ \"E2\"      │\n",
       "│ 39990 │ \"36 months\" │ \"10.64%\" │ 195.42      │ \"B\"   │ \"B4\"      │\n",
       "│ 39991 │ \"36 months\" │ \"11.22%\" │ 426.96      │ \"B\"   │ \"B5\"      │\n",
       "│ 39992 │ \"36 months\" │ \"11.22%\" │ 656.86      │ \"B\"   │ \"B5\"      │\n",
       "│ 39993 │ \"36 months\" │ \"10.64%\" │ 553.67      │ \"B\"   │ \"B4\"      │\n",
       "│ 39994 │ \"60 months\" │ \"17.86%\" │ 319.0       │ \"D\"   │ \"D5\"      │\n",
       "│ 39995 │ \"36 months\" │ \"6.24%\"  │ 366.37      │ \"A\"   │ \"A2\"      │\n",
       "│ 39996 │ \"60 months\" │ \"20.99%\" │ 568.01      │ \"E\"   │ \"E5\"      │\n",
       "│ 39997 │ \"60 months\" │ \"13.67%\" │ 443.48      │ \"C\"   │ \"C4\"      │\n",
       "│ 39998 │ \"36 months\" │ \"13.67%\" │ 204.11      │ \"C\"   │ \"C4\"      │\n",
       "│ 39999 │ \"36 months\" │ \"8.38%\"  │ 409.66      │ \"B\"   │ \"B1\"      │\n",
       "│ 40000 │ \"36 months\" │ \"5.32%\"  │ 843.22      │ \"A\"   │ \"A1\"      │\n",
       "\n",
       "│ Row   │ emp_title                                 │ emp_length  │\n",
       "├───────┼───────────────────────────────────────────┼─────────────┤\n",
       "│ 1     │ \"TEAM LEAD, QUALITY ENGINEER\"             │ \"6 years\"   │\n",
       "│ 2     │ \"Paralegal\"                               │ \"2 years\"   │\n",
       "│ 3     │ \"Resident physician\"                      │ \"< 1 year\"  │\n",
       "│ 4     │ NA                                        │ \"n/a\"       │\n",
       "│ 5     │ \"accts payable\"                           │ \"10+ years\" │\n",
       "│ 6     │ \"Principal\"                               │ \"10+ years\" │\n",
       "│ 7     │ \"Bank Officer Senior Customer Care Spec.\" │ \"< 1 year\"  │\n",
       "│ 8     │ \"Legal Administrative Assistant\"          │ \"10+ years\" │\n",
       "│ 9     │ \"Educator\"                                │ \"2 years\"   │\n",
       "│ 10    │ \"Manager\"                                 │ \"5 years\"   │\n",
       "│ 11    │ \"Counselor\"                               │ \"4 years\"   │\n",
       "⋮\n",
       "│ 39989 │ \"OWNER\"                                   │ \"3 years\"   │\n",
       "│ 39990 │ \"Private Investigator\"                    │ \"8 years\"   │\n",
       "│ 39991 │ \"Business System Analyst\"                 │ \"10+ years\" │\n",
       "│ 39992 │ \"Supervisor\"                              │ \"2 years\"   │\n",
       "│ 39993 │ \"Manager\"                                 │ \"5 years\"   │\n",
       "│ 39994 │ \"Teacher\"                                 │ \"10+ years\" │\n",
       "│ 39995 │ \"Teacher\"                                 │ \"10+ years\" │\n",
       "│ 39996 │ \"Business Mail Tech\"                      │ \"10+ years\" │\n",
       "│ 39997 │ \"Realtor\"                                 │ \"10+ years\" │\n",
       "│ 39998 │ \"Manager\"                                 │ \"4 years\"   │\n",
       "│ 39999 │ \"Sr. Product Specialist\"                  │ \"7 years\"   │\n",
       "│ 40000 │ NA                                        │ \"n/a\"       │\n",
       "\n",
       "│ Row   │ home_ownership │ annual_inc │ verification_status │ issue_d  │\n",
       "├───────┼────────────────┼────────────┼─────────────────────┼──────────┤\n",
       "│ 1     │ \"MORTGAGE\"     │ 55000.0    │ \"Not Verified\"      │ \"Dec-15\" │\n",
       "│ 2     │ \"RENT\"         │ 33000.0    │ \"Not Verified\"      │ \"Dec-15\" │\n",
       "│ 3     │ \"RENT\"         │ 52000.0    │ \"Source Verified\"   │ \"Dec-15\" │\n",
       "│ 4     │ \"OWN\"          │ 77900.0    │ \"Not Verified\"      │ \"Dec-15\" │\n",
       "│ 5     │ \"MORTGAGE\"     │ 39000.0    │ \"Verified\"          │ \"Dec-15\" │\n",
       "│ 6     │ \"RENT\"         │ 70000.0    │ \"Not Verified\"      │ \"Dec-15\" │\n",
       "│ 7     │ \"RENT\"         │ 55000.0    │ \"Not Verified\"      │ \"Dec-15\" │\n",
       "│ 8     │ \"MORTGAGE\"     │ 72500.0    │ \"Verified\"          │ \"Dec-15\" │\n",
       "│ 9     │ \"MORTGAGE\"     │ 55000.0    │ \"Not Verified\"      │ \"Dec-15\" │\n",
       "│ 10    │ \"RENT\"         │ 75000.0    │ \"Not Verified\"      │ \"Dec-15\" │\n",
       "│ 11    │ \"RENT\"         │ 77213.0    │ \"Source Verified\"   │ \"Dec-15\" │\n",
       "⋮\n",
       "│ 39989 │ \"RENT\"         │ 120000.0   │ \"Verified\"          │ \"Dec-15\" │\n",
       "│ 39990 │ \"MORTGAGE\"     │ 62000.0    │ \"Verified\"          │ \"Dec-15\" │\n",
       "│ 39991 │ \"MORTGAGE\"     │ 78400.0    │ \"Not Verified\"      │ \"Nov-15\" │\n",
       "│ 39992 │ \"RENT\"         │ 63000.0    │ \"Verified\"          │ \"Nov-15\" │\n",
       "│ 39993 │ \"MORTGAGE\"     │ 78000.0    │ \"Source Verified\"   │ \"Dec-15\" │\n",
       "│ 39994 │ \"MORTGAGE\"     │ 53300.0    │ \"Verified\"          │ \"Dec-15\" │\n",
       "│ 39995 │ \"OWN\"          │ 67000.0    │ \"Source Verified\"   │ \"Dec-15\" │\n",
       "│ 39996 │ \"MORTGAGE\"     │ 90000.0    │ \"Source Verified\"   │ \"Dec-15\" │\n",
       "│ 39997 │ \"MORTGAGE\"     │ 40000.0    │ \"Not Verified\"      │ \"Nov-15\" │\n",
       "│ 39998 │ \"RENT\"         │ 146000.0   │ \"Verified\"          │ \"Nov-15\" │\n",
       "│ 39999 │ \"MORTGAGE\"     │ 75000.0    │ \"Not Verified\"      │ \"Dec-15\" │\n",
       "│ 40000 │ \"OWN\"          │ 138000.0   │ \"Source Verified\"   │ \"Dec-15\" │\n",
       "\n",
       "│ Row   │ loan_status         │ pymnt_plan │ url │ desc │ purpose              │\n",
       "├───────┼─────────────────────┼────────────┼─────┼──────┼──────────────────────┤\n",
       "│ 1     │ \"Current\"           │ \"n\"        │ NA  │ NA   │ \"debt_consolidation\" │\n",
       "│ 2     │ \"Current\"           │ \"n\"        │ NA  │ NA   │ \"debt_consolidation\" │\n",
       "│ 3     │ \"Current\"           │ \"n\"        │ NA  │ NA   │ \"credit_card\"        │\n",
       "│ 4     │ \"Current\"           │ \"n\"        │ NA  │ NA   │ \"home_improvement\"   │\n",
       "│ 5     │ \"Fully Paid\"        │ \"n\"        │ NA  │ NA   │ \"debt_consolidation\" │\n",
       "│ 6     │ \"Charged Off\"       │ \"n\"        │ NA  │ NA   │ \"credit_card\"        │\n",
       "│ 7     │ \"Current\"           │ \"n\"        │ NA  │ NA   │ \"debt_consolidation\" │\n",
       "│ 8     │ \"Fully Paid\"        │ \"n\"        │ NA  │ NA   │ \"home_improvement\"   │\n",
       "│ 9     │ \"Current\"           │ \"n\"        │ NA  │ NA   │ \"credit_card\"        │\n",
       "│ 10    │ \"Fully Paid\"        │ \"n\"        │ NA  │ NA   │ \"debt_consolidation\" │\n",
       "│ 11    │ \"Fully Paid\"        │ \"n\"        │ NA  │ NA   │ \"credit_card\"        │\n",
       "⋮\n",
       "│ 39989 │ \"Late (16-30 days)\" │ \"n\"        │ NA  │ NA   │ \"other\"              │\n",
       "│ 39990 │ \"Fully Paid\"        │ \"n\"        │ NA  │ NA   │ \"debt_consolidation\" │\n",
       "│ 39991 │ \"Current\"           │ \"n\"        │ NA  │ NA   │ \"debt_consolidation\" │\n",
       "│ 39992 │ \"Fully Paid\"        │ \"n\"        │ NA  │ NA   │ \"debt_consolidation\" │\n",
       "│ 39993 │ \"Fully Paid\"        │ \"n\"        │ NA  │ NA   │ \"credit_card\"        │\n",
       "│ 39994 │ \"Fully Paid\"        │ \"n\"        │ NA  │ NA   │ \"debt_consolidation\" │\n",
       "│ 39995 │ \"Current\"           │ \"n\"        │ NA  │ NA   │ \"credit_card\"        │\n",
       "│ 39996 │ \"Current\"           │ \"n\"        │ NA  │ NA   │ \"debt_consolidation\" │\n",
       "│ 39997 │ \"Current\"           │ \"y\"        │ NA  │ NA   │ \"credit_card\"        │\n",
       "│ 39998 │ \"Current\"           │ \"n\"        │ NA  │ NA   │ \"moving\"             │\n",
       "│ 39999 │ \"Fully Paid\"        │ \"n\"        │ NA  │ NA   │ \"debt_consolidation\" │\n",
       "│ 40000 │ \"Current\"           │ \"n\"        │ NA  │ NA   │ \"credit_card\"        │\n",
       "\n",
       "│ Row   │ title                     │ zip_code │ addr_state │ dti   │\n",
       "├───────┼───────────────────────────┼──────────┼────────────┼───────┤\n",
       "│ 1     │ \"Debt consolidation\"      │ \"381xx\"  │ \"TN\"       │ 29.15 │\n",
       "│ 2     │ \"Debt consolidation\"      │ \"477xx\"  │ \"IN\"       │ 21.75 │\n",
       "│ 3     │ \"Credit card refinancing\" │ \"441xx\"  │ \"OH\"       │ 14.47 │\n",
       "│ 4     │ \"Home improvement\"        │ \"376xx\"  │ \"TN\"       │ 10.24 │\n",
       "│ 5     │ \"Debt consolidation\"      │ \"546xx\"  │ \"WI\"       │ 18.0  │\n",
       "│ 6     │ \"Credit card refinancing\" │ \"220xx\"  │ \"VA\"       │ 33.2  │\n",
       "│ 7     │ NA                        │ \"142xx\"  │ \"NY\"       │ 17.35 │\n",
       "│ 8     │ \"Home improvement\"        │ \"300xx\"  │ \"GA\"       │ 8.47  │\n",
       "│ 9     │ \"Credit card refinancing\" │ \"802xx\"  │ \"CO\"       │ 35.7  │\n",
       "│ 10    │ \"Debt consolidation\"      │ \"984xx\"  │ \"WA\"       │ 23.45 │\n",
       "│ 11    │ \"Credit card refinancing\" │ \"347xx\"  │ \"FL\"       │ 18.17 │\n",
       "⋮\n",
       "│ 39989 │ \"Other\"                   │ \"100xx\"  │ \"NY\"       │ 7.62  │\n",
       "│ 39990 │ \"Debt consolidation\"      │ \"544xx\"  │ \"WI\"       │ 32.13 │\n",
       "│ 39991 │ \"Debt consolidation\"      │ \"554xx\"  │ \"MN\"       │ 22.81 │\n",
       "│ 39992 │ \"Debt consolidation\"      │ \"080xx\"  │ \"NJ\"       │ 3.47  │\n",
       "│ 39993 │ \"Credit card refinancing\" │ \"921xx\"  │ \"CA\"       │ 9.77  │\n",
       "│ 39994 │ \"Debt consolidation\"      │ \"488xx\"  │ \"MI\"       │ 23.8  │\n",
       "│ 39995 │ \"Credit card refinancing\" │ \"751xx\"  │ \"TX\"       │ 4.84  │\n",
       "│ 39996 │ \"Debt consolidation\"      │ \"174xx\"  │ \"PA\"       │ 13.04 │\n",
       "│ 39997 │ \"Credit card refinancing\" │ \"339xx\"  │ \"FL\"       │ 24.57 │\n",
       "│ 39998 │ \"Moving and relocation\"   │ \"900xx\"  │ \"CA\"       │ 24.9  │\n",
       "│ 39999 │ \"Debt consolidation\"      │ \"156xx\"  │ \"PA\"       │ 14.24 │\n",
       "│ 40000 │ \"Credit card refinancing\" │ \"078xx\"  │ \"NJ\"       │ 10.89 │\n",
       "\n",
       "│ Row   │ delinq_2yrs │ earliest_cr_line │ inq_last_6mths │\n",
       "├───────┼─────────────┼──────────────────┼────────────────┤\n",
       "│ 1     │ 0           │ \"Sep-94\"         │ 0              │\n",
       "│ 2     │ 0           │ \"Aug-09\"         │ 0              │\n",
       "│ 3     │ 0           │ \"Jan-05\"         │ 1              │\n",
       "│ 4     │ 0           │ \"Oct-82\"         │ 1              │\n",
       "│ 5     │ 0           │ \"Aug-01\"         │ 1              │\n",
       "│ 6     │ 0           │ \"Jun-95\"         │ 1              │\n",
       "│ 7     │ 0           │ \"Jun-05\"         │ 0              │\n",
       "│ 8     │ 0           │ \"Aug-04\"         │ 1              │\n",
       "│ 9     │ 0           │ \"Apr-01\"         │ 0              │\n",
       "│ 10    │ 0           │ \"May-92\"         │ 0              │\n",
       "│ 11    │ 0           │ \"Dec-01\"         │ 2              │\n",
       "⋮\n",
       "│ 39989 │ 5           │ \"Apr-00\"         │ 0              │\n",
       "│ 39990 │ 0           │ \"Sep-02\"         │ 1              │\n",
       "│ 39991 │ 0           │ \"Sep-97\"         │ 2              │\n",
       "│ 39992 │ 0           │ \"Sep-01\"         │ 0              │\n",
       "│ 39993 │ 0           │ \"Jun-11\"         │ 0              │\n",
       "│ 39994 │ 0           │ \"Aug-99\"         │ 0              │\n",
       "│ 39995 │ 0           │ \"Mar-99\"         │ 0              │\n",
       "│ 39996 │ 0           │ \"Apr-05\"         │ 4              │\n",
       "│ 39997 │ 0           │ \"Jan-05\"         │ 0              │\n",
       "│ 39998 │ 0           │ \"Jul-07\"         │ 0              │\n",
       "│ 39999 │ 2           │ \"Jan-03\"         │ 1              │\n",
       "│ 40000 │ 0           │ \"Sep-87\"         │ 0              │\n",
       "\n",
       "│ Row   │ mths_since_last_delinq │ mths_since_last_record │ open_acc │ pub_rec │\n",
       "├───────┼────────────────────────┼────────────────────────┼──────────┼─────────┤\n",
       "│ 1     │ 74                     │ NA                     │ 9        │ 0       │\n",
       "│ 2     │ NA                     │ 12                     │ 12       │ 1       │\n",
       "│ 3     │ NA                     │ NA                     │ 5        │ 0       │\n",
       "│ 4     │ 50                     │ NA                     │ 9        │ 0       │\n",
       "│ 5     │ NA                     │ NA                     │ 12       │ 0       │\n",
       "│ 6     │ NA                     │ NA                     │ 10       │ 0       │\n",
       "│ 7     │ 59                     │ 74                     │ 24       │ 1       │\n",
       "│ 8     │ NA                     │ NA                     │ 5        │ 0       │\n",
       "│ 9     │ NA                     │ NA                     │ 14       │ 0       │\n",
       "│ 10    │ 70                     │ NA                     │ 14       │ 0       │\n",
       "│ 11    │ NA                     │ 76                     │ 17       │ 1       │\n",
       "⋮\n",
       "│ 39989 │ 16                     │ NA                     │ 8        │ 0       │\n",
       "│ 39990 │ NA                     │ NA                     │ 15       │ 0       │\n",
       "│ 39991 │ 25                     │ NA                     │ 19       │ 0       │\n",
       "│ 39992 │ NA                     │ 91                     │ 5        │ 1       │\n",
       "│ 39993 │ NA                     │ NA                     │ 7        │ 0       │\n",
       "│ 39994 │ 38                     │ NA                     │ 11       │ 0       │\n",
       "│ 39995 │ NA                     │ NA                     │ 6        │ 0       │\n",
       "│ 39996 │ NA                     │ NA                     │ 13       │ 0       │\n",
       "│ 39997 │ 41                     │ NA                     │ 7        │ 0       │\n",
       "│ 39998 │ NA                     │ NA                     │ 7        │ 0       │\n",
       "│ 39999 │ 6                      │ NA                     │ 8        │ 0       │\n",
       "│ 40000 │ NA                     │ NA                     │ 15       │ 0       │\n",
       "\n",
       "│ Row   │ revol_bal │ revol_util │ total_acc │ initial_list_status │ out_prncp │\n",
       "├───────┼───────────┼────────────┼───────────┼─────────────────────┼───────────┤\n",
       "│ 1     │ 4851      │ \"23.80%\"   │ 23        │ \"w\"                 │ 9369.66   │\n",
       "│ 2     │ 8052      │ \"35.60%\"   │ 20        │ \"w\"                 │ 4586.07   │\n",
       "│ 3     │ 20374     │ \"87.40%\"   │ 15        │ \"w\"                 │ 15546.4   │\n",
       "│ 4     │ 3454      │ \"10.30%\"   │ 21        │ \"w\"                 │ 17260.4   │\n",
       "│ 5     │ 15646     │ \"74.90%\"   │ 21        │ \"w\"                 │ 0.0       │\n",
       "│ 6     │ 44807     │ \"94.90%\"   │ 19        │ \"w\"                 │ 0.0       │\n",
       "│ 7     │ 5938      │ \"69%\"      │ 43        │ \"w\"                 │ 3619.38   │\n",
       "│ 8     │ 5449      │ \"35.20%\"   │ 7         │ \"w\"                 │ 0.0       │\n",
       "│ 9     │ 38623     │ \"78%\"      │ 28        │ \"w\"                 │ 7595.04   │\n",
       "│ 10    │ 7558      │ \"9.60%\"    │ 26        │ \"w\"                 │ 0.0       │\n",
       "│ 11    │ 59237     │ \"25.80%\"   │ 44        │ \"w\"                 │ 0.0       │\n",
       "⋮\n",
       "│ 39989 │ 4433      │ \"80.60%\"   │ 16        │ \"f\"                 │ 3255.26   │\n",
       "│ 39990 │ 18438     │ \"33.60%\"   │ 38        │ \"w\"                 │ 0.0       │\n",
       "│ 39991 │ 19043     │ \"82.60%\"   │ 39        │ \"w\"                 │ 5949.66   │\n",
       "│ 39992 │ 3502      │ \"26.30%\"   │ 10        │ \"w\"                 │ 0.0       │\n",
       "│ 39993 │ 12072     │ \"76.90%\"   │ 9         │ \"w\"                 │ 0.0       │\n",
       "│ 39994 │ 11413     │ \"70.50%\"   │ 22        │ \"w\"                 │ 0.0       │\n",
       "│ 39995 │ 8704      │ \"39.90%\"   │ 19        │ \"w\"                 │ 5273.5    │\n",
       "│ 39996 │ 31623     │ \"85%\"      │ 27        │ \"f\"                 │ 15960.0   │\n",
       "│ 39997 │ 15961     │ \"43.50%\"   │ 15        │ \"w\"                 │ 13901.5   │\n",
       "│ 39998 │ 31804     │ \"80.90%\"   │ 15        │ \"w\"                 │ 2627.38   │\n",
       "│ 39999 │ 10542     │ \"30.10%\"   │ 27        │ \"w\"                 │ 0.0       │\n",
       "│ 40000 │ 57032     │ \"60.80%\"   │ 24        │ \"w\"                 │ 12210.5   │\n",
       "\n",
       "│ Row   │ out_prncp_inv │ total_pymnt │ total_pymnt_inv │ total_rec_prncp │\n",
       "├───────┼───────────────┼─────────────┼─────────────────┼─────────────────┤\n",
       "│ 1     │ 9369.66       │ 12239.8     │ 12239.8         │ 10630.3         │\n",
       "│ 2     │ 4586.07       │ 6888.44     │ 6888.44         │ 5413.93         │\n",
       "│ 3     │ 15546.4       │ 9852.21     │ 9852.21         │ 5453.63         │\n",
       "│ 4     │ 17260.4       │ 10118.9     │ 10118.9         │ 6739.6          │\n",
       "│ 5     │ 0.0           │ 16341.4     │ 16341.4         │ 14025.0         │\n",
       "│ 6     │ 0.0           │ 3928.86     │ 3928.86         │ 1478.13         │\n",
       "│ 7     │ 3619.38       │ 5030.63     │ 5030.63         │ 3580.62         │\n",
       "│ 8     │ 0.0           │ 8253.86     │ 8253.86         │ 7200.0          │\n",
       "│ 9     │ 7595.04       │ 5050.64     │ 5050.64         │ 2404.96         │\n",
       "│ 10    │ 0.0           │ 21918.8     │ 21918.8         │ 20000.0         │\n",
       "│ 11    │ 0.0           │ 17307.0     │ 17307.0         │ 15000.0         │\n",
       "⋮\n",
       "│ 39989 │ 3255.26       │ 4616.28     │ 4616.28         │ 3094.74         │\n",
       "│ 39990 │ 0.0           │ 6364.14     │ 6364.14         │ 6000.0          │\n",
       "│ 39991 │ 5949.66       │ 8958.06     │ 8958.06         │ 7050.34         │\n",
       "│ 39992 │ 0.0           │ 21873.3     │ 21873.3         │ 20000.0         │\n",
       "│ 39993 │ 0.0           │ 18629.8     │ 18629.8         │ 17000.0         │\n",
       "│ 39994 │ 0.0           │ 16055.5     │ 16055.5         │ 12600.0         │\n",
       "│ 39995 │ 5273.5        │ 7695.76     │ 7695.76         │ 6726.5          │\n",
       "│ 39996 │ 15922.0       │ 11879.2     │ 11851.0         │ 5040.04         │\n",
       "│ 39997 │ 13901.5       │ 9298.5      │ 9298.5          │ 5298.5          │\n",
       "│ 39998 │ 2627.38       │ 4454.68     │ 4454.68         │ 3372.62         │\n",
       "│ 39999 │ 0.0           │ 13762.4     │ 13762.4         │ 13000.0         │\n",
       "│ 40000 │ 12210.5       │ 17699.3     │ 17699.3         │ 15789.5         │\n",
       "\n",
       "│ Row   │ total_rec_int │ total_rec_late_fee │ recoveries │\n",
       "├───────┼───────────────┼────────────────────┼────────────┤\n",
       "│ 1     │ 1609.43       │ 0.0                │ 0.0        │\n",
       "│ 2     │ 1474.51       │ 0.0                │ 0.0        │\n",
       "│ 3     │ 4398.58       │ 0.0                │ 0.0        │\n",
       "│ 4     │ 3379.33       │ 0.0                │ 0.0        │\n",
       "│ 5     │ 2316.39       │ 0.0                │ 0.0        │\n",
       "│ 6     │ 2450.73       │ 0.0                │ 0.0        │\n",
       "│ 7     │ 1450.01       │ 0.0                │ 0.0        │\n",
       "│ 8     │ 1053.86       │ 0.0                │ 0.0        │\n",
       "│ 9     │ 2645.68       │ 0.0                │ 0.0        │\n",
       "│ 10    │ 1918.82       │ 0.0                │ 0.0        │\n",
       "│ 11    │ 2307.02       │ 0.0                │ 0.0        │\n",
       "⋮\n",
       "│ 39989 │ 1521.54       │ 0.0                │ 0.0        │\n",
       "│ 39990 │ 364.14        │ 0.0                │ 0.0        │\n",
       "│ 39991 │ 1907.72       │ 0.0                │ 0.0        │\n",
       "│ 39992 │ 1873.27       │ 0.0                │ 0.0        │\n",
       "│ 39993 │ 1629.84       │ 0.0                │ 0.0        │\n",
       "│ 39994 │ 3455.48       │ 0.0                │ 0.0        │\n",
       "│ 39995 │ 969.26        │ 0.0                │ 0.0        │\n",
       "│ 39996 │ 6839.19       │ 0.0                │ 0.0        │\n",
       "│ 39997 │ 4000.0        │ 0.0                │ 0.0        │\n",
       "│ 39998 │ 1082.06       │ 0.0                │ 0.0        │\n",
       "│ 39999 │ 762.44        │ 0.0                │ 0.0        │\n",
       "│ 40000 │ 1909.87       │ 0.0                │ 0.0        │\n",
       "\n",
       "│ Row   │ collection_recovery_fee │ last_pymnt_d │ last_pymnt_amnt │\n",
       "├───────┼─────────────────────────┼──────────────┼─────────────────┤\n",
       "│ 1     │ 0.0                     │ \"Sep-17\"     │ 612.89          │\n",
       "│ 2     │ 0.0                     │ \"Sep-17\"     │ 329.67          │\n",
       "│ 3     │ 0.0                     │ \"Sep-17\"     │ 488.53          │\n",
       "│ 4     │ 0.0                     │ \"Sep-17\"     │ 507.58          │\n",
       "│ 5     │ 0.0                     │ \"Dec-16\"     │ 12764.0         │\n",
       "│ 6     │ 0.0                     │ \"Jul-16\"     │ 633.73          │\n",
       "│ 7     │ 0.0                     │ \"Sep-17\"     │ 252.32          │\n",
       "│ 8     │ 0.0                     │ \"Sep-17\"     │ 3755.5          │\n",
       "│ 9     │ 0.0                     │ \"Sep-17\"     │ 253.78          │\n",
       "│ 10    │ 0.0                     │ \"Mar-17\"     │ 13580.9         │\n",
       "│ 11    │ 0.0                     │ \"Mar-17\"     │ 12793.2         │\n",
       "⋮\n",
       "│ 39989 │ 0.0                     │ \"Aug-17\"     │ 231.14          │\n",
       "│ 39990 │ 0.0                     │ \"Aug-16\"     │ 16.71           │\n",
       "│ 39991 │ 0.0                     │ \"Sep-17\"     │ 426.96          │\n",
       "│ 39992 │ 0.0                     │ \"Nov-16\"     │ 15317.1         │\n",
       "│ 39993 │ 0.0                     │ \"Dec-16\"     │ 12549.5         │\n",
       "│ 39994 │ 0.0                     │ \"Aug-17\"     │ 9920.38         │\n",
       "│ 39995 │ 0.0                     │ \"Sep-17\"     │ 366.37          │\n",
       "│ 39996 │ 0.0                     │ \"Sep-17\"     │ 568.01          │\n",
       "│ 39997 │ 0.0                     │ \"Sep-17\"     │ 443.48          │\n",
       "│ 39998 │ 0.0                     │ \"Sep-17\"     │ 204.11          │\n",
       "│ 39999 │ 0.0                     │ \"Oct-16\"     │ 81.55           │\n",
       "│ 40000 │ 0.0                     │ \"Sep-17\"     │ 843.22          │\n",
       "\n",
       "│ Row   │ next_pymnt_d │ last_credit_pull_d │ collections_12_mths_ex_med │\n",
       "├───────┼──────────────┼────────────────────┼────────────────────────────┤\n",
       "│ 1     │ \"Oct-17\"     │ \"Sep-17\"           │ 0                          │\n",
       "│ 2     │ \"Oct-17\"     │ \"Sep-17\"           │ 0                          │\n",
       "│ 3     │ \"Oct-17\"     │ \"Sep-17\"           │ 0                          │\n",
       "│ 4     │ \"Oct-17\"     │ \"Sep-17\"           │ 0                          │\n",
       "│ 5     │ NA           │ \"Dec-16\"           │ 0                          │\n",
       "│ 6     │ NA           │ \"Feb-17\"           │ 0                          │\n",
       "│ 7     │ \"Oct-17\"     │ \"Sep-17\"           │ 0                          │\n",
       "│ 8     │ NA           │ \"Sep-17\"           │ 0                          │\n",
       "│ 9     │ \"Oct-17\"     │ \"Sep-17\"           │ 0                          │\n",
       "│ 10    │ NA           │ \"Sep-17\"           │ 0                          │\n",
       "│ 11    │ NA           │ \"Mar-17\"           │ 0                          │\n",
       "⋮\n",
       "│ 39989 │ \"Oct-17\"     │ \"Sep-17\"           │ 0                          │\n",
       "│ 39990 │ NA           │ \"Aug-16\"           │ 0                          │\n",
       "│ 39991 │ \"Oct-17\"     │ \"Aug-17\"           │ 0                          │\n",
       "│ 39992 │ NA           │ \"May-17\"           │ 0                          │\n",
       "│ 39993 │ NA           │ \"Jan-17\"           │ 0                          │\n",
       "│ 39994 │ NA           │ \"Aug-17\"           │ 0                          │\n",
       "│ 39995 │ \"Oct-17\"     │ \"Sep-17\"           │ 0                          │\n",
       "│ 39996 │ \"Oct-17\"     │ \"Sep-17\"           │ 0                          │\n",
       "│ 39997 │ \"Oct-17\"     │ \"Aug-17\"           │ 0                          │\n",
       "│ 39998 │ \"Oct-17\"     │ \"Sep-17\"           │ 0                          │\n",
       "│ 39999 │ NA           │ \"Sep-17\"           │ 0                          │\n",
       "│ 40000 │ \"Oct-17\"     │ \"Sep-17\"           │ 0                          │\n",
       "\n",
       "│ Row   │ mths_since_last_major_derog │ policy_code │ application_type │\n",
       "├───────┼─────────────────────────────┼─────────────┼──────────────────┤\n",
       "│ 1     │ NA                          │ 1           │ \"INDIVIDUAL\"     │\n",
       "│ 2     │ NA                          │ 1           │ \"INDIVIDUAL\"     │\n",
       "│ 3     │ NA                          │ 1           │ \"INDIVIDUAL\"     │\n",
       "│ 4     │ 50                          │ 1           │ \"INDIVIDUAL\"     │\n",
       "│ 5     │ NA                          │ 1           │ \"INDIVIDUAL\"     │\n",
       "│ 6     │ NA                          │ 1           │ \"INDIVIDUAL\"     │\n",
       "│ 7     │ NA                          │ 1           │ \"INDIVIDUAL\"     │\n",
       "│ 8     │ NA                          │ 1           │ \"INDIVIDUAL\"     │\n",
       "│ 9     │ NA                          │ 1           │ \"INDIVIDUAL\"     │\n",
       "│ 10    │ 70                          │ 1           │ \"INDIVIDUAL\"     │\n",
       "│ 11    │ NA                          │ 1           │ \"INDIVIDUAL\"     │\n",
       "⋮\n",
       "│ 39989 │ 16                          │ 1           │ \"INDIVIDUAL\"     │\n",
       "│ 39990 │ NA                          │ 1           │ \"INDIVIDUAL\"     │\n",
       "│ 39991 │ 68                          │ 1           │ \"INDIVIDUAL\"     │\n",
       "│ 39992 │ NA                          │ 1           │ \"INDIVIDUAL\"     │\n",
       "│ 39993 │ NA                          │ 1           │ \"INDIVIDUAL\"     │\n",
       "│ 39994 │ 38                          │ 1           │ \"INDIVIDUAL\"     │\n",
       "│ 39995 │ NA                          │ 1           │ \"INDIVIDUAL\"     │\n",
       "│ 39996 │ NA                          │ 1           │ \"INDIVIDUAL\"     │\n",
       "│ 39997 │ 41                          │ 1           │ \"INDIVIDUAL\"     │\n",
       "│ 39998 │ NA                          │ 1           │ \"INDIVIDUAL\"     │\n",
       "│ 39999 │ 6                           │ 1           │ \"INDIVIDUAL\"     │\n",
       "│ 40000 │ NA                          │ 1           │ \"INDIVIDUAL\"     │\n",
       "\n",
       "│ Row   │ annual_inc_joint │ dti_joint │ verification_status_joint │\n",
       "├───────┼──────────────────┼───────────┼───────────────────────────┤\n",
       "│ 1     │ NA               │ NA        │ NA                        │\n",
       "│ 2     │ NA               │ NA        │ NA                        │\n",
       "│ 3     │ NA               │ NA        │ NA                        │\n",
       "│ 4     │ NA               │ NA        │ NA                        │\n",
       "│ 5     │ NA               │ NA        │ NA                        │\n",
       "│ 6     │ NA               │ NA        │ NA                        │\n",
       "│ 7     │ NA               │ NA        │ NA                        │\n",
       "│ 8     │ NA               │ NA        │ NA                        │\n",
       "│ 9     │ NA               │ NA        │ NA                        │\n",
       "│ 10    │ NA               │ NA        │ NA                        │\n",
       "│ 11    │ NA               │ NA        │ NA                        │\n",
       "⋮\n",
       "│ 39989 │ NA               │ NA        │ NA                        │\n",
       "│ 39990 │ NA               │ NA        │ NA                        │\n",
       "│ 39991 │ NA               │ NA        │ NA                        │\n",
       "│ 39992 │ NA               │ NA        │ NA                        │\n",
       "│ 39993 │ NA               │ NA        │ NA                        │\n",
       "│ 39994 │ NA               │ NA        │ NA                        │\n",
       "│ 39995 │ NA               │ NA        │ NA                        │\n",
       "│ 39996 │ NA               │ NA        │ NA                        │\n",
       "│ 39997 │ NA               │ NA        │ NA                        │\n",
       "│ 39998 │ NA               │ NA        │ NA                        │\n",
       "│ 39999 │ NA               │ NA        │ NA                        │\n",
       "│ 40000 │ NA               │ NA        │ NA                        │\n",
       "\n",
       "│ Row   │ acc_now_delinq │ tot_coll_amt │ tot_cur_bal │ open_acc_6m │\n",
       "├───────┼────────────────┼──────────────┼─────────────┼─────────────┤\n",
       "│ 1     │ 0              │ 0            │ 205155      │ 1           │\n",
       "│ 2     │ 0              │ 0            │ 23197       │ 1           │\n",
       "│ 3     │ 0              │ 0            │ 372407      │ 1           │\n",
       "│ 4     │ 0              │ 0            │ 127412      │ 0           │\n",
       "│ 5     │ 0              │ 0            │ 60381       │ 1           │\n",
       "│ 6     │ 0              │ 0            │ 57655       │ 1           │\n",
       "│ 7     │ 0              │ 0            │ 275831      │ 1           │\n",
       "│ 8     │ 0              │ 0            │ 147791      │ 2           │\n",
       "│ 9     │ 0              │ 0            │ 288087      │ 2           │\n",
       "│ 10    │ 0              │ 0            │ 40090       │ 2           │\n",
       "│ 11    │ 0              │ 0            │ 155521      │ 2           │\n",
       "⋮\n",
       "│ 39989 │ 0              │ 0            │ 34125       │ NA          │\n",
       "│ 39990 │ 0              │ 0            │ 83953       │ NA          │\n",
       "│ 39991 │ 0              │ 0            │ 265498      │ NA          │\n",
       "│ 39992 │ 0              │ 0            │ 3502        │ NA          │\n",
       "│ 39993 │ 0              │ 0            │ 104915      │ NA          │\n",
       "│ 39994 │ 0              │ 618          │ 87221       │ NA          │\n",
       "│ 39995 │ 0              │ 3388         │ 39352       │ NA          │\n",
       "│ 39996 │ 0              │ 0            │ 180681      │ NA          │\n",
       "│ 39997 │ 0              │ 0            │ 37760       │ NA          │\n",
       "│ 39998 │ 0              │ 0            │ 82132       │ NA          │\n",
       "│ 39999 │ 0              │ 0            │ 100871      │ NA          │\n",
       "│ 40000 │ 0              │ 0            │ 256791      │ NA          │\n",
       "\n",
       "│ Row   │ open_il_6m │ open_il_12m │ open_il_24m │ mths_since_rcnt_il │\n",
       "├───────┼────────────┼─────────────┼─────────────┼────────────────────┤\n",
       "│ 1     │ 3          │ 1           │ 4           │ 3                  │\n",
       "│ 2     │ 4          │ 0           │ 0           │ 28                 │\n",
       "│ 3     │ 1          │ 1           │ 1           │ 5                  │\n",
       "│ 4     │ 1          │ 0           │ 0           │ 73                 │\n",
       "│ 5     │ 0          │ 0           │ 0           │ 91                 │\n",
       "│ 6     │ 1          │ 0           │ 1           │ 24                 │\n",
       "│ 7     │ 18         │ 3           │ 9           │ 5                  │\n",
       "│ 8     │ 1          │ 0           │ 1           │ 23                 │\n",
       "│ 9     │ 2          │ 2           │ 2           │ 6                  │\n",
       "│ 10    │ 2          │ 2           │ 3           │ 8                  │\n",
       "│ 11    │ 2          │ 0           │ 0           │ 45                 │\n",
       "⋮\n",
       "│ 39989 │ NA         │ NA          │ NA          │ NA                 │\n",
       "│ 39990 │ NA         │ NA          │ NA          │ NA                 │\n",
       "│ 39991 │ NA         │ NA          │ NA          │ NA                 │\n",
       "│ 39992 │ NA         │ NA          │ NA          │ NA                 │\n",
       "│ 39993 │ NA         │ NA          │ NA          │ NA                 │\n",
       "│ 39994 │ NA         │ NA          │ NA          │ NA                 │\n",
       "│ 39995 │ NA         │ NA          │ NA          │ NA                 │\n",
       "│ 39996 │ NA         │ NA          │ NA          │ NA                 │\n",
       "│ 39997 │ NA         │ NA          │ NA          │ NA                 │\n",
       "│ 39998 │ NA         │ NA          │ NA          │ NA                 │\n",
       "│ 39999 │ NA         │ NA          │ NA          │ NA                 │\n",
       "│ 40000 │ NA         │ NA          │ NA          │ NA                 │\n",
       "\n",
       "│ Row   │ total_bal_il │ il_util │ open_rv_12m │ open_rv_24m │ max_bal_bc │\n",
       "├───────┼──────────────┼─────────┼─────────────┼─────────────┼────────────┤\n",
       "│ 1     │ 36812        │ 79      │ 1           │ 1           │ 2776       │\n",
       "│ 2     │ 15145        │ 56      │ 2           │ 6           │ 2715       │\n",
       "│ 3     │ 352033       │ NA      │ 0           │ 0           │ 9358       │\n",
       "│ 4     │ 1456         │ 4       │ 0           │ 1           │ 3309       │\n",
       "│ 5     │ 0            │ NA      │ 2           │ 5           │ 4879       │\n",
       "│ 6     │ 6234         │ 30      │ 1           │ 1           │ 9973       │\n",
       "│ 7     │ 269893       │ 110     │ 0           │ 3           │ 3234       │\n",
       "│ 8     │ 14807        │ 66      │ 3           │ 3           │ 2445       │\n",
       "│ 9     │ 32895        │ 94      │ 1           │ 1           │ 6742       │\n",
       "│ 10    │ 32532        │ 84      │ 3           │ 5           │ 1600       │\n",
       "│ 11    │ 96244        │ 54      │ 2           │ 7           │ 3046       │\n",
       "⋮\n",
       "│ 39989 │ NA           │ NA      │ NA          │ NA          │ NA         │\n",
       "│ 39990 │ NA           │ NA      │ NA          │ NA          │ NA         │\n",
       "│ 39991 │ NA           │ NA      │ NA          │ NA          │ NA         │\n",
       "│ 39992 │ NA           │ NA      │ NA          │ NA          │ NA         │\n",
       "│ 39993 │ NA           │ NA      │ NA          │ NA          │ NA         │\n",
       "│ 39994 │ NA           │ NA      │ NA          │ NA          │ NA         │\n",
       "│ 39995 │ NA           │ NA      │ NA          │ NA          │ NA         │\n",
       "│ 39996 │ NA           │ NA      │ NA          │ NA          │ NA         │\n",
       "│ 39997 │ NA           │ NA      │ NA          │ NA          │ NA         │\n",
       "│ 39998 │ NA           │ NA      │ NA          │ NA          │ NA         │\n",
       "│ 39999 │ NA           │ NA      │ NA          │ NA          │ NA         │\n",
       "│ 40000 │ NA           │ NA      │ NA          │ NA          │ NA         │\n",
       "\n",
       "│ Row   │ all_util │ total_rev_hi_lim │ inq_fi │ total_cu_tl │ inq_last_12m │\n",
       "├───────┼──────────┼──────────────────┼────────┼─────────────┼──────────────┤\n",
       "│ 1     │ 62       │ 20400            │ 1      │ 0           │ 3            │\n",
       "│ 2     │ 47       │ 22600            │ 0      │ 0           │ 1            │\n",
       "│ 3     │ 87       │ 23300            │ 1      │ 0           │ 2            │\n",
       "│ 4     │ 7        │ 33600            │ 1      │ 0           │ 2            │\n",
       "│ 5     │ 75       │ 20900            │ 0      │ 0           │ 2            │\n",
       "│ 6     │ 77       │ 47200            │ 0      │ 0           │ 1            │\n",
       "│ 7     │ 108      │ 8600             │ 4      │ 0           │ 9            │\n",
       "│ 8     │ 53       │ 15500            │ 1      │ 0           │ 2            │\n",
       "│ 9     │ 85       │ 49500            │ 0      │ 3           │ 3            │\n",
       "│ 10    │ 34       │ 78900            │ 0      │ 2           │ 0            │\n",
       "│ 11    │ 36       │ 80500            │ 0      │ 0           │ 5            │\n",
       "⋮\n",
       "│ 39989 │ NA       │ 5500             │ NA     │ NA          │ NA           │\n",
       "│ 39990 │ NA       │ 54800            │ NA     │ NA          │ NA           │\n",
       "│ 39991 │ NA       │ 23053            │ NA     │ NA          │ NA           │\n",
       "│ 39992 │ NA       │ 13300            │ NA     │ NA          │ NA           │\n",
       "│ 39993 │ NA       │ 15700            │ NA     │ NA          │ NA           │\n",
       "│ 39994 │ NA       │ 16200            │ NA     │ NA          │ NA           │\n",
       "│ 39995 │ NA       │ 21800            │ NA     │ NA          │ NA           │\n",
       "│ 39996 │ NA       │ 37200            │ NA     │ NA          │ NA           │\n",
       "│ 39997 │ NA       │ 36700            │ NA     │ NA          │ NA           │\n",
       "│ 39998 │ NA       │ 39300            │ NA     │ NA          │ NA           │\n",
       "│ 39999 │ NA       │ 35000            │ NA     │ NA          │ NA           │\n",
       "│ 40000 │ NA       │ 93800            │ NA     │ NA          │ NA           │\n",
       "\n",
       "│ Row   │ acc_open_past_24mths │ avg_cur_bal │ bc_open_to_buy │ bc_util │\n",
       "├───────┼──────────────────────┼─────────────┼────────────────┼─────────┤\n",
       "│ 1     │ 5                    │ 25644       │ 9924           │ 21.9    │\n",
       "│ 2     │ 6                    │ 1933        │ 12925          │ 37.9    │\n",
       "│ 3     │ 1                    │ 74481       │ 2926           │ 87.4    │\n",
       "│ 4     │ 1                    │ 14157       │ 27172          │ 10.9    │\n",
       "│ 5     │ 5                    │ 5032        │ 578            │ 93.4    │\n",
       "│ 6     │ 2                    │ 6406        │ 1249           │ 97.2    │\n",
       "│ 7     │ 12                   │ 11493       │ 1521           │ 77.3    │\n",
       "│ 8     │ 4                    │ 29558       │ 10051          │ 35.2    │\n",
       "│ 9     │ 4                    │ 20578       │ 287            │ 97.4    │\n",
       "│ 10    │ 8                    │ 2864        │ 48533          │ 5.9     │\n",
       "│ 11    │ 7                    │ 9720        │ 6962           │ 49.6    │\n",
       "⋮\n",
       "│ 39989 │ 4                    │ 5688        │ 1067           │ 80.6    │\n",
       "│ 39990 │ 9                    │ 5597        │ 26297          │ 34.6    │\n",
       "│ 39991 │ 4                    │ 14750       │ 2136           │ 88.5    │\n",
       "│ 39992 │ 2                    │ 700         │ 3636           │ 9.1     │\n",
       "│ 39993 │ 4                    │ 14988       │ 1769           │ 85.5    │\n",
       "│ 39994 │ 5                    │ 8722        │ 2217           │ 82.7    │\n",
       "│ 39995 │ 1                    │ 6559        │ 12296          │ 41.4    │\n",
       "│ 39996 │ 10                   │ 13899       │ 2230           │ 92.4    │\n",
       "│ 39997 │ 5                    │ 5394        │ 19478          │ 44.8    │\n",
       "│ 39998 │ 2                    │ 11733       │ 7496           │ 80.9    │\n",
       "│ 39999 │ 5                    │ 12609       │ 9783           │ 51.1    │\n",
       "│ 40000 │ 0                    │ 18342       │ 33223          │ 63.2    │\n",
       "\n",
       "│ Row   │ chargeoff_within_12_mths │ delinq_amnt │ mo_sin_old_il_acct │\n",
       "├───────┼──────────────────────────┼─────────────┼────────────────────┤\n",
       "│ 1     │ 0                        │ 0           │ 87                 │\n",
       "│ 2     │ 0                        │ 0           │ 52                 │\n",
       "│ 3     │ 0                        │ 0           │ 76                 │\n",
       "│ 4     │ 0                        │ 0           │ 139                │\n",
       "│ 5     │ 0                        │ 0           │ 138                │\n",
       "│ 6     │ 0                        │ 0           │ 24                 │\n",
       "│ 7     │ 0                        │ 0           │ 111                │\n",
       "│ 8     │ 0                        │ 0           │ 111                │\n",
       "│ 9     │ 0                        │ 0           │ 106                │\n",
       "│ 10    │ 0                        │ 0           │ 159                │\n",
       "│ 11    │ 0                        │ 0           │ 143                │\n",
       "⋮\n",
       "│ 39989 │ 0                        │ 0           │ 45                 │\n",
       "│ 39990 │ 0                        │ 0           │ 158                │\n",
       "│ 39991 │ 0                        │ 0           │ 151                │\n",
       "│ 39992 │ 0                        │ 0           │ NA                 │\n",
       "│ 39993 │ 0                        │ 0           │ 47                 │\n",
       "│ 39994 │ 0                        │ 0           │ 171                │\n",
       "│ 39995 │ 0                        │ 0           │ 143                │\n",
       "│ 39996 │ 0                        │ 0           │ 127                │\n",
       "│ 39997 │ 0                        │ 0           │ 117                │\n",
       "│ 39998 │ 0                        │ 0           │ 91                 │\n",
       "│ 39999 │ 2                        │ 0           │ 152                │\n",
       "│ 40000 │ 0                        │ 0           │ 148                │\n",
       "\n",
       "│ Row   │ mo_sin_old_rev_tl_op │ mo_sin_rcnt_rev_tl_op │ mo_sin_rcnt_tl │\n",
       "├───────┼──────────────────────┼───────────────────────┼────────────────┤\n",
       "│ 1     │ 255                  │ 8                     │ 3              │\n",
       "│ 2     │ 76                   │ 5                     │ 5              │\n",
       "│ 3     │ 131                  │ 85                    │ 5              │\n",
       "│ 4     │ 398                  │ 22                    │ 22             │\n",
       "│ 5     │ 172                  │ 2                     │ 2              │\n",
       "│ 6     │ 240                  │ 4                     │ 4              │\n",
       "│ 7     │ 126                  │ 15                    │ 5              │\n",
       "│ 8     │ 7                    │ 2                     │ 2              │\n",
       "│ 9     │ 176                  │ 7                     │ 6              │\n",
       "│ 10    │ 283                  │ 4                     │ 4              │\n",
       "│ 11    │ 168                  │ 3                     │ 3              │\n",
       "⋮\n",
       "│ 39989 │ 187                  │ 5                     │ 3              │\n",
       "│ 39990 │ 132                  │ 9                     │ 9              │\n",
       "│ 39991 │ 218                  │ 3                     │ 3              │\n",
       "│ 39992 │ 170                  │ 22                    │ 22             │\n",
       "│ 39993 │ 53                   │ 5                     │ 5              │\n",
       "│ 39994 │ 171                  │ 3                     │ 3              │\n",
       "│ 39995 │ 200                  │ 13                    │ 13             │\n",
       "│ 39996 │ 90                   │ 0                     │ 0              │\n",
       "│ 39997 │ 85                   │ 2                     │ 2              │\n",
       "│ 39998 │ 100                  │ 25                    │ 6              │\n",
       "│ 39999 │ 154                  │ 11                    │ 11             │\n",
       "│ 40000 │ 338                  │ 43                    │ 43             │\n",
       "\n",
       "│ Row   │ mort_acc │ mths_since_recent_bc │ mths_since_recent_bc_dlq │\n",
       "├───────┼──────────┼──────────────────────┼──────────────────────────┤\n",
       "│ 1     │ 1        │ 8                    │ NA                       │\n",
       "│ 2     │ 0        │ 5                    │ NA                       │\n",
       "│ 3     │ 0        │ 85                   │ NA                       │\n",
       "│ 4     │ 2        │ 22                   │ NA                       │\n",
       "│ 5     │ 3        │ 2                    │ NA                       │\n",
       "│ 6     │ 3        │ 52                   │ NA                       │\n",
       "│ 7     │ 0        │ 15                   │ NA                       │\n",
       "│ 8     │ 2        │ 2                    │ NA                       │\n",
       "│ 9     │ 6        │ 51                   │ NA                       │\n",
       "│ 10    │ 1        │ 4                    │ NA                       │\n",
       "│ 11    │ 1        │ 4                    │ NA                       │\n",
       "⋮\n",
       "│ 39989 │ 0        │ 5                    │ 39                       │\n",
       "│ 39990 │ 1        │ 9                    │ NA                       │\n",
       "│ 39991 │ 2        │ 3                    │ NA                       │\n",
       "│ 39992 │ 0        │ 22                   │ NA                       │\n",
       "│ 39993 │ 1        │ 5                    │ NA                       │\n",
       "│ 39994 │ 3        │ 9                    │ NA                       │\n",
       "│ 39995 │ 1        │ 13                   │ NA                       │\n",
       "│ 39996 │ 2        │ 4                    │ NA                       │\n",
       "│ 39997 │ 3        │ 7                    │ NA                       │\n",
       "│ 39998 │ 0        │ 25                   │ NA                       │\n",
       "│ 39999 │ 3        │ 11                   │ 8                        │\n",
       "│ 40000 │ 2        │ 51                   │ NA                       │\n",
       "\n",
       "│ Row   │ mths_since_recent_inq │ mths_since_recent_revol_delinq │\n",
       "├───────┼───────────────────────┼────────────────────────────────┤\n",
       "│ 1     │ 3                     │ NA                             │\n",
       "│ 2     │ 2                     │ NA                             │\n",
       "│ 3     │ 0                     │ NA                             │\n",
       "│ 4     │ 0                     │ NA                             │\n",
       "│ 5     │ 2                     │ NA                             │\n",
       "│ 6     │ 4                     │ NA                             │\n",
       "│ 7     │ 5                     │ NA                             │\n",
       "│ 8     │ 0                     │ NA                             │\n",
       "│ 9     │ 6                     │ NA                             │\n",
       "│ 10    │ 19                    │ NA                             │\n",
       "│ 11    │ 1                     │ NA                             │\n",
       "⋮\n",
       "│ 39989 │ 10                    │ 16                             │\n",
       "│ 39990 │ 2                     │ NA                             │\n",
       "│ 39991 │ 0                     │ 25                             │\n",
       "│ 39992 │ 22                    │ NA                             │\n",
       "│ 39993 │ 23                    │ NA                             │\n",
       "│ 39994 │ 5                     │ NA                             │\n",
       "│ 39995 │ NA                    │ NA                             │\n",
       "│ 39996 │ 3                     │ NA                             │\n",
       "│ 39997 │ 12                    │ NA                             │\n",
       "│ 39998 │ NA                    │ NA                             │\n",
       "│ 39999 │ 0                     │ 6                              │\n",
       "│ 40000 │ NA                    │ NA                             │\n",
       "\n",
       "│ Row   │ num_accts_ever_120_pd │ num_actv_bc_tl │ num_actv_rev_tl │\n",
       "├───────┼───────────────────────┼────────────────┼─────────────────┤\n",
       "│ 1     │ 0                     │ 1              │ 3               │\n",
       "│ 2     │ 0                     │ 6              │ 7               │\n",
       "│ 3     │ 0                     │ 3              │ 3               │\n",
       "│ 4     │ 1                     │ 2              │ 3               │\n",
       "│ 5     │ 0                     │ 3              │ 11              │\n",
       "│ 6     │ 0                     │ 5              │ 7               │\n",
       "│ 7     │ 0                     │ 2              │ 3               │\n",
       "│ 8     │ 0                     │ 3              │ 3               │\n",
       "│ 9     │ 0                     │ 3              │ 9               │\n",
       "│ 10    │ 2                     │ 5              │ 10              │\n",
       "│ 11    │ 0                     │ 5              │ 8               │\n",
       "⋮\n",
       "│ 39989 │ 1                     │ 1              │ 1               │\n",
       "│ 39990 │ 0                     │ 3              │ 6               │\n",
       "│ 39991 │ 0                     │ 9              │ 13              │\n",
       "│ 39992 │ 0                     │ 1              │ 2               │\n",
       "│ 39993 │ 0                     │ 4              │ 5               │\n",
       "│ 39994 │ 1                     │ 3              │ 5               │\n",
       "│ 39995 │ 0                     │ 3              │ 3               │\n",
       "│ 39996 │ 0                     │ 7              │ 8               │\n",
       "│ 39997 │ 0                     │ 4              │ 5               │\n",
       "│ 39998 │ 0                     │ 3              │ 3               │\n",
       "│ 39999 │ 2                     │ 2              │ 3               │\n",
       "│ 40000 │ 0                     │ 11             │ 12              │\n",
       "\n",
       "│ Row   │ num_bc_sats │ num_bc_tl │ num_il_tl │ num_op_rev_tl │ num_rev_accts │\n",
       "├───────┼─────────────┼───────────┼───────────┼───────────────┼───────────────┤\n",
       "│ 1     │ 2           │ 9         │ 8         │ 5             │ 14            │\n",
       "│ 2     │ 6           │ 10        │ 4         │ 8             │ 16            │\n",
       "│ 3     │ 4           │ 4         │ 11        │ 4             │ 4             │\n",
       "│ 4     │ 4           │ 6         │ 6         │ 7             │ 13            │\n",
       "│ 5     │ 3           │ 3         │ 4         │ 11            │ 13            │\n",
       "│ 6     │ 6           │ 7         │ 1         │ 8             │ 14            │\n",
       "│ 7     │ 4           │ 5         │ 35        │ 6             │ 8             │\n",
       "│ 8     │ 3           │ 3         │ 2         │ 3             │ 3             │\n",
       "│ 9     │ 3           │ 4         │ 6         │ 11            │ 16            │\n",
       "│ 10    │ 7           │ 8         │ 11        │ 12            │ 13            │\n",
       "│ 11    │ 5           │ 10        │ 12        │ 14            │ 29            │\n",
       "⋮\n",
       "│ 39989 │ 2           │ 3         │ 4         │ 4             │ 11            │\n",
       "│ 39990 │ 5           │ 12        │ 16        │ 9             │ 19            │\n",
       "│ 39991 │ 9           │ 14        │ 12        │ 14            │ 25            │\n",
       "│ 39992 │ 2           │ 5         │ 0         │ 5             │ 10            │\n",
       "│ 39993 │ 4           │ 4         │ 3         │ 5             │ 5             │\n",
       "│ 39994 │ 4           │ 5         │ 9         │ 8             │ 10            │\n",
       "│ 39995 │ 4           │ 13        │ 3         │ 5             │ 15            │\n",
       "│ 39996 │ 8           │ 10        │ 3         │ 11            │ 22            │\n",
       "│ 39997 │ 4           │ 6         │ 4         │ 6             │ 8             │\n",
       "│ 39998 │ 5           │ 10        │ 5         │ 5             │ 10            │\n",
       "│ 39999 │ 3           │ 16        │ 2         │ 6             │ 22            │\n",
       "│ 40000 │ 12          │ 18        │ 2         │ 14            │ 20            │\n",
       "\n",
       "│ Row   │ num_rev_tl_bal_gt_0 │ num_sats │ num_tl_120dpd_2m │ num_tl_30dpd │\n",
       "├───────┼─────────────────────┼──────────┼──────────────────┼──────────────┤\n",
       "│ 1     │ 3                   │ 9        │ 0                │ 0            │\n",
       "│ 2     │ 7                   │ 12       │ 0                │ 0            │\n",
       "│ 3     │ 3                   │ 5        │ 0                │ 0            │\n",
       "│ 4     │ 3                   │ 9        │ 0                │ 0            │\n",
       "│ 5     │ 11                  │ 12       │ 0                │ 0            │\n",
       "│ 6     │ 7                   │ 10       │ 0                │ 0            │\n",
       "│ 7     │ 3                   │ 24       │ 0                │ 0            │\n",
       "│ 8     │ 3                   │ 5        │ 0                │ 0            │\n",
       "│ 9     │ 9                   │ 14       │ 0                │ 0            │\n",
       "│ 10    │ 10                  │ 14       │ 0                │ 0            │\n",
       "│ 11    │ 8                   │ 16       │ 0                │ 0            │\n",
       "⋮\n",
       "│ 39989 │ 1                   │ 8        │ 0                │ 0            │\n",
       "│ 39990 │ 6                   │ 15       │ 0                │ 0            │\n",
       "│ 39991 │ 13                  │ 19       │ 0                │ 0            │\n",
       "│ 39992 │ 2                   │ 5        │ 0                │ 0            │\n",
       "│ 39993 │ 5                   │ 7        │ 0                │ 0            │\n",
       "│ 39994 │ 5                   │ 11       │ 0                │ 0            │\n",
       "│ 39995 │ 3                   │ 6        │ 0                │ 0            │\n",
       "│ 39996 │ 8                   │ 13       │ 0                │ 0            │\n",
       "│ 39997 │ 5                   │ 7        │ 0                │ 0            │\n",
       "│ 39998 │ 3                   │ 7        │ 0                │ 0            │\n",
       "│ 39999 │ 3                   │ 8        │ 0                │ 0            │\n",
       "│ 40000 │ 12                  │ 15       │ 0                │ 0            │\n",
       "\n",
       "│ Row   │ num_tl_90g_dpd_24m │ num_tl_op_past_12m │ pct_tl_nvr_dlq │\n",
       "├───────┼────────────────────┼────────────────────┼────────────────┤\n",
       "│ 1     │ 0                  │ 2                  │ 95.7           │\n",
       "│ 2     │ 0                  │ 2                  │ 100.0          │\n",
       "│ 3     │ 0                  │ 1                  │ 100.0          │\n",
       "│ 4     │ 0                  │ 0                  │ 95.2           │\n",
       "│ 5     │ 0                  │ 2                  │ 100.0          │\n",
       "│ 6     │ 0                  │ 1                  │ 100.0          │\n",
       "│ 7     │ 0                  │ 3                  │ 97.7           │\n",
       "│ 8     │ 0                  │ 3                  │ 100.0          │\n",
       "│ 9     │ 0                  │ 4                  │ 100.0          │\n",
       "│ 10    │ 0                  │ 5                  │ 92.3           │\n",
       "│ 11    │ 0                  │ 2                  │ 100.0          │\n",
       "⋮\n",
       "│ 39989 │ 2                  │ 4                  │ 76.9           │\n",
       "│ 39990 │ 0                  │ 3                  │ 100.0          │\n",
       "│ 39991 │ 0                  │ 3                  │ 89.7           │\n",
       "│ 39992 │ 0                  │ 0                  │ 100.0          │\n",
       "│ 39993 │ 0                  │ 1                  │ 100.0          │\n",
       "│ 39994 │ 0                  │ 2                  │ 95.5           │\n",
       "│ 39995 │ 0                  │ 0                  │ 100.0          │\n",
       "│ 39996 │ 0                  │ 3                  │ 100.0          │\n",
       "│ 39997 │ 0                  │ 3                  │ 92.9           │\n",
       "│ 39998 │ 0                  │ 2                  │ 100.0          │\n",
       "│ 39999 │ 2                  │ 2                  │ 92.6           │\n",
       "│ 40000 │ 0                  │ 0                  │ 100.0          │\n",
       "\n",
       "│ Row   │ percent_bc_gt_75 │ pub_rec_bankruptcies │ tax_liens │\n",
       "├───────┼──────────────────┼──────────────────────┼───────────┤\n",
       "│ 1     │ 0.0              │ 0                    │ 0         │\n",
       "│ 2     │ 33.3             │ 0                    │ 1         │\n",
       "│ 3     │ 75.0             │ 0                    │ 0         │\n",
       "│ 4     │ 0.0              │ 0                    │ 0         │\n",
       "│ 5     │ 66.7             │ 0                    │ 0         │\n",
       "│ 6     │ 100.0            │ 0                    │ 0         │\n",
       "│ 7     │ 50.0             │ 0                    │ 1         │\n",
       "│ 8     │ 0.0              │ 0                    │ 0         │\n",
       "│ 9     │ 100.0            │ 0                    │ 0         │\n",
       "│ 10    │ 0.0              │ 0                    │ 0         │\n",
       "│ 11    │ 40.0             │ 1                    │ 0         │\n",
       "⋮\n",
       "│ 39989 │ 50.0             │ 0                    │ 0         │\n",
       "│ 39990 │ 0.0              │ 0                    │ 0         │\n",
       "│ 39991 │ 77.8             │ 0                    │ 0         │\n",
       "│ 39992 │ 0.0              │ 1                    │ 0         │\n",
       "│ 39993 │ 75.0             │ 0                    │ 0         │\n",
       "│ 39994 │ 75.0             │ 0                    │ 0         │\n",
       "│ 39995 │ 50.0             │ 0                    │ 0         │\n",
       "│ 39996 │ 87.5             │ 0                    │ 0         │\n",
       "│ 39997 │ 0.0              │ 0                    │ 0         │\n",
       "│ 39998 │ 40.0             │ 0                    │ 0         │\n",
       "│ 39999 │ 66.7             │ 0                    │ 0         │\n",
       "│ 40000 │ 54.5             │ 0                    │ 0         │\n",
       "\n",
       "│ Row   │ tot_hi_cred_lim │ total_bal_ex_mort │ total_bc_limit │\n",
       "├───────┼─────────────────┼───────────────────┼────────────────┤\n",
       "│ 1     │ 247433          │ 41663             │ 12700          │\n",
       "│ 2     │ 49732           │ 23197             │ 20800          │\n",
       "│ 3     │ 370357          │ 372407            │ 23300          │\n",
       "│ 4     │ 202351          │ 4910              │ 30500          │\n",
       "│ 5     │ 72286           │ 15646             │ 8800           │\n",
       "│ 6     │ 74779           │ 57655             │ 44400          │\n",
       "│ 7     │ 255047          │ 275831            │ 6700           │\n",
       "│ 8     │ 189950          │ 20256             │ 15500          │\n",
       "│ 9     │ 302401          │ 71518             │ 11000          │\n",
       "│ 10    │ 117477          │ 40090             │ 51600          │\n",
       "│ 11    │ 176208          │ 155521            │ 13800          │\n",
       "⋮\n",
       "│ 39989 │ 49611           │ 34125             │ 5500           │\n",
       "│ 39990 │ 144228          │ 83953             │ 40200          │\n",
       "│ 39991 │ 312728          │ 101618            │ 18600          │\n",
       "│ 39992 │ 13300           │ 3502              │ 4000           │\n",
       "│ 39993 │ 115980          │ 21602             │ 12200          │\n",
       "│ 39994 │ 105804          │ 34573             │ 12800          │\n",
       "│ 39995 │ 111400          │ 8704              │ 21000          │\n",
       "│ 39996 │ 207708          │ 49144             │ 29200          │\n",
       "│ 39997 │ 62331           │ 37760             │ 35300          │\n",
       "│ 39998 │ 99300           │ 82132             │ 39300          │\n",
       "│ 39999 │ 180733          │ 17153             │ 20000          │\n",
       "│ 40000 │ 353800          │ 57032             │ 90200          │\n",
       "\n",
       "│ Row   │ total_il_high_credit_limit │ revol_bal_joint │\n",
       "├───────┼────────────────────────────┼─────────────────┤\n",
       "│ 1     │ 46367                      │ NA              │\n",
       "│ 2     │ 27132                      │ NA              │\n",
       "│ 3     │ 347057                     │ NA              │\n",
       "│ 4     │ 33631                      │ NA              │\n",
       "│ 5     │ 0                          │ NA              │\n",
       "│ 6     │ 20800                      │ NA              │\n",
       "│ 7     │ 246447                     │ NA              │\n",
       "│ 8     │ 22450                      │ NA              │\n",
       "│ 9     │ 34953                      │ NA              │\n",
       "│ 10    │ 38577                      │ NA              │\n",
       "│ 11    │ 95668                      │ NA              │\n",
       "⋮\n",
       "│ 39989 │ 44111                      │ NA              │\n",
       "│ 39990 │ 89428                      │ NA              │\n",
       "│ 39991 │ 109716                     │ NA              │\n",
       "│ 39992 │ 0                          │ NA              │\n",
       "│ 39993 │ 14280                      │ NA              │\n",
       "│ 39994 │ 30804                      │ NA              │\n",
       "│ 39995 │ 0                          │ NA              │\n",
       "│ 39996 │ 21808                      │ NA              │\n",
       "│ 39997 │ 25631                      │ NA              │\n",
       "│ 39998 │ 60000                      │ NA              │\n",
       "│ 39999 │ 19833                      │ NA              │\n",
       "│ 40000 │ 0                          │ NA              │\n",
       "\n",
       "│ Row   │ sec_app_earliest_cr_line │ sec_app_inq_last_6mths │ sec_app_mort_acc │\n",
       "├───────┼──────────────────────────┼────────────────────────┼──────────────────┤\n",
       "│ 1     │ NA                       │ NA                     │ NA               │\n",
       "│ 2     │ NA                       │ NA                     │ NA               │\n",
       "│ 3     │ NA                       │ NA                     │ NA               │\n",
       "│ 4     │ NA                       │ NA                     │ NA               │\n",
       "│ 5     │ NA                       │ NA                     │ NA               │\n",
       "│ 6     │ NA                       │ NA                     │ NA               │\n",
       "│ 7     │ NA                       │ NA                     │ NA               │\n",
       "│ 8     │ NA                       │ NA                     │ NA               │\n",
       "│ 9     │ NA                       │ NA                     │ NA               │\n",
       "│ 10    │ NA                       │ NA                     │ NA               │\n",
       "│ 11    │ NA                       │ NA                     │ NA               │\n",
       "⋮\n",
       "│ 39989 │ NA                       │ NA                     │ NA               │\n",
       "│ 39990 │ NA                       │ NA                     │ NA               │\n",
       "│ 39991 │ NA                       │ NA                     │ NA               │\n",
       "│ 39992 │ NA                       │ NA                     │ NA               │\n",
       "│ 39993 │ NA                       │ NA                     │ NA               │\n",
       "│ 39994 │ NA                       │ NA                     │ NA               │\n",
       "│ 39995 │ NA                       │ NA                     │ NA               │\n",
       "│ 39996 │ NA                       │ NA                     │ NA               │\n",
       "│ 39997 │ NA                       │ NA                     │ NA               │\n",
       "│ 39998 │ NA                       │ NA                     │ NA               │\n",
       "│ 39999 │ NA                       │ NA                     │ NA               │\n",
       "│ 40000 │ NA                       │ NA                     │ NA               │\n",
       "\n",
       "│ Row   │ sec_app_open_acc │ sec_app_revol_util │ sec_app_open_il_6m │\n",
       "├───────┼──────────────────┼────────────────────┼────────────────────┤\n",
       "│ 1     │ NA               │ NA                 │ NA                 │\n",
       "│ 2     │ NA               │ NA                 │ NA                 │\n",
       "│ 3     │ NA               │ NA                 │ NA                 │\n",
       "│ 4     │ NA               │ NA                 │ NA                 │\n",
       "│ 5     │ NA               │ NA                 │ NA                 │\n",
       "│ 6     │ NA               │ NA                 │ NA                 │\n",
       "│ 7     │ NA               │ NA                 │ NA                 │\n",
       "│ 8     │ NA               │ NA                 │ NA                 │\n",
       "│ 9     │ NA               │ NA                 │ NA                 │\n",
       "│ 10    │ NA               │ NA                 │ NA                 │\n",
       "│ 11    │ NA               │ NA                 │ NA                 │\n",
       "⋮\n",
       "│ 39989 │ NA               │ NA                 │ NA                 │\n",
       "│ 39990 │ NA               │ NA                 │ NA                 │\n",
       "│ 39991 │ NA               │ NA                 │ NA                 │\n",
       "│ 39992 │ NA               │ NA                 │ NA                 │\n",
       "│ 39993 │ NA               │ NA                 │ NA                 │\n",
       "│ 39994 │ NA               │ NA                 │ NA                 │\n",
       "│ 39995 │ NA               │ NA                 │ NA                 │\n",
       "│ 39996 │ NA               │ NA                 │ NA                 │\n",
       "│ 39997 │ NA               │ NA                 │ NA                 │\n",
       "│ 39998 │ NA               │ NA                 │ NA                 │\n",
       "│ 39999 │ NA               │ NA                 │ NA                 │\n",
       "│ 40000 │ NA               │ NA                 │ NA                 │\n",
       "\n",
       "│ Row   │ sec_app_num_rev_accts │ sec_app_chargeoff_within_12_mths │\n",
       "├───────┼───────────────────────┼──────────────────────────────────┤\n",
       "│ 1     │ NA                    │ NA                               │\n",
       "│ 2     │ NA                    │ NA                               │\n",
       "│ 3     │ NA                    │ NA                               │\n",
       "│ 4     │ NA                    │ NA                               │\n",
       "│ 5     │ NA                    │ NA                               │\n",
       "│ 6     │ NA                    │ NA                               │\n",
       "│ 7     │ NA                    │ NA                               │\n",
       "│ 8     │ NA                    │ NA                               │\n",
       "│ 9     │ NA                    │ NA                               │\n",
       "│ 10    │ NA                    │ NA                               │\n",
       "│ 11    │ NA                    │ NA                               │\n",
       "⋮\n",
       "│ 39989 │ NA                    │ NA                               │\n",
       "│ 39990 │ NA                    │ NA                               │\n",
       "│ 39991 │ NA                    │ NA                               │\n",
       "│ 39992 │ NA                    │ NA                               │\n",
       "│ 39993 │ NA                    │ NA                               │\n",
       "│ 39994 │ NA                    │ NA                               │\n",
       "│ 39995 │ NA                    │ NA                               │\n",
       "│ 39996 │ NA                    │ NA                               │\n",
       "│ 39997 │ NA                    │ NA                               │\n",
       "│ 39998 │ NA                    │ NA                               │\n",
       "│ 39999 │ NA                    │ NA                               │\n",
       "│ 40000 │ NA                    │ NA                               │\n",
       "\n",
       "│ Row   │ sec_app_collections_12_mths_ex_med │\n",
       "├───────┼────────────────────────────────────┤\n",
       "│ 1     │ NA                                 │\n",
       "│ 2     │ NA                                 │\n",
       "│ 3     │ NA                                 │\n",
       "│ 4     │ NA                                 │\n",
       "│ 5     │ NA                                 │\n",
       "│ 6     │ NA                                 │\n",
       "│ 7     │ NA                                 │\n",
       "│ 8     │ NA                                 │\n",
       "│ 9     │ NA                                 │\n",
       "│ 10    │ NA                                 │\n",
       "│ 11    │ NA                                 │\n",
       "⋮\n",
       "│ 39989 │ NA                                 │\n",
       "│ 39990 │ NA                                 │\n",
       "│ 39991 │ NA                                 │\n",
       "│ 39992 │ NA                                 │\n",
       "│ 39993 │ NA                                 │\n",
       "│ 39994 │ NA                                 │\n",
       "│ 39995 │ NA                                 │\n",
       "│ 39996 │ NA                                 │\n",
       "│ 39997 │ NA                                 │\n",
       "│ 39998 │ NA                                 │\n",
       "│ 39999 │ NA                                 │\n",
       "│ 40000 │ NA                                 │\n",
       "\n",
       "│ Row   │ sec_app_mths_since_last_major_derog │ hardship_flag │\n",
       "├───────┼─────────────────────────────────────┼───────────────┤\n",
       "│ 1     │ NA                                  │ \"N\"           │\n",
       "│ 2     │ NA                                  │ \"N\"           │\n",
       "│ 3     │ NA                                  │ \"N\"           │\n",
       "│ 4     │ NA                                  │ \"N\"           │\n",
       "│ 5     │ NA                                  │ \"N\"           │\n",
       "│ 6     │ NA                                  │ \"N\"           │\n",
       "│ 7     │ NA                                  │ \"N\"           │\n",
       "│ 8     │ NA                                  │ \"N\"           │\n",
       "│ 9     │ NA                                  │ \"N\"           │\n",
       "│ 10    │ NA                                  │ \"N\"           │\n",
       "│ 11    │ NA                                  │ \"N\"           │\n",
       "⋮\n",
       "│ 39989 │ NA                                  │ \"N\"           │\n",
       "│ 39990 │ NA                                  │ \"N\"           │\n",
       "│ 39991 │ NA                                  │ \"N\"           │\n",
       "│ 39992 │ NA                                  │ \"N\"           │\n",
       "│ 39993 │ NA                                  │ \"N\"           │\n",
       "│ 39994 │ NA                                  │ \"N\"           │\n",
       "│ 39995 │ NA                                  │ \"N\"           │\n",
       "│ 39996 │ NA                                  │ \"N\"           │\n",
       "│ 39997 │ NA                                  │ \"Y\"           │\n",
       "│ 39998 │ NA                                  │ \"N\"           │\n",
       "│ 39999 │ NA                                  │ \"N\"           │\n",
       "│ 40000 │ NA                                  │ \"N\"           │\n",
       "\n",
       "│ Row   │ hardship_type                     │ hardship_reason    │\n",
       "├───────┼───────────────────────────────────┼────────────────────┤\n",
       "│ 1     │ NA                                │ NA                 │\n",
       "│ 2     │ NA                                │ NA                 │\n",
       "│ 3     │ NA                                │ NA                 │\n",
       "│ 4     │ NA                                │ NA                 │\n",
       "│ 5     │ NA                                │ NA                 │\n",
       "│ 6     │ NA                                │ NA                 │\n",
       "│ 7     │ NA                                │ NA                 │\n",
       "│ 8     │ NA                                │ NA                 │\n",
       "│ 9     │ NA                                │ NA                 │\n",
       "│ 10    │ NA                                │ NA                 │\n",
       "│ 11    │ NA                                │ NA                 │\n",
       "⋮\n",
       "│ 39989 │ NA                                │ NA                 │\n",
       "│ 39990 │ NA                                │ NA                 │\n",
       "│ 39991 │ NA                                │ NA                 │\n",
       "│ 39992 │ NA                                │ NA                 │\n",
       "│ 39993 │ NA                                │ NA                 │\n",
       "│ 39994 │ NA                                │ NA                 │\n",
       "│ 39995 │ NA                                │ NA                 │\n",
       "│ 39996 │ NA                                │ NA                 │\n",
       "│ 39997 │ \"INTEREST ONLY-3 MONTHS DEFERRAL\" │ \"NATURAL_DISASTER\" │\n",
       "│ 39998 │ NA                                │ NA                 │\n",
       "│ 39999 │ NA                                │ NA                 │\n",
       "│ 40000 │ NA                                │ NA                 │\n",
       "\n",
       "│ Row   │ hardship_status │ deferral_term │ hardship_amount │\n",
       "├───────┼─────────────────┼───────────────┼─────────────────┤\n",
       "│ 1     │ NA              │ NA            │ NA              │\n",
       "│ 2     │ NA              │ NA            │ NA              │\n",
       "│ 3     │ NA              │ NA            │ NA              │\n",
       "│ 4     │ NA              │ NA            │ NA              │\n",
       "│ 5     │ NA              │ NA            │ NA              │\n",
       "│ 6     │ NA              │ NA            │ NA              │\n",
       "│ 7     │ NA              │ NA            │ NA              │\n",
       "│ 8     │ NA              │ NA            │ NA              │\n",
       "│ 9     │ NA              │ NA            │ NA              │\n",
       "│ 10    │ NA              │ NA            │ NA              │\n",
       "│ 11    │ NA              │ NA            │ NA              │\n",
       "⋮\n",
       "│ 39989 │ NA              │ NA            │ NA              │\n",
       "│ 39990 │ NA              │ NA            │ NA              │\n",
       "│ 39991 │ NA              │ NA            │ NA              │\n",
       "│ 39992 │ NA              │ NA            │ NA              │\n",
       "│ 39993 │ NA              │ NA            │ NA              │\n",
       "│ 39994 │ NA              │ NA            │ NA              │\n",
       "│ 39995 │ NA              │ NA            │ NA              │\n",
       "│ 39996 │ NA              │ NA            │ NA              │\n",
       "│ 39997 │ \"ACTIVE\"        │ 3             │ 158.37          │\n",
       "│ 39998 │ NA              │ NA            │ NA              │\n",
       "│ 39999 │ NA              │ NA            │ NA              │\n",
       "│ 40000 │ NA              │ NA            │ NA              │\n",
       "\n",
       "│ Row   │ hardship_start_date │ hardship_end_date │ payment_plan_start_date │\n",
       "├───────┼─────────────────────┼───────────────────┼─────────────────────────┤\n",
       "│ 1     │ NA                  │ NA                │ NA                      │\n",
       "│ 2     │ NA                  │ NA                │ NA                      │\n",
       "│ 3     │ NA                  │ NA                │ NA                      │\n",
       "│ 4     │ NA                  │ NA                │ NA                      │\n",
       "│ 5     │ NA                  │ NA                │ NA                      │\n",
       "│ 6     │ NA                  │ NA                │ NA                      │\n",
       "│ 7     │ NA                  │ NA                │ NA                      │\n",
       "│ 8     │ NA                  │ NA                │ NA                      │\n",
       "│ 9     │ NA                  │ NA                │ NA                      │\n",
       "│ 10    │ NA                  │ NA                │ NA                      │\n",
       "│ 11    │ NA                  │ NA                │ NA                      │\n",
       "⋮\n",
       "│ 39989 │ NA                  │ NA                │ NA                      │\n",
       "│ 39990 │ NA                  │ NA                │ NA                      │\n",
       "│ 39991 │ NA                  │ NA                │ NA                      │\n",
       "│ 39992 │ NA                  │ NA                │ NA                      │\n",
       "│ 39993 │ NA                  │ NA                │ NA                      │\n",
       "│ 39994 │ NA                  │ NA                │ NA                      │\n",
       "│ 39995 │ NA                  │ NA                │ NA                      │\n",
       "│ 39996 │ NA                  │ NA                │ NA                      │\n",
       "│ 39997 │ \"Sep-17\"            │ \"Nov-17\"          │ \"Sep-17\"                │\n",
       "│ 39998 │ NA                  │ NA                │ NA                      │\n",
       "│ 39999 │ NA                  │ NA                │ NA                      │\n",
       "│ 40000 │ NA                  │ NA                │ NA                      │\n",
       "\n",
       "│ Row   │ hardship_length │ hardship_dpd │ hardship_loan_status │\n",
       "├───────┼─────────────────┼──────────────┼──────────────────────┤\n",
       "│ 1     │ NA              │ NA           │ NA                   │\n",
       "│ 2     │ NA              │ NA           │ NA                   │\n",
       "│ 3     │ NA              │ NA           │ NA                   │\n",
       "│ 4     │ NA              │ NA           │ NA                   │\n",
       "│ 5     │ NA              │ NA           │ NA                   │\n",
       "│ 6     │ NA              │ NA           │ NA                   │\n",
       "│ 7     │ NA              │ NA           │ NA                   │\n",
       "│ 8     │ NA              │ NA           │ NA                   │\n",
       "│ 9     │ NA              │ NA           │ NA                   │\n",
       "│ 10    │ NA              │ NA           │ NA                   │\n",
       "│ 11    │ NA              │ NA           │ NA                   │\n",
       "⋮\n",
       "│ 39989 │ NA              │ NA           │ NA                   │\n",
       "│ 39990 │ NA              │ NA           │ NA                   │\n",
       "│ 39991 │ NA              │ NA           │ NA                   │\n",
       "│ 39992 │ NA              │ NA           │ NA                   │\n",
       "│ 39993 │ NA              │ NA           │ NA                   │\n",
       "│ 39994 │ NA              │ NA           │ NA                   │\n",
       "│ 39995 │ NA              │ NA           │ NA                   │\n",
       "│ 39996 │ NA              │ NA           │ NA                   │\n",
       "│ 39997 │ 3               │ 0            │ \"Current\"            │\n",
       "│ 39998 │ NA              │ NA           │ NA                   │\n",
       "│ 39999 │ NA              │ NA           │ NA                   │\n",
       "│ 40000 │ NA              │ NA           │ NA                   │\n",
       "\n",
       "│ Row   │ orig_projected_additional_accrued_interest │\n",
       "├───────┼────────────────────────────────────────────┤\n",
       "│ 1     │ NA                                         │\n",
       "│ 2     │ NA                                         │\n",
       "│ 3     │ NA                                         │\n",
       "│ 4     │ NA                                         │\n",
       "│ 5     │ NA                                         │\n",
       "│ 6     │ NA                                         │\n",
       "│ 7     │ NA                                         │\n",
       "│ 8     │ NA                                         │\n",
       "│ 9     │ NA                                         │\n",
       "│ 10    │ NA                                         │\n",
       "│ 11    │ NA                                         │\n",
       "⋮\n",
       "│ 39989 │ NA                                         │\n",
       "│ 39990 │ NA                                         │\n",
       "│ 39991 │ NA                                         │\n",
       "│ 39992 │ NA                                         │\n",
       "│ 39993 │ NA                                         │\n",
       "│ 39994 │ NA                                         │\n",
       "│ 39995 │ NA                                         │\n",
       "│ 39996 │ NA                                         │\n",
       "│ 39997 │ 475.11                                     │\n",
       "│ 39998 │ NA                                         │\n",
       "│ 39999 │ NA                                         │\n",
       "│ 40000 │ NA                                         │\n",
       "\n",
       "│ Row   │ hardship_payoff_balance_amount │ hardship_last_payment_amount │\n",
       "├───────┼────────────────────────────────┼──────────────────────────────┤\n",
       "│ 1     │ NA                             │ NA                           │\n",
       "│ 2     │ NA                             │ NA                           │\n",
       "│ 3     │ NA                             │ NA                           │\n",
       "│ 4     │ NA                             │ NA                           │\n",
       "│ 5     │ NA                             │ NA                           │\n",
       "│ 6     │ NA                             │ NA                           │\n",
       "│ 7     │ NA                             │ NA                           │\n",
       "│ 8     │ NA                             │ NA                           │\n",
       "│ 9     │ NA                             │ NA                           │\n",
       "│ 10    │ NA                             │ NA                           │\n",
       "│ 11    │ NA                             │ NA                           │\n",
       "⋮\n",
       "│ 39989 │ NA                             │ NA                           │\n",
       "│ 39990 │ NA                             │ NA                           │\n",
       "│ 39991 │ NA                             │ NA                           │\n",
       "│ 39992 │ NA                             │ NA                           │\n",
       "│ 39993 │ NA                             │ NA                           │\n",
       "│ 39994 │ NA                             │ NA                           │\n",
       "│ 39995 │ NA                             │ NA                           │\n",
       "│ 39996 │ NA                             │ NA                           │\n",
       "│ 39997 │ 14022.9                        │ 443.45                       │\n",
       "│ 39998 │ NA                             │ NA                           │\n",
       "│ 39999 │ NA                             │ NA                           │\n",
       "│ 40000 │ NA                             │ NA                           │"
      ]
     },
     "execution_count": 4,
     "metadata": {},
     "output_type": "execute_result"
    }
   ],
   "source": [
    "accepted_2015"
   ]
  },
  {
   "cell_type": "code",
   "execution_count": 5,
   "metadata": {
    "collapsed": true
   },
   "outputs": [],
   "source": [
    "# Exploratory graphs?\n",
    "# Feature transformations?"
   ]
  },
  {
   "cell_type": "code",
   "execution_count": 49,
   "metadata": {
    "collapsed": false
   },
   "outputs": [
    {
     "ename": "LoadError",
     "evalue": "\u001b[91mUndefVarError: Null not defined\u001b[39m",
     "output_type": "error",
     "traceback": [
      "\u001b[91mUndefVarError: Null not defined\u001b[39m",
      "",
      "Stacktrace:",
      " [1] \u001b[1minclude_string\u001b[22m\u001b[22m\u001b[1m(\u001b[22m\u001b[22m::String, ::String\u001b[1m)\u001b[22m\u001b[22m at \u001b[1m.\\loading.jl:515\u001b[22m\u001b[22m"
     ]
    }
   ],
   "source": [
    "isna(Null)"
   ]
  },
  {
   "cell_type": "code",
   "execution_count": 6,
   "metadata": {
    "collapsed": true
   },
   "outputs": [],
   "source": [
    "# features that might help\n",
    "\n",
    "# dti = debt-to-income ratio"
   ]
  },
  {
   "cell_type": "code",
   "execution_count": 7,
   "metadata": {
    "collapsed": false
   },
   "outputs": [
    {
     "data": {
      "text/plain": [
       "summary_stats"
      ]
     },
     "execution_count": 7,
     "metadata": {},
     "output_type": "execute_result"
    }
   ],
   "source": [
    "\"\"\"compute summary statistics on observed values in data array\"\"\"\n",
    "function summary_stats(arr::DataArray)\n",
    "    clean_arr = dropna(arr)\n",
    "    print(\"missing: $(mean(isna.(arr)))%\\n\")\n",
    "    print(\"maximum: $(maximum(clean_arr))\\n\")\n",
    "    print(\"minimum: $(minimum(clean_arr))\\n\")\n",
    "    print(\"median:  $(median(clean_arr))\\n\")\n",
    "    print(\"mean:    $(mean(clean_arr))\\n\")\n",
    "    print(\"std:     $(std(clean_arr))\\n\")\n",
    "end"
   ]
  },
  {
   "cell_type": "code",
   "execution_count": 8,
   "metadata": {
    "collapsed": false
   },
   "outputs": [
    {
     "data": {
      "text/plain": [
       "40000-element DataArrays.DataArray{Int64,1}:\n",
       " 0\n",
       " 0\n",
       " 0\n",
       " 0\n",
       " 0\n",
       " 0\n",
       " 0\n",
       " 0\n",
       " 0\n",
       " 0\n",
       " 0\n",
       " 0\n",
       " 1\n",
       " ⋮\n",
       " 5\n",
       " 0\n",
       " 0\n",
       " 0\n",
       " 0\n",
       " 0\n",
       " 0\n",
       " 0\n",
       " 0\n",
       " 0\n",
       " 2\n",
       " 0"
      ]
     },
     "execution_count": 8,
     "metadata": {},
     "output_type": "execute_result"
    }
   ],
   "source": [
    "debt_to_inc_ratio = accepted_2015[:dti];\n",
    "delinq_2yrs = accepted_2015[:delinq_2yrs]"
   ]
  },
  {
   "cell_type": "code",
   "execution_count": 9,
   "metadata": {
    "collapsed": false
   },
   "outputs": [
    {
     "name": "stdout",
     "output_type": "stream",
     "text": [
      "missing: 2.5e-5%\n"
     ]
    }
   ],
   "source": [
    "summary_stats(debt_to_inc_ratio)"
   ]
  },
  {
   "cell_type": "code",
   "execution_count": 51,
   "metadata": {
    "collapsed": false
   },
   "outputs": [
    {
     "name": "stdout",
     "output_type": "stream",
     "text": [
      "0\n"
     ]
    }
   ],
   "source": [
    "cnt = 0\n",
    "for i = 1 : length(delinq_2yrs)\n",
    "    if isna(delinq_2yrs[i])\n",
    "        cnt += 1\n",
    "    end\n",
    "\n",
    "end\n",
    "println(cnt)"
   ]
  },
  {
   "cell_type": "code",
   "execution_count": 10,
   "metadata": {
    "collapsed": false
   },
   "outputs": [
    {
     "name": "stdout",
     "output_type": "stream",
     "text": [
      "missing: 0.0%\n",
      "maximum: 15\n",
      "minimum: 0\n",
      "median:  0.0\n",
      "mean:    0.345025\n",
      "std:     0.9138947584190052\n"
     ]
    }
   ],
   "source": [
    "summary_stats(delinq_2yrs)"
   ]
  },
  {
   "cell_type": "code",
   "execution_count": 11,
   "metadata": {
    "collapsed": true
   },
   "outputs": [],
   "source": [
    "# Decisions about the project: \n",
    "# GOAL -- predict lateness out of just using the accepted. there's not enough data from the \n",
    "# rejected to do a good job there. (Or even predict earliness -- the ones that are Fully Paid instead of just Current)\n",
    "# Maybe loans that are likely to be paid back early should be given lower interest rates to\n",
    "# entice people to take on loans\n",
    "\n",
    "# SPIN THIS AS:'there could be human bias that is causing humans to accept loan applications\n",
    "# that won't be paid back on time. This system will fix that. (Aka maybe there's something\n",
    "# that humans miss, which is understandable because they don'tt have infinite time to\n",
    "# review the applications.)\n",
    "\n",
    "# impute the rows with NAs so I don't have to throw them out\n",
    "\n",
    "# feature transformations to convert useful text features --> numerical features"
   ]
  },
  {
   "cell_type": "code",
   "execution_count": 20,
   "metadata": {
    "collapsed": false
   },
   "outputs": [
    {
     "data": {
      "text/html": [
       "<script src=\"C:\\Users\\ks70\\.julia\\v0.6\\Plots\\src\\backends\\..\\..\\deps\\plotly-latest.min.js\"></script>    <div id=\"c4ef09d9-9f84-4599-9429-084cfc03b14a\" style=\"width:600px;height:400px;\"></div>\n",
       "    <script>\n",
       "    PLOT = document.getElementById('c4ef09d9-9f84-4599-9429-084cfc03b14a');\n",
       "    Plotly.plot(PLOT, [{\"showlegend\":false,\"values\":[27310,12690],\"xaxis\":\"x\",\"colorbar\":{\"title\":\"\"},\"labels\":[\"36 months\",\"60 months\"],\"type\":\"pie\",\"name\":\"y1\",\"hoverinfo\":\"label+percent+name\",\"yaxis\":\"y\"}], {\"showlegend\":true,\"xaxis\":{\"showgrid\":false,\"tickangle\":0,\"gridcolor\":\"rgba(0, 0, 0, 0.100)\",\"showticklabels\":false,\"gridwidth\":0.5,\"zeroline\":false,\"ticks\":\"inside\",\"title\":\"\",\"domain\":[0.17322834645669297,0.8267716535433071],\"anchor\":\"y\"},\"paper_bgcolor\":\"rgba(255, 255, 255, 1.000)\",\"annotations\":[],\"height\":400,\"margin\":{\"l\":0,\"b\":20,\"r\":0,\"t\":20},\"plot_bgcolor\":\"rgba(255, 255, 255, 1.000)\",\"yaxis\":{\"showgrid\":false,\"tickangle\":0,\"gridcolor\":\"rgba(0, 0, 0, 0.100)\",\"showticklabels\":false,\"gridwidth\":0.5,\"zeroline\":false,\"ticks\":\"inside\",\"title\":\"\",\"domain\":[0.00984251968503937,0.9901574803149606],\"anchor\":\"x\"},\"legend\":{\"bordercolor\":\"rgba(0, 0, 0, 1.000)\",\"bgcolor\":\"rgba(255, 255, 255, 1.000)\",\"font\":{\"color\":\"rgba(0, 0, 0, 1.000)\",\"family\":\"sans-serif\",\"size\":11},\"y\":1.0,\"x\":1.0},\"width\":600});\n",
       "    </script>\n"
      ]
     },
     "execution_count": 20,
     "metadata": {},
     "output_type": "execute_result"
    }
   ],
   "source": [
    "# pie chart of \n",
    "#println(accepted_2015[:term])\n",
    "term_of_loan = accepted_2015[:term]\n",
    "int_term_of_loan = []\n",
    "num_36 = 0\n",
    "num_60 = 0\n",
    "for i = 1 : length(term_of_loan)\n",
    "    #push!(int_term_of_loan, parse(Int64, split(term_of_loan[i])[1]))\n",
    "    if split(term_of_loan[i])[1] == \"36\"\n",
    "        num_36 += 1\n",
    "    elseif split(term_of_loan[i])[1] == \"60\"\n",
    "        num_60 += 1\n",
    "    end\n",
    "\n",
    "end\n",
    "# println(int_term_of_loan[1:100])\n",
    "pie([\"36 months\", \"60 months\"],[num_36, num_60])"
   ]
  },
  {
   "cell_type": "code",
   "execution_count": 36,
   "metadata": {
    "collapsed": false
   },
   "outputs": [
    {
     "name": "stdout",
     "output_type": "stream",
     "text": [
      "[224, 39776]\n",
      "String[\"JOINT\", \"INDIVIDUAL\"]\n"
     ]
    },
    {
     "data": {
      "text/html": [
       "<script src=\"C:\\Users\\ks70\\.julia\\v0.6\\Plots\\src\\backends\\..\\..\\deps\\plotly-latest.min.js\"></script>    <div id=\"bf0629a6-d5c5-41ef-b8d4-075a03caa708\" style=\"width:600px;height:400px;\"></div>\n",
       "    <script>\n",
       "    PLOT = document.getElementById('bf0629a6-d5c5-41ef-b8d4-075a03caa708');\n",
       "    Plotly.plot(PLOT, [{\"showlegend\":false,\"values\":[224,39776],\"xaxis\":\"x\",\"colorbar\":{\"title\":\"\"},\"labels\":[\"JOINT\",\"INDIVIDUAL\"],\"type\":\"pie\",\"name\":\"y1\",\"hoverinfo\":\"label+percent+name\",\"yaxis\":\"y\"}], {\"showlegend\":true,\"xaxis\":{\"showgrid\":false,\"tickangle\":0,\"gridcolor\":\"rgba(0, 0, 0, 0.100)\",\"showticklabels\":false,\"gridwidth\":0.5,\"zeroline\":false,\"ticks\":\"inside\",\"title\":\"\",\"domain\":[0.17322834645669297,0.8267716535433071],\"anchor\":\"y\"},\"paper_bgcolor\":\"rgba(255, 255, 255, 1.000)\",\"annotations\":[],\"height\":400,\"margin\":{\"l\":0,\"b\":20,\"r\":0,\"t\":20},\"plot_bgcolor\":\"rgba(255, 255, 255, 1.000)\",\"yaxis\":{\"showgrid\":false,\"tickangle\":0,\"gridcolor\":\"rgba(0, 0, 0, 0.100)\",\"showticklabels\":false,\"gridwidth\":0.5,\"zeroline\":false,\"ticks\":\"inside\",\"title\":\"\",\"domain\":[0.00984251968503937,0.9901574803149606],\"anchor\":\"x\"},\"legend\":{\"bordercolor\":\"rgba(0, 0, 0, 1.000)\",\"bgcolor\":\"rgba(255, 255, 255, 1.000)\",\"font\":{\"color\":\"rgba(0, 0, 0, 1.000)\",\"family\":\"sans-serif\",\"size\":11},\"y\":1.0,\"x\":1.0},\"width\":600});\n",
       "    </script>\n"
      ]
     },
     "execution_count": 36,
     "metadata": {},
     "output_type": "execute_result"
    }
   ],
   "source": [
    "# Invididual or joint\n",
    "application_type = accepted_2015[:application_type]\n",
    "d = Dict()\n",
    "for i = 1 : length(application_type)\n",
    "    if haskey(d, application_type[i])\n",
    "        d[application_type[i]] += 1\n",
    "    else\n",
    "        d[application_type[i]] = 1 \n",
    "    end\n",
    "end\n",
    "pie_values = Int64[]\n",
    "pie_labels = String[]\n",
    "for key = keys(d)\n",
    "    #println(\"$key: $(dict[key])\")\n",
    "    push!(pie_labels, key)\n",
    "    push!(pie_values, d[key])\n",
    "end\n",
    "println(pie_values)\n",
    "println(pie_labels)\n",
    "# println(int_term_of_loan[1:100])\n",
    "# pie([\"36 months\", \"60 months\"],[num_36, num_60])\n",
    "pie(pie_labels, pie_values)"
   ]
  },
  {
   "cell_type": "code",
   "execution_count": 29,
   "metadata": {
    "collapsed": false
   },
   "outputs": [
    {
     "ename": "LoadError",
     "evalue": "\u001b[91mAssociative collections only contain Pairs;\nEither look for e.g. A=>B instead, or use the `keys` or `values`\nfunction if you are looking for a key or value respectively.\u001b[39m",
     "output_type": "error",
     "traceback": [
      "\u001b[91mAssociative collections only contain Pairs;\nEither look for e.g. A=>B instead, or use the `keys` or `values`\nfunction if you are looking for a key or value respectively.\u001b[39m",
      "",
      "Stacktrace:",
      " [1] \u001b[1min\u001b[22m\u001b[22m\u001b[1m(\u001b[22m\u001b[22m::Int64, ::Dict{Any,Any}\u001b[1m)\u001b[22m\u001b[22m at \u001b[1m.\\associative.jl:18\u001b[22m\u001b[22m",
      " [2] \u001b[1minclude_string\u001b[22m\u001b[22m\u001b[1m(\u001b[22m\u001b[22m::String, ::String\u001b[1m)\u001b[22m\u001b[22m at \u001b[1m.\\loading.jl:515\u001b[22m\u001b[22m"
     ]
    }
   ],
   "source": [
    "#d = Dict()\n"
   ]
  },
  {
   "cell_type": "code",
   "execution_count": 39,
   "metadata": {
    "collapsed": false
   },
   "outputs": [
    {
     "name": "stdout",
     "output_type": "stream",
     "text": [
      "[10756, 12, 23579, 644, 892, 3944, 173]\n",
      "String[\"Fully Paid\", \"Default\", \"Current\", \"In Grace Period\", \"Late (31-120 days)\", \"Charged Off\", \"Late (16-30 days)\"]\n"
     ]
    },
    {
     "data": {
      "text/html": [
       "<script src=\"C:\\Users\\ks70\\.julia\\v0.6\\Plots\\src\\backends\\..\\..\\deps\\plotly-latest.min.js\"></script>    <div id=\"61f6548d-472a-4384-8405-5c7eb3a4398d\" style=\"width:600px;height:400px;\"></div>\n",
       "    <script>\n",
       "    PLOT = document.getElementById('61f6548d-472a-4384-8405-5c7eb3a4398d');\n",
       "    Plotly.plot(PLOT, [{\"showlegend\":false,\"values\":[10756,12,23579,644,892,3944,173],\"xaxis\":\"x\",\"colorbar\":{\"title\":\"\"},\"labels\":[\"Fully Paid\",\"Default\",\"Current\",\"In Grace Period\",\"Late (31-120 days)\",\"Charged Off\",\"Late (16-30 days)\"],\"type\":\"pie\",\"name\":[\"Fully Paid\",\"Default\",\"Current\",\"In Grace Period\",\"Late (31-120 days)\",\"Charged Off\",\"Late (16-30 days)\"],\"hoverinfo\":\"label+percent+name\",\"yaxis\":\"y\"}], {\"showlegend\":true,\"xaxis\":{\"showgrid\":false,\"tickangle\":0,\"gridcolor\":\"rgba(0, 0, 0, 0.100)\",\"showticklabels\":false,\"gridwidth\":0.5,\"zeroline\":false,\"ticks\":\"inside\",\"title\":\"\",\"domain\":[0.17322834645669297,0.8267716535433071],\"anchor\":\"y\"},\"paper_bgcolor\":\"rgba(255, 255, 255, 1.000)\",\"annotations\":[],\"height\":400,\"margin\":{\"l\":0,\"b\":20,\"r\":0,\"t\":20},\"plot_bgcolor\":\"rgba(255, 255, 255, 1.000)\",\"yaxis\":{\"showgrid\":false,\"tickangle\":0,\"gridcolor\":\"rgba(0, 0, 0, 0.100)\",\"showticklabels\":false,\"gridwidth\":0.5,\"zeroline\":false,\"ticks\":\"inside\",\"title\":\"\",\"domain\":[0.00984251968503937,0.9901574803149606],\"anchor\":\"x\"},\"legend\":{\"bordercolor\":\"rgba(0, 0, 0, 1.000)\",\"bgcolor\":\"rgba(255, 255, 255, 1.000)\",\"font\":{\"color\":\"rgba(0, 0, 0, 1.000)\",\"family\":\"sans-serif\",\"size\":11},\"y\":1.0,\"x\":1.0},\"width\":600});\n",
       "    </script>\n"
      ]
     },
     "execution_count": 39,
     "metadata": {},
     "output_type": "execute_result"
    }
   ],
   "source": [
    "# Loan status (what we're trying to predict)\n",
    "\n",
    "loan_status = accepted_2015[:loan_status]\n",
    "d = Dict()\n",
    "for i = 1 : length(loan_status)\n",
    "    if haskey(d, loan_status[i])\n",
    "        d[loan_status[i]] += 1\n",
    "    else\n",
    "        d[loan_status[i]] = 1 \n",
    "    end\n",
    "end\n",
    "pie_values = Int64[]\n",
    "pie_labels = String[]\n",
    "for key = keys(d)\n",
    "    #println(\"$key: $(dict[key])\")\n",
    "    push!(pie_labels, key)\n",
    "    push!(pie_values, d[key])\n",
    "end\n",
    "println(pie_values)\n",
    "println(pie_labels)\n",
    "# println(int_term_of_loan[1:100])\n",
    "# pie([\"36 months\", \"60 months\"],[num_36, num_60])\n",
    "pie(pie_labels, pie_values)"
   ]
  },
  {
   "cell_type": "code",
   "execution_count": 22,
   "metadata": {
    "collapsed": false
   },
   "outputs": [
    {
     "name": "stderr",
     "output_type": "stream",
     "text": [
      "\u001b[1m\u001b[36mINFO: \u001b[39m\u001b[22m\u001b[36mCloning cache of LearnBase from https://github.com/JuliaML/LearnBase.jl.git\n",
      "\u001b[39m\u001b[1m\u001b[36mINFO: \u001b[39m\u001b[22m\u001b[36mCloning cache of MLLabelUtils from https://github.com/JuliaML/MLLabelUtils.jl.git\n",
      "\u001b[39m\u001b[1m\u001b[36mINFO: \u001b[39m\u001b[22m\u001b[36mCloning cache of MappedArrays from https://github.com/JuliaArrays/MappedArrays.jl.git\n",
      "\u001b[39m\u001b[1m\u001b[36mINFO: \u001b[39m\u001b[22m\u001b[36mInstalling LearnBase v0.1.6\n",
      "\u001b[39m\u001b[1m\u001b[36mINFO: \u001b[39m\u001b[22m\u001b[36mInstalling MLLabelUtils v0.1.4\n",
      "\u001b[39m\u001b[1m\u001b[36mINFO: \u001b[39m\u001b[22m\u001b[36mInstalling MappedArrays v0.0.7\n",
      "\u001b[39m\u001b[1m\u001b[36mINFO: \u001b[39m\u001b[22m\u001b[36mPackage database updated\n",
      "\u001b[39m\u001b[1m\u001b[36mINFO: \u001b[39m\u001b[22m\u001b[36mMETADATA is out-of-date — you may not have the latest version of MLLabelUtils\n",
      "\u001b[39m\u001b[1m\u001b[36mINFO: \u001b[39m\u001b[22m\u001b[36mUse `Pkg.update()` to get the latest versions of your packages\n",
      "\u001b[39m\u001b[1m\u001b[36mINFO: \u001b[39m\u001b[22m\u001b[36mPrecompiling module MLLabelUtils.\n",
      "\u001b[39m"
     ]
    }
   ],
   "source": [
    "# now try perceptron algorithm\n",
    "# Pkg.add(\"MLLabelUtils\")\n",
    "# using MLLabelUtils\n"
   ]
  },
  {
   "cell_type": "code",
   "execution_count": 43,
   "metadata": {
    "collapsed": false
   },
   "outputs": [
    {
     "data": {
      "text/plain": [
       "137-element Array{Symbol,1}:\n",
       " :id                                        \n",
       " :member_id                                 \n",
       " :loan_amnt                                 \n",
       " :funded_amnt                               \n",
       " :funded_amnt_inv                           \n",
       " :term                                      \n",
       " :int_rate                                  \n",
       " :installment                               \n",
       " :grade                                     \n",
       " :sub_grade                                 \n",
       " :emp_title                                 \n",
       " :emp_length                                \n",
       " :home_ownership                            \n",
       " ⋮                                          \n",
       " :hardship_status                           \n",
       " :deferral_term                             \n",
       " :hardship_amount                           \n",
       " :hardship_start_date                       \n",
       " :hardship_end_date                         \n",
       " :payment_plan_start_date                   \n",
       " :hardship_length                           \n",
       " :hardship_dpd                              \n",
       " :hardship_loan_status                      \n",
       " :orig_projected_additional_accrued_interest\n",
       " :hardship_payoff_balance_amount            \n",
       " :hardship_last_payment_amount              "
      ]
     },
     "execution_count": 43,
     "metadata": {},
     "output_type": "execute_result"
    }
   ],
   "source": [
    "#Scikit-learn api has imputer type\n",
    "# median imputation is also a good option\n",
    "\n",
    "# For now, I'll just remove rows with an NA in any of the features I'm using\n",
    "names(accepted_2015)"
   ]
  },
  {
   "cell_type": "code",
   "execution_count": 64,
   "metadata": {
    "collapsed": false
   },
   "outputs": [],
   "source": [
    "data_a = accepted_2015[:loan_amnt]\n",
    "data_b = accepted_2015[:annual_inc]\n",
    "data_c = accepted_2015[:dti]\n",
    "old_data_d = accepted_2015[:earliest_cr_line] # need to do string processing on this, Oct-94 --> 94, Sept-01 ->101  \n",
    "old_data_e = accepted_2015[:term] # need to do string processing on this 36 months --> 36, 60 months --> 60\n",
    "old_data_f = accepted_2015[:int_rate] # need to convert from 16.78% --> 0.1678 or 16.78\n",
    "data_g = accepted_2015[:loan_status]\n",
    "\n",
    "data_e = Int64[]\n",
    "for i = 1 : length(old_data_e)\n",
    "    push!(data_e, parse(Int64, split(old_data_e[i])[1])) \n",
    "end\n",
    "data_d = Int64[]\n",
    "for i = 1 : length(old_data_d)\n",
    "    year = parse(Int64, split(old_data_d[i],\"-\")[2])\n",
    "    if year <= 17 # 20XX\n",
    "        year = 2000 + year\n",
    "    else\n",
    "        year = 1900 + year\n",
    "    end\n",
    "    push!(data_d, year) \n",
    "end\n",
    "\n",
    "data_f = Float64[]\n",
    "for i = 1 : length(old_data_f)\n",
    "    push!(data_f, parse(Float64, split(old_data_f[i], \"%\")[1]))\n",
    "end\n"
   ]
  },
  {
   "cell_type": "code",
   "execution_count": 65,
   "metadata": {
    "collapsed": false
   },
   "outputs": [
    {
     "name": "stdout",
     "output_type": "stream",
     "text": [
      "SubString{String}[\"17.9\", \"\"]\n"
     ]
    }
   ],
   "source": [
    "qwerty = \"17.9%\"\n",
    "println(split(qwerty,\"%\"))"
   ]
  },
  {
   "cell_type": "code",
   "execution_count": 118,
   "metadata": {
    "collapsed": false
   },
   "outputs": [],
   "source": [
    "new_data_a = []\n",
    "new_data_b = []\n",
    "new_data_c = []\n",
    "new_data_d = []\n",
    "new_data_e = []\n",
    "new_data_f = []\n",
    "new_data_g = []\n",
    "\n",
    "for i = 1 : length(data_a)\n",
    "    if !isna(data_a[i]) && !isna(data_b[i]) && !isna(data_c[i])  && !isna(data_d[i]) && !isna(data_e[i]) && !isna(data_f[i]) && !isna(data_g[i])\n",
    "        push!(new_data_a, data_a[i])\n",
    "        push!(new_data_b, data_b[i])\n",
    "        push!(new_data_c, data_c[i])\n",
    "        push!(new_data_d, data_d[i])\n",
    "        push!(new_data_e, data_e[i])\n",
    "        push!(new_data_f, data_f[i])\n",
    "        push!(new_data_g, data_g[i])\n",
    "    end\n",
    "end"
   ]
  },
  {
   "cell_type": "code",
   "execution_count": 119,
   "metadata": {
    "collapsed": false
   },
   "outputs": [
    {
     "data": {
      "text/plain": [
       "39999"
      ]
     },
     "execution_count": 119,
     "metadata": {},
     "output_type": "execute_result"
    }
   ],
   "source": [
    "length(new_data_a)"
   ]
  },
  {
   "cell_type": "code",
   "execution_count": 120,
   "metadata": {
    "collapsed": false
   },
   "outputs": [
    {
     "data": {
      "text/plain": [
       "9999-element Array{Any,1}:\n",
       " \"Charged Off\"      \n",
       " \"Current\"          \n",
       " \"Fully Paid\"       \n",
       " \"Current\"          \n",
       " \"Fully Paid\"       \n",
       " \"Current\"          \n",
       " \"Current\"          \n",
       " \"Fully Paid\"       \n",
       " \"Current\"          \n",
       " \"Current\"          \n",
       " \"Fully Paid\"       \n",
       " \"Current\"          \n",
       " \"Current\"          \n",
       " ⋮                  \n",
       " \"Late (16-30 days)\"\n",
       " \"Fully Paid\"       \n",
       " \"Current\"          \n",
       " \"Fully Paid\"       \n",
       " \"Fully Paid\"       \n",
       " \"Fully Paid\"       \n",
       " \"Current\"          \n",
       " \"Current\"          \n",
       " \"Current\"          \n",
       " \"Current\"          \n",
       " \"Fully Paid\"       \n",
       " \"Current\"          "
      ]
     },
     "execution_count": 120,
     "metadata": {},
     "output_type": "execute_result"
    }
   ],
   "source": [
    "# Train/test split\n",
    "train_a = new_data_a[1:30000]\n",
    "test_a = new_data_a[30001:39999]\n",
    "\n",
    "train_b = new_data_b[1:30000]\n",
    "test_b = new_data_b[30001:39999]\n",
    "\n",
    "train_c = new_data_c[1:30000]\n",
    "test_c = new_data_c[30001:39999]\n",
    "\n",
    "train_d = new_data_d[1:30000]\n",
    "test_d = new_data_d[30001:39999]\n",
    "\n",
    "train_e = new_data_e[1:30000]\n",
    "test_e = new_data_e[30001:39999]\n",
    "\n",
    "train_f = new_data_f[1:30000]\n",
    "test_f = new_data_f[30001:39999]\n",
    "\n",
    "train_g = new_data_g[1:30000]\n",
    "test_g = new_data_g[30001:39999]\n"
   ]
  },
  {
   "cell_type": "code",
   "execution_count": 121,
   "metadata": {
    "collapsed": false
   },
   "outputs": [
    {
     "data": {
      "text/plain": [
       "30000×6 Array{Any,2}:\n",
       " #undef  #undef  #undef  #undef  #undef  #undef\n",
       " #undef  #undef  #undef  #undef  #undef  #undef\n",
       " #undef  #undef  #undef  #undef  #undef  #undef\n",
       " #undef  #undef  #undef  #undef  #undef  #undef\n",
       " #undef  #undef  #undef  #undef  #undef  #undef\n",
       " #undef  #undef  #undef  #undef  #undef  #undef\n",
       " #undef  #undef  #undef  #undef  #undef  #undef\n",
       " #undef  #undef  #undef  #undef  #undef  #undef\n",
       " #undef  #undef  #undef  #undef  #undef  #undef\n",
       " #undef  #undef  #undef  #undef  #undef  #undef\n",
       " #undef  #undef  #undef  #undef  #undef  #undef\n",
       " #undef  #undef  #undef  #undef  #undef  #undef\n",
       " #undef  #undef  #undef  #undef  #undef  #undef\n",
       "   ⋮                                       ⋮   \n",
       " #undef  #undef  #undef  #undef  #undef  #undef\n",
       " #undef  #undef  #undef  #undef  #undef  #undef\n",
       " #undef  #undef  #undef  #undef  #undef  #undef\n",
       " #undef  #undef  #undef  #undef  #undef  #undef\n",
       " #undef  #undef  #undef  #undef  #undef  #undef\n",
       " #undef  #undef  #undef  #undef  #undef  #undef\n",
       " #undef  #undef  #undef  #undef  #undef  #undef\n",
       " #undef  #undef  #undef  #undef  #undef  #undef\n",
       " #undef  #undef  #undef  #undef  #undef  #undef\n",
       " #undef  #undef  #undef  #undef  #undef  #undef\n",
       " #undef  #undef  #undef  #undef  #undef  #undef\n",
       " #undef  #undef  #undef  #undef  #undef  #undef"
      ]
     },
     "execution_count": 121,
     "metadata": {},
     "output_type": "execute_result"
    }
   ],
   "source": [
    "features = Matrix(30000, 6)"
   ]
  },
  {
   "cell_type": "code",
   "execution_count": 122,
   "metadata": {
    "collapsed": false
   },
   "outputs": [
    {
     "data": {
      "text/plain": [
       "30000-element Array{Any,1}:\n",
       " \"Current\"          \n",
       " \"Current\"          \n",
       " \"Current\"          \n",
       " \"Current\"          \n",
       " \"Fully Paid\"       \n",
       " \"Charged Off\"      \n",
       " \"Current\"          \n",
       " \"Fully Paid\"       \n",
       " \"Current\"          \n",
       " \"Fully Paid\"       \n",
       " \"Fully Paid\"       \n",
       " \"Fully Paid\"       \n",
       " \"Fully Paid\"       \n",
       " ⋮                  \n",
       " \"Fully Paid\"       \n",
       " \"Fully Paid\"       \n",
       " \"Fully Paid\"       \n",
       " \"Current\"          \n",
       " \"Current\"          \n",
       " \"Late (16-30 days)\"\n",
       " \"Fully Paid\"       \n",
       " \"Charged Off\"      \n",
       " \"Current\"          \n",
       " \"Fully Paid\"       \n",
       " \"Fully Paid\"       \n",
       " \"Current\"          "
      ]
     },
     "execution_count": 122,
     "metadata": {},
     "output_type": "execute_result"
    }
   ],
   "source": [
    "features[:,1] = train_a\n",
    "features[:,2] = train_b \n",
    "features[:,3] = train_c\n",
    "features[:,4] = train_d\n",
    "features[:,5] = train_e\n",
    "features[:,6] = train_f\n",
    "\n",
    "labels = Vector(30000)\n",
    "labels = train_g"
   ]
  },
  {
   "cell_type": "code",
   "execution_count": 123,
   "metadata": {
    "collapsed": true
   },
   "outputs": [],
   "source": [
    "# Julia packages to try:\n",
    "# DecisionTrees\n",
    "# GLM (has logistic regression)\n",
    "# SVM\n",
    "# scikit learn\n"
   ]
  },
  {
   "cell_type": "code",
   "execution_count": 124,
   "metadata": {
    "collapsed": false
   },
   "outputs": [
    {
     "name": "stderr",
     "output_type": "stream",
     "text": [
      "\u001b[1m\u001b[36mINFO: \u001b[39m\u001b[22m\u001b[36mPackage DecisionTree is already installed\n",
      "\u001b[39m\u001b[1m\u001b[36mINFO: \u001b[39m\u001b[22m\u001b[36mMETADATA is out-of-date — you may not have the latest version of DecisionTree\n",
      "\u001b[39m\u001b[1m\u001b[36mINFO: \u001b[39m\u001b[22m\u001b[36mUse `Pkg.update()` to get the latest versions of your packages\n",
      "\u001b[39m\u001b[1m\u001b[36mINFO: \u001b[39m\u001b[22m\u001b[36mPackage RDatasets is already installed\n",
      "\u001b[39m\u001b[1m\u001b[36mINFO: \u001b[39m\u001b[22m\u001b[36mMETADATA is out-of-date — you may not have the latest version of RDatasets\n",
      "\u001b[39m\u001b[1m\u001b[36mINFO: \u001b[39m\u001b[22m\u001b[36mUse `Pkg.update()` to get the latest versions of your packages\n",
      "\u001b[39m"
     ]
    },
    {
     "ename": "LoadError",
     "evalue": "\u001b[91mArgumentError: Module MLBase not found in current path.\nRun `Pkg.add(\"MLBase\")` to install the MLBase package.\u001b[39m",
     "output_type": "error",
     "traceback": [
      "\u001b[91mArgumentError: Module MLBase not found in current path.\nRun `Pkg.add(\"MLBase\")` to install the MLBase package.\u001b[39m",
      "",
      "Stacktrace:",
      " [1] \u001b[1m_require\u001b[22m\u001b[22m\u001b[1m(\u001b[22m\u001b[22m::Symbol\u001b[1m)\u001b[22m\u001b[22m at \u001b[1m.\\loading.jl:428\u001b[22m\u001b[22m",
      " [2] \u001b[1mrequire\u001b[22m\u001b[22m\u001b[1m(\u001b[22m\u001b[22m::Symbol\u001b[1m)\u001b[22m\u001b[22m at \u001b[1m.\\loading.jl:398\u001b[22m\u001b[22m",
      " [3] \u001b[1minclude_string\u001b[22m\u001b[22m\u001b[1m(\u001b[22m\u001b[22m::String, ::String\u001b[1m)\u001b[22m\u001b[22m at \u001b[1m.\\loading.jl:515\u001b[22m\u001b[22m"
     ]
    }
   ],
   "source": [
    "Pkg.add(\"DecisionTree\")\n",
    "Pkg.add(\"RDatasets\")\n",
    "using RDatasets: dataset\n",
    "using DecisionTree\n",
    "\n",
    "using MLBase, DecisionTree\n",
    "using RDatasets, Distributions"
   ]
  },
  {
   "cell_type": "code",
   "execution_count": 125,
   "metadata": {
    "collapsed": true
   },
   "outputs": [],
   "source": [
    "# Now try one of these"
   ]
  },
  {
   "cell_type": "code",
   "execution_count": 126,
   "metadata": {
    "collapsed": true
   },
   "outputs": [],
   "source": [
    "# https://github.com/bensadeghi/DecisionTree.jl"
   ]
  },
  {
   "cell_type": "code",
   "execution_count": 127,
   "metadata": {
    "collapsed": false
   },
   "outputs": [
    {
     "ename": "LoadError",
     "evalue": "\u001b[91mMethodError: no method matching DecisionTree.Node(::Int64, ::Int64, ::DecisionTree.Leaf{Any}, ::DecisionTree.Node{Any,Float64})\u001b[0m\nClosest candidates are:\n  DecisionTree.Node(::Int64, ::T, ::Union{DecisionTree.Leaf{S}, DecisionTree.Node{S,T}}, \u001b[91m::Union{DecisionTree.Leaf{S}, DecisionTree.Node{S,T}}\u001b[39m) where {S, T} at C:\\Users\\ks70\\.julia\\v0.6\\DecisionTree\\src\\DecisionTree.jl:47\u001b[39m",
     "output_type": "error",
     "traceback": [
      "\u001b[91mMethodError: no method matching DecisionTree.Node(::Int64, ::Int64, ::DecisionTree.Leaf{Any}, ::DecisionTree.Node{Any,Float64})\u001b[0m\nClosest candidates are:\n  DecisionTree.Node(::Int64, ::T, ::Union{DecisionTree.Leaf{S}, DecisionTree.Node{S,T}}, \u001b[91m::Union{DecisionTree.Leaf{S}, DecisionTree.Node{S,T}}\u001b[39m) where {S, T} at C:\\Users\\ks70\\.julia\\v0.6\\DecisionTree\\src\\DecisionTree.jl:47\u001b[39m",
      "",
      "Stacktrace:",
      " [1] \u001b[1m#build_tree#12\u001b[22m\u001b[22m\u001b[1m(\u001b[22m\u001b[22m::MersenneTwister, ::Function, ::Array{Any,1}, ::Array{Any,2}, ::Int64, ::Int64\u001b[1m)\u001b[22m\u001b[22m at \u001b[1mC:\\Users\\ks70\\.julia\\v0.6\\DecisionTree\\src\\classification.jl:142\u001b[22m\u001b[22m",
      " [2] \u001b[1m(::DecisionTree.#kw##build_tree)\u001b[22m\u001b[22m\u001b[1m(\u001b[22m\u001b[22m::Array{Any,1}, ::DecisionTree.#build_tree, ::Array{Any,1}, ::Array{Any,2}, ::Int64, ::Int64\u001b[1m)\u001b[22m\u001b[22m at \u001b[1m.\\<missing>:0\u001b[22m\u001b[22m",
      " [3] \u001b[1m#build_tree#12\u001b[22m\u001b[22m\u001b[1m(\u001b[22m\u001b[22m::MersenneTwister, ::Function, ::Array{Any,1}, ::Array{Any,2}, ::Int64, ::Int64\u001b[1m)\u001b[22m\u001b[22m at \u001b[1mC:\\Users\\ks70\\.julia\\v0.6\\DecisionTree\\src\\classification.jl:147\u001b[22m\u001b[22m",
      " [4] \u001b[1m(::DecisionTree.#kw##build_tree)\u001b[22m\u001b[22m\u001b[1m(\u001b[22m\u001b[22m::Array{Any,1}, ::DecisionTree.#build_tree, ::Array{Any,1}, ::Array{Any,2}, ::Int64, ::Int64\u001b[1m)\u001b[22m\u001b[22m at \u001b[1m.\\<missing>:0\u001b[22m\u001b[22m",
      " [5] \u001b[1m#build_tree#12\u001b[22m\u001b[22m\u001b[1m(\u001b[22m\u001b[22m::MersenneTwister, ::Function, ::Array{Any,1}, ::Array{Any,2}, ::Int64, ::Int64\u001b[1m)\u001b[22m\u001b[22m at \u001b[1mC:\\Users\\ks70\\.julia\\v0.6\\DecisionTree\\src\\classification.jl:152\u001b[22m\u001b[22m",
      " [6] \u001b[1m(::DecisionTree.#kw##build_tree)\u001b[22m\u001b[22m\u001b[1m(\u001b[22m\u001b[22m::Array{Any,1}, ::DecisionTree.#build_tree, ::Array{Any,1}, ::Array{Any,2}, ::Int64, ::Int64\u001b[1m)\u001b[22m\u001b[22m at \u001b[1m.\\<missing>:0\u001b[22m\u001b[22m",
      " [7] \u001b[1m#build_tree#12\u001b[22m\u001b[22m\u001b[1m(\u001b[22m\u001b[22m::MersenneTwister, ::Function, ::Array{Any,1}, ::Array{Any,2}, ::Int64, ::Int64\u001b[1m)\u001b[22m\u001b[22m at \u001b[1mC:\\Users\\ks70\\.julia\\v0.6\\DecisionTree\\src\\classification.jl:152\u001b[22m\u001b[22m",
      " [8] \u001b[1m(::DecisionTree.#kw##build_tree)\u001b[22m\u001b[22m\u001b[1m(\u001b[22m\u001b[22m::Array{Any,1}, ::DecisionTree.#build_tree, ::Array{Any,1}, ::Array{Any,2}, ::Int64, ::Int64\u001b[1m)\u001b[22m\u001b[22m at \u001b[1m.\\<missing>:0\u001b[22m\u001b[22m",
      " [9] \u001b[1m#build_tree#12\u001b[22m\u001b[22m\u001b[1m(\u001b[22m\u001b[22m::MersenneTwister, ::Function, ::Array{Any,1}, ::Array{Any,2}, ::Int64, ::Int64\u001b[1m)\u001b[22m\u001b[22m at \u001b[1mC:\\Users\\ks70\\.julia\\v0.6\\DecisionTree\\src\\classification.jl:152\u001b[22m\u001b[22m",
      " [10] \u001b[1m(::DecisionTree.#kw##build_tree)\u001b[22m\u001b[22m\u001b[1m(\u001b[22m\u001b[22m::Array{Any,1}, ::DecisionTree.#build_tree, ::Array{Any,1}, ::Array{Any,2}, ::Int64, ::Int64\u001b[1m)\u001b[22m\u001b[22m at \u001b[1m.\\<missing>:0\u001b[22m\u001b[22m",
      " [11] \u001b[1m#build_tree#12\u001b[22m\u001b[22m\u001b[1m(\u001b[22m\u001b[22m::MersenneTwister, ::Function, ::Array{Any,1}, ::Array{Any,2}, ::Int64, ::Int64\u001b[1m)\u001b[22m\u001b[22m at \u001b[1mC:\\Users\\ks70\\.julia\\v0.6\\DecisionTree\\src\\classification.jl:152\u001b[22m\u001b[22m",
      " [12] \u001b[1m(::DecisionTree.#kw##build_tree)\u001b[22m\u001b[22m\u001b[1m(\u001b[22m\u001b[22m::Array{Any,1}, ::DecisionTree.#build_tree, ::Array{Any,1}, ::Array{Any,2}, ::Int64, ::Int64\u001b[1m)\u001b[22m\u001b[22m at \u001b[1m.\\<missing>:0\u001b[22m\u001b[22m",
      " [13] \u001b[1m#build_tree#12\u001b[22m\u001b[22m\u001b[1m(\u001b[22m\u001b[22m::MersenneTwister, ::Function, ::Array{Any,1}, ::Array{Any,2}, ::Int64, ::Int64\u001b[1m)\u001b[22m\u001b[22m at \u001b[1mC:\\Users\\ks70\\.julia\\v0.6\\DecisionTree\\src\\classification.jl:152\u001b[22m\u001b[22m",
      " [14] \u001b[1m(::DecisionTree.#kw##build_tree)\u001b[22m\u001b[22m\u001b[1m(\u001b[22m\u001b[22m::Array{Any,1}, ::DecisionTree.#build_tree, ::Array{Any,1}, ::Array{Any,2}, ::Int64, ::Int64\u001b[1m)\u001b[22m\u001b[22m at \u001b[1m.\\<missing>:0\u001b[22m\u001b[22m",
      " [15] \u001b[1m#build_tree#12\u001b[22m\u001b[22m\u001b[1m(\u001b[22m\u001b[22m::MersenneTwister, ::Function, ::Array{Any,1}, ::Array{Any,2}, ::Int64, ::Int64\u001b[1m)\u001b[22m\u001b[22m at \u001b[1mC:\\Users\\ks70\\.julia\\v0.6\\DecisionTree\\src\\classification.jl:152\u001b[22m\u001b[22m",
      " [16] \u001b[1m(::DecisionTree.#kw##build_tree)\u001b[22m\u001b[22m\u001b[1m(\u001b[22m\u001b[22m::Array{Any,1}, ::DecisionTree.#build_tree, ::Array{Any,1}, ::Array{Any,2}, ::Int64, ::Int64\u001b[1m)\u001b[22m\u001b[22m at \u001b[1m.\\<missing>:0\u001b[22m\u001b[22m",
      " [17] \u001b[1m#build_tree#12\u001b[22m\u001b[22m\u001b[1m(\u001b[22m\u001b[22m::MersenneTwister, ::Function, ::Array{Any,1}, ::Array{Any,2}, ::Int64, ::Int64\u001b[1m)\u001b[22m\u001b[22m at \u001b[1mC:\\Users\\ks70\\.julia\\v0.6\\DecisionTree\\src\\classification.jl:152\u001b[22m\u001b[22m",
      " [18] \u001b[1m(::DecisionTree.#kw##build_tree)\u001b[22m\u001b[22m\u001b[1m(\u001b[22m\u001b[22m::Array{Any,1}, ::DecisionTree.#build_tree, ::Array{Any,1}, ::Array{Any,2}, ::Int64, ::Int64\u001b[1m)\u001b[22m\u001b[22m at \u001b[1m.\\<missing>:0\u001b[22m\u001b[22m",
      " [19] \u001b[1m#build_tree#12\u001b[22m\u001b[22m\u001b[1m(\u001b[22m\u001b[22m::MersenneTwister, ::Function, ::Array{Any,1}, ::Array{Any,2}, ::Int64, ::Int64\u001b[1m)\u001b[22m\u001b[22m at \u001b[1mC:\\Users\\ks70\\.julia\\v0.6\\DecisionTree\\src\\classification.jl:152\u001b[22m\u001b[22m",
      " [20] \u001b[1mbuild_tree\u001b[22m\u001b[22m\u001b[1m(\u001b[22m\u001b[22m::Array{Any,1}, ::Array{Any,2}\u001b[1m)\u001b[22m\u001b[22m at \u001b[1mC:\\Users\\ks70\\.julia\\v0.6\\DecisionTree\\src\\classification.jl:121\u001b[22m\u001b[22m",
      " [21] \u001b[1minclude_string\u001b[22m\u001b[22m\u001b[1m(\u001b[22m\u001b[22m::String, ::String\u001b[1m)\u001b[22m\u001b[22m at \u001b[1m.\\loading.jl:515\u001b[22m\u001b[22m"
     ]
    }
   ],
   "source": [
    "# code won't run..\n",
    "\n",
    "# CODE ADAPTED FROM: https://github.com/bensadeghi/DecisionTree.jl\n",
    "# train full-tree classifier\n",
    "model = build_tree(labels, features)\n",
    "# prune tree: merge leaves having >= 90% combined purity (default: 100%)\n",
    "model = prune_tree(model, 0.9)\n",
    "# pretty print of the tree, to a depth of 5 nodes (optional)\n",
    "print_tree(model, 5)\n",
    "# apply learned model\n",
    "println(\"****\")\n",
    "println(apply_tree(model, [test_a[1], test_b[1], test_c[1], test_d[1], test_e[1], test_f[1]]))\n",
    "println(\"****\")\n",
    "# get the probability of each label\n",
    "println(apply_tree_proba(model, [test_a[1], test_b[1], test_c[1], test_d[1], test_e[1], test_f[1]], [\"Fully Paid\", \"Default\", \"Current\", \"In Grace Period\", \"Late (31-120 days)\", \"Charged Off\", \"Late (16-30 days)\"]))\n",
    "println(\"****\")\n",
    "# run n-fold cross validation for pruned tree,\n",
    "# using 90% purity threshold pruning, and 3 CV folds\n",
    "accuracy = nfoldCV_tree(labels, features, 0.9, 3)"
   ]
  },
  {
   "cell_type": "code",
   "execution_count": 128,
   "metadata": {
    "collapsed": false
   },
   "outputs": [
    {
     "ename": "LoadError",
     "evalue": "\u001b[91m\u001b[91mMethodError: no method matching DecisionTree.Node(::Int64, ::Float64, ::DecisionTree.Node{Any,Int64}, ::DecisionTree.Node{Any,Float64})\u001b[0m\nClosest candidates are:\n  DecisionTree.Node(::Int64, ::T, \u001b[91m::Union{DecisionTree.Leaf{S}, DecisionTree.Node{S,T}}\u001b[39m, ::Union{DecisionTree.Leaf{S}, DecisionTree.Node{S,T}}) where {S, T} at C:\\Users\\ks70\\.julia\\v0.6\\DecisionTree\\src\\DecisionTree.jl:47\u001b[39m\n#build_tree#12(::MersenneTwister, ::Function, ::Array{Any,1}, ::Array{Any,2}, ::Int64, ::Int64) at C:\\Users\\ks70\\.julia\\v0.6\\DecisionTree\\src\\classification.jl:152\n(::DecisionTree.#kw##build_tree)(::Array{Any,1}, ::DecisionTree.#build_tree, ::Array{Any,1}, ::Array{Any,2}, ::Int64, ::Int64) at .\\<missing>:0\n#build_tree#12(::MersenneTwister, ::Function, ::Array{Any,1}, ::Array{Any,2}, ::Int64, ::Int64) at C:\\Users\\ks70\\.julia\\v0.6\\DecisionTree\\src\\classification.jl:152\n(::DecisionTree.#kw##build_tree)(::Array{Any,1}, ::DecisionTree.#build_tree, ::Array{Any,1}, ::Array{Any,2}, ::Int64, ::Int64) at .\\<missing>:0\n#build_tree#12(::MersenneTwister, ::Function, ::Array{Any,1}, ::Array{Any,2}, ::Int64, ::Int64) at C:\\Users\\ks70\\.julia\\v0.6\\DecisionTree\\src\\classification.jl:152\n(::DecisionTree.#kw##build_tree)(::Array{Any,1}, ::DecisionTree.#build_tree, ::Array{Any,1}, ::Array{Any,2}, ::Int64, ::Int64) at .\\<missing>:0\n#build_tree#12(::MersenneTwister, ::Function, ::Array{Any,1}, ::Array{Any,2}, ::Int64, ::Int64) at C:\\Users\\ks70\\.julia\\v0.6\\DecisionTree\\src\\classification.jl:152\n(::DecisionTree.#kw##build_tree)(::Array{Any,1}, ::DecisionTree.#build_tree, ::Array{Any,1}, ::Array{Any,2}, ::Int64, ::Int64) at .\\<missing>:0\n#build_tree#12(::MersenneTwister, ::Function, ::Array{Any,1}, ::Array{Any,2}, ::Int64, ::Int64) at C:\\Users\\ks70\\.julia\\v0.6\\DecisionTree\\src\\classification.jl:152\n(::DecisionTree.#kw##build_tree)(::Array{Any,1}, ::DecisionTree.#build_tree, ::Array{Any,1}, ::Array{Any,2}, ::Int64, ::Int64) at .\\<missing>:0\n(::DecisionTree.##17#18{Array{Any,1},Array{Any,2},Int64,Int64,Int64,Int64})(::Base.#vcat, ::UnitRange{Int64}, ::Int64, ::Int64) at .\\distributed\\macros.jl:159\n(::Base.Distributed.##135#136{DecisionTree.##17#18{Array{Any,1},Array{Any,2},Int64,Int64,Int64,Int64},Tuple{Base.#vcat,UnitRange{Int64},Int64,Int64},Array{Any,1}})() at .\\distributed\\remotecall.jl:314\nrun_work_thunk(::Base.Distributed.##135#136{DecisionTree.##17#18{Array{Any,1},Array{Any,2},Int64,Int64,Int64,Int64},Tuple{Base.#vcat,UnitRange{Int64},Int64,Int64},Array{Any,1}}, ::Bool) at .\\distributed\\process_messages.jl:56\n#remotecall_fetch#140(::Array{Any,1}, ::Function, ::Function, ::Base.Distributed.LocalProcess, ::Function, ::Vararg{Any,N} where N) at .\\distributed\\remotecall.jl:339\nremotecall_fetch(::Function, ::Base.Distributed.LocalProcess, ::Function, ::Vararg{Any,N} where N) at .\\distributed\\remotecall.jl:339\n#remotecall_fetch#144(::Array{Any,1}, ::Function, ::Function, ::Int64, ::Function, ::Vararg{Any,N} where N) at .\\distributed\\remotecall.jl:367\nremotecall_fetch(::Function, ::Int64, ::Function, ::Vararg{Any,N} where N) at .\\distributed\\remotecall.jl:367\n(::Base.Distributed.##155#156{Base.#vcat,DecisionTree.##17#18{Array{Any,1},Array{Any,2},Int64,Int64,Int64,Int64},UnitRange{Int64},Array{UnitRange{Int64},1}})() at .\\distributed\\macros.jl:144\u001b[39m",
     "output_type": "error",
     "traceback": [
      "\u001b[91m\u001b[91mMethodError: no method matching DecisionTree.Node(::Int64, ::Float64, ::DecisionTree.Node{Any,Int64}, ::DecisionTree.Node{Any,Float64})\u001b[0m\nClosest candidates are:\n  DecisionTree.Node(::Int64, ::T, \u001b[91m::Union{DecisionTree.Leaf{S}, DecisionTree.Node{S,T}}\u001b[39m, ::Union{DecisionTree.Leaf{S}, DecisionTree.Node{S,T}}) where {S, T} at C:\\Users\\ks70\\.julia\\v0.6\\DecisionTree\\src\\DecisionTree.jl:47\u001b[39m\n#build_tree#12(::MersenneTwister, ::Function, ::Array{Any,1}, ::Array{Any,2}, ::Int64, ::Int64) at C:\\Users\\ks70\\.julia\\v0.6\\DecisionTree\\src\\classification.jl:152\n(::DecisionTree.#kw##build_tree)(::Array{Any,1}, ::DecisionTree.#build_tree, ::Array{Any,1}, ::Array{Any,2}, ::Int64, ::Int64) at .\\<missing>:0\n#build_tree#12(::MersenneTwister, ::Function, ::Array{Any,1}, ::Array{Any,2}, ::Int64, ::Int64) at C:\\Users\\ks70\\.julia\\v0.6\\DecisionTree\\src\\classification.jl:152\n(::DecisionTree.#kw##build_tree)(::Array{Any,1}, ::DecisionTree.#build_tree, ::Array{Any,1}, ::Array{Any,2}, ::Int64, ::Int64) at .\\<missing>:0\n#build_tree#12(::MersenneTwister, ::Function, ::Array{Any,1}, ::Array{Any,2}, ::Int64, ::Int64) at C:\\Users\\ks70\\.julia\\v0.6\\DecisionTree\\src\\classification.jl:152\n(::DecisionTree.#kw##build_tree)(::Array{Any,1}, ::DecisionTree.#build_tree, ::Array{Any,1}, ::Array{Any,2}, ::Int64, ::Int64) at .\\<missing>:0\n#build_tree#12(::MersenneTwister, ::Function, ::Array{Any,1}, ::Array{Any,2}, ::Int64, ::Int64) at C:\\Users\\ks70\\.julia\\v0.6\\DecisionTree\\src\\classification.jl:152\n(::DecisionTree.#kw##build_tree)(::Array{Any,1}, ::DecisionTree.#build_tree, ::Array{Any,1}, ::Array{Any,2}, ::Int64, ::Int64) at .\\<missing>:0\n#build_tree#12(::MersenneTwister, ::Function, ::Array{Any,1}, ::Array{Any,2}, ::Int64, ::Int64) at C:\\Users\\ks70\\.julia\\v0.6\\DecisionTree\\src\\classification.jl:152\n(::DecisionTree.#kw##build_tree)(::Array{Any,1}, ::DecisionTree.#build_tree, ::Array{Any,1}, ::Array{Any,2}, ::Int64, ::Int64) at .\\<missing>:0\n(::DecisionTree.##17#18{Array{Any,1},Array{Any,2},Int64,Int64,Int64,Int64})(::Base.#vcat, ::UnitRange{Int64}, ::Int64, ::Int64) at .\\distributed\\macros.jl:159\n(::Base.Distributed.##135#136{DecisionTree.##17#18{Array{Any,1},Array{Any,2},Int64,Int64,Int64,Int64},Tuple{Base.#vcat,UnitRange{Int64},Int64,Int64},Array{Any,1}})() at .\\distributed\\remotecall.jl:314\nrun_work_thunk(::Base.Distributed.##135#136{DecisionTree.##17#18{Array{Any,1},Array{Any,2},Int64,Int64,Int64,Int64},Tuple{Base.#vcat,UnitRange{Int64},Int64,Int64},Array{Any,1}}, ::Bool) at .\\distributed\\process_messages.jl:56\n#remotecall_fetch#140(::Array{Any,1}, ::Function, ::Function, ::Base.Distributed.LocalProcess, ::Function, ::Vararg{Any,N} where N) at .\\distributed\\remotecall.jl:339\nremotecall_fetch(::Function, ::Base.Distributed.LocalProcess, ::Function, ::Vararg{Any,N} where N) at .\\distributed\\remotecall.jl:339\n#remotecall_fetch#144(::Array{Any,1}, ::Function, ::Function, ::Int64, ::Function, ::Vararg{Any,N} where N) at .\\distributed\\remotecall.jl:367\nremotecall_fetch(::Function, ::Int64, ::Function, ::Vararg{Any,N} where N) at .\\distributed\\remotecall.jl:367\n(::Base.Distributed.##155#156{Base.#vcat,DecisionTree.##17#18{Array{Any,1},Array{Any,2},Int64,Int64,Int64,Int64},UnitRange{Int64},Array{UnitRange{Int64},1}})() at .\\distributed\\macros.jl:144\u001b[39m",
      "",
      "Stacktrace:",
      " [1] \u001b[1mtry_yieldto\u001b[22m\u001b[22m\u001b[1m(\u001b[22m\u001b[22m::Base.##296#297{Task}, ::Task\u001b[1m)\u001b[22m\u001b[22m at \u001b[1m.\\event.jl:189\u001b[22m\u001b[22m",
      " [2] \u001b[1mwait\u001b[22m\u001b[22m\u001b[1m(\u001b[22m\u001b[22m\u001b[1m)\u001b[22m\u001b[22m at \u001b[1m.\\event.jl:234\u001b[22m\u001b[22m",
      " [3] \u001b[1mwait\u001b[22m\u001b[22m\u001b[1m(\u001b[22m\u001b[22m::Condition\u001b[1m)\u001b[22m\u001b[22m at \u001b[1m.\\event.jl:27\u001b[22m\u001b[22m",
      " [4] \u001b[1mwait\u001b[22m\u001b[22m\u001b[1m(\u001b[22m\u001b[22m::Task\u001b[1m)\u001b[22m\u001b[22m at \u001b[1m.\\task.jl:181\u001b[22m\u001b[22m",
      " [5] \u001b[1mcollect\u001b[22m\u001b[22m\u001b[1m(\u001b[22m\u001b[22m::Base.Generator{Array{Task,1},Base.#wait}\u001b[1m)\u001b[22m\u001b[22m at \u001b[1m.\\array.jl:441\u001b[22m\u001b[22m",
      " [6] \u001b[1mpreduce\u001b[22m\u001b[22m\u001b[1m(\u001b[22m\u001b[22m::Function, ::Function, ::UnitRange{Int64}\u001b[1m)\u001b[22m\u001b[22m at \u001b[1m.\\distributed\\macros.jl:148\u001b[22m\u001b[22m",
      " [7] \u001b[1m#build_forest#16\u001b[22m\u001b[22m\u001b[1m(\u001b[22m\u001b[22m::MersenneTwister, ::Function, ::Array{Any,1}, ::Array{Any,2}, ::Int64, ::Int64, ::Float64, ::Int64\u001b[1m)\u001b[22m\u001b[22m at \u001b[1mC:\\Users\\ks70\\.julia\\v0.6\\DecisionTree\\src\\classification.jl:241\u001b[22m\u001b[22m",
      " [8] \u001b[1mbuild_forest\u001b[22m\u001b[22m\u001b[1m(\u001b[22m\u001b[22m::Array{Any,1}, ::Array{Any,2}, ::Int64, ::Int64, ::Float64, ::Int64\u001b[1m)\u001b[22m\u001b[22m at \u001b[1mC:\\Users\\ks70\\.julia\\v0.6\\DecisionTree\\src\\classification.jl:237\u001b[22m\u001b[22m",
      " [9] \u001b[1minclude_string\u001b[22m\u001b[22m\u001b[1m(\u001b[22m\u001b[22m::String, ::String\u001b[1m)\u001b[22m\u001b[22m at \u001b[1m.\\loading.jl:515\u001b[22m\u001b[22m"
     ]
    }
   ],
   "source": [
    "# train random forest classifier\n",
    "# using 2 random features, 10 trees, 0.5 portion of samples per tree (optional), and a maximum tree depth of 6 (optional)\n",
    "model = build_forest(labels, features, 2, 10, 0.5, 6)\n",
    "# apply learned model\n",
    "println(\"****\")\n",
    "println(apply_forest(model, [test_a[1], test_b[1], test_c[1], test_d[1], test_e[1], test_f[1]]))\n",
    "println(\"****\")\n",
    "# get the probability of each label\n",
    "println(apply_forest_proba(model, [test_a[1], test_b[1], test_c[1], test_d[1], test_e[1], test_f[1]], [\"Fully Paid\", \"Default\", \"Current\", \"In Grace Period\", \"Late (31-120 days)\", \"Charged Off\", \"Late (16-30 days)\"]))\n",
    "println(\"****\")\n",
    "# run n-fold cross validation for forests\n",
    "# using 2 random features, 10 trees, 3 folds and 0.5 of samples per tree (optional)\n",
    "accuracy = nfoldCV_forest(labels, features, 2, 10, 3, 0.5)"
   ]
  },
  {
   "cell_type": "code",
   "execution_count": 129,
   "metadata": {
    "collapsed": false
   },
   "outputs": [
    {
     "name": "stderr",
     "output_type": "stream",
     "text": [
      "\u001b[1m\u001b[36mINFO: \u001b[39m\u001b[22m\u001b[36mPackage LIBSVM is already installed\n",
      "\u001b[39m\u001b[1m\u001b[36mINFO: \u001b[39m\u001b[22m\u001b[36mMETADATA is out-of-date — you may not have the latest version of LIBSVM\n",
      "\u001b[39m\u001b[1m\u001b[36mINFO: \u001b[39m\u001b[22m\u001b[36mUse `Pkg.update()` to get the latest versions of your packages\n",
      "\u001b[39m"
     ]
    }
   ],
   "source": [
    "# Pkg.update()\n",
    "# Pkg.add(\"SVM\") # <-- didn't work\n",
    "# using SVM\n",
    "\n",
    "Pkg.add(\"LIBSVM\")\n",
    "using LIBSVM"
   ]
  },
  {
   "cell_type": "code",
   "execution_count": 130,
   "metadata": {
    "collapsed": false
   },
   "outputs": [
    {
     "ename": "LoadError",
     "evalue": "\u001b[91mMethodError: no method matching svmtrain(::Array{Any,2}, ::Array{Any,1})\u001b[0m\nClosest candidates are:\n  svmtrain(\u001b[91m::AbstractArray{U<:Real,2}\u001b[39m, ::AbstractArray{T,1}; svmtype, kernel, degree, gamma, coef0, cost, nu, epsilon, tolerance, shrinking, probability, weights, cachesize, verbose) where {T, U<:Real} at C:\\Users\\ks70\\.julia\\v0.6\\LIBSVM\\src\\LIBSVM.jl:322\u001b[39m",
     "output_type": "error",
     "traceback": [
      "\u001b[91mMethodError: no method matching svmtrain(::Array{Any,2}, ::Array{Any,1})\u001b[0m\nClosest candidates are:\n  svmtrain(\u001b[91m::AbstractArray{U<:Real,2}\u001b[39m, ::AbstractArray{T,1}; svmtype, kernel, degree, gamma, coef0, cost, nu, epsilon, tolerance, shrinking, probability, weights, cachesize, verbose) where {T, U<:Real} at C:\\Users\\ks70\\.julia\\v0.6\\LIBSVM\\src\\LIBSVM.jl:322\u001b[39m",
      "",
      "Stacktrace:",
      " [1] \u001b[1minclude_string\u001b[22m\u001b[22m\u001b[1m(\u001b[22m\u001b[22m::String, ::String\u001b[1m)\u001b[22m\u001b[22m at \u001b[1m.\\loading.jl:515\u001b[22m\u001b[22m"
     ]
    }
   ],
   "source": [
    "# model = svm(X[:,train], Y[train])\n",
    "# model = svm(features, labels)\n",
    "\n",
    "model = svmtrain(features[:, :], labels[:]);\n"
   ]
  },
  {
   "cell_type": "code",
   "execution_count": 131,
   "metadata": {
    "collapsed": false
   },
   "outputs": [
    {
     "ename": "LoadError",
     "evalue": "\u001b[91mMethodError: no method matching fit!(::LIBSVM.SVC, ::Array{Any,2}, ::Array{Any,1})\u001b[0m\nClosest candidates are:\n  fit!(\u001b[91m::StatsBase.StatisticalModel\u001b[39m, ::Any...) at C:\\Users\\ks70\\.julia\\v0.6\\StatsBase\\src\\statmodels.jl:97\u001b[39m",
     "output_type": "error",
     "traceback": [
      "\u001b[91mMethodError: no method matching fit!(::LIBSVM.SVC, ::Array{Any,2}, ::Array{Any,1})\u001b[0m\nClosest candidates are:\n  fit!(\u001b[91m::StatsBase.StatisticalModel\u001b[39m, ::Any...) at C:\\Users\\ks70\\.julia\\v0.6\\StatsBase\\src\\statmodels.jl:97\u001b[39m",
      "",
      "Stacktrace:",
      " [1] \u001b[1minclude_string\u001b[22m\u001b[22m\u001b[1m(\u001b[22m\u001b[22m::String, ::String\u001b[1m)\u001b[22m\u001b[22m at \u001b[1m.\\loading.jl:515\u001b[22m\u001b[22m"
     ]
    }
   ],
   "source": [
    "model = fit!(SVC(), features[:,:], labels[:])\n"
   ]
  },
  {
   "cell_type": "code",
   "execution_count": null,
   "metadata": {
    "collapsed": false
   },
   "outputs": [],
   "source": []
  },
  {
   "cell_type": "code",
   "execution_count": 133,
   "metadata": {
    "collapsed": false
   },
   "outputs": [
    {
     "name": "stdout",
     "output_type": "stream",
     "text": [
      "****\n",
      "Current\n",
      "****\n",
      "[0.1, 0.0, 0.8, 0.0, 0.0, 0.1, 0.0]\n",
      "****\n"
     ]
    },
    {
     "data": {
      "text/plain": [
       "7×7 Array{Int64,2}:\n",
       "  58   709  0   224  0  0  5\n",
       " 126  4608  0  1157  4  0  4\n",
       "   0     3  0     1  0  0  0\n",
       "  49  1974  0   628  2  0  2\n",
       "   7   133  0    41  0  0  0\n",
       "   2    25  0     5  0  0  0\n",
       "  11   163  0    58  1  0  0"
      ]
     },
     "metadata": {},
     "output_type": "display_data"
    },
    {
     "name": "stdout",
     "output_type": "stream",
     "text": [
      "\n",
      "Fold 1\n",
      "Classes:  String[\"Charged Off\", \"Current\", \"Default\", \"Fully Paid\", \"In Grace Period\", \"Late (16-30 days)\", \"Late (31-120 days)\"]\n",
      "Matrix:   \n",
      "Accuracy: 0.5294\n",
      "Kappa:    0.04370249133383312\n"
     ]
    },
    {
     "data": {
      "text/plain": [
       "7×7 Array{Int64,2}:\n",
       "  52   726  0   216  2  0  0\n",
       " 114  4577  0  1145  5  0  7\n",
       "   0     2  0     0  0  0  1\n",
       "  67  1999  0   618  3  0  1\n",
       "   7   119  0    52  0  0  0\n",
       "   0    24  0     6  0  0  0\n",
       "  10   188  0    58  0  0  1"
      ]
     },
     "metadata": {},
     "output_type": "display_data"
    },
    {
     "name": "stdout",
     "output_type": "stream",
     "text": [
      "\n",
      "Fold 2\n",
      "Classes:  String[\"Charged Off\", \"Current\", \"Default\", \"Fully Paid\", \"In Grace Period\", \"Late (16-30 days)\", \"Late (31-120 days)\"]\n",
      "Matrix:   \n",
      "Accuracy: 0.5248\n",
      "Kappa:    0.03933646290235626\n"
     ]
    },
    {
     "data": {
      "text/plain": [
       "7×7 Array{Int64,2}:\n",
       "  70   661  0   207  2  0  5\n",
       " 124  4642  0  1118  1  0  5\n",
       "   1     3  0     0  0  0  0\n",
       "  70  2036  0   649  0  0  4\n",
       "   7   131  0    28  1  0  1\n",
       "   3    28  0     4  0  0  0\n",
       "  12   145  0    42  0  0  0"
      ]
     },
     "metadata": {},
     "output_type": "display_data"
    },
    {
     "name": "stdout",
     "output_type": "stream",
     "text": [
      "\n",
      "Fold 3\n",
      "Classes:  String[\"Charged Off\", \"Current\", \"Default\", \"Fully Paid\", \"In Grace Period\", \"Late (16-30 days)\", \"Late (31-120 days)\"]\n",
      "Matrix:   \n",
      "Accuracy: 0.5362\n",
      "Kappa:    0.054236729889112864\n",
      "\n",
      "Mean Accuracy: 0.5301333333333333\n"
     ]
    },
    {
     "data": {
      "text/plain": [
       "3-element Array{Float64,1}:\n",
       " 0.5294\n",
       " 0.5248\n",
       " 0.5362"
      ]
     },
     "execution_count": 133,
     "metadata": {},
     "output_type": "execute_result"
    }
   ],
   "source": [
    "features = convert(Matrix{Float64}, features)\n",
    "\n",
    "\n",
    "\n",
    "# train random forest classifier\n",
    "# using 2 random features, 10 trees, 0.5 portion of samples per tree (optional), and a maximum tree depth of 6 (optional)\n",
    "model = build_forest(labels, features, 2, 10, 0.5, 6)\n",
    "# apply learned model\n",
    "println(\"****\")\n",
    "println(apply_forest(model, [test_a[1], test_b[1], test_c[1], test_d[1], test_e[1], test_f[1]]))\n",
    "println(\"****\")\n",
    "# get the probability of each label\n",
    "println(apply_forest_proba(model, [test_a[1], test_b[1], test_c[1], test_d[1], test_e[1], test_f[1]], [\"Fully Paid\", \"Default\", \"Current\", \"In Grace Period\", \"Late (31-120 days)\", \"Charged Off\", \"Late (16-30 days)\"]))\n",
    "println(\"****\")\n",
    "# run n-fold cross validation for forests\n",
    "# using 2 random features, 10 trees, 3 folds and 0.5 of samples per tree (optional)\n",
    "accuracy = nfoldCV_forest(labels, features, 2, 10, 3, 0.5)\n",
    "\n",
    "\n",
    "# # Train Set Error\n",
    "# matches = 0\n",
    "# not_matches = 0\n",
    "# for \n",
    "\n"
   ]
  },
  {
   "cell_type": "code",
   "execution_count": null,
   "metadata": {
    "collapsed": true
   },
   "outputs": [],
   "source": []
  },
  {
   "cell_type": "code",
   "execution_count": 134,
   "metadata": {
    "collapsed": false
   },
   "outputs": [
    {
     "data": {
      "text/plain": [
       "'\\'': ASCII/Unicode U+0027 (category Po: Punctuation, other)"
      ]
     },
     "execution_count": 134,
     "metadata": {},
     "output_type": "execute_result"
    }
   ],
   "source": [
    "\"Charged Off\" - write it off, have been delinquent, probably won't pay it off\n",
    "\"Late (16-30 days)\"\n",
    "\"Late (31-120 days)\n",
    "\"Default\"\n",
    "\"In Grace Period\"\n",
    "\n",
    "\"Current\"\n",
    "\"Fully Paid\"\n",
    "\n"
   ]
  },
  {
   "cell_type": "code",
   "execution_count": 137,
   "metadata": {
    "collapsed": false
   },
   "outputs": [
    {
     "data": {
      "text/html": [
       "<script src=\"C:\\Users\\ks70\\.julia\\v0.6\\Plots\\src\\backends\\..\\..\\deps\\plotly-latest.min.js\"></script>    <div id=\"31676c06-bd37-4850-90e1-6fc51d3b405b\" style=\"width:600px;height:400px;\"></div>\n",
       "    <script>\n",
       "    PLOT = document.getElementById('31676c06-bd37-4850-90e1-6fc51d3b405b');\n",
       "    Plotly.plot(PLOT, [{\"showlegend\":false,\"values\":[5665,34335],\"xaxis\":\"x\",\"colorbar\":{\"title\":\"\"},\"labels\":[\"Late or Cancelled\",\"On time or paid off\"],\"type\":\"pie\",\"name\":\"y1\",\"hoverinfo\":\"label+percent+name\",\"yaxis\":\"y\"}], {\"showlegend\":true,\"xaxis\":{\"showgrid\":false,\"tickangle\":0,\"gridcolor\":\"rgba(0, 0, 0, 0.100)\",\"showticklabels\":false,\"gridwidth\":0.5,\"zeroline\":false,\"ticks\":\"inside\",\"title\":\"\",\"domain\":[0.17322834645669297,0.8267716535433071],\"anchor\":\"y\"},\"paper_bgcolor\":\"rgba(255, 255, 255, 1.000)\",\"annotations\":[],\"height\":400,\"margin\":{\"l\":0,\"b\":20,\"r\":0,\"t\":20},\"plot_bgcolor\":\"rgba(255, 255, 255, 1.000)\",\"yaxis\":{\"showgrid\":false,\"tickangle\":0,\"gridcolor\":\"rgba(0, 0, 0, 0.100)\",\"showticklabels\":false,\"gridwidth\":0.5,\"zeroline\":false,\"ticks\":\"inside\",\"title\":\"\",\"domain\":[0.00984251968503937,0.9901574803149606],\"anchor\":\"x\"},\"legend\":{\"bordercolor\":\"rgba(0, 0, 0, 1.000)\",\"bgcolor\":\"rgba(255, 255, 255, 1.000)\",\"font\":{\"color\":\"rgba(0, 0, 0, 1.000)\",\"family\":\"sans-serif\",\"size\":11},\"y\":1.0,\"x\":1.0},\"width\":600});\n",
       "    </script>\n"
      ]
     },
     "execution_count": 137,
     "metadata": {},
     "output_type": "execute_result"
    }
   ],
   "source": [
    "loan_status = accepted_2015[:loan_status]\n",
    "num_good = 0\n",
    "num_bad = 0\n",
    "for i = 1 : length(loan_status)\n",
    "    if loan_status[i] == \"Current\" || loan_status[i] == \"Fully Paid\"\n",
    "        num_good += 1\n",
    "    else\n",
    "        num_bad += 1\n",
    "    end\n",
    "end\n",
    "# println(int_term_of_loan[1:100])\n",
    "# pie([\"36 months\", \"60 months\"],[num_36, num_60])\n",
    "pie([\"Late or Cancelled\",\"On time or paid off\"], [num_bad, num_good])"
   ]
  },
  {
   "cell_type": "code",
   "execution_count": 138,
   "metadata": {
    "collapsed": false
   },
   "outputs": [
    {
     "name": "stderr",
     "output_type": "stream",
     "text": [
      "\u001b[1m\u001b[36mINFO: \u001b[39m\u001b[22m\u001b[36mCloning cache of Iterators from https://github.com/JuliaCollections/Iterators.jl.git\n",
      "\u001b[39m\u001b[1m\u001b[36mINFO: \u001b[39m\u001b[22m\u001b[36mCloning cache of PyCall from https://github.com/JuliaPy/PyCall.jl.git\n",
      "\u001b[39m\u001b[1m\u001b[36mINFO: \u001b[39m\u001b[22m\u001b[36mCloning cache of ScikitLearn from https://github.com/cstjean/ScikitLearn.jl.git\n",
      "\u001b[39m\u001b[1m\u001b[36mINFO: \u001b[39m\u001b[22m\u001b[36mInstalling Iterators v0.3.1\n",
      "\u001b[39m\u001b[1m\u001b[36mINFO: \u001b[39m\u001b[22m\u001b[36mInstalling PyCall v1.15.0\n",
      "\u001b[39m\u001b[1m\u001b[36mINFO: \u001b[39m\u001b[22m\u001b[36mInstalling ScikitLearn v0.3.0\n",
      "\u001b[39m\u001b[1m\u001b[36mINFO: \u001b[39m\u001b[22m\u001b[36mBuilding Conda\n",
      "\u001b[39m\u001b[1m\u001b[36mINFO: \u001b[39m\u001b[22m\u001b[36mBuilding PyCall\n",
      "\u001b[39m\u001b[1m\u001b[36mINFO: \u001b[39m\u001b[22m\u001b[36mUsing the Python distribution in the Conda package by default.\n",
      "To use a different Python version, set ENV[\"PYTHON\"]=\"pythoncommand\" and re-run Pkg.build(\"PyCall\").\n",
      "\u001b[39m\u001b[1m\u001b[36mINFO: \u001b[39m\u001b[22m\u001b[36mPyCall is using C:\\Users\\ks70\\.julia\\v0.6\\Conda\\deps\\usr\\python.exe (Python 2.7.13) at C:\\Users\\ks70\\.julia\\v0.6\\Conda\\deps\\usr\\python.exe, libpython = C:\\Users\\ks70\\.julia\\v0.6\\Conda\\deps\\usr\\python27\n",
      "\u001b[39m\u001b[1m\u001b[36mINFO: \u001b[39m\u001b[22m\u001b[36mC:\\Users\\ks70\\.julia\\v0.6\\PyCall\\deps\\deps.jl has been updated\n",
      "\u001b[39m\u001b[1m\u001b[36mINFO: \u001b[39m\u001b[22m\u001b[36mC:\\Users\\ks70\\.julia\\v0.6\\PyCall\\deps\\PYTHON has been updated\n",
      "\u001b[39m\u001b[1m\u001b[36mINFO: \u001b[39m\u001b[22m\u001b[36mBuilding SpecialFunctions\n",
      "\u001b[39m\u001b[1m\u001b[36mINFO: \u001b[39m\u001b[22m\u001b[36mPackage database updated\n",
      "\u001b[39m\u001b[1m\u001b[36mINFO: \u001b[39m\u001b[22m\u001b[36mMETADATA is out-of-date — you may not have the latest version of ScikitLearn\n",
      "\u001b[39m\u001b[1m\u001b[36mINFO: \u001b[39m\u001b[22m\u001b[36mUse `Pkg.update()` to get the latest versions of your packages\n",
      "\u001b[39m\u001b[1m\u001b[36mINFO: \u001b[39m\u001b[22m\u001b[36mPrecompiling module ScikitLearn.\n",
      "\u001b[39m\u001b[1m\u001b[33mWARNING: \u001b[39m\u001b[22m\u001b[33mModule JSON with uuid 701049475711901 is missing from the cache.\n",
      "This may mean module JSON does not support precompilation but is imported by a module that does.\u001b[39m\n",
      "\u001b[1m\u001b[91mERROR: \u001b[39m\u001b[22mLoadError: \u001b[91mDeclaring __precompile__(false) is not allowed in files that are being precompiled.\u001b[39m\n",
      "Stacktrace:\n",
      " [1] \u001b[1m_require\u001b[22m\u001b[22m\u001b[1m(\u001b[22m\u001b[22m::Symbol\u001b[1m)\u001b[22m\u001b[22m at \u001b[1m.\\loading.jl:448\u001b[22m\u001b[22m\n",
      " [2] \u001b[1mrequire\u001b[22m\u001b[22m\u001b[1m(\u001b[22m\u001b[22m::Symbol\u001b[1m)\u001b[22m\u001b[22m at \u001b[1m.\\loading.jl:398\u001b[22m\u001b[22m\n",
      " [3] \u001b[1m_include_from_serialized\u001b[22m\u001b[22m\u001b[1m(\u001b[22m\u001b[22m::String\u001b[1m)\u001b[22m\u001b[22m at \u001b[1m.\\loading.jl:157\u001b[22m\u001b[22m\n",
      " [4] \u001b[1m_require_from_serialized\u001b[22m\u001b[22m\u001b[1m(\u001b[22m\u001b[22m::Int64, ::Symbol, ::String, ::Bool\u001b[1m)\u001b[22m\u001b[22m at \u001b[1m.\\loading.jl:200\u001b[22m\u001b[22m\n",
      " [5] \u001b[1m_require_search_from_serialized\u001b[22m\u001b[22m\u001b[1m(\u001b[22m\u001b[22m::Int64, ::Symbol, ::String, ::Bool\u001b[1m)\u001b[22m\u001b[22m at \u001b[1m.\\loading.jl:236\u001b[22m\u001b[22m\n",
      " [6] \u001b[1m_require\u001b[22m\u001b[22m\u001b[1m(\u001b[22m\u001b[22m::Symbol\u001b[1m)\u001b[22m\u001b[22m at \u001b[1m.\\loading.jl:434\u001b[22m\u001b[22m\n",
      " [7] \u001b[1mrequire\u001b[22m\u001b[22m\u001b[1m(\u001b[22m\u001b[22m::Symbol\u001b[1m)\u001b[22m\u001b[22m at \u001b[1m.\\loading.jl:398\u001b[22m\u001b[22m\n",
      " [8] \u001b[1minclude_from_node1\u001b[22m\u001b[22m\u001b[1m(\u001b[22m\u001b[22m::String\u001b[1m)\u001b[22m\u001b[22m at \u001b[1m.\\loading.jl:569\u001b[22m\u001b[22m\n",
      " [9] \u001b[1minclude\u001b[22m\u001b[22m\u001b[1m(\u001b[22m\u001b[22m::String\u001b[1m)\u001b[22m\u001b[22m at \u001b[1m.\\sysimg.jl:14\u001b[22m\u001b[22m\n",
      " [10] \u001b[1manonymous\u001b[22m\u001b[22m at \u001b[1m.\\<missing>:2\u001b[22m\u001b[22m\n",
      "while loading C:\\Users\\ks70\\.julia\\v0.6\\PyCall\\src\\PyCall.jl, in expression starting on line 28\n",
      "\u001b[1m\u001b[91mERROR: \u001b[39m\u001b[22mLoadError: LoadError: \u001b[91mFailed to precompile PyCall to C:\\Users\\ks70\\.julia\\lib\\v0.6\\PyCall.ji.\u001b[39m\n",
      "Stacktrace:\n",
      " [1] \u001b[1mcompilecache\u001b[22m\u001b[22m\u001b[1m(\u001b[22m\u001b[22m::String\u001b[1m)\u001b[22m\u001b[22m at \u001b[1m.\\loading.jl:703\u001b[22m\u001b[22m\n",
      " [2] \u001b[1m_require\u001b[22m\u001b[22m\u001b[1m(\u001b[22m\u001b[22m::Symbol\u001b[1m)\u001b[22m\u001b[22m at \u001b[1m.\\loading.jl:456\u001b[22m\u001b[22m\n",
      " [3] \u001b[1mrequire\u001b[22m\u001b[22m\u001b[1m(\u001b[22m\u001b[22m::Symbol\u001b[1m)\u001b[22m\u001b[22m at \u001b[1m.\\loading.jl:398\u001b[22m\u001b[22m\n",
      " [4] \u001b[1minclude_from_node1\u001b[22m\u001b[22m\u001b[1m(\u001b[22m\u001b[22m::String\u001b[1m)\u001b[22m\u001b[22m at \u001b[1m.\\loading.jl:569\u001b[22m\u001b[22m\n",
      " [5] \u001b[1minclude\u001b[22m\u001b[22m\u001b[1m(\u001b[22m\u001b[22m::String\u001b[1m)\u001b[22m\u001b[22m at \u001b[1m.\\sysimg.jl:14\u001b[22m\u001b[22m\n",
      " [6] \u001b[1minclude_from_node1\u001b[22m\u001b[22m\u001b[1m(\u001b[22m\u001b[22m::String\u001b[1m)\u001b[22m\u001b[22m at \u001b[1m.\\loading.jl:569\u001b[22m\u001b[22m\n",
      " [7] \u001b[1minclude\u001b[22m\u001b[22m\u001b[1m(\u001b[22m\u001b[22m::String\u001b[1m)\u001b[22m\u001b[22m at \u001b[1m.\\sysimg.jl:14\u001b[22m\u001b[22m\n",
      " [8] \u001b[1manonymous\u001b[22m\u001b[22m at \u001b[1m.\\<missing>:2\u001b[22m\u001b[22m\n",
      "while loading C:\\Users\\ks70\\.julia\\v0.6\\ScikitLearn\\src\\Skcore.jl, in expression starting on line 9\n",
      "while loading C:\\Users\\ks70\\.julia\\v0.6\\ScikitLearn\\src\\ScikitLearn.jl, in expression starting on line 12\n"
     ]
    },
    {
     "ename": "LoadError",
     "evalue": "\u001b[91mFailed to precompile ScikitLearn to C:\\Users\\ks70\\.julia\\lib\\v0.6\\ScikitLearn.ji.\u001b[39m",
     "output_type": "error",
     "traceback": [
      "\u001b[91mFailed to precompile ScikitLearn to C:\\Users\\ks70\\.julia\\lib\\v0.6\\ScikitLearn.ji.\u001b[39m",
      "",
      "Stacktrace:",
      " [1] \u001b[1mcompilecache\u001b[22m\u001b[22m\u001b[1m(\u001b[22m\u001b[22m::String\u001b[1m)\u001b[22m\u001b[22m at \u001b[1m.\\loading.jl:703\u001b[22m\u001b[22m",
      " [2] \u001b[1m_require\u001b[22m\u001b[22m\u001b[1m(\u001b[22m\u001b[22m::Symbol\u001b[1m)\u001b[22m\u001b[22m at \u001b[1m.\\loading.jl:490\u001b[22m\u001b[22m",
      " [3] \u001b[1mrequire\u001b[22m\u001b[22m\u001b[1m(\u001b[22m\u001b[22m::Symbol\u001b[1m)\u001b[22m\u001b[22m at \u001b[1m.\\loading.jl:398\u001b[22m\u001b[22m",
      " [4] \u001b[1minclude_string\u001b[22m\u001b[22m\u001b[1m(\u001b[22m\u001b[22m::String, ::String\u001b[1m)\u001b[22m\u001b[22m at \u001b[1m.\\loading.jl:515\u001b[22m\u001b[22m"
     ]
    }
   ],
   "source": [
    "Pkg.add(\"ScikitLearn\")\n",
    "using ScikitLearn"
   ]
  },
  {
   "cell_type": "code",
   "execution_count": 139,
   "metadata": {
    "collapsed": false
   },
   "outputs": [
    {
     "name": "stdout",
     "output_type": "stream",
     "text": [
      "search:\n",
      "\n",
      "Couldn't find \u001b[36mScikitLearn\n",
      "\u001b[39mPerhaps you meant scatter\n"
     ]
    },
    {
     "data": {
      "text/markdown": [
       "No documentation found.\n",
       "\n",
       "Binding `ScikitLearn` does not exist.\n"
      ],
      "text/plain": [
       "No documentation found.\n",
       "\n",
       "Binding `ScikitLearn` does not exist.\n"
      ]
     },
     "execution_count": 139,
     "metadata": {},
     "output_type": "execute_result"
    }
   ],
   "source": []
  },
  {
   "cell_type": "code",
   "execution_count": null,
   "metadata": {
    "collapsed": true
   },
   "outputs": [],
   "source": []
  }
 ],
 "metadata": {
  "anaconda-cloud": {},
  "kernelspec": {
   "display_name": "Julia 0.6.0",
   "language": "julia",
   "name": "julia-0.6"
  },
  "language_info": {
   "file_extension": ".jl",
   "mimetype": "application/julia",
   "name": "julia",
   "version": "0.6.0"
  }
 },
 "nbformat": 4,
 "nbformat_minor": 1
}
