{
 "cells": [
  {
   "cell_type": "code",
   "execution_count": 1,
   "metadata": {
    "collapsed": false
   },
   "outputs": [],
   "source": [
    "# Install packages\n",
    "# Pkg.add(\"DataFrames\")\n",
    "# Pkg.add(\"Gadfly\")\n",
    "# Pkg.add(\"Plots\")"
   ]
  },
  {
   "cell_type": "code",
   "execution_count": 2,
   "metadata": {
    "collapsed": false
   },
   "outputs": [],
   "source": [
    "using DataFrames, Gadfly, Plots"
   ]
  },
  {
   "cell_type": "code",
   "execution_count": 3,
   "metadata": {
    "collapsed": false
   },
   "outputs": [],
   "source": [
    "\n",
    "accepted_2015 = readtable(\"data/accepted_2015.csv\", nrows=421100); # 421100 is entire dataset\n"
   ]
  },
  {
   "cell_type": "code",
   "execution_count": 12,
   "metadata": {
    "collapsed": false
   },
   "outputs": [
    {
     "data": {
      "text/plain": [
       "421"
      ]
     },
     "execution_count": 12,
     "metadata": {},
     "output_type": "execute_result"
    }
   ],
   "source": [
    "length(accepted_2015[:loan_status])"
   ]
  },
  {
   "cell_type": "code",
   "execution_count": 13,
   "metadata": {
    "collapsed": false
   },
   "outputs": [
    {
     "data": {
      "text/html": [
       "<table class=\"data-frame\"><thead><tr><th></th><th>id</th><th>member_id</th><th>loan_amnt</th><th>funded_amnt</th><th>funded_amnt_inv</th><th>term</th><th>int_rate</th><th>installment</th><th>grade</th><th>sub_grade</th><th>emp_title</th><th>emp_length</th><th>home_ownership</th><th>annual_inc</th><th>verification_status</th><th>issue_d</th><th>loan_status</th><th>pymnt_plan</th><th>url</th><th>desc</th><th>purpose</th><th>title</th><th>zip_code</th><th>addr_state</th><th>dti</th><th>delinq_2yrs</th><th>earliest_cr_line</th><th>inq_last_6mths</th><th>mths_since_last_delinq</th><th>mths_since_last_record</th><th>open_acc</th><th>pub_rec</th><th>revol_bal</th><th>revol_util</th><th>total_acc</th><th>initial_list_status</th><th>out_prncp</th><th>out_prncp_inv</th><th>total_pymnt</th><th>total_pymnt_inv</th><th>total_rec_prncp</th><th>total_rec_int</th><th>total_rec_late_fee</th><th>recoveries</th><th>collection_recovery_fee</th><th>last_pymnt_d</th><th>last_pymnt_amnt</th><th>next_pymnt_d</th><th>last_credit_pull_d</th><th>collections_12_mths_ex_med</th><th>mths_since_last_major_derog</th><th>policy_code</th><th>application_type</th><th>annual_inc_joint</th><th>dti_joint</th><th>verification_status_joint</th><th>acc_now_delinq</th><th>tot_coll_amt</th><th>tot_cur_bal</th><th>open_acc_6m</th><th>open_il_6m</th><th>open_il_12m</th><th>open_il_24m</th><th>mths_since_rcnt_il</th><th>total_bal_il</th><th>il_util</th><th>open_rv_12m</th><th>open_rv_24m</th><th>max_bal_bc</th><th>all_util</th><th>total_rev_hi_lim</th><th>inq_fi</th><th>total_cu_tl</th><th>inq_last_12m</th><th>acc_open_past_24mths</th><th>avg_cur_bal</th><th>bc_open_to_buy</th><th>bc_util</th><th>chargeoff_within_12_mths</th><th>delinq_amnt</th><th>mo_sin_old_il_acct</th><th>mo_sin_old_rev_tl_op</th><th>mo_sin_rcnt_rev_tl_op</th><th>mo_sin_rcnt_tl</th><th>mort_acc</th><th>mths_since_recent_bc</th><th>mths_since_recent_bc_dlq</th><th>mths_since_recent_inq</th><th>mths_since_recent_revol_delinq</th><th>num_accts_ever_120_pd</th><th>num_actv_bc_tl</th><th>num_actv_rev_tl</th><th>num_bc_sats</th><th>num_bc_tl</th><th>num_il_tl</th><th>num_op_rev_tl</th><th>num_rev_accts</th><th>num_rev_tl_bal_gt_0</th><th>num_sats</th><th>num_tl_120dpd_2m</th><th>num_tl_30dpd</th><th>num_tl_90g_dpd_24m</th><th>num_tl_op_past_12m</th><th>pct_tl_nvr_dlq</th><th>percent_bc_gt_75</th><th>pub_rec_bankruptcies</th><th>tax_liens</th><th>tot_hi_cred_lim</th><th>total_bal_ex_mort</th><th>total_bc_limit</th><th>total_il_high_credit_limit</th><th>revol_bal_joint</th><th>sec_app_earliest_cr_line</th><th>sec_app_inq_last_6mths</th><th>sec_app_mort_acc</th><th>sec_app_open_acc</th><th>sec_app_revol_util</th><th>sec_app_open_il_6m</th><th>sec_app_num_rev_accts</th><th>sec_app_chargeoff_within_12_mths</th><th>sec_app_collections_12_mths_ex_med</th><th>sec_app_mths_since_last_major_derog</th><th>hardship_flag</th><th>hardship_type</th><th>hardship_reason</th><th>hardship_status</th><th>deferral_term</th><th>hardship_amount</th><th>hardship_start_date</th><th>hardship_end_date</th><th>payment_plan_start_date</th><th>hardship_length</th><th>hardship_dpd</th><th>hardship_loan_status</th><th>orig_projected_additional_accrued_interest</th><th>hardship_payoff_balance_amount</th><th>hardship_last_payment_amount</th></tr></thead><tbody><tr><th>1</th><td>NA</td><td>NA</td><td>20000</td><td>20000</td><td>20000</td><td>36 months</td><td>6.49%</td><td>612.89</td><td>A</td><td>A2</td><td>TEAM LEAD, QUALITY ENGINEER</td><td>6 years</td><td>MORTGAGE</td><td>55000.0</td><td>Not Verified</td><td>Dec-15</td><td>Current</td><td>n</td><td>NA</td><td>NA</td><td>debt_consolidation</td><td>Debt consolidation</td><td>381xx</td><td>TN</td><td>29.15</td><td>0</td><td>Sep-94</td><td>0</td><td>74</td><td>NA</td><td>9</td><td>0</td><td>4851</td><td>23.80%</td><td>23</td><td>w</td><td>9369.66</td><td>9369.66</td><td>12239.77</td><td>12239.77</td><td>10630.34</td><td>1609.43</td><td>0.0</td><td>0.0</td><td>0.0</td><td>Sep-17</td><td>612.89</td><td>Oct-17</td><td>Sep-17</td><td>0</td><td>NA</td><td>1</td><td>INDIVIDUAL</td><td>NA</td><td>NA</td><td>NA</td><td>0</td><td>0</td><td>205155</td><td>1</td><td>3</td><td>1</td><td>4</td><td>3</td><td>36812</td><td>79</td><td>1</td><td>1</td><td>2776</td><td>62</td><td>20400</td><td>1</td><td>0</td><td>3</td><td>5</td><td>25644</td><td>9924</td><td>21.9</td><td>0</td><td>0</td><td>87</td><td>255</td><td>8</td><td>3</td><td>1</td><td>8</td><td>NA</td><td>3</td><td>NA</td><td>0</td><td>1</td><td>3</td><td>2</td><td>9</td><td>8</td><td>5</td><td>14</td><td>3</td><td>9</td><td>0</td><td>0</td><td>0</td><td>2</td><td>95.7</td><td>0.0</td><td>0</td><td>0</td><td>247433</td><td>41663</td><td>12700</td><td>46367</td><td>NA</td><td>NA</td><td>NA</td><td>NA</td><td>NA</td><td>NA</td><td>NA</td><td>NA</td><td>NA</td><td>NA</td><td>NA</td><td>N</td><td>NA</td><td>NA</td><td>NA</td><td>NA</td><td>NA</td><td>NA</td><td>NA</td><td>NA</td><td>NA</td><td>NA</td><td>NA</td><td>NA</td><td>NA</td><td>NA</td></tr><tr><th>2</th><td>NA</td><td>NA</td><td>10000</td><td>10000</td><td>10000</td><td>36 months</td><td>11.48%</td><td>329.67</td><td>B</td><td>B5</td><td>Paralegal</td><td>2 years</td><td>RENT</td><td>33000.0</td><td>Not Verified</td><td>Dec-15</td><td>Current</td><td>n</td><td>NA</td><td>NA</td><td>debt_consolidation</td><td>Debt consolidation</td><td>477xx</td><td>IN</td><td>21.75</td><td>0</td><td>Aug-09</td><td>0</td><td>NA</td><td>12</td><td>12</td><td>1</td><td>8052</td><td>35.60%</td><td>20</td><td>w</td><td>4586.07</td><td>4586.07</td><td>6888.44</td><td>6888.44</td><td>5413.93</td><td>1474.51</td><td>0.0</td><td>0.0</td><td>0.0</td><td>Sep-17</td><td>329.67</td><td>Oct-17</td><td>Sep-17</td><td>0</td><td>NA</td><td>1</td><td>INDIVIDUAL</td><td>NA</td><td>NA</td><td>NA</td><td>0</td><td>0</td><td>23197</td><td>1</td><td>4</td><td>0</td><td>0</td><td>28</td><td>15145</td><td>56</td><td>2</td><td>6</td><td>2715</td><td>47</td><td>22600</td><td>0</td><td>0</td><td>1</td><td>6</td><td>1933</td><td>12925</td><td>37.9</td><td>0</td><td>0</td><td>52</td><td>76</td><td>5</td><td>5</td><td>0</td><td>5</td><td>NA</td><td>2</td><td>NA</td><td>0</td><td>6</td><td>7</td><td>6</td><td>10</td><td>4</td><td>8</td><td>16</td><td>7</td><td>12</td><td>0</td><td>0</td><td>0</td><td>2</td><td>100.0</td><td>33.3</td><td>0</td><td>1</td><td>49732</td><td>23197</td><td>20800</td><td>27132</td><td>NA</td><td>NA</td><td>NA</td><td>NA</td><td>NA</td><td>NA</td><td>NA</td><td>NA</td><td>NA</td><td>NA</td><td>NA</td><td>N</td><td>NA</td><td>NA</td><td>NA</td><td>NA</td><td>NA</td><td>NA</td><td>NA</td><td>NA</td><td>NA</td><td>NA</td><td>NA</td><td>NA</td><td>NA</td><td>NA</td></tr><tr><th>3</th><td>NA</td><td>NA</td><td>21000</td><td>21000</td><td>21000</td><td>60 months</td><td>13.99%</td><td>488.53</td><td>C</td><td>C4</td><td>Resident physician</td><td>&lt; 1 year</td><td>RENT</td><td>52000.0</td><td>Source Verified</td><td>Dec-15</td><td>Current</td><td>n</td><td>NA</td><td>NA</td><td>credit_card</td><td>Credit card refinancing</td><td>441xx</td><td>OH</td><td>14.47</td><td>0</td><td>Jan-05</td><td>1</td><td>NA</td><td>NA</td><td>5</td><td>0</td><td>20374</td><td>87.40%</td><td>15</td><td>w</td><td>15546.37</td><td>15546.37</td><td>9852.21</td><td>9852.21</td><td>5453.63</td><td>4398.58</td><td>0.0</td><td>0.0</td><td>0.0</td><td>Sep-17</td><td>488.53</td><td>Oct-17</td><td>Sep-17</td><td>0</td><td>NA</td><td>1</td><td>INDIVIDUAL</td><td>NA</td><td>NA</td><td>NA</td><td>0</td><td>0</td><td>372407</td><td>1</td><td>1</td><td>1</td><td>1</td><td>5</td><td>352033</td><td>NA</td><td>0</td><td>0</td><td>9358</td><td>87</td><td>23300</td><td>1</td><td>0</td><td>2</td><td>1</td><td>74481</td><td>2926</td><td>87.4</td><td>0</td><td>0</td><td>76</td><td>131</td><td>85</td><td>5</td><td>0</td><td>85</td><td>NA</td><td>0</td><td>NA</td><td>0</td><td>3</td><td>3</td><td>4</td><td>4</td><td>11</td><td>4</td><td>4</td><td>3</td><td>5</td><td>0</td><td>0</td><td>0</td><td>1</td><td>100.0</td><td>75.0</td><td>0</td><td>0</td><td>370357</td><td>372407</td><td>23300</td><td>347057</td><td>NA</td><td>NA</td><td>NA</td><td>NA</td><td>NA</td><td>NA</td><td>NA</td><td>NA</td><td>NA</td><td>NA</td><td>NA</td><td>N</td><td>NA</td><td>NA</td><td>NA</td><td>NA</td><td>NA</td><td>NA</td><td>NA</td><td>NA</td><td>NA</td><td>NA</td><td>NA</td><td>NA</td><td>NA</td><td>NA</td></tr><tr><th>4</th><td>NA</td><td>NA</td><td>24000</td><td>24000</td><td>24000</td><td>60 months</td><td>9.80%</td><td>507.58</td><td>B</td><td>B3</td><td>NA</td><td>n/a</td><td>OWN</td><td>77900.0</td><td>Not Verified</td><td>Dec-15</td><td>Current</td><td>n</td><td>NA</td><td>NA</td><td>home_improvement</td><td>Home improvement</td><td>376xx</td><td>TN</td><td>10.24</td><td>0</td><td>Oct-82</td><td>1</td><td>50</td><td>NA</td><td>9</td><td>0</td><td>3454</td><td>10.30%</td><td>21</td><td>w</td><td>17260.4</td><td>17260.4</td><td>10118.93</td><td>10118.93</td><td>6739.6</td><td>3379.33</td><td>0.0</td><td>0.0</td><td>0.0</td><td>Sep-17</td><td>507.58</td><td>Oct-17</td><td>Sep-17</td><td>0</td><td>50</td><td>1</td><td>INDIVIDUAL</td><td>NA</td><td>NA</td><td>NA</td><td>0</td><td>0</td><td>127412</td><td>0</td><td>1</td><td>0</td><td>0</td><td>73</td><td>1456</td><td>4</td><td>0</td><td>1</td><td>3309</td><td>7</td><td>33600</td><td>1</td><td>0</td><td>2</td><td>1</td><td>14157</td><td>27172</td><td>10.9</td><td>0</td><td>0</td><td>139</td><td>398</td><td>22</td><td>22</td><td>2</td><td>22</td><td>NA</td><td>0</td><td>NA</td><td>1</td><td>2</td><td>3</td><td>4</td><td>6</td><td>6</td><td>7</td><td>13</td><td>3</td><td>9</td><td>0</td><td>0</td><td>0</td><td>0</td><td>95.2</td><td>0.0</td><td>0</td><td>0</td><td>202351</td><td>4910</td><td>30500</td><td>33631</td><td>NA</td><td>NA</td><td>NA</td><td>NA</td><td>NA</td><td>NA</td><td>NA</td><td>NA</td><td>NA</td><td>NA</td><td>NA</td><td>N</td><td>NA</td><td>NA</td><td>NA</td><td>NA</td><td>NA</td><td>NA</td><td>NA</td><td>NA</td><td>NA</td><td>NA</td><td>NA</td><td>NA</td><td>NA</td><td>NA</td></tr><tr><th>5</th><td>NA</td><td>NA</td><td>14025</td><td>14025</td><td>14025</td><td>60 months</td><td>18.49%</td><td>359.9</td><td>D</td><td>D5</td><td>accts payable</td><td>10+ years</td><td>MORTGAGE</td><td>39000.0</td><td>Verified</td><td>Dec-15</td><td>Fully Paid</td><td>n</td><td>NA</td><td>NA</td><td>debt_consolidation</td><td>Debt consolidation</td><td>546xx</td><td>WI</td><td>18.0</td><td>0</td><td>Aug-01</td><td>1</td><td>NA</td><td>NA</td><td>12</td><td>0</td><td>15646</td><td>74.90%</td><td>21</td><td>w</td><td>0.0</td><td>0.0</td><td>16341.39079</td><td>16341.39</td><td>14025.0</td><td>2316.39</td><td>0.0</td><td>0.0</td><td>0.0</td><td>Dec-16</td><td>12764.01</td><td>NA</td><td>Dec-16</td><td>0</td><td>NA</td><td>1</td><td>INDIVIDUAL</td><td>NA</td><td>NA</td><td>NA</td><td>0</td><td>0</td><td>60381</td><td>1</td><td>0</td><td>0</td><td>0</td><td>91</td><td>0</td><td>NA</td><td>2</td><td>5</td><td>4879</td><td>75</td><td>20900</td><td>0</td><td>0</td><td>2</td><td>5</td><td>5032</td><td>578</td><td>93.4</td><td>0</td><td>0</td><td>138</td><td>172</td><td>2</td><td>2</td><td>3</td><td>2</td><td>NA</td><td>2</td><td>NA</td><td>0</td><td>3</td><td>11</td><td>3</td><td>3</td><td>4</td><td>11</td><td>13</td><td>11</td><td>12</td><td>0</td><td>0</td><td>0</td><td>2</td><td>100.0</td><td>66.7</td><td>0</td><td>0</td><td>72286</td><td>15646</td><td>8800</td><td>0</td><td>NA</td><td>NA</td><td>NA</td><td>NA</td><td>NA</td><td>NA</td><td>NA</td><td>NA</td><td>NA</td><td>NA</td><td>NA</td><td>N</td><td>NA</td><td>NA</td><td>NA</td><td>NA</td><td>NA</td><td>NA</td><td>NA</td><td>NA</td><td>NA</td><td>NA</td><td>NA</td><td>NA</td><td>NA</td><td>NA</td></tr><tr><th>6</th><td>NA</td><td>NA</td><td>23975</td><td>23975</td><td>23975</td><td>60 months</td><td>19.89%</td><td>633.73</td><td>E</td><td>E3</td><td>Principal</td><td>10+ years</td><td>RENT</td><td>70000.0</td><td>Not Verified</td><td>Dec-15</td><td>Charged Off</td><td>n</td><td>NA</td><td>NA</td><td>credit_card</td><td>Credit card refinancing</td><td>220xx</td><td>VA</td><td>33.2</td><td>0</td><td>Jun-95</td><td>1</td><td>NA</td><td>NA</td><td>10</td><td>0</td><td>44807</td><td>94.90%</td><td>19</td><td>w</td><td>0.0</td><td>0.0</td><td>3928.86</td><td>3928.86</td><td>1478.13</td><td>2450.73</td><td>0.0</td><td>0.0</td><td>0.0</td><td>Jul-16</td><td>633.73</td><td>NA</td><td>Feb-17</td><td>0</td><td>NA</td><td>1</td><td>INDIVIDUAL</td><td>NA</td><td>NA</td><td>NA</td><td>0</td><td>0</td><td>57655</td><td>1</td><td>1</td><td>0</td><td>1</td><td>24</td><td>6234</td><td>30</td><td>1</td><td>1</td><td>9973</td><td>77</td><td>47200</td><td>0</td><td>0</td><td>1</td><td>2</td><td>6406</td><td>1249</td><td>97.2</td><td>0</td><td>0</td><td>24</td><td>240</td><td>4</td><td>4</td><td>3</td><td>52</td><td>NA</td><td>4</td><td>NA</td><td>0</td><td>5</td><td>7</td><td>6</td><td>7</td><td>1</td><td>8</td><td>14</td><td>7</td><td>10</td><td>0</td><td>0</td><td>0</td><td>1</td><td>100.0</td><td>100.0</td><td>0</td><td>0</td><td>74779</td><td>57655</td><td>44400</td><td>20800</td><td>NA</td><td>NA</td><td>NA</td><td>NA</td><td>NA</td><td>NA</td><td>NA</td><td>NA</td><td>NA</td><td>NA</td><td>NA</td><td>N</td><td>NA</td><td>NA</td><td>NA</td><td>NA</td><td>NA</td><td>NA</td><td>NA</td><td>NA</td><td>NA</td><td>NA</td><td>NA</td><td>NA</td><td>NA</td><td>NA</td></tr><tr><th>7</th><td>NA</td><td>NA</td><td>7200</td><td>7200</td><td>7200</td><td>36 months</td><td>15.77%</td><td>252.32</td><td>D</td><td>D1</td><td>Bank Officer Senior Customer Care Spec.</td><td>&lt; 1 year</td><td>RENT</td><td>55000.0</td><td>Not Verified</td><td>Dec-15</td><td>Current</td><td>n</td><td>NA</td><td>NA</td><td>debt_consolidation</td><td>NA</td><td>142xx</td><td>NY</td><td>17.35</td><td>0</td><td>Jun-05</td><td>0</td><td>59</td><td>74</td><td>24</td><td>1</td><td>5938</td><td>69%</td><td>43</td><td>w</td><td>3619.38</td><td>3619.38</td><td>5030.63</td><td>5030.63</td><td>3580.62</td><td>1450.01</td><td>0.0</td><td>0.0</td><td>0.0</td><td>Sep-17</td><td>252.32</td><td>Oct-17</td><td>Sep-17</td><td>0</td><td>NA</td><td>1</td><td>INDIVIDUAL</td><td>NA</td><td>NA</td><td>NA</td><td>0</td><td>0</td><td>275831</td><td>1</td><td>18</td><td>3</td><td>9</td><td>5</td><td>269893</td><td>110</td><td>0</td><td>3</td><td>3234</td><td>108</td><td>8600</td><td>4</td><td>0</td><td>9</td><td>12</td><td>11493</td><td>1521</td><td>77.3</td><td>0</td><td>0</td><td>111</td><td>126</td><td>15</td><td>5</td><td>0</td><td>15</td><td>NA</td><td>5</td><td>NA</td><td>0</td><td>2</td><td>3</td><td>4</td><td>5</td><td>35</td><td>6</td><td>8</td><td>3</td><td>24</td><td>0</td><td>0</td><td>0</td><td>3</td><td>97.7</td><td>50.0</td><td>0</td><td>1</td><td>255047</td><td>275831</td><td>6700</td><td>246447</td><td>NA</td><td>NA</td><td>NA</td><td>NA</td><td>NA</td><td>NA</td><td>NA</td><td>NA</td><td>NA</td><td>NA</td><td>NA</td><td>N</td><td>NA</td><td>NA</td><td>NA</td><td>NA</td><td>NA</td><td>NA</td><td>NA</td><td>NA</td><td>NA</td><td>NA</td><td>NA</td><td>NA</td><td>NA</td><td>NA</td></tr><tr><th>8</th><td>NA</td><td>NA</td><td>7200</td><td>7200</td><td>7200</td><td>36 months</td><td>11.48%</td><td>237.36</td><td>B</td><td>B5</td><td>Legal Administrative Assistant</td><td>10+ years</td><td>MORTGAGE</td><td>72500.0</td><td>Verified</td><td>Dec-15</td><td>Fully Paid</td><td>n</td><td>NA</td><td>NA</td><td>home_improvement</td><td>Home improvement</td><td>300xx</td><td>GA</td><td>8.47</td><td>0</td><td>Aug-04</td><td>1</td><td>NA</td><td>NA</td><td>5</td><td>0</td><td>5449</td><td>35.20%</td><td>7</td><td>w</td><td>0.0</td><td>0.0</td><td>8253.861926</td><td>8253.86</td><td>7200.0</td><td>1053.86</td><td>0.0</td><td>0.0</td><td>0.0</td><td>Sep-17</td><td>3755.5</td><td>NA</td><td>Sep-17</td><td>0</td><td>NA</td><td>1</td><td>INDIVIDUAL</td><td>NA</td><td>NA</td><td>NA</td><td>0</td><td>0</td><td>147791</td><td>2</td><td>1</td><td>0</td><td>1</td><td>23</td><td>14807</td><td>66</td><td>3</td><td>3</td><td>2445</td><td>53</td><td>15500</td><td>1</td><td>0</td><td>2</td><td>4</td><td>29558</td><td>10051</td><td>35.2</td><td>0</td><td>0</td><td>111</td><td>7</td><td>2</td><td>2</td><td>2</td><td>2</td><td>NA</td><td>0</td><td>NA</td><td>0</td><td>3</td><td>3</td><td>3</td><td>3</td><td>2</td><td>3</td><td>3</td><td>3</td><td>5</td><td>0</td><td>0</td><td>0</td><td>3</td><td>100.0</td><td>0.0</td><td>0</td><td>0</td><td>189950</td><td>20256</td><td>15500</td><td>22450</td><td>NA</td><td>NA</td><td>NA</td><td>NA</td><td>NA</td><td>NA</td><td>NA</td><td>NA</td><td>NA</td><td>NA</td><td>NA</td><td>N</td><td>NA</td><td>NA</td><td>NA</td><td>NA</td><td>NA</td><td>NA</td><td>NA</td><td>NA</td><td>NA</td><td>NA</td><td>NA</td><td>NA</td><td>NA</td><td>NA</td></tr><tr><th>9</th><td>NA</td><td>NA</td><td>10000</td><td>10000</td><td>10000</td><td>60 months</td><td>17.97%</td><td>253.78</td><td>D</td><td>D4</td><td>Educator</td><td>2 years</td><td>MORTGAGE</td><td>55000.0</td><td>Not Verified</td><td>Dec-15</td><td>Current</td><td>n</td><td>NA</td><td>NA</td><td>credit_card</td><td>Credit card refinancing</td><td>802xx</td><td>CO</td><td>35.7</td><td>0</td><td>Apr-01</td><td>0</td><td>NA</td><td>NA</td><td>14</td><td>0</td><td>38623</td><td>78%</td><td>28</td><td>w</td><td>7595.04</td><td>7595.04</td><td>5050.64</td><td>5050.64</td><td>2404.96</td><td>2645.68</td><td>0.0</td><td>0.0</td><td>0.0</td><td>Sep-17</td><td>253.78</td><td>Oct-17</td><td>Sep-17</td><td>0</td><td>NA</td><td>1</td><td>INDIVIDUAL</td><td>NA</td><td>NA</td><td>NA</td><td>0</td><td>0</td><td>288087</td><td>2</td><td>2</td><td>2</td><td>2</td><td>6</td><td>32895</td><td>94</td><td>1</td><td>1</td><td>6742</td><td>85</td><td>49500</td><td>0</td><td>3</td><td>3</td><td>4</td><td>20578</td><td>287</td><td>97.4</td><td>0</td><td>0</td><td>106</td><td>176</td><td>7</td><td>6</td><td>6</td><td>51</td><td>NA</td><td>6</td><td>NA</td><td>0</td><td>3</td><td>9</td><td>3</td><td>4</td><td>6</td><td>11</td><td>16</td><td>9</td><td>14</td><td>0</td><td>0</td><td>0</td><td>4</td><td>100.0</td><td>100.0</td><td>0</td><td>0</td><td>302401</td><td>71518</td><td>11000</td><td>34953</td><td>NA</td><td>NA</td><td>NA</td><td>NA</td><td>NA</td><td>NA</td><td>NA</td><td>NA</td><td>NA</td><td>NA</td><td>NA</td><td>N</td><td>NA</td><td>NA</td><td>NA</td><td>NA</td><td>NA</td><td>NA</td><td>NA</td><td>NA</td><td>NA</td><td>NA</td><td>NA</td><td>NA</td><td>NA</td><td>NA</td></tr><tr><th>10</th><td>NA</td><td>NA</td><td>20000</td><td>20000</td><td>20000</td><td>36 months</td><td>9.80%</td><td>643.47</td><td>B</td><td>B3</td><td>Manager</td><td>5 years</td><td>RENT</td><td>75000.0</td><td>Not Verified</td><td>Dec-15</td><td>Fully Paid</td><td>n</td><td>NA</td><td>NA</td><td>debt_consolidation</td><td>Debt consolidation</td><td>984xx</td><td>WA</td><td>23.45</td><td>0</td><td>May-92</td><td>0</td><td>70</td><td>NA</td><td>14</td><td>0</td><td>7558</td><td>9.60%</td><td>26</td><td>w</td><td>0.0</td><td>0.0</td><td>21918.8165</td><td>21918.82</td><td>20000.0</td><td>1918.82</td><td>0.0</td><td>0.0</td><td>0.0</td><td>Mar-17</td><td>13580.93</td><td>NA</td><td>Sep-17</td><td>0</td><td>70</td><td>1</td><td>INDIVIDUAL</td><td>NA</td><td>NA</td><td>NA</td><td>0</td><td>0</td><td>40090</td><td>2</td><td>2</td><td>2</td><td>3</td><td>8</td><td>32532</td><td>84</td><td>3</td><td>5</td><td>1600</td><td>34</td><td>78900</td><td>0</td><td>2</td><td>0</td><td>8</td><td>2864</td><td>48533</td><td>5.9</td><td>0</td><td>0</td><td>159</td><td>283</td><td>4</td><td>4</td><td>1</td><td>4</td><td>NA</td><td>19</td><td>NA</td><td>2</td><td>5</td><td>10</td><td>7</td><td>8</td><td>11</td><td>12</td><td>13</td><td>10</td><td>14</td><td>0</td><td>0</td><td>0</td><td>5</td><td>92.3</td><td>0.0</td><td>0</td><td>0</td><td>117477</td><td>40090</td><td>51600</td><td>38577</td><td>NA</td><td>NA</td><td>NA</td><td>NA</td><td>NA</td><td>NA</td><td>NA</td><td>NA</td><td>NA</td><td>NA</td><td>NA</td><td>N</td><td>NA</td><td>NA</td><td>NA</td><td>NA</td><td>NA</td><td>NA</td><td>NA</td><td>NA</td><td>NA</td><td>NA</td><td>NA</td><td>NA</td><td>NA</td><td>NA</td></tr><tr><th>11</th><td>NA</td><td>NA</td><td>15000</td><td>15000</td><td>15000</td><td>60 months</td><td>13.44%</td><td>344.69</td><td>C</td><td>C3</td><td>Counselor</td><td>4 years</td><td>RENT</td><td>77213.0</td><td>Source Verified</td><td>Dec-15</td><td>Fully Paid</td><td>n</td><td>NA</td><td>NA</td><td>credit_card</td><td>Credit card refinancing</td><td>347xx</td><td>FL</td><td>18.17</td><td>0</td><td>Dec-01</td><td>2</td><td>NA</td><td>76</td><td>17</td><td>1</td><td>59237</td><td>25.80%</td><td>44</td><td>w</td><td>0.0</td><td>0.0</td><td>17307.01868</td><td>17307.02</td><td>15000.0</td><td>2307.02</td><td>0.0</td><td>0.0</td><td>0.0</td><td>Mar-17</td><td>12793.18</td><td>NA</td><td>Mar-17</td><td>0</td><td>NA</td><td>1</td><td>INDIVIDUAL</td><td>NA</td><td>NA</td><td>NA</td><td>0</td><td>0</td><td>155521</td><td>2</td><td>2</td><td>0</td><td>0</td><td>45</td><td>96244</td><td>54</td><td>2</td><td>7</td><td>3046</td><td>36</td><td>80500</td><td>0</td><td>0</td><td>5</td><td>7</td><td>9720</td><td>6962</td><td>49.6</td><td>0</td><td>0</td><td>143</td><td>168</td><td>3</td><td>3</td><td>1</td><td>4</td><td>NA</td><td>1</td><td>NA</td><td>0</td><td>5</td><td>8</td><td>5</td><td>10</td><td>12</td><td>14</td><td>29</td><td>8</td><td>16</td><td>0</td><td>0</td><td>0</td><td>2</td><td>100.0</td><td>40.0</td><td>1</td><td>0</td><td>176208</td><td>155521</td><td>13800</td><td>95668</td><td>NA</td><td>NA</td><td>NA</td><td>NA</td><td>NA</td><td>NA</td><td>NA</td><td>NA</td><td>NA</td><td>NA</td><td>NA</td><td>N</td><td>NA</td><td>NA</td><td>NA</td><td>NA</td><td>NA</td><td>NA</td><td>NA</td><td>NA</td><td>NA</td><td>NA</td><td>NA</td><td>NA</td><td>NA</td><td>NA</td></tr><tr><th>12</th><td>NA</td><td>NA</td><td>4000</td><td>4000</td><td>4000</td><td>36 months</td><td>9.17%</td><td>127.52</td><td>B</td><td>B2</td><td>Store Manager</td><td>2 years</td><td>RENT</td><td>44500.0</td><td>Verified</td><td>Dec-15</td><td>Fully Paid</td><td>n</td><td>NA</td><td>NA</td><td>debt_consolidation</td><td>Debt consolidation</td><td>681xx</td><td>NE</td><td>15.83</td><td>0</td><td>Sep-03</td><td>0</td><td>NA</td><td>22</td><td>4</td><td>1</td><td>502</td><td>4.20%</td><td>24</td><td>w</td><td>0.0</td><td>0.0</td><td>4399.02307</td><td>4399.02</td><td>4000.0</td><td>399.02</td><td>0.0</td><td>0.0</td><td>0.0</td><td>May-17</td><td>2491.31</td><td>NA</td><td>May-17</td><td>0</td><td>NA</td><td>1</td><td>INDIVIDUAL</td><td>NA</td><td>NA</td><td>NA</td><td>0</td><td>0</td><td>7980</td><td>1</td><td>2</td><td>1</td><td>1</td><td>5</td><td>7478</td><td>36</td><td>1</td><td>2</td><td>502</td><td>24</td><td>12000</td><td>0</td><td>1</td><td>1</td><td>3</td><td>1995</td><td>11498</td><td>4.2</td><td>0</td><td>0</td><td>147</td><td>142</td><td>9</td><td>5</td><td>3</td><td>9</td><td>NA</td><td>9</td><td>NA</td><td>0</td><td>1</td><td>1</td><td>2</td><td>5</td><td>11</td><td>2</td><td>10</td><td>1</td><td>4</td><td>0</td><td>0</td><td>0</td><td>2</td><td>100.0</td><td>0.0</td><td>1</td><td>0</td><td>33017</td><td>7980</td><td>12000</td><td>21017</td><td>NA</td><td>NA</td><td>NA</td><td>NA</td><td>NA</td><td>NA</td><td>NA</td><td>NA</td><td>NA</td><td>NA</td><td>NA</td><td>N</td><td>NA</td><td>NA</td><td>NA</td><td>NA</td><td>NA</td><td>NA</td><td>NA</td><td>NA</td><td>NA</td><td>NA</td><td>NA</td><td>NA</td><td>NA</td><td>NA</td></tr><tr><th>13</th><td>NA</td><td>NA</td><td>20000</td><td>20000</td><td>20000</td><td>36 months</td><td>8.49%</td><td>631.26</td><td>B</td><td>B1</td><td>road driver</td><td>10+ years</td><td>MORTGAGE</td><td>85000.0</td><td>Not Verified</td><td>Dec-15</td><td>Fully Paid</td><td>n</td><td>NA</td><td>NA</td><td>major_purchase</td><td>Major purchase</td><td>293xx</td><td>SC</td><td>17.61</td><td>1</td><td>Feb-99</td><td>0</td><td>3</td><td>NA</td><td>8</td><td>0</td><td>826</td><td>5.70%</td><td>15</td><td>w</td><td>0.0</td><td>0.0</td><td>21538.50898</td><td>21538.51</td><td>20000.0</td><td>1538.51</td><td>0.0</td><td>0.0</td><td>0.0</td><td>Jan-17</td><td>14618.23</td><td>NA</td><td>Sep-17</td><td>0</td><td>3</td><td>1</td><td>INDIVIDUAL</td><td>NA</td><td>NA</td><td>NA</td><td>0</td><td>0</td><td>141601</td><td>0</td><td>3</td><td>0</td><td>4</td><td>13</td><td>27111</td><td>75</td><td>0</td><td>0</td><td>640</td><td>55</td><td>14500</td><td>1</td><td>0</td><td>2</td><td>4</td><td>17700</td><td>13674</td><td>5.7</td><td>0</td><td>0</td><td>149</td><td>55</td><td>32</td><td>13</td><td>3</td><td>32</td><td>NA</td><td>8</td><td>NA</td><td>1</td><td>2</td><td>2</td><td>3</td><td>3</td><td>9</td><td>3</td><td>3</td><td>2</td><td>8</td><td>0</td><td>0</td><td>1</td><td>0</td><td>93.3</td><td>0.0</td><td>0</td><td>0</td><td>193390</td><td>27937</td><td>14500</td><td>36144</td><td>NA</td><td>NA</td><td>NA</td><td>NA</td><td>NA</td><td>NA</td><td>NA</td><td>NA</td><td>NA</td><td>NA</td><td>NA</td><td>N</td><td>NA</td><td>NA</td><td>NA</td><td>NA</td><td>NA</td><td>NA</td><td>NA</td><td>NA</td><td>NA</td><td>NA</td><td>NA</td><td>NA</td><td>NA</td><td>NA</td></tr><tr><th>14</th><td>NA</td><td>NA</td><td>20000</td><td>20000</td><td>20000</td><td>36 months</td><td>12.88%</td><td>672.73</td><td>C</td><td>C2</td><td>President</td><td>10+ years</td><td>MORTGAGE</td><td>145000.0</td><td>Not Verified</td><td>Dec-15</td><td>Current</td><td>n</td><td>NA</td><td>NA</td><td>debt_consolidation</td><td>Debt consolidation</td><td>029xx</td><td>RI</td><td>12.28</td><td>0</td><td>Feb-04</td><td>0</td><td>NA</td><td>NA</td><td>12</td><td>0</td><td>22551</td><td>80.20%</td><td>21</td><td>w</td><td>9841.59</td><td>9841.59</td><td>13418.82</td><td>13418.82</td><td>10158.41</td><td>3260.41</td><td>0.0</td><td>0.0</td><td>0.0</td><td>Sep-17</td><td>672.73</td><td>Oct-17</td><td>Sep-17</td><td>0</td><td>NA</td><td>1</td><td>INDIVIDUAL</td><td>NA</td><td>NA</td><td>NA</td><td>0</td><td>0</td><td>429218</td><td>2</td><td>3</td><td>1</td><td>2</td><td>2</td><td>9935</td><td>43</td><td>2</td><td>3</td><td>4627</td><td>62</td><td>28500</td><td>1</td><td>0</td><td>6</td><td>5</td><td>39020</td><td>2822</td><td>81.6</td><td>0</td><td>0</td><td>79</td><td>142</td><td>4</td><td>2</td><td>5</td><td>27</td><td>NA</td><td>1</td><td>NA</td><td>0</td><td>4</td><td>6</td><td>5</td><td>8</td><td>5</td><td>7</td><td>11</td><td>6</td><td>12</td><td>0</td><td>0</td><td>0</td><td>3</td><td>100.0</td><td>75.0</td><td>0</td><td>0</td><td>472759</td><td>32486</td><td>13500</td><td>23259</td><td>NA</td><td>NA</td><td>NA</td><td>NA</td><td>NA</td><td>NA</td><td>NA</td><td>NA</td><td>NA</td><td>NA</td><td>NA</td><td>N</td><td>NA</td><td>NA</td><td>NA</td><td>NA</td><td>NA</td><td>NA</td><td>NA</td><td>NA</td><td>NA</td><td>NA</td><td>NA</td><td>NA</td><td>NA</td><td>NA</td></tr><tr><th>15</th><td>NA</td><td>NA</td><td>3600</td><td>3600</td><td>3600</td><td>36 months</td><td>11.48%</td><td>118.68</td><td>B</td><td>B5</td><td>Systems Administrator</td><td>&lt; 1 year</td><td>MORTGAGE</td><td>85000.0</td><td>Source Verified</td><td>Dec-15</td><td>Fully Paid</td><td>n</td><td>NA</td><td>NA</td><td>debt_consolidation</td><td>Debt consolidation</td><td>220xx</td><td>VA</td><td>17.44</td><td>0</td><td>Apr-94</td><td>2</td><td>NA</td><td>81</td><td>12</td><td>1</td><td>6952</td><td>28.70%</td><td>23</td><td>w</td><td>0.0</td><td>0.0</td><td>4049.625087</td><td>4049.63</td><td>3600.0</td><td>449.63</td><td>0.0</td><td>0.0</td><td>0.0</td><td>May-17</td><td>2275.17</td><td>NA</td><td>May-17</td><td>0</td><td>NA</td><td>1</td><td>INDIVIDUAL</td><td>NA</td><td>NA</td><td>NA</td><td>0</td><td>194</td><td>407032</td><td>0</td><td>3</td><td>1</td><td>3</td><td>9</td><td>35380</td><td>82</td><td>0</td><td>1</td><td>4288</td><td>63</td><td>24200</td><td>2</td><td>1</td><td>8</td><td>4</td><td>33919</td><td>15532</td><td>29.4</td><td>0</td><td>0</td><td>260</td><td>129</td><td>16</td><td>9</td><td>1</td><td>16</td><td>NA</td><td>1</td><td>NA</td><td>0</td><td>3</td><td>4</td><td>7</td><td>10</td><td>8</td><td>8</td><td>14</td><td>4</td><td>12</td><td>0</td><td>0</td><td>0</td><td>1</td><td>100.0</td><td>28.6</td><td>1</td><td>0</td><td>457315</td><td>42332</td><td>22000</td><td>43306</td><td>NA</td><td>NA</td><td>NA</td><td>NA</td><td>NA</td><td>NA</td><td>NA</td><td>NA</td><td>NA</td><td>NA</td><td>NA</td><td>N</td><td>NA</td><td>NA</td><td>NA</td><td>NA</td><td>NA</td><td>NA</td><td>NA</td><td>NA</td><td>NA</td><td>NA</td><td>NA</td><td>NA</td><td>NA</td><td>NA</td></tr><tr><th>16</th><td>NA</td><td>NA</td><td>25000</td><td>25000</td><td>25000</td><td>60 months</td><td>11.48%</td><td>549.57</td><td>B</td><td>B5</td><td>Project Manager</td><td>10+ years</td><td>MORTGAGE</td><td>135000.0</td><td>Not Verified</td><td>Dec-15</td><td>Fully Paid</td><td>n</td><td>NA</td><td>NA</td><td>credit_card</td><td>Credit card refinancing</td><td>774xx</td><td>TX</td><td>4.65</td><td>0</td><td>Oct-04</td><td>0</td><td>47</td><td>NA</td><td>16</td><td>0</td><td>7340</td><td>13.50%</td><td>33</td><td>w</td><td>0.0</td><td>0.0</td><td>26482.58</td><td>26482.58</td><td>25000.0</td><td>1482.58</td><td>0.0</td><td>0.0</td><td>0.0</td><td>Jul-16</td><td>23774.59</td><td>NA</td><td>Jul-16</td><td>0</td><td>47</td><td>1</td><td>INDIVIDUAL</td><td>NA</td><td>NA</td><td>NA</td><td>0</td><td>0</td><td>23522</td><td>0</td><td>1</td><td>1</td><td>2</td><td>7</td><td>16182</td><td>91</td><td>2</td><td>6</td><td>2990</td><td>33</td><td>54400</td><td>1</td><td>1</td><td>5</td><td>9</td><td>1470</td><td>38700</td><td>15.5</td><td>0</td><td>0</td><td>134</td><td>100</td><td>7</td><td>7</td><td>5</td><td>10</td><td>NA</td><td>3</td><td>NA</td><td>1</td><td>3</td><td>4</td><td>11</td><td>13</td><td>6</td><td>15</td><td>21</td><td>4</td><td>16</td><td>0</td><td>0</td><td>0</td><td>4</td><td>97.0</td><td>0.0</td><td>0</td><td>0</td><td>72150</td><td>23522</td><td>45800</td><td>17750</td><td>NA</td><td>NA</td><td>NA</td><td>NA</td><td>NA</td><td>NA</td><td>NA</td><td>NA</td><td>NA</td><td>NA</td><td>NA</td><td>N</td><td>NA</td><td>NA</td><td>NA</td><td>NA</td><td>NA</td><td>NA</td><td>NA</td><td>NA</td><td>NA</td><td>NA</td><td>NA</td><td>NA</td><td>NA</td><td>NA</td></tr><tr><th>17</th><td>NA</td><td>NA</td><td>20000</td><td>20000</td><td>20000</td><td>36 months</td><td>15.77%</td><td>700.88</td><td>D</td><td>D1</td><td>Clinical Intake</td><td>5 years</td><td>RENT</td><td>70000.0</td><td>Not Verified</td><td>Dec-15</td><td>Fully Paid</td><td>n</td><td>NA</td><td>NA</td><td>house</td><td>Home buying</td><td>331xx</td><td>FL</td><td>22.21</td><td>0</td><td>Jul-04</td><td>0</td><td>38</td><td>NA</td><td>24</td><td>0</td><td>19077</td><td>36.60%</td><td>63</td><td>w</td><td>0.0</td><td>0.0</td><td>21780.58678</td><td>21780.59</td><td>20000.0</td><td>1780.59</td><td>0.0</td><td>0.0</td><td>0.0</td><td>Dec-16</td><td>2815.6</td><td>NA</td><td>Jan-17</td><td>0</td><td>38</td><td>1</td><td>INDIVIDUAL</td><td>NA</td><td>NA</td><td>NA</td><td>0</td><td>264</td><td>63456</td><td>2</td><td>3</td><td>0</td><td>0</td><td>47</td><td>44379</td><td>84</td><td>6</td><td>9</td><td>2957</td><td>61</td><td>52100</td><td>0</td><td>0</td><td>3</td><td>9</td><td>2759</td><td>12279</td><td>48.0</td><td>0</td><td>0</td><td>131</td><td>137</td><td>2</td><td>2</td><td>1</td><td>2</td><td>NA</td><td>9</td><td>NA</td><td>5</td><td>8</td><td>17</td><td>9</td><td>9</td><td>39</td><td>21</td><td>23</td><td>17</td><td>24</td><td>0</td><td>0</td><td>0</td><td>6</td><td>92.1</td><td>0.0</td><td>0</td><td>0</td><td>104696</td><td>63456</td><td>23600</td><td>52596</td><td>NA</td><td>NA</td><td>NA</td><td>NA</td><td>NA</td><td>NA</td><td>NA</td><td>NA</td><td>NA</td><td>NA</td><td>NA</td><td>N</td><td>NA</td><td>NA</td><td>NA</td><td>NA</td><td>NA</td><td>NA</td><td>NA</td><td>NA</td><td>NA</td><td>NA</td><td>NA</td><td>NA</td><td>NA</td><td>NA</td></tr><tr><th>18</th><td>NA</td><td>NA</td><td>14000</td><td>14000</td><td>14000</td><td>36 months</td><td>9.80%</td><td>450.43</td><td>B</td><td>B3</td><td>Master mechanic</td><td>4 years</td><td>MORTGAGE</td><td>100000.0</td><td>Not Verified</td><td>Dec-15</td><td>Current</td><td>n</td><td>NA</td><td>NA</td><td>medical</td><td>Medical expenses</td><td>439xx</td><td>OH</td><td>15.97</td><td>0</td><td>Dec-97</td><td>0</td><td>NA</td><td>NA</td><td>7</td><td>0</td><td>34250</td><td>36.10%</td><td>14</td><td>f</td><td>6730.09</td><td>6730.09</td><td>8989.54</td><td>8989.54</td><td>7269.91</td><td>1719.63</td><td>0.0</td><td>0.0</td><td>0.0</td><td>Sep-17</td><td>450.43</td><td>Oct-17</td><td>Sep-17</td><td>0</td><td>NA</td><td>1</td><td>INDIVIDUAL</td><td>NA</td><td>NA</td><td>NA</td><td>0</td><td>6594</td><td>451137</td><td>0</td><td>2</td><td>2</td><td>2</td><td>7</td><td>49789</td><td>89</td><td>0</td><td>0</td><td>11535</td><td>69</td><td>84500</td><td>0</td><td>1</td><td>1</td><td>3</td><td>64448</td><td>22057</td><td>36.1</td><td>0</td><td>0</td><td>134</td><td>216</td><td>54</td><td>7</td><td>2</td><td>54</td><td>NA</td><td>7</td><td>NA</td><td>0</td><td>2</td><td>3</td><td>2</td><td>3</td><td>6</td><td>3</td><td>6</td><td>3</td><td>7</td><td>0</td><td>0</td><td>0</td><td>2</td><td>100.0</td><td>0.0</td><td>0</td><td>0</td><td>531602</td><td>84039</td><td>34500</td><td>55842</td><td>NA</td><td>NA</td><td>NA</td><td>NA</td><td>NA</td><td>NA</td><td>NA</td><td>NA</td><td>NA</td><td>NA</td><td>NA</td><td>N</td><td>NA</td><td>NA</td><td>NA</td><td>NA</td><td>NA</td><td>NA</td><td>NA</td><td>NA</td><td>NA</td><td>NA</td><td>NA</td><td>NA</td><td>NA</td><td>NA</td></tr><tr><th>19</th><td>NA</td><td>NA</td><td>12000</td><td>12000</td><td>12000</td><td>36 months</td><td>5.32%</td><td>361.38</td><td>A</td><td>A1</td><td>Network Operation Engineer</td><td>4 years</td><td>MORTGAGE</td><td>53750.0</td><td>Source Verified</td><td>Dec-15</td><td>Fully Paid</td><td>n</td><td>NA</td><td>NA</td><td>debt_consolidation</td><td>Debt consolidation</td><td>850xx</td><td>AZ</td><td>15.3</td><td>1</td><td>Sep-07</td><td>0</td><td>19</td><td>NA</td><td>8</td><td>0</td><td>3172</td><td>17.20%</td><td>19</td><td>w</td><td>0.0</td><td>0.0</td><td>12463.54</td><td>12463.54</td><td>12000.0</td><td>463.54</td><td>0.0</td><td>0.0</td><td>0.0</td><td>Nov-16</td><td>9219.99</td><td>NA</td><td>Sep-17</td><td>0</td><td>NA</td><td>1</td><td>INDIVIDUAL</td><td>NA</td><td>NA</td><td>NA</td><td>0</td><td>0</td><td>142615</td><td>0</td><td>1</td><td>0</td><td>2</td><td>17</td><td>6468</td><td>22</td><td>0</td><td>0</td><td>0</td><td>22</td><td>18400</td><td>2</td><td>6</td><td>1</td><td>3</td><td>17827</td><td>8500</td><td>0.0</td><td>0</td><td>0</td><td>99</td><td>60</td><td>35</td><td>9</td><td>2</td><td>37</td><td>19</td><td>11</td><td>19</td><td>0</td><td>0</td><td>3</td><td>2</td><td>3</td><td>10</td><td>5</td><td>6</td><td>3</td><td>8</td><td>0</td><td>0</td><td>0</td><td>1</td><td>94.7</td><td>0.0</td><td>0</td><td>0</td><td>183062</td><td>11146</td><td>8500</td><td>29053</td><td>NA</td><td>NA</td><td>NA</td><td>NA</td><td>NA</td><td>NA</td><td>NA</td><td>NA</td><td>NA</td><td>NA</td><td>NA</td><td>N</td><td>NA</td><td>NA</td><td>NA</td><td>NA</td><td>NA</td><td>NA</td><td>NA</td><td>NA</td><td>NA</td><td>NA</td><td>NA</td><td>NA</td><td>NA</td><td>NA</td></tr><tr><th>20</th><td>NA</td><td>NA</td><td>27500</td><td>27500</td><td>27500</td><td>60 months</td><td>14.85%</td><td>652.06</td><td>C</td><td>C5</td><td>Manager</td><td>10+ years</td><td>MORTGAGE</td><td>195000.0</td><td>Not Verified</td><td>Dec-15</td><td>Fully Paid</td><td>n</td><td>NA</td><td>NA</td><td>other</td><td>Other</td><td>710xx</td><td>LA</td><td>6.79</td><td>0</td><td>Jul-01</td><td>0</td><td>NA</td><td>NA</td><td>14</td><td>0</td><td>34974</td><td>50.90%</td><td>19</td><td>w</td><td>0.0</td><td>0.0</td><td>29753.17</td><td>29753.17</td><td>27500.0</td><td>2253.17</td><td>0.0</td><td>0.0</td><td>0.0</td><td>Aug-16</td><td>25897.53</td><td>NA</td><td>Jul-16</td><td>0</td><td>NA</td><td>1</td><td>INDIVIDUAL</td><td>NA</td><td>NA</td><td>NA</td><td>0</td><td>0</td><td>267500</td><td>1</td><td>1</td><td>0</td><td>1</td><td>21</td><td>10003</td><td>76</td><td>1</td><td>3</td><td>12056</td><td>55</td><td>68700</td><td>0</td><td>0</td><td>0</td><td>4</td><td>19107</td><td>23969</td><td>56.8</td><td>0</td><td>0</td><td>21</td><td>173</td><td>3</td><td>3</td><td>1</td><td>3</td><td>NA</td><td>NA</td><td>NA</td><td>0</td><td>6</td><td>10</td><td>7</td><td>9</td><td>1</td><td>12</td><td>17</td><td>10</td><td>14</td><td>0</td><td>0</td><td>0</td><td>1</td><td>100.0</td><td>57.1</td><td>0</td><td>0</td><td>325100</td><td>44977</td><td>55500</td><td>13200</td><td>NA</td><td>NA</td><td>NA</td><td>NA</td><td>NA</td><td>NA</td><td>NA</td><td>NA</td><td>NA</td><td>NA</td><td>NA</td><td>N</td><td>NA</td><td>NA</td><td>NA</td><td>NA</td><td>NA</td><td>NA</td><td>NA</td><td>NA</td><td>NA</td><td>NA</td><td>NA</td><td>NA</td><td>NA</td><td>NA</td></tr><tr><th>21</th><td>NA</td><td>NA</td><td>10000</td><td>10000</td><td>10000</td><td>60 months</td><td>16.59%</td><td>246.33</td><td>D</td><td>D2</td><td>Emergency Department technician</td><td>&lt; 1 year</td><td>RENT</td><td>30000.0</td><td>Source Verified</td><td>Dec-15</td><td>Fully Paid</td><td>n</td><td>NA</td><td>NA</td><td>debt_consolidation</td><td>Debt consolidation</td><td>447xx</td><td>OH</td><td>30.84</td><td>0</td><td>Sep-00</td><td>2</td><td>78</td><td>91</td><td>19</td><td>1</td><td>6118</td><td>26.60%</td><td>36</td><td>w</td><td>0.0</td><td>0.0</td><td>10757.52</td><td>10757.52</td><td>10000.0</td><td>757.52</td><td>0.0</td><td>0.0</td><td>0.0</td><td>Jun-16</td><td>9795.24</td><td>NA</td><td>Sep-17</td><td>0</td><td>78</td><td>1</td><td>INDIVIDUAL</td><td>NA</td><td>NA</td><td>NA</td><td>0</td><td>0</td><td>65214</td><td>2</td><td>14</td><td>1</td><td>3</td><td>5</td><td>59096</td><td>94</td><td>1</td><td>1</td><td>4807</td><td>76</td><td>23000</td><td>5</td><td>0</td><td>7</td><td>4</td><td>3432</td><td>15310</td><td>28.1</td><td>0</td><td>0</td><td>183</td><td>162</td><td>3</td><td>3</td><td>0</td><td>3</td><td>NA</td><td>1</td><td>NA</td><td>1</td><td>3</td><td>4</td><td>3</td><td>5</td><td>28</td><td>4</td><td>8</td><td>4</td><td>19</td><td>0</td><td>0</td><td>0</td><td>2</td><td>96.9</td><td>0.0</td><td>1</td><td>0</td><td>85929</td><td>65214</td><td>21300</td><td>62929</td><td>NA</td><td>NA</td><td>NA</td><td>NA</td><td>NA</td><td>NA</td><td>NA</td><td>NA</td><td>NA</td><td>NA</td><td>NA</td><td>N</td><td>NA</td><td>NA</td><td>NA</td><td>NA</td><td>NA</td><td>NA</td><td>NA</td><td>NA</td><td>NA</td><td>NA</td><td>NA</td><td>NA</td><td>NA</td><td>NA</td></tr><tr><th>22</th><td>NA</td><td>NA</td><td>16000</td><td>16000</td><td>16000</td><td>60 months</td><td>13.44%</td><td>367.67</td><td>C</td><td>C3</td><td>Merchandise Manager</td><td>1 year</td><td>RENT</td><td>42000.0</td><td>Not Verified</td><td>Dec-15</td><td>Charged Off</td><td>n</td><td>NA</td><td>NA</td><td>credit_card</td><td>Credit card refinancing</td><td>019xx</td><td>MA</td><td>9.6</td><td>0</td><td>Apr-02</td><td>0</td><td>NA</td><td>NA</td><td>29</td><td>0</td><td>11834</td><td>44.80%</td><td>48</td><td>w</td><td>0.0</td><td>0.0</td><td>4382.17</td><td>4382.17</td><td>2406.29</td><td>1975.88</td><td>0.0</td><td>0.0</td><td>0.0</td><td>Jan-17</td><td>367.67</td><td>NA</td><td>May-17</td><td>0</td><td>NA</td><td>1</td><td>INDIVIDUAL</td><td>NA</td><td>NA</td><td>NA</td><td>0</td><td>0</td><td>83690</td><td>0</td><td>15</td><td>0</td><td>0</td><td>52</td><td>71856</td><td>118</td><td>0</td><td>1</td><td>1846</td><td>96</td><td>26400</td><td>0</td><td>0</td><td>0</td><td>1</td><td>2886</td><td>14203</td><td>40.6</td><td>0</td><td>0</td><td>164</td><td>120</td><td>16</td><td>16</td><td>0</td><td>16</td><td>NA</td><td>NA</td><td>NA</td><td>0</td><td>7</td><td>8</td><td>13</td><td>20</td><td>25</td><td>14</td><td>23</td><td>8</td><td>29</td><td>0</td><td>0</td><td>0</td><td>0</td><td>97.9</td><td>30.8</td><td>0</td><td>0</td><td>87509</td><td>83690</td><td>23900</td><td>61109</td><td>NA</td><td>NA</td><td>NA</td><td>NA</td><td>NA</td><td>NA</td><td>NA</td><td>NA</td><td>NA</td><td>NA</td><td>NA</td><td>N</td><td>NA</td><td>NA</td><td>NA</td><td>NA</td><td>NA</td><td>NA</td><td>NA</td><td>NA</td><td>NA</td><td>NA</td><td>NA</td><td>NA</td><td>NA</td><td>NA</td></tr><tr><th>23</th><td>NA</td><td>NA</td><td>6000</td><td>6000</td><td>6000</td><td>36 months</td><td>7.49%</td><td>186.61</td><td>A</td><td>A4</td><td>Analyst</td><td>10+ years</td><td>MORTGAGE</td><td>100000.0</td><td>Not Verified</td><td>Dec-15</td><td>Current</td><td>n</td><td>NA</td><td>NA</td><td>debt_consolidation</td><td>Debt consolidation</td><td>750xx</td><td>TX</td><td>13.28</td><td>1</td><td>May-94</td><td>1</td><td>15</td><td>NA</td><td>9</td><td>0</td><td>8563</td><td>72%</td><td>16</td><td>w</td><td>2833.1</td><td>2833.1</td><td>3725.96</td><td>3725.96</td><td>3166.9</td><td>559.06</td><td>0.0</td><td>0.0</td><td>0.0</td><td>Sep-17</td><td>186.61</td><td>Oct-17</td><td>Sep-17</td><td>0</td><td>NA</td><td>1</td><td>INDIVIDUAL</td><td>NA</td><td>NA</td><td>NA</td><td>0</td><td>0</td><td>116195</td><td>0</td><td>2</td><td>0</td><td>0</td><td>28</td><td>12525</td><td>35</td><td>0</td><td>1</td><td>2260</td><td>45</td><td>11900</td><td>0</td><td>1</td><td>1</td><td>1</td><td>12911</td><td>437</td><td>88.5</td><td>0</td><td>0</td><td>124</td><td>259</td><td>18</td><td>18</td><td>2</td><td>36</td><td>15</td><td>6</td><td>15</td><td>0</td><td>2</td><td>4</td><td>2</td><td>6</td><td>4</td><td>5</td><td>9</td><td>4</td><td>9</td><td>0</td><td>0</td><td>0</td><td>0</td><td>93.7</td><td>50.0</td><td>0</td><td>0</td><td>156354</td><td>22741</td><td>3800</td><td>36083</td><td>NA</td><td>NA</td><td>NA</td><td>NA</td><td>NA</td><td>NA</td><td>NA</td><td>NA</td><td>NA</td><td>NA</td><td>NA</td><td>N</td><td>NA</td><td>NA</td><td>NA</td><td>NA</td><td>NA</td><td>NA</td><td>NA</td><td>NA</td><td>NA</td><td>NA</td><td>NA</td><td>NA</td><td>NA</td><td>NA</td></tr><tr><th>24</th><td>NA</td><td>NA</td><td>16000</td><td>16000</td><td>16000</td><td>60 months</td><td>8.49%</td><td>328.19</td><td>B</td><td>B1</td><td>Supervisor</td><td>5 years</td><td>MORTGAGE</td><td>62000.0</td><td>Source Verified</td><td>Dec-15</td><td>Current</td><td>n</td><td>NA</td><td>NA</td><td>credit_card</td><td>Credit card refinancing</td><td>936xx</td><td>CA</td><td>28.92</td><td>0</td><td>Mar-02</td><td>0</td><td>39</td><td>NA</td><td>10</td><td>0</td><td>15763</td><td>51.20%</td><td>24</td><td>w</td><td>11398.55</td><td>11398.55</td><td>6544.93</td><td>6544.93</td><td>4601.45</td><td>1943.48</td><td>0.0</td><td>0.0</td><td>0.0</td><td>Sep-17</td><td>328.19</td><td>Oct-17</td><td>Aug-17</td><td>0</td><td>61</td><td>1</td><td>INDIVIDUAL</td><td>NA</td><td>NA</td><td>NA</td><td>0</td><td>0</td><td>227708</td><td>3</td><td>3</td><td>1</td><td>2</td><td>3</td><td>48608</td><td>82</td><td>2</td><td>4</td><td>4727</td><td>71</td><td>30800</td><td>1</td><td>1</td><td>0</td><td>6</td><td>22771</td><td>8703</td><td>63.0</td><td>0</td><td>0</td><td>165</td><td>159</td><td>3</td><td>3</td><td>3</td><td>3</td><td>NA</td><td>17</td><td>39</td><td>1</td><td>4</td><td>5</td><td>4</td><td>7</td><td>9</td><td>6</td><td>12</td><td>6</td><td>10</td><td>0</td><td>0</td><td>0</td><td>3</td><td>87.5</td><td>50.0</td><td>0</td><td>0</td><td>307343</td><td>64371</td><td>23500</td><td>59526</td><td>NA</td><td>NA</td><td>NA</td><td>NA</td><td>NA</td><td>NA</td><td>NA</td><td>NA</td><td>NA</td><td>NA</td><td>NA</td><td>N</td><td>NA</td><td>NA</td><td>NA</td><td>NA</td><td>NA</td><td>NA</td><td>NA</td><td>NA</td><td>NA</td><td>NA</td><td>NA</td><td>NA</td><td>NA</td><td>NA</td></tr><tr><th>25</th><td>NA</td><td>NA</td><td>29900</td><td>29900</td><td>29900</td><td>60 months</td><td>12.88%</td><td>678.49</td><td>C</td><td>C2</td><td>Corporate Insurance</td><td>10+ years</td><td>MORTGAGE</td><td>65000.0</td><td>Verified</td><td>Dec-15</td><td>Fully Paid</td><td>n</td><td>NA</td><td>NA</td><td>debt_consolidation</td><td>Debt consolidation</td><td>219xx</td><td>MD</td><td>21.77</td><td>0</td><td>May-04</td><td>0</td><td>NA</td><td>NA</td><td>15</td><td>0</td><td>31682</td><td>46.70%</td><td>31</td><td>w</td><td>0.0</td><td>0.0</td><td>34033.21418</td><td>34033.21</td><td>29900.0</td><td>4133.21</td><td>0.0</td><td>0.0</td><td>0.0</td><td>Mar-17</td><td>25234.24</td><td>NA</td><td>Jun-17</td><td>0</td><td>NA</td><td>1</td><td>INDIVIDUAL</td><td>NA</td><td>NA</td><td>NA</td><td>0</td><td>0</td><td>220251</td><td>2</td><td>1</td><td>1</td><td>2</td><td>9</td><td>10815</td><td>69</td><td>3</td><td>5</td><td>12971</td><td>51</td><td>67800</td><td>0</td><td>4</td><td>1</td><td>7</td><td>15732</td><td>18383</td><td>45.9</td><td>0</td><td>0</td><td>114</td><td>139</td><td>5</td><td>5</td><td>2</td><td>5</td><td>NA</td><td>9</td><td>NA</td><td>0</td><td>2</td><td>5</td><td>4</td><td>9</td><td>8</td><td>13</td><td>21</td><td>5</td><td>15</td><td>0</td><td>0</td><td>0</td><td>4</td><td>100.0</td><td>25.0</td><td>0</td><td>0</td><td>271700</td><td>42497</td><td>34000</td><td>15574</td><td>NA</td><td>NA</td><td>NA</td><td>NA</td><td>NA</td><td>NA</td><td>NA</td><td>NA</td><td>NA</td><td>NA</td><td>NA</td><td>N</td><td>NA</td><td>NA</td><td>NA</td><td>NA</td><td>NA</td><td>NA</td><td>NA</td><td>NA</td><td>NA</td><td>NA</td><td>NA</td><td>NA</td><td>NA</td><td>NA</td></tr><tr><th>26</th><td>NA</td><td>NA</td><td>15000</td><td>15000</td><td>15000</td><td>36 months</td><td>9.80%</td><td>482.61</td><td>B</td><td>B3</td><td>Electronic Branch Manager</td><td>3 years</td><td>MORTGAGE</td><td>92000.0</td><td>Not Verified</td><td>Dec-15</td><td>Fully Paid</td><td>n</td><td>NA</td><td>NA</td><td>debt_consolidation</td><td>Debt consolidation</td><td>973xx</td><td>OR</td><td>13.89</td><td>0</td><td>Nov-01</td><td>1</td><td>NA</td><td>67</td><td>7</td><td>2</td><td>12703</td><td>35.20%</td><td>31</td><td>w</td><td>0.0</td><td>0.0</td><td>15415.46</td><td>15415.46</td><td>15000.0</td><td>415.46</td><td>0.0</td><td>0.0</td><td>0.0</td><td>Apr-16</td><td>14450.25</td><td>NA</td><td>Sep-17</td><td>0</td><td>NA</td><td>1</td><td>INDIVIDUAL</td><td>NA</td><td>NA</td><td>NA</td><td>0</td><td>0</td><td>312996</td><td>0</td><td>2</td><td>2</td><td>2</td><td>8</td><td>40694</td><td>70</td><td>1</td><td>1</td><td>7045</td><td>42</td><td>36100</td><td>0</td><td>3</td><td>2</td><td>5</td><td>44714</td><td>23397</td><td>35.2</td><td>0</td><td>0</td><td>159</td><td>169</td><td>12</td><td>8</td><td>6</td><td>12</td><td>NA</td><td>4</td><td>NA</td><td>0</td><td>3</td><td>3</td><td>4</td><td>9</td><td>15</td><td>4</td><td>10</td><td>3</td><td>7</td><td>0</td><td>0</td><td>0</td><td>4</td><td>100.0</td><td>0.0</td><td>1</td><td>0</td><td>347470</td><td>53397</td><td>36100</td><td>47370</td><td>NA</td><td>NA</td><td>NA</td><td>NA</td><td>NA</td><td>NA</td><td>NA</td><td>NA</td><td>NA</td><td>NA</td><td>NA</td><td>N</td><td>NA</td><td>NA</td><td>NA</td><td>NA</td><td>NA</td><td>NA</td><td>NA</td><td>NA</td><td>NA</td><td>NA</td><td>NA</td><td>NA</td><td>NA</td><td>NA</td></tr><tr><th>27</th><td>NA</td><td>NA</td><td>20000</td><td>20000</td><td>20000</td><td>60 months</td><td>10.78%</td><td>432.66</td><td>B</td><td>B4</td><td>truck driver</td><td>10+ years</td><td>MORTGAGE</td><td>63000.0</td><td>Not Verified</td><td>Dec-15</td><td>Fully Paid</td><td>n</td><td>NA</td><td>NA</td><td>home_improvement</td><td>NA</td><td>605xx</td><td>IL</td><td>10.78</td><td>0</td><td>Aug-00</td><td>0</td><td>NA</td><td>NA</td><td>6</td><td>0</td><td>7869</td><td>56.20%</td><td>18</td><td>w</td><td>0.0</td><td>0.0</td><td>22705.92429</td><td>22705.92</td><td>20000.0</td><td>2705.92</td><td>0.0</td><td>0.0</td><td>0.0</td><td>Jun-17</td><td>15813.3</td><td>NA</td><td>Jun-17</td><td>0</td><td>NA</td><td>1</td><td>JOINT</td><td>71000</td><td>13.85</td><td>Not Verified</td><td>0</td><td>0</td><td>189699</td><td>0</td><td>1</td><td>0</td><td>4</td><td>19</td><td>10827</td><td>73</td><td>0</td><td>2</td><td>2081</td><td>65</td><td>14000</td><td>2</td><td>5</td><td>1</td><td>6</td><td>31617</td><td>2737</td><td>55.9</td><td>0</td><td>0</td><td>125</td><td>184</td><td>14</td><td>14</td><td>5</td><td>101</td><td>NA</td><td>10</td><td>NA</td><td>0</td><td>2</td><td>3</td><td>2</td><td>4</td><td>6</td><td>4</td><td>7</td><td>3</td><td>6</td><td>0</td><td>0</td><td>0</td><td>0</td><td>100.0</td><td>50.0</td><td>0</td><td>0</td><td>218418</td><td>18696</td><td>6200</td><td>14877</td><td>NA</td><td>NA</td><td>NA</td><td>NA</td><td>NA</td><td>NA</td><td>NA</td><td>NA</td><td>NA</td><td>NA</td><td>NA</td><td>N</td><td>NA</td><td>NA</td><td>NA</td><td>NA</td><td>NA</td><td>NA</td><td>NA</td><td>NA</td><td>NA</td><td>NA</td><td>NA</td><td>NA</td><td>NA</td><td>NA</td></tr><tr><th>28</th><td>NA</td><td>NA</td><td>9600</td><td>9600</td><td>9600</td><td>36 months</td><td>7.49%</td><td>298.58</td><td>A</td><td>A4</td><td>tech</td><td>8 years</td><td>MORTGAGE</td><td>60000.0</td><td>Not Verified</td><td>Dec-15</td><td>Current</td><td>n</td><td>NA</td><td>NA</td><td>credit_card</td><td>Credit card refinancing</td><td>299xx</td><td>SC</td><td>22.44</td><td>0</td><td>Jun-96</td><td>0</td><td>NA</td><td>NA</td><td>7</td><td>0</td><td>7722</td><td>59.40%</td><td>9</td><td>w</td><td>4532.88</td><td>4532.88</td><td>5961.61</td><td>5961.61</td><td>5067.12</td><td>894.49</td><td>0.0</td><td>0.0</td><td>0.0</td><td>Sep-17</td><td>298.58</td><td>Oct-17</td><td>Sep-17</td><td>0</td><td>NA</td><td>1</td><td>INDIVIDUAL</td><td>NA</td><td>NA</td><td>NA</td><td>0</td><td>0</td><td>55387</td><td>0</td><td>3</td><td>0</td><td>0</td><td>47</td><td>47665</td><td>43</td><td>2</td><td>2</td><td>4744</td><td>50</td><td>13000</td><td>0</td><td>0</td><td>2</td><td>2</td><td>7912</td><td>4778</td><td>61.8</td><td>0</td><td>0</td><td>234</td><td>91</td><td>9</td><td>9</td><td>0</td><td>11</td><td>NA</td><td>9</td><td>NA</td><td>0</td><td>3</td><td>3</td><td>3</td><td>3</td><td>5</td><td>4</td><td>4</td><td>3</td><td>7</td><td>0</td><td>0</td><td>0</td><td>2</td><td>100.0</td><td>66.7</td><td>0</td><td>0</td><td>88635</td><td>55387</td><td>12500</td><td>75635</td><td>NA</td><td>NA</td><td>NA</td><td>NA</td><td>NA</td><td>NA</td><td>NA</td><td>NA</td><td>NA</td><td>NA</td><td>NA</td><td>N</td><td>NA</td><td>NA</td><td>NA</td><td>NA</td><td>NA</td><td>NA</td><td>NA</td><td>NA</td><td>NA</td><td>NA</td><td>NA</td><td>NA</td><td>NA</td><td>NA</td></tr><tr><th>29</th><td>NA</td><td>NA</td><td>21000</td><td>21000</td><td>21000</td><td>60 months</td><td>13.44%</td><td>482.56</td><td>C</td><td>C3</td><td>Teacher</td><td>2 years</td><td>RENT</td><td>54649.0</td><td>Source Verified</td><td>Dec-15</td><td>Fully Paid</td><td>n</td><td>NA</td><td>NA</td><td>debt_consolidation</td><td>Debt consolidation</td><td>761xx</td><td>TX</td><td>12.14</td><td>0</td><td>Oct-99</td><td>0</td><td>NA</td><td>48</td><td>9</td><td>1</td><td>1581</td><td>26.80%</td><td>44</td><td>w</td><td>0.0</td><td>0.0</td><td>24473.22762</td><td>24473.23</td><td>21000.0</td><td>3473.23</td><td>0.0</td><td>0.0</td><td>0.0</td><td>May-17</td><td>17274.03</td><td>NA</td><td>Sep-17</td><td>0</td><td>NA</td><td>1</td><td>INDIVIDUAL</td><td>NA</td><td>NA</td><td>NA</td><td>0</td><td>0</td><td>51489</td><td>0</td><td>7</td><td>0</td><td>2</td><td>14</td><td>49908</td><td>97</td><td>0</td><td>1</td><td>1097</td><td>89</td><td>5900</td><td>1</td><td>3</td><td>1</td><td>3</td><td>5721</td><td>4319</td><td>26.8</td><td>0</td><td>0</td><td>186</td><td>194</td><td>17</td><td>14</td><td>2</td><td>17</td><td>NA</td><td>0</td><td>NA</td><td>0</td><td>2</td><td>2</td><td>2</td><td>14</td><td>25</td><td>2</td><td>17</td><td>2</td><td>9</td><td>0</td><td>0</td><td>0</td><td>0</td><td>100.0</td><td>50.0</td><td>1</td><td>0</td><td>57564</td><td>51489</td><td>5900</td><td>51664</td><td>NA</td><td>NA</td><td>NA</td><td>NA</td><td>NA</td><td>NA</td><td>NA</td><td>NA</td><td>NA</td><td>NA</td><td>NA</td><td>N</td><td>NA</td><td>NA</td><td>NA</td><td>NA</td><td>NA</td><td>NA</td><td>NA</td><td>NA</td><td>NA</td><td>NA</td><td>NA</td><td>NA</td><td>NA</td><td>NA</td></tr><tr><th>30</th><td>NA</td><td>NA</td><td>23100</td><td>23100</td><td>23100</td><td>60 months</td><td>20.50%</td><td>618.46</td><td>E</td><td>E4</td><td>Regional Sales Direcdtor</td><td>2 years</td><td>OWN</td><td>110000.0</td><td>Not Verified</td><td>Dec-15</td><td>Charged Off</td><td>n</td><td>NA</td><td>NA</td><td>car</td><td>Car financing</td><td>197xx</td><td>DE</td><td>20.43</td><td>0</td><td>Aug-86</td><td>0</td><td>47</td><td>NA</td><td>11</td><td>0</td><td>20594</td><td>94.90%</td><td>24</td><td>w</td><td>0.0</td><td>0.0</td><td>5305.12</td><td>5305.12</td><td>1158.07</td><td>1868.46</td><td>0.0</td><td>2278.59</td><td>410.1462</td><td>Jun-16</td><td>618.46</td><td>NA</td><td>Dec-16</td><td>0</td><td>47</td><td>1</td><td>INDIVIDUAL</td><td>NA</td><td>NA</td><td>NA</td><td>0</td><td>1105</td><td>55048</td><td>1</td><td>3</td><td>0</td><td>0</td><td>25</td><td>34454</td><td>43</td><td>3</td><td>5</td><td>4871</td><td>54</td><td>21700</td><td>3</td><td>0</td><td>9</td><td>5</td><td>5505</td><td>1106</td><td>94.9</td><td>0</td><td>0</td><td>159</td><td>352</td><td>3</td><td>3</td><td>2</td><td>3</td><td>47</td><td>0</td><td>47</td><td>1</td><td>5</td><td>5</td><td>8</td><td>11</td><td>10</td><td>8</td><td>12</td><td>6</td><td>11</td><td>0</td><td>0</td><td>0</td><td>3</td><td>87.5</td><td>85.7</td><td>0</td><td>0</td><td>102524</td><td>55048</td><td>21700</td><td>80824</td><td>NA</td><td>NA</td><td>NA</td><td>NA</td><td>NA</td><td>NA</td><td>NA</td><td>NA</td><td>NA</td><td>NA</td><td>NA</td><td>N</td><td>NA</td><td>NA</td><td>NA</td><td>NA</td><td>NA</td><td>NA</td><td>NA</td><td>NA</td><td>NA</td><td>NA</td><td>NA</td><td>NA</td><td>NA</td><td>NA</td></tr><tr><th>&vellip;</th><td>&vellip;</td><td>&vellip;</td><td>&vellip;</td><td>&vellip;</td><td>&vellip;</td><td>&vellip;</td><td>&vellip;</td><td>&vellip;</td><td>&vellip;</td><td>&vellip;</td><td>&vellip;</td><td>&vellip;</td><td>&vellip;</td><td>&vellip;</td><td>&vellip;</td><td>&vellip;</td><td>&vellip;</td><td>&vellip;</td><td>&vellip;</td><td>&vellip;</td><td>&vellip;</td><td>&vellip;</td><td>&vellip;</td><td>&vellip;</td><td>&vellip;</td><td>&vellip;</td><td>&vellip;</td><td>&vellip;</td><td>&vellip;</td><td>&vellip;</td><td>&vellip;</td><td>&vellip;</td><td>&vellip;</td><td>&vellip;</td><td>&vellip;</td><td>&vellip;</td><td>&vellip;</td><td>&vellip;</td><td>&vellip;</td><td>&vellip;</td><td>&vellip;</td><td>&vellip;</td><td>&vellip;</td><td>&vellip;</td><td>&vellip;</td><td>&vellip;</td><td>&vellip;</td><td>&vellip;</td><td>&vellip;</td><td>&vellip;</td><td>&vellip;</td><td>&vellip;</td><td>&vellip;</td><td>&vellip;</td><td>&vellip;</td><td>&vellip;</td><td>&vellip;</td><td>&vellip;</td><td>&vellip;</td><td>&vellip;</td><td>&vellip;</td><td>&vellip;</td><td>&vellip;</td><td>&vellip;</td><td>&vellip;</td><td>&vellip;</td><td>&vellip;</td><td>&vellip;</td><td>&vellip;</td><td>&vellip;</td><td>&vellip;</td><td>&vellip;</td><td>&vellip;</td><td>&vellip;</td><td>&vellip;</td><td>&vellip;</td><td>&vellip;</td><td>&vellip;</td><td>&vellip;</td><td>&vellip;</td><td>&vellip;</td><td>&vellip;</td><td>&vellip;</td><td>&vellip;</td><td>&vellip;</td><td>&vellip;</td><td>&vellip;</td><td>&vellip;</td><td>&vellip;</td><td>&vellip;</td><td>&vellip;</td><td>&vellip;</td><td>&vellip;</td><td>&vellip;</td><td>&vellip;</td><td>&vellip;</td><td>&vellip;</td><td>&vellip;</td><td>&vellip;</td><td>&vellip;</td><td>&vellip;</td><td>&vellip;</td><td>&vellip;</td><td>&vellip;</td><td>&vellip;</td><td>&vellip;</td><td>&vellip;</td><td>&vellip;</td><td>&vellip;</td><td>&vellip;</td><td>&vellip;</td><td>&vellip;</td><td>&vellip;</td><td>&vellip;</td><td>&vellip;</td><td>&vellip;</td><td>&vellip;</td><td>&vellip;</td><td>&vellip;</td><td>&vellip;</td><td>&vellip;</td><td>&vellip;</td><td>&vellip;</td><td>&vellip;</td><td>&vellip;</td><td>&vellip;</td><td>&vellip;</td><td>&vellip;</td><td>&vellip;</td><td>&vellip;</td><td>&vellip;</td><td>&vellip;</td><td>&vellip;</td><td>&vellip;</td><td>&vellip;</td><td>&vellip;</td><td>&vellip;</td></tr></tbody></table>"
      ],
      "text/plain": [
       "421×137 DataFrames.DataFrame\n",
       "│ Row │ id │ member_id │ loan_amnt │ funded_amnt │ funded_amnt_inv │\n",
       "├─────┼────┼───────────┼───────────┼─────────────┼─────────────────┤\n",
       "│ 1   │ NA │ NA        │ 20000     │ 20000       │ 20000           │\n",
       "│ 2   │ NA │ NA        │ 10000     │ 10000       │ 10000           │\n",
       "│ 3   │ NA │ NA        │ 21000     │ 21000       │ 21000           │\n",
       "│ 4   │ NA │ NA        │ 24000     │ 24000       │ 24000           │\n",
       "│ 5   │ NA │ NA        │ 14025     │ 14025       │ 14025           │\n",
       "│ 6   │ NA │ NA        │ 23975     │ 23975       │ 23975           │\n",
       "│ 7   │ NA │ NA        │ 7200      │ 7200        │ 7200            │\n",
       "│ 8   │ NA │ NA        │ 7200      │ 7200        │ 7200            │\n",
       "│ 9   │ NA │ NA        │ 10000     │ 10000       │ 10000           │\n",
       "│ 10  │ NA │ NA        │ 20000     │ 20000       │ 20000           │\n",
       "│ 11  │ NA │ NA        │ 15000     │ 15000       │ 15000           │\n",
       "⋮\n",
       "│ 410 │ NA │ NA        │ 7200      │ 7200        │ 7200            │\n",
       "│ 411 │ NA │ NA        │ 8000      │ 8000        │ 8000            │\n",
       "│ 412 │ NA │ NA        │ 35000     │ 35000       │ 35000           │\n",
       "│ 413 │ NA │ NA        │ 28000     │ 28000       │ 28000           │\n",
       "│ 414 │ NA │ NA        │ 9000      │ 9000        │ 9000            │\n",
       "│ 415 │ NA │ NA        │ 8400      │ 8400        │ 8400            │\n",
       "│ 416 │ NA │ NA        │ 20000     │ 20000       │ 20000           │\n",
       "│ 417 │ NA │ NA        │ 5875      │ 5875        │ 5875            │\n",
       "│ 418 │ NA │ NA        │ 12000     │ 12000       │ 12000           │\n",
       "│ 419 │ NA │ NA        │ 6000      │ 6000        │ 6000            │\n",
       "│ 420 │ NA │ NA        │ 19225     │ 19225       │ 19225           │\n",
       "│ 421 │ NA │ NA        │ 15000     │ 15000       │ 15000           │\n",
       "\n",
       "│ Row │ term        │ int_rate │ installment │ grade │ sub_grade │\n",
       "├─────┼─────────────┼──────────┼─────────────┼───────┼───────────┤\n",
       "│ 1   │ \"36 months\" │ \"6.49%\"  │ 612.89      │ \"A\"   │ \"A2\"      │\n",
       "│ 2   │ \"36 months\" │ \"11.48%\" │ 329.67      │ \"B\"   │ \"B5\"      │\n",
       "│ 3   │ \"60 months\" │ \"13.99%\" │ 488.53      │ \"C\"   │ \"C4\"      │\n",
       "│ 4   │ \"60 months\" │ \"9.80%\"  │ 507.58      │ \"B\"   │ \"B3\"      │\n",
       "│ 5   │ \"60 months\" │ \"18.49%\" │ 359.9       │ \"D\"   │ \"D5\"      │\n",
       "│ 6   │ \"60 months\" │ \"19.89%\" │ 633.73      │ \"E\"   │ \"E3\"      │\n",
       "│ 7   │ \"36 months\" │ \"15.77%\" │ 252.32      │ \"D\"   │ \"D1\"      │\n",
       "│ 8   │ \"36 months\" │ \"11.48%\" │ 237.36      │ \"B\"   │ \"B5\"      │\n",
       "│ 9   │ \"60 months\" │ \"17.97%\" │ 253.78      │ \"D\"   │ \"D4\"      │\n",
       "│ 10  │ \"36 months\" │ \"9.80%\"  │ 643.47      │ \"B\"   │ \"B3\"      │\n",
       "│ 11  │ \"60 months\" │ \"13.44%\" │ 344.69      │ \"C\"   │ \"C3\"      │\n",
       "⋮\n",
       "│ 410 │ \"36 months\" │ \"11.48%\" │ 237.36      │ \"B\"   │ \"B5\"      │\n",
       "│ 411 │ \"36 months\" │ \"7.91%\"  │ 250.36      │ \"A\"   │ \"A5\"      │\n",
       "│ 412 │ \"36 months\" │ \"13.99%\" │ 1196.05     │ \"C\"   │ \"C4\"      │\n",
       "│ 413 │ \"36 months\" │ \"7.91%\"  │ 876.26      │ \"A\"   │ \"A5\"      │\n",
       "│ 414 │ \"36 months\" │ \"5.32%\"  │ 271.04      │ \"A\"   │ \"A1\"      │\n",
       "│ 415 │ \"36 months\" │ \"11.48%\" │ 276.92      │ \"B\"   │ \"B5\"      │\n",
       "│ 416 │ \"36 months\" │ \"8.49%\"  │ 631.26      │ \"B\"   │ \"B1\"      │\n",
       "│ 417 │ \"36 months\" │ \"15.77%\" │ 205.89      │ \"D\"   │ \"D1\"      │\n",
       "│ 418 │ \"60 months\" │ \"9.80%\"  │ 253.79      │ \"B\"   │ \"B3\"      │\n",
       "│ 419 │ \"36 months\" │ \"10.78%\" │ 195.81      │ \"B\"   │ \"B4\"      │\n",
       "│ 420 │ \"60 months\" │ \"26.99%\" │ 586.93      │ \"G\"   │ \"G1\"      │\n",
       "│ 421 │ \"36 months\" │ \"13.99%\" │ 512.6       │ \"C\"   │ \"C4\"      │\n",
       "\n",
       "│ Row │ emp_title                                 │ emp_length  │\n",
       "├─────┼───────────────────────────────────────────┼─────────────┤\n",
       "│ 1   │ \"TEAM LEAD, QUALITY ENGINEER\"             │ \"6 years\"   │\n",
       "│ 2   │ \"Paralegal\"                               │ \"2 years\"   │\n",
       "│ 3   │ \"Resident physician\"                      │ \"< 1 year\"  │\n",
       "│ 4   │ NA                                        │ \"n/a\"       │\n",
       "│ 5   │ \"accts payable\"                           │ \"10+ years\" │\n",
       "│ 6   │ \"Principal\"                               │ \"10+ years\" │\n",
       "│ 7   │ \"Bank Officer Senior Customer Care Spec.\" │ \"< 1 year\"  │\n",
       "│ 8   │ \"Legal Administrative Assistant\"          │ \"10+ years\" │\n",
       "│ 9   │ \"Educator\"                                │ \"2 years\"   │\n",
       "│ 10  │ \"Manager\"                                 │ \"5 years\"   │\n",
       "│ 11  │ \"Counselor\"                               │ \"4 years\"   │\n",
       "⋮\n",
       "│ 410 │ \"Teller\"                                  │ \"1 year\"    │\n",
       "│ 411 │ \"Teacher\"                                 │ \"10+ years\" │\n",
       "│ 412 │ \"Teacher\"                                 │ \"10+ years\" │\n",
       "│ 413 │ \"Group Manager\"                           │ \"1 year\"    │\n",
       "│ 414 │ \"Financial Advisor\"                       │ \"7 years\"   │\n",
       "│ 415 │ \"Customer advocate\"                       │ \"< 1 year\"  │\n",
       "│ 416 │ \"registered nurse\"                        │ \"10+ years\" │\n",
       "│ 417 │ \"manufacturing driver\"                    │ \"10+ years\" │\n",
       "│ 418 │ \"Business Office Asst\"                    │ \"10+ years\" │\n",
       "│ 419 │ \"Procurement\"                             │ \"< 1 year\"  │\n",
       "│ 420 │ \"OTR Truck Driver\"                        │ \"< 1 year\"  │\n",
       "│ 421 │ \"Table Games Supervisor\"                  │ \"2 years\"   │\n",
       "\n",
       "│ Row │ home_ownership │ annual_inc │ verification_status │ issue_d  │\n",
       "├─────┼────────────────┼────────────┼─────────────────────┼──────────┤\n",
       "│ 1   │ \"MORTGAGE\"     │ 55000.0    │ \"Not Verified\"      │ \"Dec-15\" │\n",
       "│ 2   │ \"RENT\"         │ 33000.0    │ \"Not Verified\"      │ \"Dec-15\" │\n",
       "│ 3   │ \"RENT\"         │ 52000.0    │ \"Source Verified\"   │ \"Dec-15\" │\n",
       "│ 4   │ \"OWN\"          │ 77900.0    │ \"Not Verified\"      │ \"Dec-15\" │\n",
       "│ 5   │ \"MORTGAGE\"     │ 39000.0    │ \"Verified\"          │ \"Dec-15\" │\n",
       "│ 6   │ \"RENT\"         │ 70000.0    │ \"Not Verified\"      │ \"Dec-15\" │\n",
       "│ 7   │ \"RENT\"         │ 55000.0    │ \"Not Verified\"      │ \"Dec-15\" │\n",
       "│ 8   │ \"MORTGAGE\"     │ 72500.0    │ \"Verified\"          │ \"Dec-15\" │\n",
       "│ 9   │ \"MORTGAGE\"     │ 55000.0    │ \"Not Verified\"      │ \"Dec-15\" │\n",
       "│ 10  │ \"RENT\"         │ 75000.0    │ \"Not Verified\"      │ \"Dec-15\" │\n",
       "│ 11  │ \"RENT\"         │ 77213.0    │ \"Source Verified\"   │ \"Dec-15\" │\n",
       "⋮\n",
       "│ 410 │ \"RENT\"         │ 22000.0    │ \"Not Verified\"      │ \"Dec-15\" │\n",
       "│ 411 │ \"MORTGAGE\"     │ 63800.0    │ \"Not Verified\"      │ \"Dec-15\" │\n",
       "│ 412 │ \"OWN\"          │ 121000.0   │ \"Source Verified\"   │ \"Dec-15\" │\n",
       "│ 413 │ \"MORTGAGE\"     │ 160000.0   │ \"Not Verified\"      │ \"Dec-15\" │\n",
       "│ 414 │ \"MORTGAGE\"     │ 150000.0   │ \"Not Verified\"      │ \"Dec-15\" │\n",
       "│ 415 │ \"RENT\"         │ 80000.0    │ \"Source Verified\"   │ \"Dec-15\" │\n",
       "│ 416 │ \"MORTGAGE\"     │ 98000.0    │ \"Not Verified\"      │ \"Dec-15\" │\n",
       "│ 417 │ \"RENT\"         │ 56000.0    │ \"Verified\"          │ \"Dec-15\" │\n",
       "│ 418 │ \"MORTGAGE\"     │ 36500.0    │ \"Not Verified\"      │ \"Dec-15\" │\n",
       "│ 419 │ \"MORTGAGE\"     │ 57000.0    │ \"Source Verified\"   │ \"Dec-15\" │\n",
       "│ 420 │ \"MORTGAGE\"     │ 56600.0    │ \"Verified\"          │ \"Dec-15\" │\n",
       "│ 421 │ \"OWN\"          │ 48000.0    │ \"Source Verified\"   │ \"Dec-15\" │\n",
       "\n",
       "│ Row │ loan_status   │ pymnt_plan │ url │ desc │ purpose              │\n",
       "├─────┼───────────────┼────────────┼─────┼──────┼──────────────────────┤\n",
       "│ 1   │ \"Current\"     │ \"n\"        │ NA  │ NA   │ \"debt_consolidation\" │\n",
       "│ 2   │ \"Current\"     │ \"n\"        │ NA  │ NA   │ \"debt_consolidation\" │\n",
       "│ 3   │ \"Current\"     │ \"n\"        │ NA  │ NA   │ \"credit_card\"        │\n",
       "│ 4   │ \"Current\"     │ \"n\"        │ NA  │ NA   │ \"home_improvement\"   │\n",
       "│ 5   │ \"Fully Paid\"  │ \"n\"        │ NA  │ NA   │ \"debt_consolidation\" │\n",
       "│ 6   │ \"Charged Off\" │ \"n\"        │ NA  │ NA   │ \"credit_card\"        │\n",
       "│ 7   │ \"Current\"     │ \"n\"        │ NA  │ NA   │ \"debt_consolidation\" │\n",
       "│ 8   │ \"Fully Paid\"  │ \"n\"        │ NA  │ NA   │ \"home_improvement\"   │\n",
       "│ 9   │ \"Current\"     │ \"n\"        │ NA  │ NA   │ \"credit_card\"        │\n",
       "│ 10  │ \"Fully Paid\"  │ \"n\"        │ NA  │ NA   │ \"debt_consolidation\" │\n",
       "│ 11  │ \"Fully Paid\"  │ \"n\"        │ NA  │ NA   │ \"credit_card\"        │\n",
       "⋮\n",
       "│ 410 │ \"Current\"     │ \"n\"        │ NA  │ NA   │ \"debt_consolidation\" │\n",
       "│ 411 │ \"Current\"     │ \"n\"        │ NA  │ NA   │ \"debt_consolidation\" │\n",
       "│ 412 │ \"Fully Paid\"  │ \"n\"        │ NA  │ NA   │ \"credit_card\"        │\n",
       "│ 413 │ \"Current\"     │ \"n\"        │ NA  │ NA   │ \"home_improvement\"   │\n",
       "│ 414 │ \"Fully Paid\"  │ \"n\"        │ NA  │ NA   │ \"major_purchase\"     │\n",
       "│ 415 │ \"Fully Paid\"  │ \"n\"        │ NA  │ NA   │ \"credit_card\"        │\n",
       "│ 416 │ \"Fully Paid\"  │ \"n\"        │ NA  │ NA   │ \"debt_consolidation\" │\n",
       "│ 417 │ \"Current\"     │ \"n\"        │ NA  │ NA   │ \"debt_consolidation\" │\n",
       "│ 418 │ \"Fully Paid\"  │ \"n\"        │ NA  │ NA   │ \"debt_consolidation\" │\n",
       "│ 419 │ \"Current\"     │ \"n\"        │ NA  │ NA   │ \"debt_consolidation\" │\n",
       "│ 420 │ \"Current\"     │ \"n\"        │ NA  │ NA   │ \"debt_consolidation\" │\n",
       "│ 421 │ \"Charged Off\" │ \"n\"        │ NA  │ NA   │ \"credit_card\"        │\n",
       "\n",
       "│ Row │ title                     │ zip_code │ addr_state │ dti   │\n",
       "├─────┼───────────────────────────┼──────────┼────────────┼───────┤\n",
       "│ 1   │ \"Debt consolidation\"      │ \"381xx\"  │ \"TN\"       │ 29.15 │\n",
       "│ 2   │ \"Debt consolidation\"      │ \"477xx\"  │ \"IN\"       │ 21.75 │\n",
       "│ 3   │ \"Credit card refinancing\" │ \"441xx\"  │ \"OH\"       │ 14.47 │\n",
       "│ 4   │ \"Home improvement\"        │ \"376xx\"  │ \"TN\"       │ 10.24 │\n",
       "│ 5   │ \"Debt consolidation\"      │ \"546xx\"  │ \"WI\"       │ 18.0  │\n",
       "│ 6   │ \"Credit card refinancing\" │ \"220xx\"  │ \"VA\"       │ 33.2  │\n",
       "│ 7   │ NA                        │ \"142xx\"  │ \"NY\"       │ 17.35 │\n",
       "│ 8   │ \"Home improvement\"        │ \"300xx\"  │ \"GA\"       │ 8.47  │\n",
       "│ 9   │ \"Credit card refinancing\" │ \"802xx\"  │ \"CO\"       │ 35.7  │\n",
       "│ 10  │ \"Debt consolidation\"      │ \"984xx\"  │ \"WA\"       │ 23.45 │\n",
       "│ 11  │ \"Credit card refinancing\" │ \"347xx\"  │ \"FL\"       │ 18.17 │\n",
       "⋮\n",
       "│ 410 │ \"Debt consolidation\"      │ \"786xx\"  │ \"TX\"       │ 23.57 │\n",
       "│ 411 │ \"Debt consolidation\"      │ \"750xx\"  │ \"TX\"       │ 23.76 │\n",
       "│ 412 │ \"Credit card refinancing\" │ \"116xx\"  │ \"NY\"       │ 9.23  │\n",
       "│ 413 │ \"Home improvement\"        │ \"980xx\"  │ \"WA\"       │ 23.69 │\n",
       "│ 414 │ \"Major purchase\"          │ \"968xx\"  │ \"HI\"       │ 0.63  │\n",
       "│ 415 │ \"Credit card refinancing\" │ \"146xx\"  │ \"NY\"       │ 13.92 │\n",
       "│ 416 │ \"Debt consolidation\"      │ \"551xx\"  │ \"MN\"       │ 16.7  │\n",
       "│ 417 │ \"Debt consolidation\"      │ \"604xx\"  │ \"IL\"       │ 25.65 │\n",
       "│ 418 │ \"Debt consolidation\"      │ \"296xx\"  │ \"SC\"       │ 18.91 │\n",
       "│ 419 │ \"Debt consolidation\"      │ \"211xx\"  │ \"MD\"       │ 18.34 │\n",
       "│ 420 │ NA                        │ \"451xx\"  │ \"OH\"       │ 18.21 │\n",
       "│ 421 │ \"Credit card refinancing\" │ \"890xx\"  │ \"NV\"       │ 31.29 │\n",
       "\n",
       "│ Row │ delinq_2yrs │ earliest_cr_line │ inq_last_6mths │\n",
       "├─────┼─────────────┼──────────────────┼────────────────┤\n",
       "│ 1   │ 0           │ \"Sep-94\"         │ 0              │\n",
       "│ 2   │ 0           │ \"Aug-09\"         │ 0              │\n",
       "│ 3   │ 0           │ \"Jan-05\"         │ 1              │\n",
       "│ 4   │ 0           │ \"Oct-82\"         │ 1              │\n",
       "│ 5   │ 0           │ \"Aug-01\"         │ 1              │\n",
       "│ 6   │ 0           │ \"Jun-95\"         │ 1              │\n",
       "│ 7   │ 0           │ \"Jun-05\"         │ 0              │\n",
       "│ 8   │ 0           │ \"Aug-04\"         │ 1              │\n",
       "│ 9   │ 0           │ \"Apr-01\"         │ 0              │\n",
       "│ 10  │ 0           │ \"May-92\"         │ 0              │\n",
       "│ 11  │ 0           │ \"Dec-01\"         │ 2              │\n",
       "⋮\n",
       "│ 410 │ 0           │ \"Aug-99\"         │ 3              │\n",
       "│ 411 │ 1           │ \"Jun-91\"         │ 1              │\n",
       "│ 412 │ 0           │ \"Jul-84\"         │ 4              │\n",
       "│ 413 │ 0           │ \"Sep-91\"         │ 1              │\n",
       "│ 414 │ 0           │ \"Feb-87\"         │ 0              │\n",
       "│ 415 │ 0           │ \"Oct-07\"         │ 0              │\n",
       "│ 416 │ 1           │ \"Sep-95\"         │ 0              │\n",
       "│ 417 │ 0           │ \"Oct-05\"         │ 2              │\n",
       "│ 418 │ 0           │ \"Apr-80\"         │ 0              │\n",
       "│ 419 │ 2           │ \"Jun-03\"         │ 0              │\n",
       "│ 420 │ 0           │ \"Apr-90\"         │ 1              │\n",
       "│ 421 │ 0           │ \"Apr-11\"         │ 0              │\n",
       "\n",
       "│ Row │ mths_since_last_delinq │ mths_since_last_record │ open_acc │ pub_rec │\n",
       "├─────┼────────────────────────┼────────────────────────┼──────────┼─────────┤\n",
       "│ 1   │ 74                     │ NA                     │ 9        │ 0       │\n",
       "│ 2   │ NA                     │ 12                     │ 12       │ 1       │\n",
       "│ 3   │ NA                     │ NA                     │ 5        │ 0       │\n",
       "│ 4   │ 50                     │ NA                     │ 9        │ 0       │\n",
       "│ 5   │ NA                     │ NA                     │ 12       │ 0       │\n",
       "│ 6   │ NA                     │ NA                     │ 10       │ 0       │\n",
       "│ 7   │ 59                     │ 74                     │ 24       │ 1       │\n",
       "│ 8   │ NA                     │ NA                     │ 5        │ 0       │\n",
       "│ 9   │ NA                     │ NA                     │ 14       │ 0       │\n",
       "│ 10  │ 70                     │ NA                     │ 14       │ 0       │\n",
       "│ 11  │ NA                     │ 76                     │ 17       │ 1       │\n",
       "⋮\n",
       "│ 410 │ NA                     │ NA                     │ 10       │ 0       │\n",
       "│ 411 │ 19                     │ NA                     │ 11       │ 0       │\n",
       "│ 412 │ NA                     │ 62                     │ 27       │ 1       │\n",
       "│ 413 │ NA                     │ NA                     │ 16       │ 0       │\n",
       "│ 414 │ NA                     │ NA                     │ 4        │ 0       │\n",
       "│ 415 │ NA                     │ NA                     │ 12       │ 0       │\n",
       "│ 416 │ 11                     │ NA                     │ 11       │ 0       │\n",
       "│ 417 │ NA                     │ NA                     │ 5        │ 0       │\n",
       "│ 418 │ NA                     │ NA                     │ 10       │ 0       │\n",
       "│ 419 │ 12                     │ NA                     │ 12       │ 0       │\n",
       "│ 420 │ 51                     │ 28                     │ 8        │ 1       │\n",
       "│ 421 │ NA                     │ NA                     │ 6        │ 0       │\n",
       "\n",
       "│ Row │ revol_bal │ revol_util │ total_acc │ initial_list_status │ out_prncp │\n",
       "├─────┼───────────┼────────────┼───────────┼─────────────────────┼───────────┤\n",
       "│ 1   │ 4851      │ \"23.80%\"   │ 23        │ \"w\"                 │ 9369.66   │\n",
       "│ 2   │ 8052      │ \"35.60%\"   │ 20        │ \"w\"                 │ 4586.07   │\n",
       "│ 3   │ 20374     │ \"87.40%\"   │ 15        │ \"w\"                 │ 15546.4   │\n",
       "│ 4   │ 3454      │ \"10.30%\"   │ 21        │ \"w\"                 │ 17260.4   │\n",
       "│ 5   │ 15646     │ \"74.90%\"   │ 21        │ \"w\"                 │ 0.0       │\n",
       "│ 6   │ 44807     │ \"94.90%\"   │ 19        │ \"w\"                 │ 0.0       │\n",
       "│ 7   │ 5938      │ \"69%\"      │ 43        │ \"w\"                 │ 3619.38   │\n",
       "│ 8   │ 5449      │ \"35.20%\"   │ 7         │ \"w\"                 │ 0.0       │\n",
       "│ 9   │ 38623     │ \"78%\"      │ 28        │ \"w\"                 │ 7595.04   │\n",
       "│ 10  │ 7558      │ \"9.60%\"    │ 26        │ \"w\"                 │ 0.0       │\n",
       "│ 11  │ 59237     │ \"25.80%\"   │ 44        │ \"w\"                 │ 0.0       │\n",
       "⋮\n",
       "│ 410 │ 1335      │ \"8.60%\"    │ 10        │ \"w\"                 │ 3505.84   │\n",
       "│ 411 │ 5025      │ \"32.20%\"   │ 35        │ \"w\"                 │ 3789.89   │\n",
       "│ 412 │ 21876     │ \"34.80%\"   │ 87        │ \"w\"                 │ 0.0       │\n",
       "│ 413 │ 158563    │ \"75.20%\"   │ 31        │ \"w\"                 │ 13264.6   │\n",
       "│ 414 │ 4842      │ \"7%\"       │ 30        │ \"w\"                 │ 0.0       │\n",
       "│ 415 │ 6597      │ \"29.10%\"   │ 61        │ \"w\"                 │ 0.0       │\n",
       "│ 416 │ 16876     │ \"71.80%\"   │ 30        │ \"w\"                 │ 0.0       │\n",
       "│ 417 │ 928       │ \"38.70%\"   │ 11        │ \"w\"                 │ 2953.22   │\n",
       "│ 418 │ 5940      │ \"26.50%\"   │ 24        │ \"w\"                 │ 0.0       │\n",
       "│ 419 │ 10706     │ \"21.10%\"   │ 23        │ \"w\"                 │ 2906.01   │\n",
       "│ 420 │ 7055      │ \"44.70%\"   │ 22        │ \"w\"                 │ 15375.8   │\n",
       "│ 421 │ 3044      │ \"41.70%\"   │ 11        │ \"w\"                 │ 0.0       │\n",
       "\n",
       "│ Row │ out_prncp_inv │ total_pymnt │ total_pymnt_inv │ total_rec_prncp │\n",
       "├─────┼───────────────┼─────────────┼─────────────────┼─────────────────┤\n",
       "│ 1   │ 9369.66       │ 12239.8     │ 12239.8         │ 10630.3         │\n",
       "│ 2   │ 4586.07       │ 6888.44     │ 6888.44         │ 5413.93         │\n",
       "│ 3   │ 15546.4       │ 9852.21     │ 9852.21         │ 5453.63         │\n",
       "│ 4   │ 17260.4       │ 10118.9     │ 10118.9         │ 6739.6          │\n",
       "│ 5   │ 0.0           │ 16341.4     │ 16341.4         │ 14025.0         │\n",
       "│ 6   │ 0.0           │ 3928.86     │ 3928.86         │ 1478.13         │\n",
       "│ 7   │ 3619.38       │ 5030.63     │ 5030.63         │ 3580.62         │\n",
       "│ 8   │ 0.0           │ 8253.86     │ 8253.86         │ 7200.0          │\n",
       "│ 9   │ 7595.04       │ 5050.64     │ 5050.64         │ 2404.96         │\n",
       "│ 10  │ 0.0           │ 21918.8     │ 21918.8         │ 20000.0         │\n",
       "│ 11  │ 0.0           │ 17307.0     │ 17307.0         │ 15000.0         │\n",
       "⋮\n",
       "│ 410 │ 3505.84       │ 4735.72     │ 4735.72         │ 3694.16         │\n",
       "│ 411 │ 3789.89       │ 4998.41     │ 4998.41         │ 4210.11         │\n",
       "│ 412 │ 0.0           │ 39285.1     │ 39285.1         │ 35000.0         │\n",
       "│ 413 │ 13264.6       │ 17494.4     │ 17494.4         │ 14735.4         │\n",
       "│ 414 │ 0.0           │ 9079.21     │ 9079.21         │ 9000.0          │\n",
       "│ 415 │ 0.0           │ 8511.45     │ 8511.45         │ 8400.0          │\n",
       "│ 416 │ 0.0           │ 21315.7     │ 21315.7         │ 20000.0         │\n",
       "│ 417 │ 2953.22       │ 4104.93     │ 4104.93         │ 2921.78         │\n",
       "│ 418 │ 0.0           │ 12964.5     │ 12964.5         │ 12000.0         │\n",
       "│ 419 │ 2906.01       │ 3907.22     │ 3907.22         │ 3093.99         │\n",
       "│ 420 │ 15375.8       │ 11666.5     │ 11666.5         │ 3849.2          │\n",
       "│ 421 │ 0.0           │ 4007.52     │ 4007.52         │ 2812.95         │\n",
       "\n",
       "│ Row │ total_rec_int │ total_rec_late_fee │ recoveries │\n",
       "├─────┼───────────────┼────────────────────┼────────────┤\n",
       "│ 1   │ 1609.43       │ 0.0                │ 0.0        │\n",
       "│ 2   │ 1474.51       │ 0.0                │ 0.0        │\n",
       "│ 3   │ 4398.58       │ 0.0                │ 0.0        │\n",
       "│ 4   │ 3379.33       │ 0.0                │ 0.0        │\n",
       "│ 5   │ 2316.39       │ 0.0                │ 0.0        │\n",
       "│ 6   │ 2450.73       │ 0.0                │ 0.0        │\n",
       "│ 7   │ 1450.01       │ 0.0                │ 0.0        │\n",
       "│ 8   │ 1053.86       │ 0.0                │ 0.0        │\n",
       "│ 9   │ 2645.68       │ 0.0                │ 0.0        │\n",
       "│ 10  │ 1918.82       │ 0.0                │ 0.0        │\n",
       "│ 11  │ 2307.02       │ 0.0                │ 0.0        │\n",
       "⋮\n",
       "│ 410 │ 1041.56       │ 0.0                │ 0.0        │\n",
       "│ 411 │ 788.3         │ 0.0                │ 0.0        │\n",
       "│ 412 │ 4285.1        │ 0.0                │ 0.0        │\n",
       "│ 413 │ 2759.04       │ 0.0                │ 0.0        │\n",
       "│ 414 │ 79.21         │ 0.0                │ 0.0        │\n",
       "│ 415 │ 111.45        │ 0.0                │ 0.0        │\n",
       "│ 416 │ 1315.67       │ 0.0                │ 0.0        │\n",
       "│ 417 │ 1183.15       │ 0.0                │ 0.0        │\n",
       "│ 418 │ 964.52        │ 0.0                │ 0.0        │\n",
       "│ 419 │ 813.23        │ 0.0                │ 0.0        │\n",
       "│ 420 │ 7817.33       │ 0.0                │ 0.0        │\n",
       "│ 421 │ 1194.57       │ 0.0                │ 0.0        │\n",
       "\n",
       "│ Row │ collection_recovery_fee │ last_pymnt_d │ last_pymnt_amnt │\n",
       "├─────┼─────────────────────────┼──────────────┼─────────────────┤\n",
       "│ 1   │ 0.0                     │ \"Sep-17\"     │ 612.89          │\n",
       "│ 2   │ 0.0                     │ \"Sep-17\"     │ 329.67          │\n",
       "│ 3   │ 0.0                     │ \"Sep-17\"     │ 488.53          │\n",
       "│ 4   │ 0.0                     │ \"Sep-17\"     │ 507.58          │\n",
       "│ 5   │ 0.0                     │ \"Dec-16\"     │ 12764.0         │\n",
       "│ 6   │ 0.0                     │ \"Jul-16\"     │ 633.73          │\n",
       "│ 7   │ 0.0                     │ \"Sep-17\"     │ 252.32          │\n",
       "│ 8   │ 0.0                     │ \"Sep-17\"     │ 3755.5          │\n",
       "│ 9   │ 0.0                     │ \"Sep-17\"     │ 253.78          │\n",
       "│ 10  │ 0.0                     │ \"Mar-17\"     │ 13580.9         │\n",
       "│ 11  │ 0.0                     │ \"Mar-17\"     │ 12793.2         │\n",
       "⋮\n",
       "│ 410 │ 0.0                     │ \"Sep-17\"     │ 237.36          │\n",
       "│ 411 │ 0.0                     │ \"Sep-17\"     │ 250.36          │\n",
       "│ 412 │ 0.0                     │ \"Jan-17\"     │ 26196.6         │\n",
       "│ 413 │ 0.0                     │ \"Sep-17\"     │ 876.26          │\n",
       "│ 414 │ 0.0                     │ \"Mar-16\"     │ 6814.82         │\n",
       "│ 415 │ 0.0                     │ \"Feb-16\"     │ 8524.84         │\n",
       "│ 416 │ 0.0                     │ \"Nov-16\"     │ 15597.8         │\n",
       "│ 417 │ 0.0                     │ \"Sep-17\"     │ 205.89          │\n",
       "│ 418 │ 0.0                     │ \"Nov-16\"     │ 10696.7         │\n",
       "│ 419 │ 0.0                     │ \"Sep-17\"     │ 195.81          │\n",
       "│ 420 │ 0.0                     │ \"Sep-17\"     │ 586.93          │\n",
       "│ 421 │ 0.0                     │ \"Sep-16\"     │ 512.6           │\n",
       "\n",
       "│ Row │ next_pymnt_d │ last_credit_pull_d │ collections_12_mths_ex_med │\n",
       "├─────┼──────────────┼────────────────────┼────────────────────────────┤\n",
       "│ 1   │ \"Oct-17\"     │ \"Sep-17\"           │ 0                          │\n",
       "│ 2   │ \"Oct-17\"     │ \"Sep-17\"           │ 0                          │\n",
       "│ 3   │ \"Oct-17\"     │ \"Sep-17\"           │ 0                          │\n",
       "│ 4   │ \"Oct-17\"     │ \"Sep-17\"           │ 0                          │\n",
       "│ 5   │ NA           │ \"Dec-16\"           │ 0                          │\n",
       "│ 6   │ NA           │ \"Feb-17\"           │ 0                          │\n",
       "│ 7   │ \"Oct-17\"     │ \"Sep-17\"           │ 0                          │\n",
       "│ 8   │ NA           │ \"Sep-17\"           │ 0                          │\n",
       "│ 9   │ \"Oct-17\"     │ \"Sep-17\"           │ 0                          │\n",
       "│ 10  │ NA           │ \"Sep-17\"           │ 0                          │\n",
       "│ 11  │ NA           │ \"Mar-17\"           │ 0                          │\n",
       "⋮\n",
       "│ 410 │ \"Oct-17\"     │ \"Sep-17\"           │ 0                          │\n",
       "│ 411 │ \"Oct-17\"     │ \"Sep-17\"           │ 0                          │\n",
       "│ 412 │ NA           │ \"Sep-17\"           │ 0                          │\n",
       "│ 413 │ \"Oct-17\"     │ \"Sep-17\"           │ 0                          │\n",
       "│ 414 │ NA           │ \"Feb-17\"           │ 0                          │\n",
       "│ 415 │ NA           │ \"Sep-17\"           │ 0                          │\n",
       "│ 416 │ NA           │ \"Jun-17\"           │ 0                          │\n",
       "│ 417 │ \"Oct-17\"     │ \"Sep-17\"           │ 0                          │\n",
       "│ 418 │ NA           │ \"Jan-17\"           │ 0                          │\n",
       "│ 419 │ \"Oct-17\"     │ \"Sep-17\"           │ 0                          │\n",
       "│ 420 │ \"Oct-17\"     │ \"Sep-17\"           │ 0                          │\n",
       "│ 421 │ NA           │ \"Sep-17\"           │ 0                          │\n",
       "\n",
       "│ Row │ mths_since_last_major_derog │ policy_code │ application_type │\n",
       "├─────┼─────────────────────────────┼─────────────┼──────────────────┤\n",
       "│ 1   │ NA                          │ 1           │ \"INDIVIDUAL\"     │\n",
       "│ 2   │ NA                          │ 1           │ \"INDIVIDUAL\"     │\n",
       "│ 3   │ NA                          │ 1           │ \"INDIVIDUAL\"     │\n",
       "│ 4   │ 50                          │ 1           │ \"INDIVIDUAL\"     │\n",
       "│ 5   │ NA                          │ 1           │ \"INDIVIDUAL\"     │\n",
       "│ 6   │ NA                          │ 1           │ \"INDIVIDUAL\"     │\n",
       "│ 7   │ NA                          │ 1           │ \"INDIVIDUAL\"     │\n",
       "│ 8   │ NA                          │ 1           │ \"INDIVIDUAL\"     │\n",
       "│ 9   │ NA                          │ 1           │ \"INDIVIDUAL\"     │\n",
       "│ 10  │ 70                          │ 1           │ \"INDIVIDUAL\"     │\n",
       "│ 11  │ NA                          │ 1           │ \"INDIVIDUAL\"     │\n",
       "⋮\n",
       "│ 410 │ NA                          │ 1           │ \"INDIVIDUAL\"     │\n",
       "│ 411 │ NA                          │ 1           │ \"INDIVIDUAL\"     │\n",
       "│ 412 │ NA                          │ 1           │ \"INDIVIDUAL\"     │\n",
       "│ 413 │ NA                          │ 1           │ \"INDIVIDUAL\"     │\n",
       "│ 414 │ NA                          │ 1           │ \"INDIVIDUAL\"     │\n",
       "│ 415 │ NA                          │ 1           │ \"INDIVIDUAL\"     │\n",
       "│ 416 │ 71                          │ 1           │ \"INDIVIDUAL\"     │\n",
       "│ 417 │ NA                          │ 1           │ \"INDIVIDUAL\"     │\n",
       "│ 418 │ NA                          │ 1           │ \"INDIVIDUAL\"     │\n",
       "│ 419 │ NA                          │ 1           │ \"INDIVIDUAL\"     │\n",
       "│ 420 │ NA                          │ 1           │ \"INDIVIDUAL\"     │\n",
       "│ 421 │ NA                          │ 1           │ \"INDIVIDUAL\"     │\n",
       "\n",
       "│ Row │ annual_inc_joint │ dti_joint │ verification_status_joint │\n",
       "├─────┼──────────────────┼───────────┼───────────────────────────┤\n",
       "│ 1   │ NA               │ NA        │ NA                        │\n",
       "│ 2   │ NA               │ NA        │ NA                        │\n",
       "│ 3   │ NA               │ NA        │ NA                        │\n",
       "│ 4   │ NA               │ NA        │ NA                        │\n",
       "│ 5   │ NA               │ NA        │ NA                        │\n",
       "│ 6   │ NA               │ NA        │ NA                        │\n",
       "│ 7   │ NA               │ NA        │ NA                        │\n",
       "│ 8   │ NA               │ NA        │ NA                        │\n",
       "│ 9   │ NA               │ NA        │ NA                        │\n",
       "│ 10  │ NA               │ NA        │ NA                        │\n",
       "│ 11  │ NA               │ NA        │ NA                        │\n",
       "⋮\n",
       "│ 410 │ NA               │ NA        │ NA                        │\n",
       "│ 411 │ NA               │ NA        │ NA                        │\n",
       "│ 412 │ NA               │ NA        │ NA                        │\n",
       "│ 413 │ NA               │ NA        │ NA                        │\n",
       "│ 414 │ NA               │ NA        │ NA                        │\n",
       "│ 415 │ NA               │ NA        │ NA                        │\n",
       "│ 416 │ NA               │ NA        │ NA                        │\n",
       "│ 417 │ NA               │ NA        │ NA                        │\n",
       "│ 418 │ NA               │ NA        │ NA                        │\n",
       "│ 419 │ NA               │ NA        │ NA                        │\n",
       "│ 420 │ NA               │ NA        │ NA                        │\n",
       "│ 421 │ NA               │ NA        │ NA                        │\n",
       "\n",
       "│ Row │ acc_now_delinq │ tot_coll_amt │ tot_cur_bal │ open_acc_6m │ open_il_6m │\n",
       "├─────┼────────────────┼──────────────┼─────────────┼─────────────┼────────────┤\n",
       "│ 1   │ 0              │ 0            │ 205155      │ 1           │ 3          │\n",
       "│ 2   │ 0              │ 0            │ 23197       │ 1           │ 4          │\n",
       "│ 3   │ 0              │ 0            │ 372407      │ 1           │ 1          │\n",
       "│ 4   │ 0              │ 0            │ 127412      │ 0           │ 1          │\n",
       "│ 5   │ 0              │ 0            │ 60381       │ 1           │ 0          │\n",
       "│ 6   │ 0              │ 0            │ 57655       │ 1           │ 1          │\n",
       "│ 7   │ 0              │ 0            │ 275831      │ 1           │ 18         │\n",
       "│ 8   │ 0              │ 0            │ 147791      │ 2           │ 1          │\n",
       "│ 9   │ 0              │ 0            │ 288087      │ 2           │ 2          │\n",
       "│ 10  │ 0              │ 0            │ 40090       │ 2           │ 2          │\n",
       "│ 11  │ 0              │ 0            │ 155521      │ 2           │ 2          │\n",
       "⋮\n",
       "│ 410 │ 0              │ 0            │ 14303       │ 2           │ 3          │\n",
       "│ 411 │ 0              │ 0            │ 176193      │ 2           │ 2          │\n",
       "│ 412 │ 0              │ 0            │ 35619       │ 9           │ 1          │\n",
       "│ 413 │ 0              │ 0            │ 863809      │ 1           │ 2          │\n",
       "│ 414 │ 0              │ 0            │ 4842        │ 0           │ 0          │\n",
       "│ 415 │ 0              │ 0            │ 26155       │ 3           │ 2          │\n",
       "│ 416 │ 0              │ 0            │ 308743      │ 0           │ 3          │\n",
       "│ 417 │ 0              │ 200          │ 40710       │ 3           │ 3          │\n",
       "│ 418 │ 0              │ 0            │ 106299      │ 0           │ 2          │\n",
       "│ 419 │ 0              │ 0            │ 259307      │ 2           │ 3          │\n",
       "│ 420 │ 0              │ 125          │ 33946       │ 5           │ 3          │\n",
       "│ 421 │ 0              │ 2183         │ 48714       │ 4           │ 2          │\n",
       "\n",
       "│ Row │ open_il_12m │ open_il_24m │ mths_since_rcnt_il │ total_bal_il │\n",
       "├─────┼─────────────┼─────────────┼────────────────────┼──────────────┤\n",
       "│ 1   │ 1           │ 4           │ 3                  │ 36812        │\n",
       "│ 2   │ 0           │ 0           │ 28                 │ 15145        │\n",
       "│ 3   │ 1           │ 1           │ 5                  │ 352033       │\n",
       "│ 4   │ 0           │ 0           │ 73                 │ 1456         │\n",
       "│ 5   │ 0           │ 0           │ 91                 │ 0            │\n",
       "│ 6   │ 0           │ 1           │ 24                 │ 6234         │\n",
       "│ 7   │ 3           │ 9           │ 5                  │ 269893       │\n",
       "│ 8   │ 0           │ 1           │ 23                 │ 14807        │\n",
       "│ 9   │ 2           │ 2           │ 6                  │ 32895        │\n",
       "│ 10  │ 2           │ 3           │ 8                  │ 32532        │\n",
       "│ 11  │ 0           │ 0           │ 45                 │ 96244        │\n",
       "⋮\n",
       "│ 410 │ 0           │ 0           │ 29                 │ 12968        │\n",
       "│ 411 │ 2           │ 2           │ 6                  │ 29427        │\n",
       "│ 412 │ 0           │ 0           │ 27                 │ 13743        │\n",
       "│ 413 │ 1           │ 2           │ 12                 │ 55563        │\n",
       "│ 414 │ 0           │ 1           │ 21                 │ 0            │\n",
       "│ 415 │ 4           │ 4           │ 1                  │ 19558        │\n",
       "│ 416 │ 1           │ 2           │ 9                  │ 5179         │\n",
       "│ 417 │ 2           │ 3           │ 1                  │ 39782        │\n",
       "│ 418 │ 1           │ 1           │ 7                  │ 17141        │\n",
       "│ 419 │ 2           │ 3           │ 3                  │ 37722        │\n",
       "│ 420 │ 3           │ 3           │ 3                  │ 26891        │\n",
       "│ 421 │ 2           │ 3           │ 6                  │ 45670        │\n",
       "\n",
       "│ Row │ il_util │ open_rv_12m │ open_rv_24m │ max_bal_bc │ all_util │\n",
       "├─────┼─────────┼─────────────┼─────────────┼────────────┼──────────┤\n",
       "│ 1   │ 79      │ 1           │ 1           │ 2776       │ 62       │\n",
       "│ 2   │ 56      │ 2           │ 6           │ 2715       │ 47       │\n",
       "│ 3   │ NA      │ 0           │ 0           │ 9358       │ 87       │\n",
       "│ 4   │ 4       │ 0           │ 1           │ 3309       │ 7        │\n",
       "│ 5   │ NA      │ 2           │ 5           │ 4879       │ 75       │\n",
       "│ 6   │ 30      │ 1           │ 1           │ 9973       │ 77       │\n",
       "│ 7   │ 110     │ 0           │ 3           │ 3234       │ 108      │\n",
       "│ 8   │ 66      │ 3           │ 3           │ 2445       │ 53       │\n",
       "│ 9   │ 94      │ 1           │ 1           │ 6742       │ 85       │\n",
       "│ 10  │ 84      │ 3           │ 5           │ 1600       │ 34       │\n",
       "│ 11  │ 54      │ 2           │ 7           │ 3046       │ 36       │\n",
       "⋮\n",
       "│ 410 │ 63      │ 3           │ 6           │ 1151       │ 40       │\n",
       "│ 411 │ 84      │ 1           │ 2           │ 353        │ 68       │\n",
       "│ 412 │ 51      │ 11          │ 24          │ 2678       │ 40       │\n",
       "│ 413 │ NA      │ 0           │ 3           │ 100973     │ 75       │\n",
       "│ 414 │ NA      │ 0           │ 3           │ 3275       │ 7        │\n",
       "│ 415 │ 96      │ 1           │ 6           │ 4279       │ 61       │\n",
       "│ 416 │ 27      │ 0           │ 0           │ 6094       │ 52       │\n",
       "│ 417 │ 74      │ 2           │ 2           │ 667        │ 72       │\n",
       "│ 418 │ 82      │ 0           │ 1           │ 1215       │ 53       │\n",
       "│ 419 │ 93      │ 0           │ 0           │ 7429       │ 53       │\n",
       "│ 420 │ 93      │ 2           │ 2           │ 605        │ 76       │\n",
       "│ 421 │ 88      │ 2           │ 3           │ 2919       │ 83       │\n",
       "\n",
       "│ Row │ total_rev_hi_lim │ inq_fi │ total_cu_tl │ inq_last_12m │\n",
       "├─────┼──────────────────┼────────┼─────────────┼──────────────┤\n",
       "│ 1   │ 20400            │ 1      │ 0           │ 3            │\n",
       "│ 2   │ 22600            │ 0      │ 0           │ 1            │\n",
       "│ 3   │ 23300            │ 1      │ 0           │ 2            │\n",
       "│ 4   │ 33600            │ 1      │ 0           │ 2            │\n",
       "│ 5   │ 20900            │ 0      │ 0           │ 2            │\n",
       "│ 6   │ 47200            │ 0      │ 0           │ 1            │\n",
       "│ 7   │ 8600             │ 4      │ 0           │ 9            │\n",
       "│ 8   │ 15500            │ 1      │ 0           │ 2            │\n",
       "│ 9   │ 49500            │ 0      │ 3           │ 3            │\n",
       "│ 10  │ 78900            │ 0      │ 2           │ 0            │\n",
       "│ 11  │ 80500            │ 0      │ 0           │ 5            │\n",
       "⋮\n",
       "│ 410 │ 15500            │ 1      │ 0           │ 9            │\n",
       "│ 411 │ 15600            │ 1      │ 0           │ 2            │\n",
       "│ 412 │ 62900            │ 0      │ 4           │ 7            │\n",
       "│ 413 │ 201600           │ 1      │ 5           │ 5            │\n",
       "│ 414 │ 69300            │ 4      │ 2           │ 4            │\n",
       "│ 415 │ 22700            │ 0      │ 1           │ 1            │\n",
       "│ 416 │ 23500            │ 2      │ 0           │ 1            │\n",
       "│ 417 │ 2400             │ 2      │ 5           │ 3            │\n",
       "│ 418 │ 22400            │ 0      │ 3           │ 0            │\n",
       "│ 419 │ 50700            │ 3      │ 0           │ 5            │\n",
       "│ 420 │ 15800            │ 2      │ 4           │ 5            │\n",
       "│ 421 │ 7300             │ 1      │ 4           │ 3            │\n",
       "\n",
       "│ Row │ acc_open_past_24mths │ avg_cur_bal │ bc_open_to_buy │ bc_util │\n",
       "├─────┼──────────────────────┼─────────────┼────────────────┼─────────┤\n",
       "│ 1   │ 5                    │ 25644       │ 9924           │ 21.9    │\n",
       "│ 2   │ 6                    │ 1933        │ 12925          │ 37.9    │\n",
       "│ 3   │ 1                    │ 74481       │ 2926           │ 87.4    │\n",
       "│ 4   │ 1                    │ 14157       │ 27172          │ 10.9    │\n",
       "│ 5   │ 5                    │ 5032        │ 578            │ 93.4    │\n",
       "│ 6   │ 2                    │ 6406        │ 1249           │ 97.2    │\n",
       "│ 7   │ 12                   │ 11493       │ 1521           │ 77.3    │\n",
       "│ 8   │ 4                    │ 29558       │ 10051          │ 35.2    │\n",
       "│ 9   │ 4                    │ 20578       │ 287            │ 97.4    │\n",
       "│ 10  │ 8                    │ 2864        │ 48533          │ 5.9     │\n",
       "│ 11  │ 7                    │ 9720        │ 6962           │ 49.6    │\n",
       "⋮\n",
       "│ 410 │ 6                    │ 1430        │ 6049           │ 16.0    │\n",
       "│ 411 │ 4                    │ 16018       │ 1013           │ 40.4    │\n",
       "│ 412 │ 24                   │ 1370        │ 19824          │ 25.5    │\n",
       "│ 413 │ 8                    │ 57587       │ 38277          │ 66.5    │\n",
       "│ 414 │ 4                    │ 1211        │ 64458          │ 7.0     │\n",
       "│ 415 │ 10                   │ 2180        │ 8714           │ 41.5    │\n",
       "│ 416 │ 2                    │ 28068       │ 1624           │ 91.2    │\n",
       "│ 417 │ 5                    │ 8142        │ 333            │ 66.7    │\n",
       "│ 418 │ 2                    │ 11811       │ 2685           │ 31.2    │\n",
       "│ 419 │ 3                    │ 21609       │ 10634          │ 49.8    │\n",
       "│ 420 │ 5                    │ 4243        │ 5847           │ 12.7    │\n",
       "│ 421 │ 6                    │ 8119        │ 956            │ 76.1    │\n",
       "\n",
       "│ Row │ chargeoff_within_12_mths │ delinq_amnt │ mo_sin_old_il_acct │\n",
       "├─────┼──────────────────────────┼─────────────┼────────────────────┤\n",
       "│ 1   │ 0                        │ 0           │ 87                 │\n",
       "│ 2   │ 0                        │ 0           │ 52                 │\n",
       "│ 3   │ 0                        │ 0           │ 76                 │\n",
       "│ 4   │ 0                        │ 0           │ 139                │\n",
       "│ 5   │ 0                        │ 0           │ 138                │\n",
       "│ 6   │ 0                        │ 0           │ 24                 │\n",
       "│ 7   │ 0                        │ 0           │ 111                │\n",
       "│ 8   │ 0                        │ 0           │ 111                │\n",
       "│ 9   │ 0                        │ 0           │ 106                │\n",
       "│ 10  │ 0                        │ 0           │ 159                │\n",
       "│ 11  │ 0                        │ 0           │ 143                │\n",
       "⋮\n",
       "│ 410 │ 0                        │ 0           │ 54                 │\n",
       "│ 411 │ 0                        │ 0           │ 163                │\n",
       "│ 412 │ 0                        │ 0           │ 88                 │\n",
       "│ 413 │ 0                        │ 0           │ 130                │\n",
       "│ 414 │ 0                        │ 0           │ 21                 │\n",
       "│ 415 │ 0                        │ 0           │ 98                 │\n",
       "│ 416 │ 0                        │ 0           │ 113                │\n",
       "│ 417 │ 0                        │ 0           │ 122                │\n",
       "│ 418 │ 0                        │ 0           │ 105                │\n",
       "│ 419 │ 0                        │ 0           │ 42                 │\n",
       "│ 420 │ 0                        │ 0           │ 122                │\n",
       "│ 421 │ 0                        │ 0           │ 56                 │\n",
       "\n",
       "│ Row │ mo_sin_old_rev_tl_op │ mo_sin_rcnt_rev_tl_op │ mo_sin_rcnt_tl │\n",
       "├─────┼──────────────────────┼───────────────────────┼────────────────┤\n",
       "│ 1   │ 255                  │ 8                     │ 3              │\n",
       "│ 2   │ 76                   │ 5                     │ 5              │\n",
       "│ 3   │ 131                  │ 85                    │ 5              │\n",
       "│ 4   │ 398                  │ 22                    │ 22             │\n",
       "│ 5   │ 172                  │ 2                     │ 2              │\n",
       "│ 6   │ 240                  │ 4                     │ 4              │\n",
       "│ 7   │ 126                  │ 15                    │ 5              │\n",
       "│ 8   │ 7                    │ 2                     │ 2              │\n",
       "│ 9   │ 176                  │ 7                     │ 6              │\n",
       "│ 10  │ 283                  │ 4                     │ 4              │\n",
       "│ 11  │ 168                  │ 3                     │ 3              │\n",
       "⋮\n",
       "│ 410 │ 196                  │ 5                     │ 5              │\n",
       "│ 411 │ 294                  │ 2                     │ 2              │\n",
       "│ 412 │ 377                  │ 1                     │ 1              │\n",
       "│ 413 │ 291                  │ 14                    │ 5              │\n",
       "│ 414 │ 346                  │ 18                    │ 18             │\n",
       "│ 415 │ 78                   │ 1                     │ 1              │\n",
       "│ 416 │ 243                  │ 28                    │ 9              │\n",
       "│ 417 │ 12                   │ 5                     │ 1              │\n",
       "│ 418 │ 428                  │ 24                    │ 7              │\n",
       "│ 419 │ 150                  │ 25                    │ 3              │\n",
       "│ 420 │ 308                  │ 2                     │ 2              │\n",
       "│ 421 │ 33                   │ 5                     │ 5              │\n",
       "\n",
       "│ Row │ mort_acc │ mths_since_recent_bc │ mths_since_recent_bc_dlq │\n",
       "├─────┼──────────┼──────────────────────┼──────────────────────────┤\n",
       "│ 1   │ 1        │ 8                    │ NA                       │\n",
       "│ 2   │ 0        │ 5                    │ NA                       │\n",
       "│ 3   │ 0        │ 85                   │ NA                       │\n",
       "│ 4   │ 2        │ 22                   │ NA                       │\n",
       "│ 5   │ 3        │ 2                    │ NA                       │\n",
       "│ 6   │ 3        │ 52                   │ NA                       │\n",
       "│ 7   │ 0        │ 15                   │ NA                       │\n",
       "│ 8   │ 2        │ 2                    │ NA                       │\n",
       "│ 9   │ 6        │ 51                   │ NA                       │\n",
       "│ 10  │ 1        │ 4                    │ NA                       │\n",
       "│ 11  │ 1        │ 4                    │ NA                       │\n",
       "⋮\n",
       "│ 410 │ 0        │ 5                    │ NA                       │\n",
       "│ 411 │ 2        │ 15                   │ NA                       │\n",
       "│ 412 │ 0        │ 10                   │ NA                       │\n",
       "│ 413 │ 6        │ 14                   │ NA                       │\n",
       "│ 414 │ 7        │ 18                   │ NA                       │\n",
       "│ 415 │ 0        │ 15                   │ NA                       │\n",
       "│ 416 │ 5        │ 28                   │ 11                       │\n",
       "│ 417 │ 0        │ 12                   │ NA                       │\n",
       "│ 418 │ 2        │ 52                   │ NA                       │\n",
       "│ 419 │ 1        │ 25                   │ 12                       │\n",
       "│ 420 │ 0        │ 2                    │ NA                       │\n",
       "│ 421 │ 0        │ 5                    │ NA                       │\n",
       "\n",
       "│ Row │ mths_since_recent_inq │ mths_since_recent_revol_delinq │\n",
       "├─────┼───────────────────────┼────────────────────────────────┤\n",
       "│ 1   │ 3                     │ NA                             │\n",
       "│ 2   │ 2                     │ NA                             │\n",
       "│ 3   │ 0                     │ NA                             │\n",
       "│ 4   │ 0                     │ NA                             │\n",
       "│ 5   │ 2                     │ NA                             │\n",
       "│ 6   │ 4                     │ NA                             │\n",
       "│ 7   │ 5                     │ NA                             │\n",
       "│ 8   │ 0                     │ NA                             │\n",
       "│ 9   │ 6                     │ NA                             │\n",
       "│ 10  │ 19                    │ NA                             │\n",
       "│ 11  │ 1                     │ NA                             │\n",
       "⋮\n",
       "│ 410 │ 1                     │ NA                             │\n",
       "│ 411 │ 2                     │ 19                             │\n",
       "│ 412 │ 0                     │ NA                             │\n",
       "│ 413 │ 3                     │ NA                             │\n",
       "│ 414 │ 4                     │ NA                             │\n",
       "│ 415 │ 2                     │ NA                             │\n",
       "│ 416 │ 9                     │ 11                             │\n",
       "│ 417 │ 1                     │ NA                             │\n",
       "│ 418 │ NA                    │ NA                             │\n",
       "│ 419 │ 4                     │ 12                             │\n",
       "│ 420 │ 0                     │ 51                             │\n",
       "│ 421 │ 6                     │ NA                             │\n",
       "\n",
       "│ Row │ num_accts_ever_120_pd │ num_actv_bc_tl │ num_actv_rev_tl │ num_bc_sats │\n",
       "├─────┼───────────────────────┼────────────────┼─────────────────┼─────────────┤\n",
       "│ 1   │ 0                     │ 1              │ 3               │ 2           │\n",
       "│ 2   │ 0                     │ 6              │ 7               │ 6           │\n",
       "│ 3   │ 0                     │ 3              │ 3               │ 4           │\n",
       "│ 4   │ 1                     │ 2              │ 3               │ 4           │\n",
       "│ 5   │ 0                     │ 3              │ 11              │ 3           │\n",
       "│ 6   │ 0                     │ 5              │ 7               │ 6           │\n",
       "│ 7   │ 0                     │ 2              │ 3               │ 4           │\n",
       "│ 8   │ 0                     │ 3              │ 3               │ 3           │\n",
       "│ 9   │ 0                     │ 3              │ 9               │ 3           │\n",
       "│ 10  │ 2                     │ 5              │ 10              │ 7           │\n",
       "│ 11  │ 0                     │ 5              │ 8               │ 5           │\n",
       "⋮\n",
       "│ 410 │ 0                     │ 1              │ 3               │ 4           │\n",
       "│ 411 │ 0                     │ 2              │ 6               │ 2           │\n",
       "│ 412 │ 0                     │ 3              │ 5               │ 9           │\n",
       "│ 413 │ 0                     │ 4              │ 7               │ 9           │\n",
       "│ 414 │ 0                     │ 3              │ 3               │ 4           │\n",
       "│ 415 │ 0                     │ 3              │ 5               │ 4           │\n",
       "│ 416 │ 0                     │ 5              │ 5               │ 5           │\n",
       "│ 417 │ 0                     │ 1              │ 2               │ 1           │\n",
       "│ 418 │ 0                     │ 1              │ 5               │ 1           │\n",
       "│ 419 │ 0                     │ 2              │ 3               │ 4           │\n",
       "│ 420 │ 0                     │ 2              │ 4               │ 3           │\n",
       "│ 421 │ 0                     │ 2              │ 2               │ 2           │\n",
       "\n",
       "│ Row │ num_bc_tl │ num_il_tl │ num_op_rev_tl │ num_rev_accts │\n",
       "├─────┼───────────┼───────────┼───────────────┼───────────────┤\n",
       "│ 1   │ 9         │ 8         │ 5             │ 14            │\n",
       "│ 2   │ 10        │ 4         │ 8             │ 16            │\n",
       "│ 3   │ 4         │ 11        │ 4             │ 4             │\n",
       "│ 4   │ 6         │ 6         │ 7             │ 13            │\n",
       "│ 5   │ 3         │ 4         │ 11            │ 13            │\n",
       "│ 6   │ 7         │ 1         │ 8             │ 14            │\n",
       "│ 7   │ 5         │ 35        │ 6             │ 8             │\n",
       "│ 8   │ 3         │ 2         │ 3             │ 3             │\n",
       "│ 9   │ 4         │ 6         │ 11            │ 16            │\n",
       "│ 10  │ 8         │ 11        │ 12            │ 13            │\n",
       "│ 11  │ 10        │ 12        │ 14            │ 29            │\n",
       "⋮\n",
       "│ 410 │ 4         │ 3         │ 7             │ 7             │\n",
       "│ 411 │ 10        │ 10        │ 8             │ 23            │\n",
       "│ 412 │ 44        │ 6         │ 26            │ 80            │\n",
       "│ 413 │ 10        │ 9         │ 12            │ 16            │\n",
       "│ 414 │ 18        │ 1         │ 4             │ 21            │\n",
       "│ 415 │ 9         │ 44        │ 10            │ 17            │\n",
       "│ 416 │ 10        │ 13        │ 6             │ 12            │\n",
       "│ 417 │ 1         │ 9         │ 2             │ 2             │\n",
       "│ 418 │ 6         │ 7         │ 7             │ 15            │\n",
       "│ 419 │ 9         │ 4         │ 8             │ 17            │\n",
       "│ 420 │ 5         │ 10        │ 5             │ 12            │\n",
       "│ 421 │ 3         │ 6         │ 4             │ 5             │\n",
       "\n",
       "│ Row │ num_rev_tl_bal_gt_0 │ num_sats │ num_tl_120dpd_2m │ num_tl_30dpd │\n",
       "├─────┼─────────────────────┼──────────┼──────────────────┼──────────────┤\n",
       "│ 1   │ 3                   │ 9        │ 0                │ 0            │\n",
       "│ 2   │ 7                   │ 12       │ 0                │ 0            │\n",
       "│ 3   │ 3                   │ 5        │ 0                │ 0            │\n",
       "│ 4   │ 3                   │ 9        │ 0                │ 0            │\n",
       "│ 5   │ 11                  │ 12       │ 0                │ 0            │\n",
       "│ 6   │ 7                   │ 10       │ 0                │ 0            │\n",
       "│ 7   │ 3                   │ 24       │ 0                │ 0            │\n",
       "│ 8   │ 3                   │ 5        │ 0                │ 0            │\n",
       "│ 9   │ 9                   │ 14       │ 0                │ 0            │\n",
       "│ 10  │ 10                  │ 14       │ 0                │ 0            │\n",
       "│ 11  │ 8                   │ 16       │ 0                │ 0            │\n",
       "⋮\n",
       "│ 410 │ 3                   │ 10       │ 0                │ 0            │\n",
       "│ 411 │ 6                   │ 11       │ 0                │ 0            │\n",
       "│ 412 │ 5                   │ 26       │ 0                │ 0            │\n",
       "│ 413 │ 7                   │ 16       │ 0                │ 0            │\n",
       "│ 414 │ 3                   │ 4        │ 0                │ 0            │\n",
       "│ 415 │ 5                   │ 12       │ 0                │ 0            │\n",
       "│ 416 │ 5                   │ 11       │ 0                │ 0            │\n",
       "│ 417 │ 2                   │ 5        │ 0                │ 0            │\n",
       "│ 418 │ 5                   │ 10       │ 0                │ 0            │\n",
       "│ 419 │ 4                   │ 12       │ 0                │ 0            │\n",
       "│ 420 │ 4                   │ 8        │ 0                │ 0            │\n",
       "│ 421 │ 2                   │ 6        │ 0                │ 0            │\n",
       "\n",
       "│ Row │ num_tl_90g_dpd_24m │ num_tl_op_past_12m │ pct_tl_nvr_dlq │\n",
       "├─────┼────────────────────┼────────────────────┼────────────────┤\n",
       "│ 1   │ 0                  │ 2                  │ 95.7           │\n",
       "│ 2   │ 0                  │ 2                  │ 100.0          │\n",
       "│ 3   │ 0                  │ 1                  │ 100.0          │\n",
       "│ 4   │ 0                  │ 0                  │ 95.2           │\n",
       "│ 5   │ 0                  │ 2                  │ 100.0          │\n",
       "│ 6   │ 0                  │ 1                  │ 100.0          │\n",
       "│ 7   │ 0                  │ 3                  │ 97.7           │\n",
       "│ 8   │ 0                  │ 3                  │ 100.0          │\n",
       "│ 9   │ 0                  │ 4                  │ 100.0          │\n",
       "│ 10  │ 0                  │ 5                  │ 92.3           │\n",
       "│ 11  │ 0                  │ 2                  │ 100.0          │\n",
       "⋮\n",
       "│ 410 │ 0                  │ 3                  │ 100.0          │\n",
       "│ 411 │ 0                  │ 3                  │ 97.1           │\n",
       "│ 412 │ 0                  │ 11                 │ 100.0          │\n",
       "│ 413 │ 0                  │ 2                  │ 100.0          │\n",
       "│ 414 │ 0                  │ 0                  │ 100.0          │\n",
       "│ 415 │ 0                  │ 5                  │ 100.0          │\n",
       "│ 416 │ 0                  │ 1                  │ 90.0           │\n",
       "│ 417 │ 0                  │ 4                  │ 100.0          │\n",
       "│ 418 │ 0                  │ 1                  │ 100.0          │\n",
       "│ 419 │ 0                  │ 2                  │ 91.3           │\n",
       "│ 420 │ 0                  │ 5                  │ 90.5           │\n",
       "│ 421 │ 0                  │ 4                  │ 100.0          │\n",
       "\n",
       "│ Row │ percent_bc_gt_75 │ pub_rec_bankruptcies │ tax_liens │ tot_hi_cred_lim │\n",
       "├─────┼──────────────────┼──────────────────────┼───────────┼─────────────────┤\n",
       "│ 1   │ 0.0              │ 0                    │ 0         │ 247433          │\n",
       "│ 2   │ 33.3             │ 0                    │ 1         │ 49732           │\n",
       "│ 3   │ 75.0             │ 0                    │ 0         │ 370357          │\n",
       "│ 4   │ 0.0              │ 0                    │ 0         │ 202351          │\n",
       "│ 5   │ 66.7             │ 0                    │ 0         │ 72286           │\n",
       "│ 6   │ 100.0            │ 0                    │ 0         │ 74779           │\n",
       "│ 7   │ 50.0             │ 0                    │ 1         │ 255047          │\n",
       "│ 8   │ 0.0              │ 0                    │ 0         │ 189950          │\n",
       "│ 9   │ 100.0            │ 0                    │ 0         │ 302401          │\n",
       "│ 10  │ 0.0              │ 0                    │ 0         │ 117477          │\n",
       "│ 11  │ 40.0             │ 1                    │ 0         │ 176208          │\n",
       "⋮\n",
       "│ 410 │ 0.0              │ 0                    │ 0         │ 36131           │\n",
       "│ 411 │ 0.0              │ 0                    │ 0         │ 202465          │\n",
       "│ 412 │ 22.2             │ 1                    │ 0         │ 89983           │\n",
       "│ 413 │ 37.5             │ 0                    │ 0         │ 995789          │\n",
       "│ 414 │ 0.0              │ 0                    │ 0         │ 69300           │\n",
       "│ 415 │ 25.0             │ 0                    │ 0         │ 43053           │\n",
       "│ 416 │ 100.0            │ 0                    │ 0         │ 345325          │\n",
       "│ 417 │ 0.0              │ 0                    │ 0         │ 56536           │\n",
       "│ 418 │ 0.0              │ 0                    │ 0         │ 134586          │\n",
       "│ 419 │ 25.0             │ 0                    │ 0         │ 312021          │\n",
       "│ 420 │ 33.3             │ 0                    │ 1         │ 44633           │\n",
       "│ 421 │ 50.0             │ 0                    │ 0         │ 59055           │\n",
       "\n",
       "│ Row │ total_bal_ex_mort │ total_bc_limit │ total_il_high_credit_limit │\n",
       "├─────┼───────────────────┼────────────────┼────────────────────────────┤\n",
       "│ 1   │ 41663             │ 12700          │ 46367                      │\n",
       "│ 2   │ 23197             │ 20800          │ 27132                      │\n",
       "│ 3   │ 372407            │ 23300          │ 347057                     │\n",
       "│ 4   │ 4910              │ 30500          │ 33631                      │\n",
       "│ 5   │ 15646             │ 8800           │ 0                          │\n",
       "│ 6   │ 57655             │ 44400          │ 20800                      │\n",
       "│ 7   │ 275831            │ 6700           │ 246447                     │\n",
       "│ 8   │ 20256             │ 15500          │ 22450                      │\n",
       "│ 9   │ 71518             │ 11000          │ 34953                      │\n",
       "│ 10  │ 40090             │ 51600          │ 38577                      │\n",
       "│ 11  │ 155521            │ 13800          │ 95668                      │\n",
       "⋮\n",
       "│ 410 │ 14303             │ 7200           │ 20631                      │\n",
       "│ 411 │ 34452             │ 1700           │ 34960                      │\n",
       "│ 412 │ 35619             │ 26600          │ 27083                      │\n",
       "│ 413 │ 214126            │ 167600         │ 117689                     │\n",
       "│ 414 │ 4842              │ 69300          │ 0                          │\n",
       "│ 415 │ 26155             │ 14900          │ 20353                      │\n",
       "│ 416 │ 22055             │ 18500          │ 19225                      │\n",
       "│ 417 │ 40710             │ 1000           │ 54136                      │\n",
       "│ 418 │ 23081             │ 3900           │ 20877                      │\n",
       "│ 419 │ 48428             │ 21200          │ 40496                      │\n",
       "│ 420 │ 33946             │ 6700           │ 28833                      │\n",
       "│ 421 │ 48714             │ 4000           │ 51755                      │\n",
       "\n",
       "│ Row │ revol_bal_joint │ sec_app_earliest_cr_line │ sec_app_inq_last_6mths │\n",
       "├─────┼─────────────────┼──────────────────────────┼────────────────────────┤\n",
       "│ 1   │ NA              │ NA                       │ NA                     │\n",
       "│ 2   │ NA              │ NA                       │ NA                     │\n",
       "│ 3   │ NA              │ NA                       │ NA                     │\n",
       "│ 4   │ NA              │ NA                       │ NA                     │\n",
       "│ 5   │ NA              │ NA                       │ NA                     │\n",
       "│ 6   │ NA              │ NA                       │ NA                     │\n",
       "│ 7   │ NA              │ NA                       │ NA                     │\n",
       "│ 8   │ NA              │ NA                       │ NA                     │\n",
       "│ 9   │ NA              │ NA                       │ NA                     │\n",
       "│ 10  │ NA              │ NA                       │ NA                     │\n",
       "│ 11  │ NA              │ NA                       │ NA                     │\n",
       "⋮\n",
       "│ 410 │ NA              │ NA                       │ NA                     │\n",
       "│ 411 │ NA              │ NA                       │ NA                     │\n",
       "│ 412 │ NA              │ NA                       │ NA                     │\n",
       "│ 413 │ NA              │ NA                       │ NA                     │\n",
       "│ 414 │ NA              │ NA                       │ NA                     │\n",
       "│ 415 │ NA              │ NA                       │ NA                     │\n",
       "│ 416 │ NA              │ NA                       │ NA                     │\n",
       "│ 417 │ NA              │ NA                       │ NA                     │\n",
       "│ 418 │ NA              │ NA                       │ NA                     │\n",
       "│ 419 │ NA              │ NA                       │ NA                     │\n",
       "│ 420 │ NA              │ NA                       │ NA                     │\n",
       "│ 421 │ NA              │ NA                       │ NA                     │\n",
       "\n",
       "│ Row │ sec_app_mort_acc │ sec_app_open_acc │ sec_app_revol_util │\n",
       "├─────┼──────────────────┼──────────────────┼────────────────────┤\n",
       "│ 1   │ NA               │ NA               │ NA                 │\n",
       "│ 2   │ NA               │ NA               │ NA                 │\n",
       "│ 3   │ NA               │ NA               │ NA                 │\n",
       "│ 4   │ NA               │ NA               │ NA                 │\n",
       "│ 5   │ NA               │ NA               │ NA                 │\n",
       "│ 6   │ NA               │ NA               │ NA                 │\n",
       "│ 7   │ NA               │ NA               │ NA                 │\n",
       "│ 8   │ NA               │ NA               │ NA                 │\n",
       "│ 9   │ NA               │ NA               │ NA                 │\n",
       "│ 10  │ NA               │ NA               │ NA                 │\n",
       "│ 11  │ NA               │ NA               │ NA                 │\n",
       "⋮\n",
       "│ 410 │ NA               │ NA               │ NA                 │\n",
       "│ 411 │ NA               │ NA               │ NA                 │\n",
       "│ 412 │ NA               │ NA               │ NA                 │\n",
       "│ 413 │ NA               │ NA               │ NA                 │\n",
       "│ 414 │ NA               │ NA               │ NA                 │\n",
       "│ 415 │ NA               │ NA               │ NA                 │\n",
       "│ 416 │ NA               │ NA               │ NA                 │\n",
       "│ 417 │ NA               │ NA               │ NA                 │\n",
       "│ 418 │ NA               │ NA               │ NA                 │\n",
       "│ 419 │ NA               │ NA               │ NA                 │\n",
       "│ 420 │ NA               │ NA               │ NA                 │\n",
       "│ 421 │ NA               │ NA               │ NA                 │\n",
       "\n",
       "│ Row │ sec_app_open_il_6m │ sec_app_num_rev_accts │\n",
       "├─────┼────────────────────┼───────────────────────┤\n",
       "│ 1   │ NA                 │ NA                    │\n",
       "│ 2   │ NA                 │ NA                    │\n",
       "│ 3   │ NA                 │ NA                    │\n",
       "│ 4   │ NA                 │ NA                    │\n",
       "│ 5   │ NA                 │ NA                    │\n",
       "│ 6   │ NA                 │ NA                    │\n",
       "│ 7   │ NA                 │ NA                    │\n",
       "│ 8   │ NA                 │ NA                    │\n",
       "│ 9   │ NA                 │ NA                    │\n",
       "│ 10  │ NA                 │ NA                    │\n",
       "│ 11  │ NA                 │ NA                    │\n",
       "⋮\n",
       "│ 410 │ NA                 │ NA                    │\n",
       "│ 411 │ NA                 │ NA                    │\n",
       "│ 412 │ NA                 │ NA                    │\n",
       "│ 413 │ NA                 │ NA                    │\n",
       "│ 414 │ NA                 │ NA                    │\n",
       "│ 415 │ NA                 │ NA                    │\n",
       "│ 416 │ NA                 │ NA                    │\n",
       "│ 417 │ NA                 │ NA                    │\n",
       "│ 418 │ NA                 │ NA                    │\n",
       "│ 419 │ NA                 │ NA                    │\n",
       "│ 420 │ NA                 │ NA                    │\n",
       "│ 421 │ NA                 │ NA                    │\n",
       "\n",
       "│ Row │ sec_app_chargeoff_within_12_mths │ sec_app_collections_12_mths_ex_med │\n",
       "├─────┼──────────────────────────────────┼────────────────────────────────────┤\n",
       "│ 1   │ NA                               │ NA                                 │\n",
       "│ 2   │ NA                               │ NA                                 │\n",
       "│ 3   │ NA                               │ NA                                 │\n",
       "│ 4   │ NA                               │ NA                                 │\n",
       "│ 5   │ NA                               │ NA                                 │\n",
       "│ 6   │ NA                               │ NA                                 │\n",
       "│ 7   │ NA                               │ NA                                 │\n",
       "│ 8   │ NA                               │ NA                                 │\n",
       "│ 9   │ NA                               │ NA                                 │\n",
       "│ 10  │ NA                               │ NA                                 │\n",
       "│ 11  │ NA                               │ NA                                 │\n",
       "⋮\n",
       "│ 410 │ NA                               │ NA                                 │\n",
       "│ 411 │ NA                               │ NA                                 │\n",
       "│ 412 │ NA                               │ NA                                 │\n",
       "│ 413 │ NA                               │ NA                                 │\n",
       "│ 414 │ NA                               │ NA                                 │\n",
       "│ 415 │ NA                               │ NA                                 │\n",
       "│ 416 │ NA                               │ NA                                 │\n",
       "│ 417 │ NA                               │ NA                                 │\n",
       "│ 418 │ NA                               │ NA                                 │\n",
       "│ 419 │ NA                               │ NA                                 │\n",
       "│ 420 │ NA                               │ NA                                 │\n",
       "│ 421 │ NA                               │ NA                                 │\n",
       "\n",
       "│ Row │ sec_app_mths_since_last_major_derog │ hardship_flag │ hardship_type │\n",
       "├─────┼─────────────────────────────────────┼───────────────┼───────────────┤\n",
       "│ 1   │ NA                                  │ \"N\"           │ NA            │\n",
       "│ 2   │ NA                                  │ \"N\"           │ NA            │\n",
       "│ 3   │ NA                                  │ \"N\"           │ NA            │\n",
       "│ 4   │ NA                                  │ \"N\"           │ NA            │\n",
       "│ 5   │ NA                                  │ \"N\"           │ NA            │\n",
       "│ 6   │ NA                                  │ \"N\"           │ NA            │\n",
       "│ 7   │ NA                                  │ \"N\"           │ NA            │\n",
       "│ 8   │ NA                                  │ \"N\"           │ NA            │\n",
       "│ 9   │ NA                                  │ \"N\"           │ NA            │\n",
       "│ 10  │ NA                                  │ \"N\"           │ NA            │\n",
       "│ 11  │ NA                                  │ \"N\"           │ NA            │\n",
       "⋮\n",
       "│ 410 │ NA                                  │ \"N\"           │ NA            │\n",
       "│ 411 │ NA                                  │ \"N\"           │ NA            │\n",
       "│ 412 │ NA                                  │ \"N\"           │ NA            │\n",
       "│ 413 │ NA                                  │ \"N\"           │ NA            │\n",
       "│ 414 │ NA                                  │ \"N\"           │ NA            │\n",
       "│ 415 │ NA                                  │ \"N\"           │ NA            │\n",
       "│ 416 │ NA                                  │ \"N\"           │ NA            │\n",
       "│ 417 │ NA                                  │ \"N\"           │ NA            │\n",
       "│ 418 │ NA                                  │ \"N\"           │ NA            │\n",
       "│ 419 │ NA                                  │ \"N\"           │ NA            │\n",
       "│ 420 │ NA                                  │ \"N\"           │ NA            │\n",
       "│ 421 │ NA                                  │ \"N\"           │ NA            │\n",
       "\n",
       "│ Row │ hardship_reason │ hardship_status │ deferral_term │ hardship_amount │\n",
       "├─────┼─────────────────┼─────────────────┼───────────────┼─────────────────┤\n",
       "│ 1   │ NA              │ NA              │ NA            │ NA              │\n",
       "│ 2   │ NA              │ NA              │ NA            │ NA              │\n",
       "│ 3   │ NA              │ NA              │ NA            │ NA              │\n",
       "│ 4   │ NA              │ NA              │ NA            │ NA              │\n",
       "│ 5   │ NA              │ NA              │ NA            │ NA              │\n",
       "│ 6   │ NA              │ NA              │ NA            │ NA              │\n",
       "│ 7   │ NA              │ NA              │ NA            │ NA              │\n",
       "│ 8   │ NA              │ NA              │ NA            │ NA              │\n",
       "│ 9   │ NA              │ NA              │ NA            │ NA              │\n",
       "│ 10  │ NA              │ NA              │ NA            │ NA              │\n",
       "│ 11  │ NA              │ NA              │ NA            │ NA              │\n",
       "⋮\n",
       "│ 410 │ NA              │ NA              │ NA            │ NA              │\n",
       "│ 411 │ NA              │ NA              │ NA            │ NA              │\n",
       "│ 412 │ NA              │ NA              │ NA            │ NA              │\n",
       "│ 413 │ NA              │ NA              │ NA            │ NA              │\n",
       "│ 414 │ NA              │ NA              │ NA            │ NA              │\n",
       "│ 415 │ NA              │ NA              │ NA            │ NA              │\n",
       "│ 416 │ NA              │ NA              │ NA            │ NA              │\n",
       "│ 417 │ NA              │ NA              │ NA            │ NA              │\n",
       "│ 418 │ NA              │ NA              │ NA            │ NA              │\n",
       "│ 419 │ NA              │ NA              │ NA            │ NA              │\n",
       "│ 420 │ NA              │ NA              │ NA            │ NA              │\n",
       "│ 421 │ NA              │ NA              │ NA            │ NA              │\n",
       "\n",
       "│ Row │ hardship_start_date │ hardship_end_date │ payment_plan_start_date │\n",
       "├─────┼─────────────────────┼───────────────────┼─────────────────────────┤\n",
       "│ 1   │ NA                  │ NA                │ NA                      │\n",
       "│ 2   │ NA                  │ NA                │ NA                      │\n",
       "│ 3   │ NA                  │ NA                │ NA                      │\n",
       "│ 4   │ NA                  │ NA                │ NA                      │\n",
       "│ 5   │ NA                  │ NA                │ NA                      │\n",
       "│ 6   │ NA                  │ NA                │ NA                      │\n",
       "│ 7   │ NA                  │ NA                │ NA                      │\n",
       "│ 8   │ NA                  │ NA                │ NA                      │\n",
       "│ 9   │ NA                  │ NA                │ NA                      │\n",
       "│ 10  │ NA                  │ NA                │ NA                      │\n",
       "│ 11  │ NA                  │ NA                │ NA                      │\n",
       "⋮\n",
       "│ 410 │ NA                  │ NA                │ NA                      │\n",
       "│ 411 │ NA                  │ NA                │ NA                      │\n",
       "│ 412 │ NA                  │ NA                │ NA                      │\n",
       "│ 413 │ NA                  │ NA                │ NA                      │\n",
       "│ 414 │ NA                  │ NA                │ NA                      │\n",
       "│ 415 │ NA                  │ NA                │ NA                      │\n",
       "│ 416 │ NA                  │ NA                │ NA                      │\n",
       "│ 417 │ NA                  │ NA                │ NA                      │\n",
       "│ 418 │ NA                  │ NA                │ NA                      │\n",
       "│ 419 │ NA                  │ NA                │ NA                      │\n",
       "│ 420 │ NA                  │ NA                │ NA                      │\n",
       "│ 421 │ NA                  │ NA                │ NA                      │\n",
       "\n",
       "│ Row │ hardship_length │ hardship_dpd │ hardship_loan_status │\n",
       "├─────┼─────────────────┼──────────────┼──────────────────────┤\n",
       "│ 1   │ NA              │ NA           │ NA                   │\n",
       "│ 2   │ NA              │ NA           │ NA                   │\n",
       "│ 3   │ NA              │ NA           │ NA                   │\n",
       "│ 4   │ NA              │ NA           │ NA                   │\n",
       "│ 5   │ NA              │ NA           │ NA                   │\n",
       "│ 6   │ NA              │ NA           │ NA                   │\n",
       "│ 7   │ NA              │ NA           │ NA                   │\n",
       "│ 8   │ NA              │ NA           │ NA                   │\n",
       "│ 9   │ NA              │ NA           │ NA                   │\n",
       "│ 10  │ NA              │ NA           │ NA                   │\n",
       "│ 11  │ NA              │ NA           │ NA                   │\n",
       "⋮\n",
       "│ 410 │ NA              │ NA           │ NA                   │\n",
       "│ 411 │ NA              │ NA           │ NA                   │\n",
       "│ 412 │ NA              │ NA           │ NA                   │\n",
       "│ 413 │ NA              │ NA           │ NA                   │\n",
       "│ 414 │ NA              │ NA           │ NA                   │\n",
       "│ 415 │ NA              │ NA           │ NA                   │\n",
       "│ 416 │ NA              │ NA           │ NA                   │\n",
       "│ 417 │ NA              │ NA           │ NA                   │\n",
       "│ 418 │ NA              │ NA           │ NA                   │\n",
       "│ 419 │ NA              │ NA           │ NA                   │\n",
       "│ 420 │ NA              │ NA           │ NA                   │\n",
       "│ 421 │ NA              │ NA           │ NA                   │\n",
       "\n",
       "│ Row │ orig_projected_additional_accrued_interest │\n",
       "├─────┼────────────────────────────────────────────┤\n",
       "│ 1   │ NA                                         │\n",
       "│ 2   │ NA                                         │\n",
       "│ 3   │ NA                                         │\n",
       "│ 4   │ NA                                         │\n",
       "│ 5   │ NA                                         │\n",
       "│ 6   │ NA                                         │\n",
       "│ 7   │ NA                                         │\n",
       "│ 8   │ NA                                         │\n",
       "│ 9   │ NA                                         │\n",
       "│ 10  │ NA                                         │\n",
       "│ 11  │ NA                                         │\n",
       "⋮\n",
       "│ 410 │ NA                                         │\n",
       "│ 411 │ NA                                         │\n",
       "│ 412 │ NA                                         │\n",
       "│ 413 │ NA                                         │\n",
       "│ 414 │ NA                                         │\n",
       "│ 415 │ NA                                         │\n",
       "│ 416 │ NA                                         │\n",
       "│ 417 │ NA                                         │\n",
       "│ 418 │ NA                                         │\n",
       "│ 419 │ NA                                         │\n",
       "│ 420 │ NA                                         │\n",
       "│ 421 │ NA                                         │\n",
       "\n",
       "│ Row │ hardship_payoff_balance_amount │ hardship_last_payment_amount │\n",
       "├─────┼────────────────────────────────┼──────────────────────────────┤\n",
       "│ 1   │ NA                             │ NA                           │\n",
       "│ 2   │ NA                             │ NA                           │\n",
       "│ 3   │ NA                             │ NA                           │\n",
       "│ 4   │ NA                             │ NA                           │\n",
       "│ 5   │ NA                             │ NA                           │\n",
       "│ 6   │ NA                             │ NA                           │\n",
       "│ 7   │ NA                             │ NA                           │\n",
       "│ 8   │ NA                             │ NA                           │\n",
       "│ 9   │ NA                             │ NA                           │\n",
       "│ 10  │ NA                             │ NA                           │\n",
       "│ 11  │ NA                             │ NA                           │\n",
       "⋮\n",
       "│ 410 │ NA                             │ NA                           │\n",
       "│ 411 │ NA                             │ NA                           │\n",
       "│ 412 │ NA                             │ NA                           │\n",
       "│ 413 │ NA                             │ NA                           │\n",
       "│ 414 │ NA                             │ NA                           │\n",
       "│ 415 │ NA                             │ NA                           │\n",
       "│ 416 │ NA                             │ NA                           │\n",
       "│ 417 │ NA                             │ NA                           │\n",
       "│ 418 │ NA                             │ NA                           │\n",
       "│ 419 │ NA                             │ NA                           │\n",
       "│ 420 │ NA                             │ NA                           │\n",
       "│ 421 │ NA                             │ NA                           │"
      ]
     },
     "execution_count": 13,
     "metadata": {},
     "output_type": "execute_result"
    }
   ],
   "source": [
    "accepted_2015"
   ]
  },
  {
   "cell_type": "code",
   "execution_count": 14,
   "metadata": {
    "collapsed": false
   },
   "outputs": [
    {
     "name": "stdout",
     "output_type": "stream",
     "text": [
      "Dict{Any,Any}(Pair{Any,Any}(\"Y\", 3),Pair{Any,Any}(\"N\", 418))\n"
     ]
    }
   ],
   "source": [
    "# Exploratory graphs?\n",
    "# Feature transformations?\n",
    "\n",
    "\n",
    "hardship_flag = accepted_2015[:hardship_flag]\n",
    "d = Dict()\n",
    "for i = 1 : length(hardship_flag)\n",
    "    if haskey(d, hardship_flag[i])\n",
    "        d[hardship_flag[i]] += 1\n",
    "    else\n",
    "        d[hardship_flag[i]] = 1 \n",
    "    end\n",
    "end\n",
    "println(d)"
   ]
  },
  {
   "cell_type": "code",
   "execution_count": 15,
   "metadata": {
    "collapsed": false
   },
   "outputs": [
    {
     "ename": "LoadError",
     "evalue": "\u001b[91mUndefVarError: Null not defined\u001b[39m",
     "output_type": "error",
     "traceback": [
      "\u001b[91mUndefVarError: Null not defined\u001b[39m",
      "",
      "Stacktrace:",
      " [1] \u001b[1minclude_string\u001b[22m\u001b[22m\u001b[1m(\u001b[22m\u001b[22m::String, ::String\u001b[1m)\u001b[22m\u001b[22m at \u001b[1m.\\loading.jl:515\u001b[22m\u001b[22m"
     ]
    }
   ],
   "source": [
    "isna(Null)"
   ]
  },
  {
   "cell_type": "code",
   "execution_count": 16,
   "metadata": {
    "collapsed": true
   },
   "outputs": [],
   "source": [
    "# features that might help\n",
    "\n",
    "# dti = debt-to-income ratio"
   ]
  },
  {
   "cell_type": "code",
   "execution_count": 7,
   "metadata": {
    "collapsed": false
   },
   "outputs": [
    {
     "data": {
      "text/plain": [
       "summary_stats"
      ]
     },
     "execution_count": 7,
     "metadata": {},
     "output_type": "execute_result"
    }
   ],
   "source": [
    "\"\"\"compute summary statistics on observed values in data array\"\"\"\n",
    "function summary_stats(arr::DataArray)\n",
    "    clean_arr = dropna(arr)\n",
    "    print(\"missing: $(mean(isna.(arr)))%\\n\")\n",
    "    print(\"maximum: $(maximum(clean_arr))\\n\")\n",
    "    print(\"minimum: $(minimum(clean_arr))\\n\")\n",
    "    print(\"median:  $(median(clean_arr))\\n\")\n",
    "    print(\"mean:    $(mean(clean_arr))\\n\")\n",
    "    print(\"std:     $(std(clean_arr))\\n\")\n",
    "end"
   ]
  },
  {
   "cell_type": "code",
   "execution_count": 8,
   "metadata": {
    "collapsed": false
   },
   "outputs": [
    {
     "name": "stdout",
     "output_type": "stream",
     "text": [
      "missing: 9.498953927698712e-6%\n",
      "maximum: 9.5e6\n",
      "minimum: 0.0\n",
      "median:  65000.0\n",
      "mean:    76965.60866260582\n",
      "std:     73949.96146864929\n"
     ]
    }
   ],
   "source": [
    "mths = accepted_2015[:annual_inc];\n",
    "summary_stats(mths)"
   ]
  },
  {
   "cell_type": "code",
   "execution_count": 23,
   "metadata": {
    "collapsed": false
   },
   "outputs": [
    {
     "name": "stdout",
     "output_type": "stream",
     "text": [
      "missing: 0.0%\n"
     ]
    }
   ],
   "source": [
    "grade = accepted_2015[:grade];\n",
    "summary_stats(grade)"
   ]
  },
  {
   "cell_type": "code",
   "execution_count": 26,
   "metadata": {
    "collapsed": false
   },
   "outputs": [
    {
     "name": "stdout",
     "output_type": "stream",
     "text": [
      "missing: 0.0%\n"
     ]
    }
   ],
   "source": [
    "hardship = accepted_2015[:hardship_flag];\n",
    "summary_stats(hardship)"
   ]
  },
  {
   "cell_type": "code",
   "execution_count": 27,
   "metadata": {
    "collapsed": false
   },
   "outputs": [
    {
     "name": "stdout",
     "output_type": "stream",
     "text": [
      "missing: 0.0%\n"
     ]
    }
   ],
   "source": [
    "installment = accepted_2015[:installment];\n",
    "summary_stats(installment)"
   ]
  },
  {
   "cell_type": "code",
   "execution_count": 19,
   "metadata": {
    "collapsed": false
   },
   "outputs": [
    {
     "data": {
      "text/plain": [
       "421-element DataArrays.DataArray{Int64,1}:\n",
       " 0\n",
       " 0\n",
       " 0\n",
       " 0\n",
       " 0\n",
       " 0\n",
       " 0\n",
       " 0\n",
       " 0\n",
       " 0\n",
       " 0\n",
       " 0\n",
       " 1\n",
       " ⋮\n",
       " 0\n",
       " 1\n",
       " 0\n",
       " 0\n",
       " 0\n",
       " 0\n",
       " 1\n",
       " 0\n",
       " 0\n",
       " 2\n",
       " 0\n",
       " 0"
      ]
     },
     "execution_count": 19,
     "metadata": {},
     "output_type": "execute_result"
    }
   ],
   "source": [
    "debt_to_inc_ratio = accepted_2015[:dti];\n",
    "delinq_2yrs = accepted_2015[:delinq_2yrs]"
   ]
  },
  {
   "cell_type": "code",
   "execution_count": 13,
   "metadata": {
    "collapsed": false
   },
   "outputs": [
    {
     "name": "stdout",
     "output_type": "stream",
     "text": [
      "missing: 2.3747328425552126e-5%\n",
      "maximum: 999.0\n",
      "minimum: 0.0\n",
      "median:  18.87\n",
      "mean:    19.386234771664014\n",
      "std:     10.002454521511348\n"
     ]
    }
   ],
   "source": [
    "summary_stats(debt_to_inc_ratio)"
   ]
  },
  {
   "cell_type": "code",
   "execution_count": 14,
   "metadata": {
    "collapsed": false
   },
   "outputs": [
    {
     "name": "stdout",
     "output_type": "stream",
     "text": [
      "0"
     ]
    }
   ],
   "source": [
    "cnt = 0\n",
    "for i = 1 : length(delinq_2yrs)\n",
    "    if isna(delinq_2yrs[i])\n",
    "        cnt += 1\n",
    "    end\n",
    "\n",
    "end\n",
    "println(cnt)"
   ]
  },
  {
   "cell_type": "code",
   "execution_count": 15,
   "metadata": {
    "collapsed": false
   },
   "outputs": [
    {
     "name": "stdout",
     "output_type": "stream",
     "text": [
      "missing: 0.0%\n",
      "maximum: 15\n",
      "minimum: 0\n",
      "median:  0.0\n",
      "mean:    0.3448112087390169\n",
      "std:     0.9115498396907951\n"
     ]
    }
   ],
   "source": [
    "summary_stats(delinq_2yrs)"
   ]
  },
  {
   "cell_type": "code",
   "execution_count": 16,
   "metadata": {
    "collapsed": true
   },
   "outputs": [],
   "source": [
    "# Decisions about the project: \n",
    "# GOAL -- predict lateness out of just using the accepted. there's not enough data from the \n",
    "# rejected to do a good job there. (Or even predict earliness -- the ones that are Fully Paid instead of just Current)\n",
    "# Maybe loans that are likely to be paid back early should be given lower interest rates to\n",
    "# entice people to take on loans\n",
    "\n",
    "# SPIN THIS AS:'there could be human bias that is causing humans to accept loan applications\n",
    "# that won't be paid back on time. This system will fix that. (Aka maybe there's something\n",
    "# that humans miss, which is understandable because they don'tt have infinite time to\n",
    "# review the applications.)\n",
    "\n",
    "# impute the rows with NAs so I don't have to throw them out\n",
    "\n",
    "# feature transformations to convert useful text features --> numerical features"
   ]
  },
  {
   "cell_type": "code",
   "execution_count": 4,
   "metadata": {
    "collapsed": false
   },
   "outputs": [
    {
     "ename": "LoadError",
     "evalue": "\u001b[91mMethodError: no method matching split(::DataArrays.NAtype)\u001b[0m\nClosest candidates are:\n  split(\u001b[91m::T<:SubString\u001b[39m, \u001b[91m::Any\u001b[39m; limit, keep) where T<:SubString at strings/util.jl:253\n  split(\u001b[91m::AbstractString\u001b[39m) at strings/util.jl:302\n  split(\u001b[91m::T<:AbstractString\u001b[39m, \u001b[91m::Any\u001b[39m; limit, keep) where T<:AbstractString at strings/util.jl:277\u001b[39m",
     "output_type": "error",
     "traceback": [
      "\u001b[91mMethodError: no method matching split(::DataArrays.NAtype)\u001b[0m\nClosest candidates are:\n  split(\u001b[91m::T<:SubString\u001b[39m, \u001b[91m::Any\u001b[39m; limit, keep) where T<:SubString at strings/util.jl:253\n  split(\u001b[91m::AbstractString\u001b[39m) at strings/util.jl:302\n  split(\u001b[91m::T<:AbstractString\u001b[39m, \u001b[91m::Any\u001b[39m; limit, keep) where T<:AbstractString at strings/util.jl:277\u001b[39m",
      "",
      "Stacktrace:",
      " [1] \u001b[1mmacro expansion\u001b[22m\u001b[22m at \u001b[1m.\\In[4]:9\u001b[22m\u001b[22m [inlined]",
      " [2] \u001b[1manonymous\u001b[22m\u001b[22m at \u001b[1m.\\<missing>:?\u001b[22m\u001b[22m",
      " [3] \u001b[1minclude_string\u001b[22m\u001b[22m\u001b[1m(\u001b[22m\u001b[22m::String, ::String\u001b[1m)\u001b[22m\u001b[22m at \u001b[1m.\\loading.jl:515\u001b[22m\u001b[22m"
     ]
    }
   ],
   "source": [
    "# pie chart of \n",
    "#println(accepted_2015[:term])\n",
    "term_of_loan = accepted_2015[:term]\n",
    "int_term_of_loan = []\n",
    "num_36 = 0\n",
    "num_60 = 0\n",
    "for i = 1 : length(term_of_loan)\n",
    "    #push!(int_term_of_loan, parse(Int64, split(term_of_loan[i])[1]))\n",
    "    if split(term_of_loan[i])[1] == \"36\"\n",
    "        num_36 += 1\n",
    "    elseif split(term_of_loan[i])[1] == \"60\"\n",
    "        num_60 += 1\n",
    "    end\n",
    "\n",
    "end\n",
    "# println(int_term_of_loan[1:100])\n",
    "pie([\"36 months\", \"60 months\"],[num_36, num_60])"
   ]
  },
  {
   "cell_type": "code",
   "execution_count": 18,
   "metadata": {
    "collapsed": false
   },
   "outputs": [
    {
     "name": "stdout",
     "output_type": "stream",
     "text": [
      "[226, 41884]\n",
      "String[\"JOINT\", \"INDIVIDUAL\"]\n"
     ]
    },
    {
     "data": {
      "text/html": [
       "<img src=\"data:image/png;base64,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\" />"
      ]
     },
     "execution_count": 18,
     "metadata": {},
     "output_type": "execute_result"
    }
   ],
   "source": [
    "# Invididual or joint\n",
    "application_type = accepted_2015[:application_type]\n",
    "d = Dict()\n",
    "for i = 1 : length(application_type)\n",
    "    if haskey(d, application_type[i])\n",
    "        d[application_type[i]] += 1\n",
    "    else\n",
    "        d[application_type[i]] = 1 \n",
    "    end\n",
    "end\n",
    "pie_values = Int64[]\n",
    "pie_labels = String[]\n",
    "for key = keys(d)\n",
    "    #println(\"$key: $(dict[key])\")\n",
    "    push!(pie_labels, key)\n",
    "    push!(pie_values, d[key])\n",
    "end\n",
    "println(pie_values)\n",
    "println(pie_labels)\n",
    "# println(int_term_of_loan[1:100])\n",
    "# pie([\"36 months\", \"60 months\"],[num_36, num_60])\n",
    "pie(pie_labels, pie_values)"
   ]
  },
  {
   "cell_type": "code",
   "execution_count": 19,
   "metadata": {
    "collapsed": false
   },
   "outputs": [],
   "source": [
    "#d = Dict()\n"
   ]
  },
  {
   "cell_type": "code",
   "execution_count": 6,
   "metadata": {
    "collapsed": false
   },
   "outputs": [
    {
     "name": "stdout",
     "output_type": "stream",
     "text": [
      "[143111, 64, 211830, 5708, 7668, 51062, 1652]\n",
      "String[\"Fully Paid\", \"Default\", \"Current\", \"In Grace Period\", \"Late (31-120 days)\", \"Charged Off\", \"Late (16-30 days)\"]\n"
     ]
    },
    {
     "data": {
      "text/html": [
       "<img src=\"data:image/png;base64,iVBORw0KGgoAAAANSUhEUgAAAlgAAAGQCAYAAAByNR6YAAAABHNCSVQICAgIfAhkiAAAAAlwSFlzAAAPYQAAD2EBqD+naQAAADl0RVh0U29mdHdhcmUAbWF0cGxvdGxpYiB2ZXJzaW9uIDIuMS4wLCBodHRwOi8vbWF0cGxvdGxpYi5vcmcvpW3flQAAIABJREFUeJzs3XlcVOXiBvDnzMYOirKLgrKoiOIeVt40S9MsTStv/fKSttysbpvZrdT0WrZa6vWmZZntVppm5pJL5C4uoKiIiCKKIPsybMMsvz/QKWKHgXdmzvP9fPwgM2fOPFjiw3ve876SyWQygYiIiIgsRiE6ABEREZG9YcEiIiIisjAWLCIiIiILY8EiIiIisjAWLCIiIiILY8EiIiIisjAWLCIiIiILY8EiIiIisjAWLCIiIiILY8EiIiIisjAWLCIiIiILY8EiIiIisjAWLCIiIiILY8EiIiIisjAWLCIiIiILY8EiIiIisjAWLCIiIiILY8EiIiIisjAWLCIiIiILY8EiIiIisjCV6ABERABQUWVARZUBZToDyqsMqDIYoTeYqj8aqz8ajYBGpYCjWgEntRKOaiUc/vR7tZI/M1o7SZKwfv16TJgwAWlpaQgODkZ8fDyioqKEZZo3bx42bNiAhISEeo+JiYlBYWEhNmzY0I7JyJaxYBFRm9DpjcjRViK7uALZJZXILqlEzrXfX732MVdbidLK6kJlMJpa/Z4qhQRHtRKOagUcVEq4Oqjg7e4AbzdH+Ho4wMfd0fzL190RXm4OUCokC3y18hATE4PPP/+81uMpKSkICQkRkKi6HM2fPx8AoFAo4O/vj9GjR+PNN9+El5dXk84xc+ZMPP30020Zk2SIBYuIWkxbqUfK1RKkZGuRcrUE57K1yCyqwNXiChSWV8HU+s7ULHqjCdpKPbSVfzyWfLWk3uMVEtDJ1QG+7o7wcXdAl47OCPVxRbiPG8J83eDuqG6H1LZlzJgx+Oyzz2o81tQi01YiIiKwY8cOGAwGxMfHY/r06cjIyMCWLVua9HpXV1e4urq2cUqSGxYsImpUSUUVUrK1OHdVi7N/KlRXiipER2sVownIKalETkklEjNqP+/n4YgwHzeE+7oh1Nv12kc3OGmU7R/WSjg4OMDX17fO54KCgvDss8/i2WefNT8WFRWFCRMmYN68eQ2e12QyITQ0FP/85z8xc+ZM8+MnT55E3759kZKSgh49etT5WpVKZc4UEBCAf/3rX5g7dy7Ky8vh5OSEl156CevXr8fly5fh6+uLBx98EHPnzoVaXV2g/3qJ0GAw4MUXX8SqVaugVCoxffp0mNr7pwWyeSxYRFRDlcGIxIwiHEnLx+G0ApzMKEKmjReplsosqkBmUQV+P5tjfkwhAYGezgj3cUO/wA4YEuyJvl084KCSb+myBEmSMG3aNHz22Wc1CtaqVatw880311uu6uLk5ASj0Qi9Xg8AcHNzw+rVq+Hv74/ExEQ8+uijcHNzw6xZs+p8/aJFi7Bq1Sp8+umn6N27NxYtWoT169dj5MiRrfsiSVZYsIhkTlupx9GLBdcKVT4SLhWiosooOpbVMpqAi3lluJhXhl9PXwUAOKgU1WUryBNDgj0xsFtHuDjY57fXTZs21bicdscdd+CHH36wyLkffvhhzJ07F3FxcRgyZAiqqqrw1Vdf4d13323yOc6cOYPly5djyJAhcHNzAwDMnj3b/HxQUBBeeOEFfPfdd/UWrMWLF+Pll1/GpEmTAAArVqzAtm3bWvGVkRzZ53cAslkff/wxFixYgIyMDLz//vs1LjW0lLXcqWQtsksqEHchH0fSCnA4LR9nskosMsFczir1RsRdyEfchXzgt+rJ9r393TEkyBODgz0xJMgTHV00omNaxIgRI7B8+XLz5y4uLhY7t5+fH8aNG4dVq1ZhyJAh2LRpEyoqKnDvvfc2+LrExES4urrCYDCgsrISt9xyCz7++GPz82vXrsXixYtx7tw5aLVa6PV6uLu713muoqIiZGZmIjo62vyYSqXCoEGDeJmQmoUFi1rtz3cWqVQqeHp6om/fvvj73/+OmJgYKBRNu3W+uLgYTz31FN5//31MmjQJHh4ebZI3NjYWI0aMQEFBATp06NAm72FtTl8pxvbTV7E9KQsnM4pFx7F7eqMJJy4X4cTlInyy9wIkCQj3ccOoXj64PcIHfbvY7v93Li4u9d4xqFAoapWQqqqqZp3/kUcewUMPPYQPPvgAn332Ge6//344Ozs3+Jrw8HBs3LgRSqUS/v7+cHBwMD938OBBTJkyBfPnz8fo0aPh4eGBNWvWYNGiRc3KRdRcLFhkEdfvLDIYDLh69Sq2bt2KZ555BmvXrsXGjRuhUjX+v1p6ejqqqqowbtw4+Pn5tUNq+6U3GHHoQn51qTp9FRmF5aIjyZrJBJzJKsGZrBIs++0c/D0cMaq3D27v7YsbuntCZSfrd3l5eSEzM9P8eXFxMS5cuNCsc4wdOxYuLi5Yvnw5tmzZgt27dzf6Go1GU2/p27dvH7p164ZXX33V/NjFixfrPZeHhwf8/Pxw8OBBDB8+HACg1+tx9OhRDBgwoFlfC8mbffytJuGu31kUEBCAAQMG4JVXXsFPP/2ELVu2YPXq1QCqh94fe+wxeHt7w93dHSNHjsTx48cBAKtXr0ZkZCQAoHv37pAkCWlpaUhNTcXdd98NHx8fuLq6YvDgwdixY0eN95Ykqdbifx06dDC/75+lpaVhxIgRAICOHTtCkiTExMRY9g9DkOKKKmw8fgX/+jYeAxZsx4OfHMLq/WksV1boSlEFvjhwEf/36SEMfH0Hnl0Tj82JmSit1IuO1iojR47El19+iT179uDkyZP4xz/+AaWyeZP/lUolYmJi8PLLLyMkJKTGpbqWCAkJQXp6OtasWYPU1FQsXboU69evb/A1zzzzDN566y2sX78eZ86cwYwZM1BYWNiqHCQ/LFjUZkaOHIl+/frhxx9/hMlkwrhx45CVlYXNmzebfxq89dZbkZ+fj/vvv99cnOLi4pCZmYnAwEBotVqMHTsWO3bsQHx8PEaPHo3x48cjPT29RZkCAwOxbt06AEBycjIyMzOxZMkSi33N7a1Mp8f3Ry7hoU8PYeCC7fjXt/HYePwKiits+x9qOSkqr8KGhCuY8fUxDFiwHdNWH8Z3h9NRXNG8S2vW4OWXX8bw4cNx5513YuzYsZgwYUKz7v67bvr06dDpdJg2bVqrM91999147rnn8NRTTyEqKgr79+/HnDlzGnzNCy+8gKlTpyImJgbR0dFwc3PDxIkTW52F5EUycdYetVJDW0hMmTIFJ06cwLJlyzBx4kRkZ2fXmB8REhKCWbNm4bHHHkNCQgL69++PCxcuICgoqN73i4iIwBNPPIGnnnoKQM2tN67r0KEDFi9ejJiYmFqT3O1hDtbhtHx8f/hS9aiHziA6DrUBR7UCd/Txw32DAnFDd09IknxWnN+3bx9uueUWXL58GT4+PqLjELUI52BRmzKZTJAkCUePHoVWq0WnTp1qPF9eXo7U1NR6X19aWor58+dj06ZNuHLlCvR6PcrLy1s8gmXLrhZXYO3Ry1h79DIu5JaKjkNtrKLKiPXxGVgfn4FunZxx36BATB7YBT7ujqKjtZnKykpcunQJc+bMwX333cdyRTaNBYvaVFJSEoKDg2E0GuHn54fY2NhaxzQ0ivTiiy9i27ZteO+99xASEgInJydMnjwZOp3OfIwkSa2+c8la6fRG7Ei6iu+PXMKelFwupyBTF/PK8O62ZLy//SxuCfPCfYMDcWtPb7uZHH/dt99+i+nTpyMqKgpffvml6DhErcKCRW1m165dSExMxHPPPYcuXbogKysLKpWqwct/f7Vnzx7ExMSY5z9otVqkpaXVOOavdy6lpKSgrKys3nNqNNXrERkM1ntpLTVHiy8PXMRPCRkoKLOPskitZzCasPNMNnaeyUZnVwdMGhCA+wYHooeXfeyjFxMTYzc3nRCxYJFFVFZWIisrq8YyDW+++SbuvPNOTJ06FQqFAtHR0ZgwYQLefvtthIeH48qVK9i8eTMmTJiAQYMG1XnekJAQ/Pjjjxg/fjwkScKcOXNgNNZcZXzkyJFYtmwZbrjhBhiNRrz00kvmPcbq0q1bN0iShE2bNmHs2LFwcnKymo1ej17Mx4rfz2NH0tV23yiZbEuuthIf7T6Pj3afx9/CvPDPv/VAdI9Ojb+QiNqFfY0vkzBbt26Fn58fgoKCMGbMGPz2229YunQpfvrpJyiVSkiShM2bN2P48OGYNm0awsLCMGXKFKSlpTU4z+KDDz5Ax44dMWzYMIwfPx6jR4+utRbNokWLEBgYiOHDh+OBBx7AzJkzG1yYMCAgAPPnz8e///1v+Pj4mCfLi2IymbDtVBYmLd+PScsPYPtplitqnt/P5uDvKw9iwv/2YevJLK44TmQFeBchkSCVegN+PJaBlXvO43wOJ62T5XT3csHjw7tjYv8u0Kj4czSRCCxYRO2sqLwKXx28iNX705BTUik6DtkxX3dHTLspCA8M7QZXO918mshasWARtZNcbSVWxKbi27h0rl1F7crdUYWHorvh4RuD0dnVofEXEFGrsWARtbEynR4rd1/Ayj3nobXxrVDItjmqFYgZFownbukBD6f6bwQhotZjwSJqI3qDEWsOX8KSnSm8FEhWxcNJjRm39MA/hgXBUd28vQKJqGlYsIjawNaTmXhnazLOc8V1smJ+Ho54dlQoJg8MhFIhn614iNoDCxaRBR1Oy8ebm5NwLL1QdBSiJuvp64ZXx/XCzaFeoqMQ2Q0WLCILOJddgre2JGNH0lXRUYhabGRPb7wythdCvK1j4V0iW8aCRdQKReVVeHfbGXwbd4n7BJJdUCkkPDi0K567LQwdnDWi4xDZLBYsohbaEJ+B139JQq6WE9jJ/nR21WDu+Ajc1c9fdBQim8SCRdRMF3JLMWfDSew9lys6ClGbu7WnNxZM6AP/Dk6ioxDZFBYsoiaqMlRhe+IWPLtWDZ3e2PgLiOyEq4MKL44Ox9To6o3SiahxLFhETXAi5wRe2/8aLpVcwt8qHsW6c11ERyJqdwO7dcTbkyIR4u0mOgqR1WPBImpAub4cS48txTdnvoHRVD1qFdUhAmePTcHVSq6ETfKjUSowY0QPzLglhBtJEzWABYuoHidzT+Lfe/6Ni8UXaz03yX0yVh8aJCAVkXUI83HFW5P6YkDXjqKjEFklFiyivzAYDfgk8ROsOL4CelPdewd6aNwRnvcYdl7u3M7piKyHQgIevbk7Zo4Oh1rJ0SyiP2PBIvqTDG0GXtnzCo5lH2v02Js9h+C3g3ej3MC93EjeogI74L9/749AT2fRUYisBgsW0TU/p/6MhYcWQlulbfJr7nGais+P9W7DVES2wd1RhXcm98WYPn6ioxBZBRYskr1iXTFeP/A6tqRtafZr/Zx84JL2COLzeVcVEQA8dEM3zL6zFxxUHNkleeNFc5K1pLwk3PfzfS0qVwCQWX4VIb0OWDgVke368uBFTPzffpzPafpIMJE94ggWydaGcxvw+sHXUWlo3VY3SkmJMXgEa04HWygZke1z0Sjx+sQ+mNifa8aRPLFgkexUGarwZtyb+OHsDxY7Z6hbMPJPTUVaKbcTIfqzyQO7YMHdfeCk4SVDkhcWLJKVrNIsPB/7PBJzEy1+7rs63ImvD9xk8fMS2bpQb1d88o9B6NbJRXQUonbDgkWycSjzEGbtnoX8ivw2Ob+j0gFDy/6JTed5FxXRX3m6aPDRQwMxOMhTdBSidsFJ7iQLX5z6Ao9vf7zNyhUAVBgqUeKzCx3VdS9OSiRn+aU6PLjyEH48dll0FKJ2wREssmsGowFvxr2J75K/a7f3nOB2P76M699u70dka54eGYLnbwuDJEmioxC1GRYssltlVWV4cfeL2H15d7u+b0eNBwKvPo59WbwUQlSfcX39sOjefnBUc/I72SdeIiS7lFOWg5itMe1ergCgQFeEjj32QK3gzy5E9fnlRCamfHwQOSWtWyaFyFpxBIvsTkpBCmbsnIGs0iyhOe7SPIyvj4cLzUBk7QI6OGFVzGCE+3I3BLIvHMEiu7L/yn5M3TJVeLkCgKOqrejdgatZEzUko7Ack5bvx2/J2aKjEFkUCxbZjc3nN+PJHU82a7PmtpRRlomIiEOiYxBZPW2lHo9+fgQ/JWSIjkJkMSxYZBd+TPkRL+99GXqTdS2RsKPgN0zqmS46BpHV0xtNeO67BPxw5JLoKEQWwYJFNu/rpK8xb/88GE1G0VFq0Zv0uOjxK/wcOZGXqDFGEzBr3Ql8c4g/lJDtY8Eim/ZJ4id4K+4tmGC992okF5/DiP7xomMQ2QSTCXhlfSI+23dBdBSiVmHBIpu19NhSLDm2RHSMJtmh3YbbunESL1FTzf/5ND76PVV0DKIWY8Eim/R23NtYmbhSdIwmK9eXQx+wCy4qg+goRDbjzS1nsHRniugYRC3CgkU2Z+Ghhfgq6SvRMZrtSEECJkSdFh2DyKa8v/0s3tuWLDoGUbOxYJFNWXx0Mb49863oGC22V78Zg72LRMcgsinLfjuHN37hDydkW1iwyGasPLESn578VHSMVsmvLIBv6B5IkvVOyieyRiv3XMCbm5NExyBqMhYssglfJ32NpfFLRcewiNj8vbg3kpN3iZrro93n8cme86JjEDUJCxZZvQ3nNuDtuLdFx7Cok5otCHErFR2DyOa8sTkJG+K54jtZPxYssmq/pv2KefvnWfU6Vy1xqTQDUZGHRccgsjkmE/Di2uPYfTZHdBSiBrFgkdXam7EXL+15CQaTfS5tsLNoB8aH8idxouaqMpjwxFdHceJyoegoRPViwSKrlJyfjBdiX4DeaF17C1qS3qjHVc9f4eWgEx2FyOaU6gx4+LPDSMvlpXayTixYZHWyy7IxY+cMlOnLREdpc0nFybi1/wnRMYhsUl6pDlNXxSGnhHt9kvVhwSKrUlZVhqd2PoXsMvlsKxNbuhnDu+SJjkFkk9LzyxDzWRy0lfY72k22iQWLrIbRZMRLu19CUr681rop1ZdB3XUXnJT2OdeMqK2dulKMx788Ap3eKDoKkRkLFlmNdw6/g9jLsaJjCBFXcBR3RZ0RHYPIZu07l4fZGxJFxyAyY8Eiq/B10tf4Oulr0TGEijNuRmTnEtExiGzW90cu4+tDF0XHIALAgkVWYH/Gfrx7+F3RMYTLrchDUPhe0TGIbNr8jacRn14gOgYRCxaJlanNtOu1rprr9/zduCciTXQMIpulMxgx4+tjyNXyzkISiwWLhNEZdHg+9nkUVnKxwOtMMCHF+Rd0dSkXHYXIZmUWVeCpb45Bb+CkdxKHBYuEeSvuLZzMOyk6htVJ017CkH5HRMcgsmkHz+fjzS28cYTEYcEiITambsQPZ38QHcNq7Sr6Fbf3uCo6BpFN+3TvBWw8fkV0DJIpFixqd8n5yVhwYIHoGFatyliFYq+t8FBz8USi1vj3uhNIzuLdudT+WLCoXZXoSvB87POoMFSIjmL1ThUlYXR/rutD1BplOgMe//IIiiuqREchmWHBonY1d99cpJeki45hM/ZU/IKhfrzlnKg10vLKMPP746JjkMywYFG7WXd2HXak7xAdw6Zoq7RwC/4NaoVJdBQim/br6av4/sgl0TFIRliwqF2kFaXh7cNvi45hkw4VxOHuvmdFxyCyeQt+Po3LBWWiY5BMsGBRm6syVuHfe/6Ncj3XdmqpeMUmhHcsFR2DyKaVVOrx4g8nYDJxRJjaHgsWtbkVx1fgVN4p0TFsWnZ5DsJ67xMdg8jmHTifh8/2pYmOQTLAgkVt6kTOCXya+KnoGHZhd0EsxvfiDQJErfXOtjM4l60VHYPsHAsWtZkKfQVe3fsq9xm0EKPJiIuum+HjyD3WiFqjosqIF75P4FY61KZYsKjNLDm2BGnFaaJj2JUL2jTc1P+Y6BhENu/45SL877dU0THIjrFgUZtIzEnEN2e+ER3DLsUWb8HfgrJFxyCyect+S8HJjCLRMchOsWCRxemNesw/MB9GE4ff24LOqEOV769wVXEbHaLWqDKY8Nx3Caio4jQGsjwWLLK4L09/ieSCZNEx7Fpi0UmM6X9adAwim5eSrcXSnSmiY5AdYsEii8rQZmD58eWiY8jCAd3PiPLm5Q2i1vpkzwWk5vCuQrIsFiyyqNcPvs4FRdtJsa4EXiGxkCQumkjUGjqDEXN/Oik6BtkZFiyymK0XtmJvxl7RMWTlYMEB3N2Xd0IRtda+c3n4+fgV0THIjrBgkUUU64q516AgJ5U/I9ido4ZErfX6L6ehreTNI2QZLFhkEcsTliO3PFd0DFm6Wn4VfSIPiI5BZPOuFldiyQ5urE6WwYJFrXax+CLWJK8RHUPWdhfswO1hvLxB1Fqr96fhPCe8kwWwYFGrvX/kfeiNHFYXyWgyIrvDL+jkUCU6CpFNqzKY8MYvSaJjkB1gwaJWOZx1GLsu7RIdgwCklqRieP940TGIbN7OM9n4/WyO6Bhk41iwqMVMJhPeO/Ke6Bj0J3u1v2BYYJ7oGEQ2b8Gm09wMmlqFBYta7OfzP+N0HlcTtyYVhkoouvwKRyX/YSBqjXPZWnwTly46BtkwFixqkQp9BZYeWyo6BtXheOFxjIniHBKi1lq26xz3KaQWY8GiFvni9Be4WnZVdAyqx1H9z+jVmXdCEbVGdkklvjnEUSxqGRYsarYSXQlWn1otOgY1oFBXiMDwWNExiGze8t9TOYpFLcKCRc32VdJXKNGViI5BjTiQvxfj+lwQHYPIpuWUVOKrgxdFxyAbxIJFzVKiK8FXp78SHYOaKMVhI7q4chsdotZY8ft5lOs4ikXNw4JFzfJ10tco1hWLjkFNlFmWif59D4uOQWTTcrUcxaLmY8GiJtPqtPjy9JeiY1Az7SnchltCeEMCUWt8tDuVo1jULCxY1GQcvbJNBpMBxZ6b4KbmdkZELZWr1eGLA2miY5ANYcGiJimtKsWXSRy9slUpJSkYMeC46BhENu3j3edRpuMPKtQ0LFjUJN+e+RZFlUWiY1ArHCzbhP7+haJjENmsvFIdPt/PuVjUNCxY1KgqYxW+TfpWdAxqpXJ9OdyCfoVaYRIdhchmfbr3PCr1nItFjWPBokZtS9uG7PJs0THIAuILjmFMv7OiYxDZrFytDr+cyBQdg2wACxY16uvTX4uOQBZ03LQBPTqWiY5BZLM+P8DLhNQ4FixqUHx2PE7mnRQdgyyooLIAIb12i45BZLOOXypEwiXOZ6SGsWBRg7julX3aXxCL23tfEh2DyGZ9sT9NdASycixYVK9MbSZ2pe8SHYPaSLrTBng5VYqOQWSTNiVmIk/Lvz9UPxYsqtc3Z76BwcS7ZexVRlkGhkRxGx2iltDpjVhzmKPAVD8WLKpTub4c61LWiY5BbWx/8VZEB+eKjkFkk746eBEGI5c9obqxYFGddlzcgRJdiegY1Mb0Rj2qvH+Gi4qrUxM1V2ZRBX49lSU6BlkpFiyq0/pz60VHoHaSXJyMEf15pyhRS3x+IE10BLJSLFhUy+WSyziSdUR0DGpHRyp+Rh9fbuRN1FwHz+fj7FWO9lNtLFhUy4ZzG2AC5xXISam+FJ7dt0OS+N+dqLnWxHGyO9XGgkU1GE1GbEzdKDoGCRBfcBij+50THYPI5vySeAVGTnanv2DBohoOZR5CZin32ZKrM9iALu7lomMQ2ZSrxZU4dCFfdAyyMixYVAMnt8tbXmUeevfZKzoGkc3ZePyK6AhkZViwyKxEV8KV2wkHC3bhlvAM0TGIbMqWk5moMhhFxyArwoJFZr9d+g2VBm79IHcmmJDj9hM6OlSJjkJkMwrLqrAnJUd0DLIiLFhktv3idtERyEqkl6Yjuv9R0TGIbMrPxzl/lf7AgkUAgLKqMhy4ckB0DLIiB0t+waCueaJjENmMX09loaKK+7dSNRYsAgD8fvl3Xh6kGqqMVZD8foGDkvNKiJqiVGfAzqRs0THISrBgEQBeHqS6nSk+jZH9T4uOQWQzNh7nDSJUjQWLUKGvwN4M3ppPdUvQbUCYl1Z0DCKbEJucg5IK3iBCLFgEYF/GPpTrubgk1U1bpYVf6E7RMYhsQqXeyMuEBIAFiwBsT+flQWrYsYIDGBV5QXQMIpuwm8s1EFiwZM9gNGD35d2iY5ANOK/6EX6uFaJjEFm9vSm5oiOQFWDBkrmTeSdRoisRHYNsQE5FDiL77hcdg8jqZZdU4kxWsegYJBgLlsxx7StqjkOFOzAs9KroGERWb89ZjmLJHQuWzLFgUXMYTUYUd1gPN7VedBQiq8Z5WMSCJWOlVaU4kXNCdAyyMRe1aRg2IF50DCKrdjgtn6u6yxwLlowdzjoMvYkjEdR8R7Q/o09AoegYRFarosqIw2n5omOQQCxYMrb/CicsU8vojDq4BG6GSsFtdIjqs4d3E8oaC5aMcf4VtcbpohMYGXVWdAwiq7X7LOdhyRkLlkxllWYhrThNdAyycacMPyLIs0x0DCKrlHy1BNklXDtOrliwZOro1aOiI5AdKNYVI6jnLtExiKySyQTsO8fLhHLFgiVTCdkJoiOQnThasBd/i7gkOgaRVTp2kTeDyBULlkwdzzkuOgLZkQyHtfB00omOQWR1TmQUiY5AgrBgyVBZVRnOFnByMlnO1fKrGBB1UHQMIqtzJrMYVQbebStHLFgydCrvFAwmLoBHlnW4aCsGBvOuKaI/q9QbkZzF/V7liAVLhk7mnhQdgeyQ0WREldcGOKlY3on+LJGXCWWJBUuGEnMTRUcgO3WhJBU3D+D2S0R/duIyC5YcsWDJEEewqC3Fl/2EMN9i0TGIrEZiBu8klCMWLJkprChEZmmm6BhkxyoMFfAM3gJJMomOQmQVzmZpUannpXO5YcGSmXOF50RHIBk4VRiPW/qliI5BZBV0BiPOZHKiu9ywYMlMamGq6AgkEymmdfD1KBcdg8gqcD0s+WHBkhmOYFF7KdIVIbx3rOgYRFYh8TLnYckNC5bMpBZxBIvaz7HC3xHd84roGETCnc7kjR9yw4IlM7xESO0t12Ut3B31omMQCXUxt0x0BGpnLFgyUlBRgPyKfNHpgIplAAAgAElEQVQxSGayyq5gcNQh0TGIhCqp1KOglPt1ygkLloxw/hWJcrR4M/p2Y7knebuYz1EsOWHBkhFeHiRRDCYDJJ8NUCu56S3JVzoLlqywYMlIekm66AgkY+dLzuLmAdxFgOQrPa9UdARqRyxYMpJVmiU6AsncyYr1CPLiPzIkTxzBkhcWLBnJ1HKLHBKrXF8O35AtomMQCXExjwVLTliwZIR7EJI1OFV4BMP7cj4gyc8ljmDJCguWTOgMOi7RQFYjTbEOXm6VomMQtaus4gpu+iwjLFgykVWaBRNMomMQAQAKKvPRu89u0TGI2pXRBFwu4P6ccsGCJROc4E7W5ljhTgwKuyo6BlG74kR3+WDBkgnOvyJrVOL2A5w13EaH5COrqEJ0BGonLFgywREsskZXyi5jaP+jomMQtZvCsirREaidsGDJREFlgegIRHVKKPkZ4QFFomMQtYuichYsuWDBkoniymLREYjqpDfp4dRlA5QK3oRB9o8FSz5YsGSiWMeCRdYrtTgJN0WdFh2DqM0Vs2DJBguWTLBgkbU7U7UOAZ68w4rsG0ew5IMFSyZ4iZCsXZm+DIHh20THIGpTLFjywYIlExzBIltwqvAQbuiTLjoGUZthwZIPFiyZYMEiW5Gp+g7uzvxHiOxTYZlOdARqJyxYMlBpqESlgfu+kW3Ir8xDVL+9omMQtYmSSj2MRt4xKwcsWDJQoisRHYGoWRIKf0Xf7jmiYxBZnMkElFRw9wI5YMGSgSoDL7eQbTHBBJ3nD3BQG0VHIbI4zsOSBxYsGdCb+NMS2Z6M0nTc0P+Y6BhEFldeZRAdgdoBC5YM6I0sWGSbEkt/QrAfb9Ag+2Kw4zlYu3btQs+ePWE02tfosyRJ2LBhQ7New4IlAyxYZKuqjFXo0HUjJMl+/0Ei+TGaLPf/c0xMDCZMmNDi169evRodOnSwWJ5Zs2bh1VdfhUJRXS8yMzPxwAMPIDw8HAqFAs8++2ydryssLMSTTz4JPz8/ODo6olevXti8eXOD7zVv3jz07NkTLi4u6NixI0aNGoVDhw7VOKagoAAPPfQQPDw84OHhgYceegiFhYWW+WIbwYIlAwYTh6PJdp0rPolhUWdFxyCyGHsdwdq/fz9SUlJw7733mh+rrKyEl5cXXn31VfTr16/O1+l0Otx2221IS0vD2rVrkZycjJUrVyIgIKDB9wsLC8OyZcuQmJiIvXv3IigoCLfffjtycv64QeaBBx5AQkICtm7diq1btyIhIQEPPfSQZb7gRrBgyQBHsMjWpRp+gFeHCtExiCzCYMERrMa8//77iIyMhIuLCwIDAzFjxgxotVoAQGxsLB5++GEUFRVBkiRIkoR58+YBqC49s2bNQkBAAFxcXDB06FDExsY2+F5r1qzB7bffDkdHR/NjQUFBWLJkCaZOnQoPD486X7dq1Srk5+djw4YNuPHGG9GtWzfcdNNN9Ray6x544AGMGjUK3bt3R0REBN5//30UFxfjxIkTAICkpCRs3boVn3zyCaKjoxEdHY2VK1di06ZNSE5Orve8KSkpGD58OBwdHdG7d29s37691jEvvfQSwsLC4OzsjO7du2POnDmoqqq+eSEtLQ0KhYIFSw5YsMjWlVZpEdKr9jc5IlvUnutgKRQKLF26FCdPnsTnn3+OXbt2YdasWQCAYcOGYfHixXB3d0dmZiYyMzMxc+ZMAMDDDz+Mffv2Yc2aNThx4gTuvfdejBkzBikpKfW+1+7duzFo0KBmZ9y4cSOio6Px5JNPwsfHB3369MHChQthMDT96otOp8PHH38MDw8PczE7cOAAPDw8MHToUPNxN9xwAzw8PLB///46z2M0GnHPPfdAqVTi4MGDWLFiBV566aVax7m5uWH16tU4ffo0lixZgpUrV+KDDz4AUF0qR40aBVVz/hDINrFgkT04WbgP//HxQdHR01CpHaBWO0Ct0kCl0kClcoBaqYFSqYFKpYZSqYZKee2jpIJCoYJSqYZSUkGpUEEhKaFUKKHAtV+SEgooIEmK6o8mBSRI1R9NgGSSIJkkwAhIxuqPMJoAw/WPJpgMpurf2+fVH7IgL5Oy3d7rz3OegoODsWDBAjzxxBP48MMPodFo4OHhAUmS4Ovraz4uNTUV3377LS5fvgx/f38AwMyZM7F161Z89tlnWLhwYZ3vlZaWZj6+Oc6fP49du3bhwQcfxObNm5GSkoInn3wSer0ec+fObfC1mzZtwpQpU1BWVgY/Pz9s374dnTt3BgBkZWXB29u71mu8vb2RlZVV5/l27NiBpKQkpKWloUuXLgCAhQsX4o477qhx3OzZs82/DwoKwgsvvIDvvvvOXF4feeQRFiw5MPE7PtmJbzv8jsf6jMP5+N9FR6mXUqkxlz+12gFKlaa6CCqri6BKqYZKpYFSoYZSqYJKoar+vUIFxbWPSkkJhUIJpaSCAorqAigpIeFaAYQCCpOiuvihuvxJRgkw/aUAGgEYqj+aDCbAYKx+jMSS2u+tfvvtNyxcuBCnT59GcXEx9Ho9KioqUFpaChcXlzpfc+zYMZhMJoSFhdV4vLKyEp06dar3vcrLy2tcHmwqo9EIb29vfPzxx1AqlRg4cCCuXLmCd999F3PnzsXXX3+Nxx9/3Hz8li1bcPPNNwMARowYgYSEBOTm5mLlypW47777cOjQIXOxkqTaf9gmk6nOx4Hqy4pdu3Y1lysAiI6OrnXc2rVrsXjxYpw7dw5arRZ6vR7u7u7m5ydMmMCCJQcOSgfREYgs4rIiD6keF9Gj3+04f/xX0XHqZDDoYDDoYK0zxiRJAbXKoXoUUKUxf1SqHKBWqquLoFJTXf5UmurCd734KdRQKpTXRgGvjQRK10cBFZCufVRcHwGEwjz612gJNJhgujYaaPc/Eyrap2FdvHgRY8eOxT//+U8sWLAAnp6e2Lt3L6ZPn26eL1QXo9EIpVKJo0ePQqmsOdrm6upa7+s6d+6MgoKCZuf08/ODWq2u8V69evVCVlYWdDod7rrrrhqX+f48+d3FxQUhISEICQnBDTfcgNDQUHz66ad4+eWX4evri6tXr9Z6v5ycHPj4+NSZxVTH/Li/lrGDBw9iypQpmD9/PkaPHg0PDw+sWbMGixYtMh+j0WhYsOSABYvsyefOv+P9giB07Tsa6Se2iY5jc0wmI3RV5dBVlYuOUi+lUg2VWgONyvGPS8Dqa8VPpbl2OfhPl4H/PPp3/ZekrL40LCmvFb/rl4QV1WXwWglUXC+BxmuXgU3441KwCeYRQPNl4OuXgltBaqeCdeTIEej1eixatMi8bML3339f4xiNRlNrrlP//v1hMBiQnZ1tHilqiv79++P06dPNznnjjTfim2++gdFoNOc8e/Ys/Pz8oNFooNFo4Obm1qRzmUwmVFZW770bHR2NoqIixMXFYciQIQCAQ4cOoaioCMOGDavz9b1790Z6ejquXLlivtx54MCBGsfs27cP3bp1w6uvvmp+7OLFi7XOxYIlAxqlRnQEIota5rMRz6c/CvQdg/QTW0XHIQszGKpgMFShEqWio9RJkhRQqa5fCnYwl0CVurr8mYvftSKoVKiqH7tWAt2kMGjQtMLQFEVFRUhISKjxmKenJ3r06AG9Xo///ve/GD9+PPbt24cVK1bUOC4oKAharRY7d+5Ev3794OzsjLCwMDz44IOYOnUqFi1ahP79+yM3Nxe7du1CZGQkxo4dW2eO0aNH4/PPP6/1+PVsWq0WOTk5SEhIgEajQe/evQEATzzxBP773//imWeewdNPP42UlBQsXLgQ//rXv+r9mktLS/HGG2/grrvugp+fH/Ly8vDhhx/i8uXL5mUievXqhTFjxuDRRx/FRx99BAB47LHHcOeddyI8PLzO844aNQrh4eHmr724uLhGkQKAkJAQpKenY82aNRg8eDB++eUXrF+/vta5JFNd42FkV65or2D0utGiYxBZ1NPZ/RBQPhVlymSOZJFNmbb4I3T0a3iNp6aKiYmps9T84x//wOrVq/HBBx/g3XffRWFhIYYPH24uTgUFBeYFRp944gn88MMPyMvLw2uvvYZ58+ahqqoKr7/+Or744gtkZGSgU6dOiI6Oxvz58xEZGVlnloKCAgQEBCA+Pr5GgalrvlO3bt2QlpZm/vzAgQN47rnnkJCQgICAAEyfPh0vvfRSrUuU11VUVOCBBx7AoUOHkJubi06dOmHw4MGYPXs2Bg8ebD4uPz8f//rXv7Bx40YAwF133YVly5Y1uLjq2bNnMX36dMTFxSEoKAhLly7FmDFjsH79evOirrNmzcKqVatQWVmJcePG4YYbbsC8efNqLGLKgiUDueW5GPH9CNExiCzuswMDkNJ5OlSOx5GeyJJFtuHR/30G985eomO0iVmzZqGoqMg8YiRnXAdLBhyVzb+rg8gWLBx0ERFJn6Aory+6RnKUlmyDSmO/0zZeffVVdOvWrVlrWNkjrVbLgiUHnORO9ipFnYcjQ4yI0u5ATkYEuva9XXQkokbZc8Hy8PDAK6+8Uu+lPbl46qmnWLDkQK1UQyHxPzXZpw98j0NdeQYRnTKRfakPSxZZNYVSBY2jk+gY1MZWr17NgiUXLqq6F5QjsgcLhufCe9sSBPqbWLLIqjk2sI4U2RcWLJno6NhRdASiNpOszkXcpHD0+HkuPDzV1SUr8jbRsYhqcXS13PIMZN1YsGSCBYvs3Xt+CTCE+yHy5MdQOyiQfTmSJYusDguWfLBgyURHBxYssn9v3JIPh4wkRFXtAySwZJHVcWriiuRk+1iwZIIjWCQHp9U5ODKpN9x2fYXe3nkAWLLIuji6sGDJBQuWTLBgkVy84x8P/YDe8PlhPgL8qleQZskia+HIESzZYMGSCU9HT9ERiNqFSQIWjiyCwtEBIdvmw62DGgBLFlkHJ87Bkg0WLJno4FD/vktE9uak+iri74mAMv8q+qashkpT/a0u+3IkAiNHCU5HcubcwB54ZF9YsGSCI1gkN292iYehX084nNqPKOmo+fGcy33RlSWLBHHv7C06ArUTFiyZ8HHxER2BqF2ZJODtUVpITo5w3/YJwnyLzc9ls2SRIPa6yTPVxoIlE11cu4iOQNTuEjRZOHFPJADAf+1r8PX9Y3+07Mt9ERh5q6hoJEeSBDeOYMkGC5ZMOKudeZmQZOn1wHgYIsOh0OsQvmshXNxV5udyLvdjyaJ24+LRASq1WnQMaicsWDLCUSySI5MEvHd7GSRHRyiz09Ev/TsoVZL5+ZzL/dCVJYvaAedfyQsLlowEuAWIjkAkxFFNJk7e0xcA4JiwC30dT9d4PvtyPwT2GSkiGsmImxcLlpywYMkIR7BIzl7vFg9jRCgAoOOmZQjxL6/xfE5GFEsWtSlOcJcXFiwZ6eLGgkXyZYAJ74/WQXJwAAAErp0NLx9ljWNYsqgteXjxbm45YcGSEY5gkdzFOWQgaWI/AICkq0Cvve/ByVVV4xiWLGorngGBoiNQO2LBkpFAN/7lJvpPUAJMvUIAAKqMc4jK/gkKhVTjGJYsagudu3YTHYHaEQuWjPi6+MJF7SI6BpFQesmIxWP0kDQaAIBT3GZEul+odVx1yRrR3vHITjm5e8DZ3UN0DGpHLFgyIkkSenToIToGkXAHHC/j7IQo8+edNryLYP+qWsflZPRnySKL6Nylq+gI1M5YsGQmtEOo6AhEVmF+9+MwhXc3f95t/Wx08lLVOo4liyyhUyAvD8oNC5bMhHZkwSICAJ1kwH/HmoBrK2sryrWIiFsCB2dlrWOrS9Yt7ZyQ7EnnQI5gyQ0LlsyEdQwTHYHIaux1vITUCf3Nn6sunkZU8XZIUu1jczIGsGRRi3XiJULZYcGSmZ6ePSGhjn89iGTqtR7HgdBg8+cue9ehj+eVOo9lyaKW4iVC+WHBkhk3jRsCXLllDtF1OsmA/42TANUf86+81r2Brv7GOo9nyaLmcvfygZOrm+gY1M5YsGSop2dP0RGIrMrvTulIu3tAjce6b5yDDp3UdR5fXbL+1h7RyA74hYaLjkACsGDJUETnCNERiKzOnNDjQEiQ+XOFthCRx5dD41h70jsA5GQMRGAESxY1zp8FS5ZYsGSov3f/xg8ikplKyYAV41Q1LhWqz8UjqnIP6pu2mHOFJYsa5xfKqwZyxIIlQ30694FaUfelDyI52+WchvTxNS8Vuv72NXp75db7muwrA1iyqF5KtRrewd0bP5DsDguWDDkoHdC7U2/RMYis0uzwE0D3mrfU+6z9DwL86z5egnStZA1vh3Rka7yDukOp4g+0csSCJVMDvAc0fhCRDFVIenxypyOg/GPulWQ0IGTLfLh3rPsfyuqSNZAli2rh5UH5YsGSKc7DIqrfry7nkXFnzR9ClAXZ6Jv8GVSaur9tsmRRXXgHoXyxYMlUlHcUFxwlasCrPU9CCupS4zHN6QOIwuF6X3O9ZHVhyaJruvTkXdtyxYIlUx0dOyLII0h0DCKrVaaowqq7XABFzW+T7r+uQrhvcb2vkyAhhyWLUL09jqtnJ9ExSBAWLBnjPCyihm1xSUXmnYNqPe7/wxz4+tb/7fOPknVzW8YjK9c1sp/oCCQQC5aM3eB/g+gIRFZvdq9TkLrW3F5KMugRvvMNuLir6nnV9ZI1iCVLxrpFcq6rnLFgydgw/2FQSnWvUk1E1UoUlfj8brdalwqVOZfRL30NlOrGRrIGoUvvm9o6JlkZhVKFwIhI0TFIIBYsGXPXuKOfF4ewiRqzyfUcrt4xsNbjjgm/oZ/mZIOvlSAhJ3MwS5bM+IWGQ+PoJDoGCcSCJXM3BfCbPlFTzI5MgtSl9mqjHX75H0L8yxp8LUuW/HSLjBIdgQRjwZI5FiyipimSKvDNhA6AVHt5k8C1c+Dl0/DldpYseenWlwVL7liwZK5Xp17wcvISHYPIJqx3O4ucMbUvFUq6CvTe/TacXeuf9A6wZMmFo4srfEPCRMcgwViwCDcG3Cg6ApHNeKXvGUj+vrUeV2ZeQL/sn6BQNryAL0uW/esxaCgUCt5AJHcsWMTLhETNUKSowJp7OtV5qdApbjMiXVMbPccfJYs/3NijkCHDREcgK8CCRbjR/0ZoFBrRMYhsxjq3ZOSNrn2pEAA6/bQIwf66Rs9RXbKGIKA3/zG2J2pHJwT15fpXxIJFAFw1rhgWwG/yRM0xu99ZSH4+dT7X7cfZ6OTV8HwsoLpk5WYORReWLLsRHDUQKg1/YCUWLLpmTNAY0RGIbEqeogxrJ9Z9g4iiohQRhz6Ao3Pj83BYsuxL6JBo0RHISrBgEQBgROAIOCodRccgsinfeZxBwe11XypUpZ9BVNE2SE36LltdsgJ6sWTZMqVaje4DBouOQVaCBYsAAM5qZ9zchXumETXXq/3PQfLxrvM5533r0adjRhPPJCEvayi69OIIiK3qFhkFjZOz6BhkJViwyGx00GjREYhsTq6iFOsn1T0XCwC81i1EN39DE88mITfrBpYsGxU6lHeF0h9YsMhseJfhcFJx7yyi5vrGIwmFtw6o9/ngjXPRsVPjk96rVZesAJYsm6J2cETYDSxY9AcWLDJzUjnhli63iI5BZJNmD0qF5NW5zucU2kL0SVgOjWNTF5+UkMeSZVNCh0Rzc2eqgQWLargj+A7REYhsUraiFD9PCqj3eXVqAqIqdgMNL/T+JyxZtiTillGiI5CVYcGiGm7ucjM6O9X9UzgRNeyLjqdQPLL+S4Wusd+gd+ecZpzxesm6ofXhqM24e3kjMKKv6BhkZViwqAaVQoUJIRNExyCyWbMHnYeis2e9z/usnY8A/+acUUJeVjRLlhXrffMISHVsnUTyxoJFtdwTeg+kpl/HIKI/yVJq8cukwHqfl0wmhGyZD/eO6maclSXLmkX8jZcHqTYWLKol0C0QQ/2Gio5BZLM+8zwF7d/q349OWZCNvmc+hUrTnG/B10pWT/7dtCYBPXujg6+f6BhkhViwqE6TwyaLjkBk0+YMvQjJs2O9z2uSDiHKFNfMs0rIuzqMJcuK9LnlNtERyEqxYFGdRnYdCU/H+ueREFHDMpTF+HVyUIPHuG//DD19i5p5Zgl52SxZ1sDR1Q3hNw4XHYOsFAsW1UmtUOPuHneLjkFk01Z2SkTpzf0aPMbvh7nw82vmt2ITS5Y16DPiNqg1DqJjkJViwaJ6TQqbxMnuRK30WnQGpI4d6n1eMugRtv11uHo0daX3a8wla0grE1JLSJICUbePFR2DrBgLFtWrm3s3bgBN1ErpykLsnBTc4DHK3Az0S/sWSnVLRrJuZMkSILj/QHh4+7bb+0mShA0bNrTb+1nCvHnzEBUVZbHzbdiwASEhIVAqlXj22WfrfcxasGBRg2IiYkRHILJ5K7wSUX5jw5cKHY7Hop86sfknZ8kSYuA4y60XmJWVhaeffhrdu3eHg4MDAgMDMX78eOzcudNi72HNPv/8cwwZMgQuLi5wc3PD8OHDsWnTplrHPf7445g8eTIuXbqEBQsW1PuYtWDBogYN9h2MiE4RomMQ2bzXhmVA6uDR4DEdNn+IUL/S5p+cJatdeXUNQtc+DRfmpkpLS8PAgQOxa9cuvPPOO0hMTMTWrVsxYsQIPPnkkxZ5j/rodLo2PX9TzJw5E48//jjuu+8+HD9+HHFxcbj55ptx9913Y9myZebjtFotsrOzMXr0aPj7+8PNza3Ox6wJCxY1iqNYRK2XpirE75N6NHpcwLo58PZp6qbQf8KS1W76j73LYueaMWMGJElCXFwcJk+ejLCwMEREROD555/HwYMHaxybm5uLiRMnwtnZGaGhodi4caP5OYPBgOnTpyM4OBhOTk4IDw/HkiVLarw+JiYGEyZMwJtvvgl/f3+EhYUBADIzMzFu3Dg4OTkhODgY33zzDYKCgrB48WLza4uKivDYY4/B29sb7u7uGDlyJI4fP17j/G+99RZ8fHzg5uaG6dOno6KiosGv/eDBg1i0aBHeffddzJw5EyEhIejVqxfeeOMNPPvss3j++edx6dIlxMbGmsvTyJEjIUlSvY9ZExYsatRt3W5DgGv9m9gSUdMs8z6BiuiG96xT6CrRa/fbcHZr5qR3wFyy/HsObmFCaoxLR0/0ummERc6Vn5+PrVu34sknn4SLi0ut5zt0qHlzxPz583HffffhxIkTGDt2LB588EHk5+cDAIxGI7p06YLvv/8ep0+fxty5c/HKK6/g+++/r3GOnTt3IikpCdu3bzdfhps6dSquXLmC2NhYrFu3Dh9//DGys7PNrzGZTBg3bhyysrKwefNmHD16FAMGDMCtt95qfv/vv/8er732Gt544w0cOXIEfn5++PDDDxv8+r/99lu4urri8ccfr/XcCy+8gKqqKqxbtw7Dhg1DcnIyAGDdunXIzMys9zFrwoJFjVIqlPi/Xv8nOgaRXZh/UxYkd/cGj1FmXkC/rPVQKFtwF69JQn72TSxZbWTw+HugUjdnm6P6nTt3DiaTCT179mzS8TExMfj73/+OkJAQLFy4EKWlpYiLq16sVq1WY/78+Rg8eDCCg4Px4IMPIiYmplbBcnFxwSeffIKIiAj06dMHZ86cwY4dO7By5UoMHToUAwYMwCeffILy8nLza3777TckJibihx9+wKBBgxAaGor33nsPHTp0wNq1awEAixcvxrRp0/DII48gPDwcr7/+Onr37t3g13P27Fn06NEDGo2m1nP+/v7w8PDA2bNnodFo4O3tDQDw9PSEr69vvY9ZExYsapJ7Qu+Bu6bhfxSIqHGpqnzsnRza6HFOh7eir2tKy97keskKZ8myJCd3D/QdNcZi5zOZTADQ5I2i+/b9Y/Tz+oTwP480rVixAoMGDYKXlxdcXV2xcuVKpKen1zhHZGRkjSKSnJwMlUqFAQMGmB8LCQlBx45/7EJw9OhRaLVadOrUCa6uruZfFy5cQGpqKgAgKSkJ0dHRNd7rr583l8lksulNtFmwqEmc1c64P/x+0TGI7MISn+OoHBrZ6HGeP32A7v4tnIhsklCQw5JlSQPHTYDawdFi5wsNDYUkSUhKSmrS8eq/jJxJkgSj0Qig+hLdc889h2nTpuHXX39FQkICHn744VoT2f96KfJ6yfurPz9uNBrh5+eHhISEGr+Sk5Px4osvNil7XcLCwpCamlrnZPsrV66guLgYoaGN/zBirViwqMke6v0QXNS15wkQUfP9Z3g2JDfXRo/r+uNsdPJqwXwsACZzyRrUotfTHxxd3dB/9DiLntPT0xOjR4/G//73P5SW1r57tLCwsMnn2rNnD4YNG4YZM2agf//+CAkJMY8uNaRnz57Q6/WIj483P3bu3Lka7z1gwABkZWVBpVIhJCSkxq/OnTsDAHr16lVrUv5fP/+rKVOmQKvV4qOPPqr13HvvvQe1Wo1JkyY1+jVYKxYsarKOjh05F4vIQlJUeTgwKbzR4xQVpeh96H04urSmZN3MktVK/ceMh8bJ2eLn/fDDD2EwGDBkyBCsW7cOKSkpSEpKwtKlS5t1iS0kJARHjhzBtm3bcPbsWcyZMweHDx9u9HU9e/bEqFGj8NhjjyEuLg7x8fF47LHH4OTkZL48N2rUKERHR2PChAnYtm0b0tLSsH//fsyePRtHjhwBADzzzDNYtWoVVq1ahbNnz+K1117DqVOnGnzv6OhoPPPMM3jxxRexaNEipKam4syZM5g9ezaWLFmCRYsWITAwsMl/BtaGBYua5R8R/+BcLCILed/vOHSD+zR6nDo9GVEFWyC18Ds2S1braJycMcCCSzP8WXBwMI4dO4YRI0bghRdeQJ8+fXDbbbdh586dWL58eZPP889//hP33HMP7r//fgwdOhR5eXmYMWNGk177xRdfwMfHB8OHD8fEiRPx6KOPws3NDY6O1ZdDJUnC5s2bMXz4cEybNg1hYWGYMmUK0tLS4OPjAwC4//77MXfuXLz00ksYOHAgLl68iCeeeKLR902ALC0AACAASURBVF68eDE+/PBDrFmzBpGRkRg4cCB+//13bNiwAU8//XSTv35rJJnquwBLVI+VJ1ZiafxS0TGI7ELPqs5YsKIEJm3jC4zm3PMyEvO7tPi9JMmEjl57cCX5SIvPIUdDJ96Hm6ZMFR2j3Vy+fBmBgYHYsWMHbr31VtFxbBZHsKjZHuz1IDwdPUXHILILZ9S5iLunV5OO9frxTXTzN7T4vcwjWWEDW3wOuXF0dcOg8feIjtGmdu3ahY0bN+LChQvYv38/pkyZgqCgIAwfPlx0NJvGgkXN5qx2xrQ+00THILIb7wYkoGpgw2sGXRe8cQ46dmrZfCzgWsnKHc6S1URDJ9wLR5fGb0awZVVVVXjllVcQERGBiRMnwsvLC7GxsbXuWqTm4SVCapFKQyXGrhuL7PLsxg8mokZF6Lwxb3khTGVljR6r69EXcWEzoCtv+WiWJJnQofNuZJ492uJz2Dt3Lx88/MEKiy0sSvLCESxqEQelAx7vV3t7AyJqmVOabByb3LSN1TWpJ9C/LBZoxRqMJpOEwtzh8ONIVr1uuv//WK6oxViwqMUmhU5CSIcQ0TGI7MZb/vHQ92/afCyX39cgonPrRpBNJgmFeTfDL2xA4wfLjHdwD/S86RbRMciGsWBRiykVSvx7yL9FxyCyGyYJeHNkESQnpyYd7732P+ji38r3NCpQmDecJesv/vZ/02x6mxYSjwWLWmWo31Dc2pW38RJZSqImG8cnNb42FgBIJhNCfnkNHp6tu4zFklVTcNRAdO3TT3QMsnEsWNRqMwfNhIPSQXQMIrvxRpd4GPo1vso7ACiKchF5eiXUDq37ds6SVU2hVGL4//EuaWo9FixqtS5uXTC1t3wW4SNqayYJeGdUGSTHpm0srDlzGFGGQ61/X5YsDBh7NzoHdhMdg+wACxZZxCORj8Db2Vt0DCK7Ea/JROI9kU0+3m3HavT0bfrmwPUxl6zQ/q0+l61x6+SFYZMfEB2D7AQLFlmEs9oZzw54VnQMIrvyRrcEGPuENfl4vx9eg59f67+tm4wKFOb/TXYla0TMo1A3cdSQqDEsWGQxd3a/EwN9uKYOkaUYYMJ7t1dAcmjaHEfJoEfYr/+Bq0fr1276o2RFtfpctqD7gMEIHTJMdAyyIyxYZDGSJOG16NegUWhERyGyG0ccruD0PU2/o02Zl4m+F76ESm2hkayCW+y+ZKk0Dhj5MBdOJstiwSKLCvYIxqN9HxUdg8iu/KdbPIwRoU0+3vHEHvRTHbfIe5sM1SXL145L1tAJ98LD21d0DLIzLFhkcdMjp3OFdyILMkgmfDBaB0nT9NFhjy0rEOpXapH3NxkUKLLTkuXp3wWD754kOgbZIRYssji1Qo3/DPsPlJJSdBQiu3HIIQPJE5tXcALWzYGPj2X+HppLVoj9LMApKRQY8+RzUKq43yBZHgsWtYlIr0g81Psh0TGI7Mq84ASYevZo8vEKXSXCd78FZzeVRd7fZFCgqHCE3ZSsIXdPhl9I0xZ0JWouFixqM0/1fwpB7kGiYxDZDb1kxJI7jIC66SMuqsw0RF1ZB4XSMvvq2UvJ8uoWjOjJfxcdg+wYCxa1GQelAxbcuICXCoksaL/jJZyb0Lz1qRyP/oq+LmctlsHWS5ZCqcKYGbw0SG2LBasNZGVl4emnn0b37t3h4OCAwMBAjB8/Hjt37hQdrV7z5s1DVJTlJ7BGeUdheuR0i5+XSM7m9TgOU3j3Zr3Gc+Ni9PCvtFgGk0GBYhstWdGTpsA7qHl/fkTNxYJlYWlpaRg4cCB27dqFd955B4mJidi6dStGjBiBJ598skXnNJlM0Ov1tR6vqqpqbdx28US/J9DPy/a+CRNZK51kwLKxAFTNm1vVdd2r6OxtmflYAGA0l6y+FjtnW/MNCcOQifeKjkEywIJlYTNmzIAkSYiLi8PkyZMRFhaGiIgIPP/88zh48CDS0tIgSRISEhLMryksLIQkSYiNjQUAxMbGQpIkbNu2DYMGDYKDgwP27NljHmVatWqVeXTMZDLBZDLhnXfeQffu3eHk5IR+/fph7dq15vNfP9/OnTsxaNAgODs7/3979x0W1ZX/cfw9w1CGqoCGqoBIR0UQWyyoiLHHEmN0FY0txl9iCxq7hqhZo2Q1mmh2FyxRo2vcGM1mzcq6dhQjsaGLiCWKEkVRsCDl9wfLxBFQyuBQvq/n4Yncuefc78zzBD6ce+45tGnThvPnzwMQExPD/Pnz+eWXX1AoFCgUCmJiYnT2maiUKj5p/wkWhhY661OI2m6/yRVS+pZtU2bF44f4HF6GiZmuQ1anahGyVMbGdBs/CaVSpi2IyicBS4fS09P58ccfeffddzEzMyvyep06dcrUX0REBIsWLSIxMZEmTQp+eF24cIEtW7awbds2TUibNWsW0dHRfPHFF5w5c4ZJkyYxdOhQ/vOf/2j1N3PmTJYuXUp8fDwqlYqRI0cCMGjQIKZMmYKvry+pqamkpqYyaNCg8nwEJXI0d2R269k67VOI2m6O+y/Q2KVMbVRXz9MsfRcKHf70ry4hq/OIcdg4Ouu7DFFL6O7PGMGFCxfIz8/Hy8tLJ/0tWLCA0NBQrWPZ2dmsX7+eevXqAZCVlcWyZcuIjY2ldevWALi5uXHgwAFWr15Nhw4dNG0//vhjzffTp0+nR48ePHr0CLVajbm5OSqVCju7ylvN+DXX1zhw7QA7kndU2jWEqE0eK3L5ooeKdz5XQTHTCEpiengH/q97c/JOA53V8nvIghsXTuqsX13x7dAZv5DQF58ohI7ICJYO5efnAwV78ulCUFBQkWMNGzbUhCuAs2fP8ujRI0JDQzE3N9d8rVu3juTkZK22haNgAPb29gCkpaXppNbSmtlyJg0sdPdDXYja7t/qS1zuXbZbhQC22z+hoUPpQ1lpFIasVxr567TfirJxakDnt9/RdxmilpGApUONGzdGoVCQmJhY4jlKZcFHXhjGoOTJ6sXdZnz2WF5eHgC7du0iISFB83X27FmteVgAhk+tnVMYAgvbvyymhqb8sf0fUSll8FQIXZntcRLcGpa5net3s6lrq9ulCvJyldzP6FxlQpbK2JieE6dhaGyi71JELSMBS4esra0JCwtj5cqVZGUV3QPs7t27mtGn1NRUzfGnJ7yXlY+PD8bGxly5cgV3d3etL2fn0s81MDIyIjc3t9x1lIWvrS8fBn/4Uq4lRG3wSJHDml5GYFC2ydvKrHv4/fw5xmrdTvquSiGr84hx2DqXPXwKUVESsHRs1apV5ObmEhwczLZt20hKSiIxMZHly5fTunVr1Go1rVq1YvHixZw9e5Z9+/Yxa9ascl/PwsKCqVOnMmnSJNauXUtycjInTpxg5cqVrF27ttT9uLi4kJKSQkJCArdu3eLxY92tl1OcNzzfoH9j2WBVCF35l2kKv/YKLHM7w4snaZoVi45mNmhUhZAl866EPknA0jFXV1d+/vlnQkJCmDJlCn5+foSGhrJnzx6++OILAP7617/y5MkTgoKCeP/994mMjKzQNT/66CPmzJnDokWL8Pb2JiwsjO+//x5XV9dS99G/f3+6detGSEgI9erVY9OmTRWqqTRmtJxBE9uq/dSRENXJLM9TKFzLPsfRfN8WfGxu6ryevFwl9+915pVGfjrv+0XqNXCh80iZdyX0R5H/9GQgIV6ytAdpDNo5iFsPb+m7FCFqhG5ZjRi58gKU8ZZ/vkLBhcEruHpdx0NZgFKVh4Xlv7iZfFrnfRdHbWnF0IVRWNar/1KuJ0RxZARL6FV90/os7bBUJr0LoSM/miVzvWfZbxUq8vNptHMuVta6358vL0fJ/XtdXspIloFKRe8pMyRcCb2TgCX0rvkrzZnWYpq+yxCixpjlfRpFQ6cyt1Peu43/ma8wNNb9rwZNyHKr3JDVedR4nLx8K/UaQpSGBCxRJbzp9aZMehdCRzIV2cT0Ngdl2X/EG50/RrOcw5VQ1f9C1v3KC1mBPfrgH9K1UvoWoqwkYIkqY2armbRxaKPvMoSoEXaZX+BG97LfKgSw2LMO71fu6LiiAnk5SjLvd+YVN92OMrk2C6T90JE67VOIipCAJaoMQ6Uhyzouw8taN1sNCVHbzfQ9i8LZoVxt7bbOxcFe9xPeAXJzDMi830VnIcvawYke70fIJs6iSpGAJaoUM0MzVnVehb2Zvb5LEaLau698zPo+VpRnkStFXi4e/1yARR3dT3qH30NWfTefCvVjXtea/jMWYGxadOcLIfRJApaocuqZ1uPLLl9iaWSp71KEqPZ2WCSR1r3ovqaloUy/QZPk9agMK+dXRW6OAVn3Q8sdskzMzOk/Y4E8MSiqJAlYokpyq+PG8k7LMVIa6bsUIaq9mf6JKBzLNypsfGo/TQ1O6Lii35U3ZKmMjOkbMQfbBi6VU5gQFSQBS1RZga8EsrDdQhRUzjwQIWqLDMUjNr1et1y3CgGsflyDh32mjqv6nSZkuZYuZCkNDOg5MQJHr4rdXhSiMknAElVamEsYH7aUjaGFqKhvLf7LrbDyPVUI4LB1Nq/YVd4k8twcA7IySxeyQkdPoFFgy0qrRQhdkIAlqrzBXoOZGjRV32UIUe3NbHoehYNdudoqc7Lx/PcizCwrb9eF3BwDsrJCqe/qXeI57d4Klw2cRbUgAUtUC8N9h/N+8/f1XYYQ1dod5UO2vG5T7vaqm5dp+uvfUBpU3m373CcGZGV1LTZkBfcZQHCfAZV2bSF0SQKWqDZG+Y/inabv6LsMIaq1rZbnSQ8r31OFACY//0RT0/M6rKio4kJWUK9+tHsrvFKvK4QuKfLz8/P1XYQQZfGnn//En0/9Wd9lCFFt2eSZ8uVaE/JvpJW7j8tvLSX5uokOqyrKwDAXM9PdOPt60HHY6Eq9lhC6JiNYotp5v/n7DPMZpu8yhKi2bisfsK1fxdaOarBtFrb1K28+FhSMZLm1GCXhSlRLErBEtfRBiw8Y6j1U32UIUW1ttjrH3dDyP1WoePwQn0OfojarvJAV0LUBbQd4Vlr/QlQmCVii2poWPI1xTcfpuwwhqq1ZAcko6tuWu73q1ySa3foepVL3k96DurvQpp+7zvsV4mWRgCWqtXebvcu0FtNkMVIhyiHNIJPv+pdvM+hC6rid+Fld0k1B/xPcy5WWvd102qcQL5sELFHtDfUZSuSrkagUlTsfRIiaaEOds2R0al6hPmy3/xEXh5wK16JQQLtBHrTo4VrhvoTQNwlYokbo3ag3yzouw9jAWN+lCFHtzA66iNK2/OtjAbh8Nxtr2/L/kaNUKeg6yo8mIU4VqkOIqkIClqgxQhqE8EWXLzAzNNN3KUJUKzcMMvl+QMWCjTLrHr7HV2CsLvt2OoYmBvSa0BT3wIo92ShEVSIBS9QoLexa8Jeuf8HGpGJ/jQtR26yte4b7IQEV6sMw5TTNMveUaU9pUysjXp/cHCcv6wpdW4iqRgKWqHF8bX3Z1GMTHnU99F2KENXKrBaXUNhULOiY7d+Kr82NUp1r7WDGgGlB1GtgUaFrClEVScASNZK9uT3rX1tPB6cO+i5FiGoj1eA+Pw5oUOF+6m2LxNnh+ZuEOHrWpd8HgVhYV+5q8ELoi2yVI2q0vPw8lsYvZd3ZdfouRYhqI/qgP2b7TlSojzwLa06ELiYj/UmR17za2NNxiCcGBvI3vqi5JGCJWmHbf7cRGRdJTl7FHyUXoqZzyrEi6s+55N+5W6F+sj2CiHN9myeP8wBQKhW0GeBO007OuihTiCpN/nwQtUJ/j/6s7rIaSyNLfZciRJX3qyqDfw2o+FpURv+Np1nOIVCAibkhvd5vJuFK1BoSsEStEWwfzKYem/CsK3ubCfEiq21P8eDVZhXux2LPelo0zmTg9CCcPOvqoLKqKTY2Fi8vL/Ly8vRdyku1d+9eFAoFd+9WbLSztHbu3ElAQEC1+JwlYIlapYFlA77u8TX9G/fXdylCVHlzW/+Kom6dCvVh1acPQeO7Ymmr1lFVBcLDw+nbt2+528fExFCnTsXe29MiIiKYOXMmSmXBr9UDBw7Qtm1bbGxsUKvVeHl5ERUVpdVm37599OrVCwcHBxQKBX//+99Lda01a9bQsWNHLC0tiw03ly5d4u2338bV1RW1Wk2jRo2YO3cu2dnZWuedOnWKDh06oFarcXR0ZMGCBVT1WUM9e/ZEoVCwceNGfZfyQhKwRK1jbGDMvDbz+PjVj1GrdPtDX4ia5LLqLv/uV749ARWGhtjNnYPDJ4tRmtTsJwUPHTpEUlISAwcO1BwzMzNjwoQJ7Nu3j8TERGbNmsWsWbNYs2aN5pysrCyaNm3K559/XqbrPXjwgG7dujFjxoxiXz937hx5eXmsXr2aM2fOEBUVxZdffql1/r179wgNDcXBwYFjx46xYsUKPv30U5YtW1bGd//yjRgxghUrVui7jBeSgCVqrd6NerOx+0bcrGRTWSFKsqr+SR62aVKmNoYNGtBw49fUHTy4kqp6sWXLluHv74+ZmRnOzs6MHz+ezMxMoOC21ogRI8jIyEChUKBQKJg3bx4A2dnZRERE4OjoiJmZGS1btmTv3r3PvdbmzZvp2rUrJk8FyYCAAAYPHoyvry8uLi4MHTqUsLAw9u/frznntddeIzIykn79+pXpvU2cOJHp06fTqlWrYl/v1q0b0dHRdO3aFTc3N3r37s3UqVP59ttvNed8/fXXPHr0iJiYGPz8/OjXrx8zZsxg2bJlzx3F+uGHH/Dw8ECtVhMSEsKlS5e0Xr99+zaDBw/GyckJU1NT/P392bRpk+b1devWYWNjw+PHj7Xa9e/fn2HDhgHwyy+/EBISgoWFBZaWlgQGBhIfH685t3fv3hw9epSLFy+W+jPTBwlYolZzr+vOph6b6O7aXd+lCFFlzW+bisKqdA+IWHbvjuu321D7+1dyVc+nVCpZvnw5p0+fZu3atcTGxhIREQFAmzZt+Oyzz7C0tCQ1NZXU1FSmTp0KFIyOHDx4kM2bN3Py5EkGDhxIt27dSEpKKvFa+/btIygo6Ln1nDhxgkOHDtGhg37W5svIyMDa+vdFZA8fPkyHDh0wNv59/9awsDCuX79eJDQVunr1Kv369aN79+4kJCQwatQopk+frnXOo0ePCAwMZOfOnZw+fZoxY8bwhz/8gbi4OAAGDhxIbm4uO3bs0LS5desWO3fuZMSIEQAMGTIEJycnjh07xvHjx5k+fTqGhoaa8xs2bEj9+vW1wmpVJAFL1HqmhqZ80v4T5rSeI7cMhSjGRdUd9g1o/NxzFKam2Ed+hOOypRiYm7+kyko2ceJEQkJCcHV1pVOnTnz00Uds2bIFACMjI6ysrFAoFNjZ2WFnZ4e5uTnJycls2rSJrVu30q5dOxo1asTUqVN59dVXiY6OLvFaly5dwsHBodjXnJycMDY2JigoiHfffZdRo0ZVyvt9nuTkZFasWMG4ceM0x27cuMErr7yidV7h9zduFL8S/xdffIGbmxtRUVF4enoyZMgQwsPDtc5xdHRk6tSpNGvWDDc3N/7v//6PsLAwtm7dCoBareatt97S+jy//vprnJyc6NixIwBXrlyhS5cueHl50bhxYwYOHEjTpk2LXKekIFhVSMAS4n8Gegzkm57f4Gfjp+9ShKhyVtT/hcetih+VMvHzw+3bbdQZMOAlV1Wyf//734SGhuLo6IiFhQXDhg3j9u3bZGVlldjm559/Jj8/Hw8PD8zNzTVf//nPf0hOTi6x3cOHD7VuDz5t//79xMfH8+WXX/LZZ59p3S57kYULF2rVceXKlVK3LXT9+nW6devGwIEDi4Q7xTObRhbeGnz2eKHExERatWql9Xrr1q21zsnNzeXjjz+mSZMm2NjYYG5uzu7du7VqHz16NLt37+batWsAREdHEx4erul38uTJjBo1ii5durB48eJiP3u1Ws2DBw9K+zHohQQsIZ7iauXK+u7rGdtkLAYKA32XI0SVsuDVNBQWT+0baGCAzZgxuGzaiJGLi97qetbly5fp3r07fn5+bNu2jePHj7Ny5UoAnjwpurJ8oby8PAwMDDh+/DgJCQmar8TERP70pz+V2M7W1pY7d+4U+5qrqyv+/v6MHj2aSZMmaeZ6lca4ceO06ihplKwk169fJyQkhNatW2tNrgews7MrMlKVlpYGUGRkq1BpnjBcunQpUVFRREREEBsbS0JCAmFhYVpPMAYEBNC0aVPWrVvHzz//zKlTp7RGwubNm8eZM2fo0aMHsbGx+Pj4sH37dq3rpKenU69evRfWo08qfRcgRFWjUqqYEDCB9k7tmXVwFikZKfouSYgqIcnwNocGNKV19HGM3NxwWLwIdZOyTYB/GeLj48nJyWHp0qWaZRMKbw8WMjIyIjc3V+tYQEAAubm5pKWl0a5du1JfLyAggLNnz77wvPz8/CKTu5/H2tpaa95UWVy7do2QkBACAwOJjo7WfA6FWrduzYwZM8jOzsbIyAiA3bt34+DggEsJYdnHx6fIUhJHjhzR+n7//v306dOHoUOHAgWhNSkpCW9vb63zRo0aRVRUFNeuXaNLly44O2svQOvh4YGHhweTJk1i8ODBREdH8/rrrwMF87ySk5MJCAgo24fykskIlhAlaFKvCVt7bWW4z3CUCvlfRQiA5fanMfzwPVy3f6v3cJWRkaE1wpOQkMCVK1do1KgROTk5rFixgosXL7J+/Xq+/PJLrbYuLi5kZmayZ88ebt26xYMHD/Dw8GDIkCEMGzaMb7/9lpSUFI4dO8Ynn3zCDz/8UGIdYWFhHDhwQOvYypUr+f7770lKSiIpKYno6Gg+/fRTTfAAyMzM1NQNkJKSonkPz3Pjxg0SEhK4cOECULCeVUJCAunp6UDByFXHjh1xdnbm008/5bfffuPGjRtaI1ZvvfUWxsbGhIeHc/r0abZv387ChQuZPHlyibcIx40bR3JyMpMnT+b8+fNs3LiRmJgYrXPc3d356aefOHToEImJiYwdO7bYOV1Dhgzh2rVrfPXVV4wcOVJz/OHDh0yYMIG9e/dy+fJlDh48yLFjx7QC2pEjRzA2Ni5ye7Kqkb0IhSiFE2knmHdoHhczqvZjwUJUJvc67ixoswD/evp9QhAKFhpdu3ZtkePDhw8nJiaGqKgolixZwt27d2nfvr0mON25c0ezwOg777zD1q1buX37NnPnzmXevHk8efKEyMhI1q1bx7Vr17CxsaF169bMnz8f/xKejLxz5w6Ojo6cOHECT8+CnSJWrFjB6tWrSUlJQaVS0ahRI0aPHs3YsWM1o0l79+4lJCSkxPdQknnz5jF//vwixwvnMsXExGieyHvW07/yT506xbvvvsvRo0epW7cu48aNY86cOSUGLChYSX3SpElcvXqV4OBgRowYwciRIzWfa3p6OiNHjmTPnj2YmpoyZswYrly5QkZGRpHRr2HDhrFr1y6uX7+ueZoxOzub4cOHc/DgQW7evImtrS39+vVjyZIlmnluY8eORaFQFAnNVY0ELCFK6UneE9aeWcvqX1bzKPeRvssR4qUxVBoy2n80o5qMwlBp+OIGtVBERAQZGRmsXr1a36VUG6GhoXh7e7N8+fJSt/ntt9/w8vIiPj4eV9eK75dZmSRgCVFGv97/lUVHF7Hv1336LkWIStfKvhUftvxQFuR9gYyMDFauXMm0adMwMJAHZJ4nPT2d3bt3M2TIEM6ePasZ9SuNo0ePkpKSwqBBgyqxQt2QgCVEOe25vIfFxxZzI6v4NWOEqM7szez5oMUHhDYM1XcpogwKbzs+fSu0PFxcXJg4cSITJ07UYXW/933nzh1mz56tWeC1JpKZu0KUU+eGnfmuz3cM9xmOSiEP5IqawdjAmLFNxrKj745KD1cV3bC50L1795g9eza+vr6o1WpsbGxo0aIFf/zjH0tcPkHfXFxcNNv0mJqa4ufnp5Pbi23atCE1NRUrKysdVFk5Ll26REZGRo0OVyABS4gKMTU0ZWqLqWzttZV2jqV/rFuIqqijU0e299nOhIAJmKiqxwbN6enptGrViujoaKZOnUpcXBwHDx5k7ty5JCQksHHjxhLbPr02kz4sWLCA1NRUTp48Sd++fRk3bhzffPNNuft78uQJRkZG2NnZPXeiung5JGAJoQPudd1Z1WUVf+n6F3xsfPRdjhBl4l7HnZWdV7Ki8wqcLZxf3KCSdOzYkffee4+IiAisra2xs7N74cKcM2bM4MqVK8TFxTFixAiaNGmCl5cXPXv2ZOPGjYwfP15zrouLC5GRkYSHh2NlZcXo0aMBmDZtGh4eHpiamuLm5sbs2bOLLEi6Y8cOgoKCMDEx0TzZVqg8G0QDWFhYYGdnh7u7O5GRkTRu3FjrSbvvv/+ewMBATExMcHNzY/78+eTk5GheL3ySrk+fPpiZmREZGcnevXtRKBTcvXtXc962bdvw9fXF2NgYFxcXli5dqlVHWloavXr1Qq1W4+rqytdff/3C2sWLyX0NIXQo2D6YzT0280PKD6w4sYJrmdf0XZIQJXI0d2R8s/H0dOtZZdZ6W7t2LZMnTyYuLo7Dhw8THh5O27ZtCQ0tersyLy+Pb775hqFDh+Lo6Fhsf8+O5CxZsoTZs2cza9YszTELCwtiYmJwcHDg1KlTjB49GgsLC83m0Lt27aJfv37MnDmT9evXk52dza5duzTtR4wYwaVLl9i8eTMODg5s376dbt26cerUKRo3fv4ejk8zMTHRBLt//vOfDB06lOXLl9OuXTuSk5MZM2YMAHPnztW0mTt3LosWLSIqKgoDAwNSUrQXRj5+/DhvvPEG8+bNY9CgQRw6dIjx48djY2OjWT09PDycq1evEhsbi5GREe+9955mVXdRfjLJXYhKkp2bzaZzm1hzcg33su/puxwhNKxNrBnTZAxveLyBoYH+ll0IDw/n7t27mlGbjh07kpuby/79+zXnBAcH06lTJxYvXlyk/c2bN7GzQu6PtQAACL5JREFUs2PZsmVMmjRJczwwMJDz588D0KtXL83+fy4uLgQEBBTZduVZS5Ys4ZtvviE+Ph4omNfk5ubGhg0bipybnJxM48aN+fXXX7W2sunSpQvBwcEsXLiw2Gs8PYk8JyeHDRs2MGLECFatWsU777xD+/btee211/jwww81bTZs2EBERATXr18HCsLjxIkTiYqK0pzz7CT3IUOG8Ntvv7F7927NOREREezatYszZ87w3//+F09PT44cOULLli0BOHfuHN7e3kRFRVXKJPfaQkawhKgkRgZGDPcdTl/3vqw9s5ZN5zaR+SRT32WJWszC0IJwv3CGeg/F1NBU3+UUq8kzq8Pb29u/cDTl2VGq7du3k52dzbRp03j48KHWa0FBQUXa/+1vf+Ozzz7jwoULZGZmkpOTg6Wlpeb1hIQEze3EZz29QfTTHj9+jI2NzXPrnjZtGrNmzeLx48cYGRnxwQcfMHbsWKBg5OnYsWN8/PHHmvNzc3N59OgRDx48wNTUtMT387TExET69Omjdaxt27Z89tln5ObmkpiYiEql0urHy8urQk8gigISsISoZFbGVrzX/D2G+w5nY+JGNiRukBEt8VKZqkwZ5DWIt/3exsq46j5dBmBoqD2iplAoyMvLK/bcevXqUadOHc6dO6d1vEGDBkDBrb+n5yIBmJmZaX1/5MgR3nzzTebPn09YWBhWVlZs3rxZa56SWq0usd6nN4h+dv0rc3PzEtsBfPDBB4SHh2Nqaoq9vb1WUMzLy2P+/Plac70KFa5oXtz7eVZ+fn6RAPr0javCf8ukeN2TgCXES2JlbMU7zd5hmO8wNp3bxPqz60l/lK7vskQNZm1izRDvIQzyHFTlg1V5KJVK3njjDTZs2MDs2bNLnIf1PAcPHqRhw4bMnDlTc+zy5cta5zRp0oQ9e/YUu/1MeTeIBrC1tcXd3b3Y15o3b8758+dLfL20fHx8iuyTeOjQITw8PDAwMMDb25ucnBzi4+MJDg4G4Pz580WCqSg7CVhCvGRmhmaM8h/FEO8hbD2/lbVn1pL2UCaUCt1xNHck3Decvu59q81yC+W1cOFC9u7dS8uWLVmwYAFBQUGYmZlx8uRJDh8+jJ+f33Pbu7u7c+XKFTZv3kyLFi3YtWtXkTlac+fOpXPnzjRq1Ig333yTnJwc/vGPfxAREaG1QfTSpUsJCAjg1q1bxMbG4u/vT/fu3cv1vubMmUPPnj1xdnZm4MCBKJVKTp48yalTp4iMjCx1P1OmTKFFixZ89NFHDBo0iMOHD/P555+zatUqADw9PenWrRujR49mzZo1qFQqJk6c+NxRO1E6VeOxESFqIbVKzTDfYfyj/z9Y0GYBXtZe+i5JVHOedT35pN0n7Hp9F296vVnjwxWAjY0NR48eZdiwYSxZsoTg4GD8/f01T8199dVXz23fp08fJk2axIQJE2jWrBmHDh1i9uzZWud07NiRrVu3smPHDpo1a0anTp2Ii4vTvB4dHc2wYcOYMmUKnp6e9O7dm7i4OJydy7/kRVhYGDt37uSnn36iRYsWtGrVimXLltGwYcMy9dO8eXO2bNnC5s2b8fPzY86cOSxYsEDzBGFh/c7OznTo0IF+/foxZswY6tevX+7aRQF5ilCIKuT4zeNsTNxI7JVYcvJzXtxA1HpKhZL2ju150+tN2jq21Xc5Qoj/kYAlRBV0I+sGW85vYVvSNpmnJYplq7alX+N+DGg8AHtze32XI4R4hgQsIaqw7Nxsfrz0I1vOb+GX337RdzlCzxQoCLYP5g2PNwhpEIKhUn9rWAkhnk8ClhDVxOV7l9mRvIOdyTu5nnVd3+WIl8jGxIYebj0Y6DEQFysXfZcjhCgFCVhCVDP5+fnE34znuwvf8dPln3iQ80DfJYlKYG5oTqcGnejh2oOW9i0xUBq8uJEQosqQgCVENfYw5yH/uvwvdl3cRdyNOHLyZGJ8dWakNKK9U3u6u3WnvVN7jA2M9V2SEKKcJGAJUUPcz77Pvl/3EXsllgPXDsjIVjVhbGBMsF0woQ1D6dKwCxZGFvouSQihAxKwhKiBsnOzOZJ6hD1X9rD36l55ErGKqW9an/ZO7eng1IGW9i1Rq2RRRyFqGglYQtRwefl5JKQlcPD6QeJS4zhz64yssfWSKVDgZ+unCVXeNt76LkkIUckkYAlRy2Q9yeL4zeMcST1CXGocSXeSyEd+DOiSUqGkcZ3GBL4SSJBdEIGvBGJtYq3vsoQQL5EELCFqufRH6Ry9cZT4G/Gc/O0kSXeSZISrjAwUBnhbe2sCVUD9gBq5ubIQovQkYAkhtDzMeciZW2c4desUZ26f4ezts1y9f1XfZVUpzhbO+Nj44GPjg6+NL/62/pgamuq7LCFEFSIBSwjxQvey75F4O5GkO0lczLhISkYKKRkp3H50W9+lVSozQzNcLF3wtPbEo64HnnU98bD2wNLIUt+lCSGqOAlYQohyy3icoQlbKRkppNxL4UbWDW5m3eTO4zv6Lq9ULI0saWDRAGdLZxpYNKCBZYOC7y2csVHb6Ls8IUQ1JQFLCFEpsnOzufngJmkP0kh7kMbNrJvcfHCTWw9vcT/7Pvef3CczO5PMJ5lkZmfqZN0uBQpMVCaYGJigVqmpY1IHGxMbbNW22Khtiv7b1FZGo4QQlUIClhCiSsjNyyUrJ4vM7Ewe5jwkLz+PvPw88skv+G9+wX/zKPi3SqlCrVKjVqkxURUEKhMDExQKhb7fihBCSMASQgghhNA1pb4LEEIIIYSoaSRgCSGEEELomAQsIYQQQggdk4AlhBBCCKFjErCEEEIIIXRMApYQQgghhI5JwBJCCCGE0DEJWEIIIYQQOiYBSwghhBBCxyRgCSGEEELomAQsIYQQQggdk4AlhBBCCKFjErCEEEIIIXRMApYQQgghhI5JwBJCCCGE0DEJWEIIIYQQOiYBSwghhBBCxyRgCSGEEELomAQsIYQQQggdk4AlhBBCCKFj/w+GK4R5UMgzkwAAAABJRU5ErkJggg==\" />"
      ]
     },
     "execution_count": 6,
     "metadata": {},
     "output_type": "execute_result"
    }
   ],
   "source": [
    "# Loan status (what we're trying to predict)\n",
    "\n",
    "loan_status = accepted_2015[:loan_status]\n",
    "d = Dict()\n",
    "for i = 1 : length(loan_status)\n",
    "    if isna(loan_status[i]) \n",
    "        abcdef = 1\n",
    "    elseif haskey(d, loan_status[i])\n",
    "        d[loan_status[i]] += 1\n",
    "    else\n",
    "        d[loan_status[i]] = 1 \n",
    "    end\n",
    "end\n",
    "pie_values = Int64[]\n",
    "pie_labels = String[]\n",
    "for key = keys(d)\n",
    "    #println(\"$key: $(dict[key])\")\n",
    "    push!(pie_labels, key)\n",
    "    push!(pie_values, d[key])\n",
    "end\n",
    "println(pie_values)\n",
    "println(pie_labels)\n",
    "# println(int_term_of_loan[1:100])\n",
    "# pie([\"36 months\", \"60 months\"],[num_36, num_60])\n",
    "pie(pie_labels, pie_values)"
   ]
  },
  {
   "cell_type": "code",
   "execution_count": 21,
   "metadata": {
    "collapsed": false
   },
   "outputs": [],
   "source": [
    "# now try perceptron algorithm\n",
    "# Pkg.add(\"MLLabelUtils\")\n",
    "# using MLLabelUtils\n"
   ]
  },
  {
   "cell_type": "code",
   "execution_count": 22,
   "metadata": {
    "collapsed": false
   },
   "outputs": [
    {
     "data": {
      "text/plain": [
       "137-element Array{Symbol,1}:\n",
       " :id                                        \n",
       " :member_id                                 \n",
       " :loan_amnt                                 \n",
       " :funded_amnt                               \n",
       " :funded_amnt_inv                           \n",
       " :term                                      \n",
       " :int_rate                                  \n",
       " :installment                               \n",
       " :grade                                     \n",
       " :sub_grade                                 \n",
       " :emp_title                                 \n",
       " :emp_length                                \n",
       " :home_ownership                            \n",
       " ⋮                                          \n",
       " :hardship_status                           \n",
       " :deferral_term                             \n",
       " :hardship_amount                           \n",
       " :hardship_start_date                       \n",
       " :hardship_end_date                         \n",
       " :payment_plan_start_date                   \n",
       " :hardship_length                           \n",
       " :hardship_dpd                              \n",
       " :hardship_loan_status                      \n",
       " :orig_projected_additional_accrued_interest\n",
       " :hardship_payoff_balance_amount            \n",
       " :hardship_last_payment_amount              "
      ]
     },
     "execution_count": 22,
     "metadata": {},
     "output_type": "execute_result"
    }
   ],
   "source": [
    "#Scikit-learn api has imputer type\n",
    "# median imputation is also a good option\n",
    "\n",
    "# For now, I'll just remove rows with an NA in any of the features I'm using\n",
    "names(accepted_2015)"
   ]
  },
  {
   "cell_type": "code",
   "execution_count": 23,
   "metadata": {
    "collapsed": false
   },
   "outputs": [],
   "source": [
    "data_a = accepted_2015[:loan_amnt]\n",
    "data_b = accepted_2015[:annual_inc]\n",
    "data_c = accepted_2015[:dti]\n",
    "old_data_d = accepted_2015[:earliest_cr_line] # need to do string processing on this, Oct-94 --> 94, Sept-01 ->101  \n",
    "old_data_e = accepted_2015[:term] # need to do string processing on this 36 months --> 36, 60 months --> 60\n",
    "old_data_f = accepted_2015[:int_rate] # need to convert from 16.78% --> 0.1678 or 16.78\n",
    "data_g = accepted_2015[:loan_status]\n",
    "\n",
    "data_e = Int64[]\n",
    "for i = 1 : length(old_data_e)\n",
    "    push!(data_e, parse(Int64, split(old_data_e[i])[1])) \n",
    "end\n",
    "data_d = Int64[]\n",
    "for i = 1 : length(old_data_d)\n",
    "    year = parse(Int64, split(old_data_d[i],\"-\")[2])\n",
    "    if year <= 17 # 20XX\n",
    "        year = 2000 + year\n",
    "    else\n",
    "        year = 1900 + year\n",
    "    end\n",
    "    push!(data_d, year) \n",
    "end\n",
    "\n",
    "data_f = Float64[]\n",
    "for i = 1 : length(old_data_f)\n",
    "    push!(data_f, parse(Float64, split(old_data_f[i], \"%\")[1]))\n",
    "end\n"
   ]
  },
  {
   "cell_type": "code",
   "execution_count": 24,
   "metadata": {
    "collapsed": false
   },
   "outputs": [
    {
     "name": "stdout",
     "output_type": "stream",
     "text": [
      "SubString{String}[\"17.9\", \"\"]\n"
     ]
    }
   ],
   "source": [
    "qwerty = \"17.9%\"\n",
    "println(split(qwerty,\"%\"))"
   ]
  },
  {
   "cell_type": "code",
   "execution_count": 25,
   "metadata": {
    "collapsed": false
   },
   "outputs": [],
   "source": [
    "new_data_a = []\n",
    "new_data_b = []\n",
    "new_data_c = []\n",
    "new_data_d = []\n",
    "new_data_e = []\n",
    "new_data_f = []\n",
    "new_data_g = []\n",
    "\n",
    "for i = 1 : length(data_a)\n",
    "    if !isna(data_a[i]) && !isna(data_b[i]) && !isna(data_c[i])  && !isna(data_d[i]) && !isna(data_e[i]) && !isna(data_f[i]) && !isna(data_g[i])\n",
    "        push!(new_data_a, data_a[i])\n",
    "        push!(new_data_b, data_b[i])\n",
    "        push!(new_data_c, data_c[i])\n",
    "        push!(new_data_d, data_d[i])\n",
    "        push!(new_data_e, data_e[i])\n",
    "        push!(new_data_f, data_f[i])\n",
    "        push!(new_data_g, data_g[i])\n",
    "    end\n",
    "end"
   ]
  },
  {
   "cell_type": "code",
   "execution_count": 26,
   "metadata": {
    "collapsed": false
   },
   "outputs": [
    {
     "data": {
      "text/plain": [
       "42109"
      ]
     },
     "execution_count": 26,
     "metadata": {},
     "output_type": "execute_result"
    }
   ],
   "source": [
    "length(new_data_a)"
   ]
  },
  {
   "cell_type": "code",
   "execution_count": 27,
   "metadata": {
    "collapsed": false
   },
   "outputs": [
    {
     "data": {
      "text/plain": [
       "1"
      ]
     },
     "execution_count": 27,
     "metadata": {},
     "output_type": "execute_result"
    }
   ],
   "source": [
    "# floor(3.1)\n",
    "# round(3.1)\n",
    "# Int(3.1)\n",
    "floor(Int, 1.2)"
   ]
  },
  {
   "cell_type": "code",
   "execution_count": 60,
   "metadata": {
    "collapsed": false
   },
   "outputs": [
    {
     "data": {
      "text/plain": [
       "12633-element Array{Any,1}:\n",
       " \"Fully Paid\"        \n",
       " \"Current\"           \n",
       " \"Fully Paid\"        \n",
       " \"Current\"           \n",
       " \"Fully Paid\"        \n",
       " \"Current\"           \n",
       " \"Charged Off\"       \n",
       " \"Fully Paid\"        \n",
       " \"Current\"           \n",
       " \"Current\"           \n",
       " \"Fully Paid\"        \n",
       " \"Current\"           \n",
       " \"Current\"           \n",
       " ⋮                   \n",
       " \"Fully Paid\"        \n",
       " \"Current\"           \n",
       " \"Current\"           \n",
       " \"Current\"           \n",
       " \"Current\"           \n",
       " \"Current\"           \n",
       " \"Late (31-120 days)\"\n",
       " \"Fully Paid\"        \n",
       " \"Current\"           \n",
       " \"Fully Paid\"        \n",
       " \"Fully Paid\"        \n",
       " \"Fully Paid\"        "
      ]
     },
     "execution_count": 60,
     "metadata": {},
     "output_type": "execute_result"
    }
   ],
   "source": [
    "# Train/test split\n",
    "train_percent = 0.7\n",
    "train_a = new_data_a[1:floor(Int, train_percent * length(new_data_a))]\n",
    "test_a = new_data_a[floor(Int, train_percent * length(new_data_a)) + 1:length(new_data_a)]\n",
    "\n",
    "train_b = new_data_b[1:floor(Int, train_percent * length(new_data_a))]\n",
    "test_b = new_data_b[floor(Int, train_percent * length(new_data_a)) + 1:length(new_data_a)]\n",
    "\n",
    "train_c = new_data_c[1:floor(Int, train_percent * length(new_data_a))]\n",
    "test_c = new_data_c[floor(Int, train_percent * length(new_data_a)) + 1:length(new_data_a)]\n",
    "\n",
    "train_d = new_data_d[1:floor(Int, train_percent * length(new_data_a))]\n",
    "test_d = new_data_d[floor(Int, train_percent * length(new_data_a)) + 1:length(new_data_a)]\n",
    "\n",
    "train_e = new_data_e[1:floor(Int, train_percent * length(new_data_a))]\n",
    "test_e = new_data_e[floor(Int, train_percent * length(new_data_a)) + 1:length(new_data_a)]\n",
    "\n",
    "train_f = new_data_f[1:floor(Int, train_percent * length(new_data_a))]\n",
    "test_f = new_data_f[floor(Int, train_percent * length(new_data_a)) + 1:length(new_data_a)]\n",
    "\n",
    "train_g = new_data_g[1:floor(Int, train_percent * length(new_data_a))]\n",
    "test_g = new_data_g[floor(Int, train_percent * length(new_data_a)) + 1:length(new_data_a)]\n"
   ]
  },
  {
   "cell_type": "code",
   "execution_count": 61,
   "metadata": {
    "collapsed": false
   },
   "outputs": [
    {
     "data": {
      "text/plain": [
       "29476×6 Array{Any,2}:\n",
       " #undef  #undef  #undef  #undef  #undef  #undef\n",
       " #undef  #undef  #undef  #undef  #undef  #undef\n",
       " #undef  #undef  #undef  #undef  #undef  #undef\n",
       " #undef  #undef  #undef  #undef  #undef  #undef\n",
       " #undef  #undef  #undef  #undef  #undef  #undef\n",
       " #undef  #undef  #undef  #undef  #undef  #undef\n",
       " #undef  #undef  #undef  #undef  #undef  #undef\n",
       " #undef  #undef  #undef  #undef  #undef  #undef\n",
       " #undef  #undef  #undef  #undef  #undef  #undef\n",
       " #undef  #undef  #undef  #undef  #undef  #undef\n",
       " #undef  #undef  #undef  #undef  #undef  #undef\n",
       " #undef  #undef  #undef  #undef  #undef  #undef\n",
       " #undef  #undef  #undef  #undef  #undef  #undef\n",
       "   ⋮                                       ⋮   \n",
       " #undef  #undef  #undef  #undef  #undef  #undef\n",
       " #undef  #undef  #undef  #undef  #undef  #undef\n",
       " #undef  #undef  #undef  #undef  #undef  #undef\n",
       " #undef  #undef  #undef  #undef  #undef  #undef\n",
       " #undef  #undef  #undef  #undef  #undef  #undef\n",
       " #undef  #undef  #undef  #undef  #undef  #undef\n",
       " #undef  #undef  #undef  #undef  #undef  #undef\n",
       " #undef  #undef  #undef  #undef  #undef  #undef\n",
       " #undef  #undef  #undef  #undef  #undef  #undef\n",
       " #undef  #undef  #undef  #undef  #undef  #undef\n",
       " #undef  #undef  #undef  #undef  #undef  #undef\n",
       " #undef  #undef  #undef  #undef  #undef  #undef"
      ]
     },
     "execution_count": 61,
     "metadata": {},
     "output_type": "execute_result"
    }
   ],
   "source": [
    "# features = Matrix(30000, 6)\n",
    "features = Matrix(length(train_a), 6)"
   ]
  },
  {
   "cell_type": "code",
   "execution_count": 62,
   "metadata": {
    "collapsed": false
   },
   "outputs": [
    {
     "name": "stdout",
     "output_type": "stream",
     "text": [
      "test\n",
      "test\n",
      "12633\n",
      "29476\n"
     ]
    },
    {
     "data": {
      "text/plain": [
       "29476-element Array{Any,1}:\n",
       " \"Current\"    \n",
       " \"Current\"    \n",
       " \"Current\"    \n",
       " \"Current\"    \n",
       " \"Fully Paid\" \n",
       " \"Charged Off\"\n",
       " \"Current\"    \n",
       " \"Fully Paid\" \n",
       " \"Current\"    \n",
       " \"Fully Paid\" \n",
       " \"Fully Paid\" \n",
       " \"Fully Paid\" \n",
       " \"Fully Paid\" \n",
       " ⋮            \n",
       " \"Current\"    \n",
       " \"Fully Paid\" \n",
       " \"Fully Paid\" \n",
       " \"Fully Paid\" \n",
       " \"Current\"    \n",
       " \"Current\"    \n",
       " \"Current\"    \n",
       " \"Current\"    \n",
       " \"Current\"    \n",
       " \"Charged Off\"\n",
       " \"Current\"    \n",
       " \"Fully Paid\" "
      ]
     },
     "execution_count": 62,
     "metadata": {},
     "output_type": "execute_result"
    }
   ],
   "source": [
    "println(\"test\")\n",
    "features[:,1] = train_a\n",
    "println(\"test\")\n",
    "features[:,2] = train_b \n",
    "features[:,3] = train_c\n",
    "features[:,4] = train_d\n",
    "features[:,5] = train_e\n",
    "features[:,6] = train_f\n",
    "\n",
    "println(length(test_a))\n",
    "println(length(train_g))\n",
    "labels = Vector(length(train_a))\n",
    "labels = train_g\n",
    "\n",
    "\n",
    "\n",
    "X = features\n",
    "y = labels"
   ]
  },
  {
   "cell_type": "code",
   "execution_count": 63,
   "metadata": {
    "collapsed": true
   },
   "outputs": [],
   "source": [
    "# Julia packages to try:\n",
    "# DecisionTrees\n",
    "# GLM (has logistic regression)\n",
    "# SVM\n",
    "# scikit learn\n"
   ]
  },
  {
   "cell_type": "code",
   "execution_count": 86,
   "metadata": {
    "collapsed": false
   },
   "outputs": [],
   "source": [
    "# Pkg.add(\"DecisionTree\")\n",
    "# Pkg.add(\"RDatasets\")\n",
    "using RDatasets: dataset\n",
    "using DecisionTree\n",
    "# Pkg.add(\"MLBase\")\n",
    "using MLBase, DecisionTree\n",
    "using RDatasets, Distributions"
   ]
  },
  {
   "cell_type": "code",
   "execution_count": 87,
   "metadata": {
    "collapsed": true
   },
   "outputs": [],
   "source": [
    "# Now try one of these"
   ]
  },
  {
   "cell_type": "code",
   "execution_count": 88,
   "metadata": {
    "collapsed": true
   },
   "outputs": [],
   "source": [
    "# https://github.com/bensadeghi/DecisionTree.jl"
   ]
  },
  {
   "cell_type": "code",
   "execution_count": 89,
   "metadata": {
    "collapsed": false
   },
   "outputs": [
    {
     "name": "stdout",
     "output_type": "stream",
     "text": [
      "Feature 6, Threshold 11.99\n",
      "L-> Feature 6, Threshold 8.49\n",
      "    L-> Feature 6, Threshold 7.26\n",
      "        L-> Feature 4, Threshold 1993.0\n",
      "            L-> Feature 6, Threshold 6.24\n",
      "                L-> \n",
      "                R-> \n",
      "            R-> Feature 3, Threshold 16.95\n",
      "                L-> \n",
      "                R-> \n",
      "        R-> Feature 5, Threshold 60.0\n",
      "            L-> Feature 3, Threshold 5.35\n",
      "                L-> \n",
      "                R-> \n",
      "            R-> Feature 3, Threshold 7.67\n",
      "                L-> \n",
      "                R-> \n",
      "    R-> Feature 5, Threshold 60.0\n",
      "        L-> Feature 3, Threshold 24.05\n",
      "            L-> Feature 2, Threshold 34506.0\n",
      "                L-> \n",
      "                R-> \n",
      "            R-> Feature 2, Threshold 59613.0\n",
      "                L-> \n",
      "                R-> \n",
      "        R-> Feature 3, Threshold 18.93\n",
      "            L-> Feature 3, Threshold 18.83\n",
      "                L-> \n",
      "                R-> \n",
      "            R-> Feature 3, Threshold 29.56\n",
      "                L-> \n",
      "                R-> \n",
      "R-> Feature 6, Threshold 16.55\n",
      "    L-> Feature 5, Threshold 60.0\n",
      "        L-> Feature 2, Threshold 40523.0\n",
      "            L-> Feature 6, Threshold 13.18\n",
      "                L-> \n",
      "                R-> \n",
      "            R-> Feature 3, Threshold 26.56\n",
      "                L-> \n",
      "                R-> \n",
      "        R-> Feature 6, Threshold 13.67\n",
      "            L-> Feature 1, Threshold 29775.0\n",
      "                L-> \n",
      "                R-> \n",
      "            R-> Feature 3, Threshold 23.62\n",
      "                L-> \n",
      "                R-> \n",
      "    R-> Feature 6, Threshold 19.99\n",
      "        L-> Feature 3, Threshold 24.19\n",
      "            L-> Feature 5, Threshold 60.0\n",
      "                L-> \n",
      "                R-> \n",
      "            R-> Feature 4, Threshold 2003.0\n",
      "                L-> \n",
      "                R-> \n",
      "        R-> Feature 2, Threshold 64270.0\n",
      "            L-> Feature 1, Threshold 2650.0\n",
      "                L-> \n",
      "                R-> \n",
      "            R-> Feature 6, Threshold 22.99\n",
      "                L-> \n",
      "                R-> \n",
      "****\n",
      "Current\n",
      "****\n",
      "[0.0, 0.0, 1.0, 0.0, 0.0, 0.0, 0.0]\n",
      "****\n"
     ]
    },
    {
     "data": {
      "text/plain": [
       "7×7 Array{Int64,2}:\n",
       " 126   536  0   251   25   3   39\n",
       " 536  3388  1  1571  118  25  136\n",
       "   0     2  0     1    0   0    0\n",
       " 265  1484  1   724   69  12   87\n",
       "  29    87  0    44    3   0    6\n",
       "   4    14  0     5    1   0    2\n",
       "  36   118  0    64    3   0    9"
      ]
     },
     "metadata": {},
     "output_type": "display_data"
    },
    {
     "name": "stdout",
     "output_type": "stream",
     "text": [
      "\n",
      "Fold 1\n",
      "Classes:  String[\"Charged Off\", \"Current\", \"Default\", \"Fully Paid\", \"In Grace Period\", \"Late (16-30 days)\", \"Late (31-120 days)\"]\n",
      "Matrix:   \n",
      "Accuracy: 0.43256997455470736\n",
      "Kappa:    0.020436459150446604\n"
     ]
    },
    {
     "data": {
      "text/plain": [
       "7×7 Array{Int64,2}:\n",
       " 154   487  1   232   22   2   47\n",
       " 558  3363  3  1565  119  21  145\n",
       "   0     3  0     1    0   0    1\n",
       " 258  1496  1   784   53   7   60\n",
       "  19    93  0    56    3   0   10\n",
       "   3    19  0     6    1   0    2\n",
       "  38   110  1    66    5   0   10"
      ]
     },
     "metadata": {},
     "output_type": "display_data"
    },
    {
     "name": "stdout",
     "output_type": "stream",
     "text": [
      "\n",
      "Fold 2\n",
      "Classes:  String[\"Charged Off\", \"Current\", \"Default\", \"Fully Paid\", \"In Grace Period\", \"Late (16-30 days)\", \"Late (31-120 days)\"]\n",
      "Matrix:   \n",
      "Accuracy: 0.43908396946564887\n",
      "Kappa:    0.03455390195308502\n"
     ]
    },
    {
     "data": {
      "text/plain": [
       "7×7 Array{Int64,2}:\n",
       " 152   498  0   257   24   0   37\n",
       " 592  3363  2  1550  117  19  147\n",
       "   0     2  0     1    0   0    0\n",
       " 263  1452  2   778   64   8   75\n",
       "  20    98  0    43    4   0    6\n",
       "   8    16  0     6    0   0    1\n",
       "  39   120  0    49    7   1    4"
      ]
     },
     "metadata": {},
     "output_type": "display_data"
    },
    {
     "name": "stdout",
     "output_type": "stream",
     "text": [
      "\n",
      "Fold 3\n",
      "Classes:  String[\"Charged Off\", \"Current\", \"Default\", \"Fully Paid\", \"In Grace Period\", \"Late (16-30 days)\", \"Late (31-120 days)\"]\n",
      "Matrix:   \n",
      "Accuracy: 0.43776081424936386\n",
      "Kappa:    0.03383488916452872\n",
      "\n",
      "Mean Accuracy: 0.4364715860899067\n"
     ]
    },
    {
     "data": {
      "text/plain": [
       "3-element Array{Float64,1}:\n",
       " 0.43257 \n",
       " 0.439084\n",
       " 0.437761"
      ]
     },
     "execution_count": 89,
     "metadata": {},
     "output_type": "execute_result"
    }
   ],
   "source": [
    "# code won't run..\n",
    "\n",
    "# CODE ADAPTED FROM: https://github.com/bensadeghi/DecisionTree.jl\n",
    "# train full-tree classifier\n",
    "model = build_tree(labels, features)\n",
    "# prune tree: merge leaves having >= 90% combined purity (default: 100%)\n",
    "model = prune_tree(model, 0.9)\n",
    "# pretty print of the tree, to a depth of 5 nodes (optional)\n",
    "print_tree(model, 5)\n",
    "# apply learned model\n",
    "println(\"****\")\n",
    "println(apply_tree(model, [test_a[1], test_b[1], test_c[1], test_d[1], test_e[1], test_f[1]]))\n",
    "println(\"****\")\n",
    "# get the probability of each label\n",
    "println(apply_tree_proba(model, [test_a[1], test_b[1], test_c[1], test_d[1], test_e[1], test_f[1]], [\"Fully Paid\", \"Default\", \"Current\", \"In Grace Period\", \"Late (31-120 days)\", \"Charged Off\", \"Late (16-30 days)\"]))\n",
    "println(\"****\")\n",
    "# run n-fold cross validation for pruned tree,\n",
    "# using 90% purity threshold pruning, and 3 CV folds\n",
    "accuracy = nfoldCV_tree(labels, features, 0.9, 3)"
   ]
  },
  {
   "cell_type": "code",
   "execution_count": 90,
   "metadata": {
    "collapsed": false
   },
   "outputs": [
    {
     "name": "stdout",
     "output_type": "stream",
     "text": [
      "****\n",
      "Current\n",
      "****\n",
      "[0.0, 0.0, 1.0, 0.0, 0.0, 0.0, 0.0]\n",
      "****\n"
     ]
    },
    {
     "data": {
      "text/plain": [
       "7×7 Array{Int64,2}:\n",
       "  57   685  0   198  1  0  0\n",
       " 125  4419  0  1205  4  0  3\n",
       "   0     3  0     2  0  0  0\n",
       "  49  2012  1   638  1  1  5\n",
       "   4   128  0    41  0  0  0\n",
       "   1    24  0    12  0  0  0\n",
       "  10   145  0    49  1  0  1"
      ]
     },
     "metadata": {},
     "output_type": "display_data"
    },
    {
     "name": "stdout",
     "output_type": "stream",
     "text": [
      "\n",
      "Fold 1\n",
      "Classes:  String[\"Charged Off\", \"Current\", \"Default\", \"Fully Paid\", \"In Grace Period\", \"Late (16-30 days)\", \"Late (31-120 days)\"]\n",
      "Matrix:   \n",
      "Accuracy: 0.5206106870229008\n",
      "Kappa:    0.03194925693085385\n"
     ]
    },
    {
     "data": {
      "text/plain": [
       "7×7 Array{Int64,2}:\n",
       "  54   729  0   205  0  0  3\n",
       " 109  4524  0  1141  3  0  8\n",
       "   0     2  0     0  0  0  0\n",
       "  56  1908  0   627  3  0  3\n",
       "   6   134  0    31  0  0  0\n",
       "   1    19  0     9  0  0  0\n",
       "  10   199  0    41  0  0  0"
      ]
     },
     "metadata": {},
     "output_type": "display_data"
    },
    {
     "name": "stdout",
     "output_type": "stream",
     "text": [
      "\n",
      "Fold 2\n",
      "Classes:  String[\"Charged Off\", \"Current\", \"Default\", \"Fully Paid\", \"In Grace Period\", \"Late (16-30 days)\", \"Late (31-120 days)\"]\n",
      "Matrix:   \n",
      "Accuracy: 0.5297709923664122\n",
      "Kappa:    0.04406163713829436\n"
     ]
    },
    {
     "data": {
      "text/plain": [
       "7×7 Array{Int64,2}:\n",
       "  57   684  0   220  0  0  1\n",
       " 118  4469  0  1205  3  0  3\n",
       "   0     2  0     2  0  0  0\n",
       "  55  1952  0   629  0  0  2\n",
       "   5   126  0    45  0  1  0\n",
       "   1    16  0     5  0  0  0\n",
       "  10   163  0    51  0  0  0"
      ]
     },
     "metadata": {},
     "output_type": "display_data"
    },
    {
     "name": "stdout",
     "output_type": "stream",
     "text": [
      "\n",
      "Fold 3\n",
      "Classes:  String[\"Charged Off\", \"Current\", \"Default\", \"Fully Paid\", \"In Grace Period\", \"Late (16-30 days)\", \"Late (31-120 days)\"]\n",
      "Matrix:   \n",
      "Accuracy: 0.5246819338422392\n",
      "Kappa:    0.03662584441885588\n",
      "\n",
      "Mean Accuracy: 0.5250212044105175\n"
     ]
    },
    {
     "data": {
      "text/plain": [
       "3-element Array{Float64,1}:\n",
       " 0.520611\n",
       " 0.529771\n",
       " 0.524682"
      ]
     },
     "execution_count": 90,
     "metadata": {},
     "output_type": "execute_result"
    }
   ],
   "source": [
    "# train random forest classifier\n",
    "# using 2 random features, 10 trees, 0.5 portion of samples per tree (optional), and a maximum tree depth of 6 (optional)\n",
    "model = build_forest(labels, features, 2, 10, 0.5, 6)\n",
    "# apply learned model\n",
    "println(\"****\")\n",
    "println(apply_forest(model, [test_a[1], test_b[1], test_c[1], test_d[1], test_e[1], test_f[1]]))\n",
    "println(\"****\")\n",
    "# get the probability of each label\n",
    "println(apply_forest_proba(model, [test_a[1], test_b[1], test_c[1], test_d[1], test_e[1], test_f[1]], [\"Fully Paid\", \"Default\", \"Current\", \"In Grace Period\", \"Late (31-120 days)\", \"Charged Off\", \"Late (16-30 days)\"]))\n",
    "println(\"****\")\n",
    "# run n-fold cross validation for forests\n",
    "# using 2 random features, 10 trees, 3 folds and 0.5 of samples per tree (optional)\n",
    "accuracy = nfoldCV_forest(labels, features, 2, 10, 3, 0.5)"
   ]
  },
  {
   "cell_type": "code",
   "execution_count": 91,
   "metadata": {
    "collapsed": false
   },
   "outputs": [
    {
     "name": "stderr",
     "output_type": "stream",
     "text": [
      "\u001b[1m\u001b[36mINFO: \u001b[39m\u001b[22m\u001b[36mPackage LIBSVM is already installed\n",
      "\u001b[39m\u001b[1m\u001b[36mINFO: \u001b[39m\u001b[22m\u001b[36mMETADATA is out-of-date — you may not have the latest version of LIBSVM\n",
      "\u001b[39m\u001b[1m\u001b[36mINFO: \u001b[39m\u001b[22m\u001b[36mUse `Pkg.update()` to get the latest versions of your packages\n",
      "\u001b[39m"
     ]
    }
   ],
   "source": [
    "# Pkg.update()\n",
    "# Pkg.add(\"SVM\") # <-- didn't work\n",
    "# using SVM\n",
    "\n",
    "Pkg.add(\"LIBSVM\")\n",
    "using LIBSVM"
   ]
  },
  {
   "cell_type": "code",
   "execution_count": 92,
   "metadata": {
    "collapsed": false
   },
   "outputs": [
    {
     "ename": "LoadError",
     "evalue": "\u001b[91mSize of second dimension of training instance matrix\n(6) does not match length of labels\n(29476)\u001b[39m",
     "output_type": "error",
     "traceback": [
      "\u001b[91mSize of second dimension of training instance matrix\n(6) does not match length of labels\n(29476)\u001b[39m",
      "",
      "Stacktrace:",
      " [1] \u001b[1mindices_and_weights\u001b[22m\u001b[22m\u001b[1m(\u001b[22m\u001b[22m::Array{Any,1}, ::Array{Float64,2}, ::Void\u001b[1m)\u001b[22m\u001b[22m at \u001b[1mC:\\Users\\ks70\\.julia\\v0.6\\LIBSVM\\src\\LIBSVM.jl:260\u001b[22m\u001b[22m",
      " [2] \u001b[1m#svmtrain#3\u001b[22m\u001b[22m\u001b[1m(\u001b[22m\u001b[22m::Type{T} where T, ::LIBSVM.Kernel.KERNEL, ::Int64, ::Float64, ::Float64, ::Float64, ::Float64, ::Float64, ::Float64, ::Bool, ::Bool, ::Void, ::Float64, ::Bool, ::LIBSVM.#svmtrain, ::Array{Float64,2}, ::Array{Any,1}\u001b[1m)\u001b[22m\u001b[22m at \u001b[1mC:\\Users\\ks70\\.julia\\v0.6\\LIBSVM\\src\\LIBSVM.jl:341\u001b[22m\u001b[22m",
      " [3] \u001b[1msvmtrain\u001b[22m\u001b[22m\u001b[1m(\u001b[22m\u001b[22m::Array{Float64,2}, ::Array{Any,1}\u001b[1m)\u001b[22m\u001b[22m at \u001b[1mC:\\Users\\ks70\\.julia\\v0.6\\LIBSVM\\src\\LIBSVM.jl:322\u001b[22m\u001b[22m",
      " [4] \u001b[1minclude_string\u001b[22m\u001b[22m\u001b[1m(\u001b[22m\u001b[22m::String, ::String\u001b[1m)\u001b[22m\u001b[22m at \u001b[1m.\\loading.jl:515\u001b[22m\u001b[22m"
     ]
    }
   ],
   "source": [
    "# model = svm(X[:,train], Y[train])\n",
    "# model = svm(features, labels)\n",
    "\n",
    "model = svmtrain(features[:, :], labels[:]);\n"
   ]
  },
  {
   "cell_type": "code",
   "execution_count": 93,
   "metadata": {
    "collapsed": false
   },
   "outputs": [
    {
     "ename": "LoadError",
     "evalue": "\u001b[91mUndefVarError: fit! not defined\u001b[39m",
     "output_type": "error",
     "traceback": [
      "\u001b[91mUndefVarError: fit! not defined\u001b[39m",
      "",
      "Stacktrace:",
      " [1] \u001b[1minclude_string\u001b[22m\u001b[22m\u001b[1m(\u001b[22m\u001b[22m::String, ::String\u001b[1m)\u001b[22m\u001b[22m at \u001b[1m.\\loading.jl:515\u001b[22m\u001b[22m"
     ]
    }
   ],
   "source": [
    "model = fit!(SVC(), features[:,:], labels[:])\n"
   ]
  },
  {
   "cell_type": "code",
   "execution_count": null,
   "metadata": {
    "collapsed": false
   },
   "outputs": [],
   "source": []
  },
  {
   "cell_type": "code",
   "execution_count": 101,
   "metadata": {
    "collapsed": false
   },
   "outputs": [
    {
     "name": "stdout",
     "output_type": "stream",
     "text": [
      "****\n",
      "Current\n",
      "****\n",
      "[0.1, 0.0, 0.9, 0.0, 0.0, 0.0, 0.0]\n",
      "****\n"
     ]
    },
    {
     "data": {
      "text/plain": [
       "7×7 Array{Int64,2}:\n",
       "  52   703  1   229  1  0  0\n",
       " 118  4437  1  1186  4  0  4\n",
       "   0     2  0     0  0  0  0\n",
       "  48  1983  0   612  1  0  2\n",
       "   5   126  0    42  0  0  0\n",
       "   0    23  0    12  0  0  0\n",
       "  12   175  0    46  0  0  0"
      ]
     },
     "metadata": {},
     "output_type": "display_data"
    },
    {
     "name": "stdout",
     "output_type": "stream",
     "text": [
      "\n",
      "Fold 1\n",
      "Classes:  String[\"Charged Off\", \"Current\", \"Default\", \"Fully Paid\", \"In Grace Period\", \"Late (16-30 days)\", \"Late (31-120 days)\"]\n",
      "Matrix:   \n",
      "Accuracy: 0.5191857506361324\n",
      "Kappa:    0.029755052205438295\n"
     ]
    },
    {
     "data": {
      "text/plain": [
       "7×7 Array{Int64,2}:\n",
       "  54   684  0   209  1  0  2\n",
       " 117  4471  1  1210  1  1  8\n",
       "   0     3  0     1  0  0  0\n",
       "  68  1938  0   629  1  0  1\n",
       "   7   136  0    30  0  0  0\n",
       "   4    18  0     9  0  0  1\n",
       "  14   155  0    51  0  0  0"
      ]
     },
     "metadata": {},
     "output_type": "display_data"
    },
    {
     "name": "stdout",
     "output_type": "stream",
     "text": [
      "\n",
      "Fold 2\n",
      "Classes:  String[\"Charged Off\", \"Current\", \"Default\", \"Fully Paid\", \"In Grace Period\", \"Late (16-30 days)\", \"Late (31-120 days)\"]\n",
      "Matrix:   \n",
      "Accuracy: 0.5245801526717557\n",
      "Kappa:    0.03628414452768005\n"
     ]
    },
    {
     "data": {
      "text/plain": [
       "7×7 Array{Int64,2}:\n",
       "  53   695  0   209  1  0  0\n",
       " 128  4563  0  1083  2  0  3\n",
       "   0     5  0     0  0  0  0\n",
       "  61  1984  0   613  2  0  0\n",
       "   6   127  0    42  0  0  0\n",
       "   1    12  0     8  0  0  0\n",
       "  14   171  0    42  0  0  0"
      ]
     },
     "metadata": {},
     "output_type": "display_data"
    },
    {
     "name": "stdout",
     "output_type": "stream",
     "text": [
      "\n",
      "Fold 3\n",
      "Classes:  String[\"Charged Off\", \"Current\", \"Default\", \"Fully Paid\", \"In Grace Period\", \"Late (16-30 days)\", \"Late (31-120 days)\"]\n",
      "Matrix:   \n",
      "Accuracy: 0.5322137404580153\n",
      "Kappa:    0.045196610962525065\n",
      "\n",
      "Mean Accuracy: 0.5253265479219679\n"
     ]
    },
    {
     "data": {
      "text/plain": [
       "3-element Array{Float64,1}:\n",
       " 0.519186\n",
       " 0.52458 \n",
       " 0.532214"
      ]
     },
     "execution_count": 101,
     "metadata": {},
     "output_type": "execute_result"
    }
   ],
   "source": [
    "features = convert(Matrix{Float64}, features)\n",
    "\n",
    "\n",
    "\n",
    "# train random forest classifier\n",
    "# using 2 random features, 10 trees, 0.5 portion of samples per tree (optional), and a maximum tree depth of 6 (optional)\n",
    "model = build_forest(labels, features, 2, 10, 0.5, 6)\n",
    "# apply learned model\n",
    "println(\"****\")\n",
    "println(apply_forest(model, [test_a[1], test_b[1], test_c[1], test_d[1], test_e[1], test_f[1]]))\n",
    "println(\"****\")\n",
    "# get the probability of each label\n",
    "println(apply_forest_proba(model, [test_a[1], test_b[1], test_c[1], test_d[1], test_e[1], test_f[1]], [\"Fully Paid\", \"Default\", \"Current\", \"In Grace Period\", \"Late (31-120 days)\", \"Charged Off\", \"Late (16-30 days)\"]))\n",
    "println(\"****\")\n",
    "# run n-fold cross validation for forests\n",
    "# using 2 random features, 10 trees, 3 folds and 0.5 of samples per tree (optional)\n",
    "accuracy = nfoldCV_forest(labels, features, 2, 10, 3, 0.5)\n",
    "\n",
    "\n",
    "# # Train Set Error\n",
    "# matches = 0\n",
    "# not_matches = 0\n",
    "# for \n",
    "\n"
   ]
  },
  {
   "cell_type": "code",
   "execution_count": null,
   "metadata": {
    "collapsed": true
   },
   "outputs": [],
   "source": []
  },
  {
   "cell_type": "code",
   "execution_count": 102,
   "metadata": {
    "collapsed": false
   },
   "outputs": [
    {
     "ename": "LoadError",
     "evalue": "\u001b[91msyntax: extra token \"it\" after end of expression\u001b[39m",
     "output_type": "error",
     "traceback": [
      "\u001b[91msyntax: extra token \"it\" after end of expression\u001b[39m",
      "",
      "Stacktrace:",
      " [1] \u001b[1minclude_string\u001b[22m\u001b[22m\u001b[1m(\u001b[22m\u001b[22m::String, ::String\u001b[1m)\u001b[22m\u001b[22m at \u001b[1m.\\loading.jl:515\u001b[22m\u001b[22m"
     ]
    }
   ],
   "source": [
    "\"Charged Off\" - write it off, have been delinquent, probably won't pay it off\n",
    "\"Late (16-30 days)\"\n",
    "\"Late (31-120 days)\n",
    "\"Default\"\n",
    "\"In Grace Period\"\n",
    "\n",
    "\"Current\"\n",
    "\"Fully Paid\"\n",
    "\n"
   ]
  },
  {
   "cell_type": "code",
   "execution_count": 103,
   "metadata": {
    "collapsed": false
   },
   "outputs": [
    {
     "data": {
      "text/html": [
       "<img src=\"data:image/png;base64,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\" />"
      ]
     },
     "execution_count": 103,
     "metadata": {},
     "output_type": "execute_result"
    }
   ],
   "source": [
    "loan_status = accepted_2015[:loan_status]\n",
    "num_good = 0\n",
    "num_bad = 0\n",
    "for i = 1 : length(loan_status)\n",
    "    if loan_status[i] == \"Current\" || loan_status[i] == \"Fully Paid\"\n",
    "        num_good += 1\n",
    "    else\n",
    "        num_bad += 1\n",
    "    end\n",
    "end\n",
    "# println(int_term_of_loan[1:100])\n",
    "# pie([\"36 months\", \"60 months\"],[num_36, num_60])\n",
    "pie([\"Late or Cancelled\",\"On time or paid off\"], [num_bad, num_good])"
   ]
  },
  {
   "cell_type": "code",
   "execution_count": 104,
   "metadata": {
    "collapsed": false
   },
   "outputs": [
    {
     "name": "stderr",
     "output_type": "stream",
     "text": [
      "\u001b[1m\u001b[36mINFO: \u001b[39m\u001b[22m"
     ]
    }
   ],
   "source": [
    "Pkg.add(\"ScikitLearn\")\n",
    "using ScikitLearn"
   ]
  },
  {
   "cell_type": "code",
   "execution_count": null,
   "metadata": {
    "collapsed": false
   },
   "outputs": [],
   "source": []
  },
  {
   "cell_type": "code",
   "execution_count": 105,
   "metadata": {
    "collapsed": false
   },
   "outputs": [],
   "source": [
    "for pkg in [\"ScikitLearn\"]\n",
    "    if !(pkg in keys(Pkg.installed()))\n",
    "        Pkg.add(pkg)\n",
    "    end\n",
    "end"
   ]
  },
  {
   "cell_type": "code",
   "execution_count": 106,
   "metadata": {
    "collapsed": false
   },
   "outputs": [],
   "source": [
    "using ScikitLearn\n",
    "using PyCall\n",
    "using PyPlot\n",
    "using ScikitLearn.CrossValidation: train_test_split"
   ]
  },
  {
   "cell_type": "code",
   "execution_count": 107,
   "metadata": {
    "collapsed": false
   },
   "outputs": [
    {
     "name": "stderr",
     "output_type": "stream",
     "text": [
      "WARNING: redefining constant StandardScaler\n",
      "WARNING: redefining constant make_moons\n",
      "WARNING: redefining constant make_circles\n",
      "WARNING: redefining constant make_classification\n",
      "WARNING: redefining constant KNeighborsClassifier\n",
      "WARNING: redefining constant SVC\n",
      "WARNING: redefining constant DecisionTreeClassifier\n",
      "WARNING: redefining constant RandomForestClassifier\n"
     ]
    },
    {
     "data": {
      "text/plain": [
       "PyObject <class 'sklearn.discriminant_analysis.QuadraticDiscriminantAnalysis'>"
      ]
     },
     "execution_count": 107,
     "metadata": {},
     "output_type": "execute_result"
    }
   ],
   "source": [
    "@sk_import preprocessing: StandardScaler\n",
    "@sk_import datasets: (make_moons, make_circles, make_classification)\n",
    "@sk_import neighbors: KNeighborsClassifier\n",
    "@sk_import svm: SVC\n",
    "@sk_import tree: DecisionTreeClassifier\n",
    "@sk_import ensemble: (RandomForestClassifier, AdaBoostClassifier)\n",
    "@sk_import naive_bayes: GaussianNB\n",
    "@sk_import discriminant_analysis: (LinearDiscriminantAnalysis, QuadraticDiscriminantAnalysis)"
   ]
  },
  {
   "cell_type": "code",
   "execution_count": 108,
   "metadata": {
    "collapsed": false
   },
   "outputs": [
    {
     "name": "stderr",
     "output_type": "stream",
     "text": [
      "WARNING: redefining constant AdaBoostClassifier\n",
      "WARNING: redefining constant GaussianNB\n",
      "WARNING: redefining constant LinearDiscriminantAnalysis\n",
      "WARNING: redefining constant QuadraticDiscriminantAnalysis\n"
     ]
    },
    {
     "data": {
      "text/plain": [
       "1-element Array{PyCall.PyObject,1}:\n",
       " PyObject SVC(C=1, cache_size=200, class_weight='balanced', coef0=0.0,\n",
       "  decision_function_shape='ovr', degree=3, gamma=2, kernel='rbf',\n",
       "  max_iter=-1, probability=False, random_state=None, shrinking=True,\n",
       "  tol=0.001, verbose=False)"
      ]
     },
     "execution_count": 108,
     "metadata": {},
     "output_type": "execute_result"
    }
   ],
   "source": [
    "names = [\"Nearest Neighbors\", \"Linear SVM\", \"RBF SVM\", \"Decision Tree\",\n",
    "         \"Random Forest\", \"AdaBoost\", \"Naive Bayes\", \"Linear Discriminant Analysis\",\n",
    "         \"Quadratic Discriminant Analysis\"]\n",
    "classifiers = [\n",
    "    KNeighborsClassifier(3),\n",
    "    SVC(kernel=\"linear\", C=0.025),\n",
    "    SVC(gamma=2, C=1),\n",
    "    DecisionTreeClassifier(max_depth=5),\n",
    "    RandomForestClassifier(max_depth=5, n_estimators=10, max_features=1),\n",
    "    AdaBoostClassifier(),\n",
    "    GaussianNB(),\n",
    "    LinearDiscriminantAnalysis(),\n",
    "    QuadraticDiscriminantAnalysis()]\n",
    "\n",
    "names = [\"RBF SVM\"]\n",
    "classifiers = [SVC(gamma=2, C=1, class_weight=\"balanced\")] # balanced --> using class probabilities from training set as weights\n",
    "\n",
    "\n",
    "# Influence from: https://github.com/cstjean/ScikitLearn.jl/blob/master/examples/Classifier_Comparison.ipynb"
   ]
  },
  {
   "cell_type": "code",
   "execution_count": 109,
   "metadata": {
    "collapsed": true
   },
   "outputs": [],
   "source": [
    "using ScikitLearn.Utils: meshgrid"
   ]
  },
  {
   "cell_type": "code",
   "execution_count": 110,
   "metadata": {
    "collapsed": false
   },
   "outputs": [
    {
     "ename": "LoadError",
     "evalue": "\u001b[91mUndefVarError: input not defined\u001b[39m",
     "output_type": "error",
     "traceback": [
      "\u001b[91mUndefVarError: input not defined\u001b[39m",
      "",
      "Stacktrace:",
      " [1] \u001b[1mmacro expansion\u001b[22m\u001b[22m at \u001b[1m.\\In[110]:34\u001b[22m\u001b[22m [inlined]",
      " [2] \u001b[1manonymous\u001b[22m\u001b[22m at \u001b[1m.\\<missing>:?\u001b[22m\u001b[22m",
      " [3] \u001b[1minclude_string\u001b[22m\u001b[22m\u001b[1m(\u001b[22m\u001b[22m::String, ::String\u001b[1m)\u001b[22m\u001b[22m at \u001b[1m.\\loading.jl:515\u001b[22m\u001b[22m"
     ]
    }
   ],
   "source": [
    "# I've collected X and y already (not using all data yet, might have to fix some earlier cells)\n",
    "X_train, X_test, y_train, y_test = train_test_split(X, y, test_size=.7)\n",
    "\n",
    "\n",
    "# X, y = ds\n",
    "# X = fit_transform!(StandardScaler(), X)\n",
    "# X_train, X_test, y_train, y_test = train_test_split(X, y, test_size=.4)\n",
    "\n",
    "x_min, x_max = minimum(X[:, 1]) - .5, maximum(X[:, 1]) + .5\n",
    "y_min, y_max = minimum(X[:, 2]) - .5, maximum(X[:, 2]) + .5\n",
    "h = .05\n",
    "# xx, yy = meshgrid(x_min:h:x_max, y_min:h:y_max)\n",
    "\n",
    "# just plot the dataset first\n",
    "# cm = PyPlot.cm[:RdBu]\n",
    "# cm_bright = mplc.ListedColormap([\"#FF0000\", \"#0000FF\"])\n",
    "# ax = subplot(length(datasets), length(classifiers) + 1, i)\n",
    "# # Plot the training points\n",
    "# ax[:scatter](X_train[:, 1], X_train[:, 2], c=y_train, cmap=cm_bright)\n",
    "# # and testing points\n",
    "# ax[:scatter](X_test[:, 1], X_test[:, 2], c=y_test, cmap=cm_bright, alpha=0.6)\n",
    "\n",
    "# ax[:set_xlim](minimum(xx), maximum(xx))\n",
    "# ax[:set_ylim](minimum(yy), maximum(yy))\n",
    "# ax[:set_xticks](())\n",
    "# ax[:set_yticks](())\n",
    "# i += 1\n",
    "\n",
    "# iterate over classifiers\n",
    "for (name, clf) in zip(names, classifiers)\n",
    "#     ax = subplot(length(datasets), length(classifiers) + 1, i)\n",
    "    classifier = ScikitLearn.fit!(clf, X_train, y_train)\n",
    "    \n",
    "    name = input(\"Name of saved model file? \");\n",
    "    save(name, \"classifier\", classifier)\n",
    "    \n",
    "    scor = score(clf, X_test, y_test)\n",
    "    println(clf)\n",
    "    println(score)\n",
    "    @sprintf(\"%.2f\", scor)\n",
    "    \n",
    "    predictions = ScikitLearn.predict(classifier, X_test)\n",
    "#     println(predictions)\n",
    "    \n",
    "    prediction_dict = Dict()\n",
    "    for prediction in predictions\n",
    "        prediction_dict[prediction]=get(prediction_dict, prediction, 0) + 1\n",
    "    end\n",
    "    \n",
    "    println(prediction_dict)\n",
    "    \n",
    "#     # Plot the decision boundary. For that, we will assign a color to each\n",
    "#     # point in the mesh [x_min, m_max]x[y_min, y_max].\n",
    "#     try \n",
    "#         # Not implemented for some\n",
    "#         Z = decision_function(clf, hcat(xx[:], yy[:]))\n",
    "#     catch\n",
    "#         Z = predict_proba(clf, hcat(xx[:], yy[:]))[:, 2]\n",
    "#     end\n",
    "\n",
    "#     # Put the result into a color plot\n",
    "#     Z = reshape(Z, size(xx)...)\n",
    "#     ax[:contourf](xx, yy, Z, cmap=cm, alpha=.8)\n",
    "\n",
    "#     # Plot also the training points\n",
    "#     ax[:scatter](X_train[:, 1], X_train[:, 2], c=y_train, cmap=cm_bright)\n",
    "#     # and testing points\n",
    "#     ax[:scatter](X_test[:, 1], X_test[:, 2], c=y_test, cmap=cm_bright,\n",
    "#                alpha=0.6)\n",
    "\n",
    "#     ax[:set_xlim](minimum(xx), maximum(xx))\n",
    "#     ax[:set_ylim](minimum(yy), maximum(yy))\n",
    "#     ax[:set_xticks](())\n",
    "#     ax[:set_yticks](())\n",
    "#     ax[:set_title](name)\n",
    "\n",
    "#     ax[:text](maximum(xx) - .3, minimum(yy) + .3, @sprintf(\"%.2f\", scor),\n",
    "#             size=15, horizontalalignment=\"right\")\n",
    "#     i += 1\n",
    "end\n",
    "# fig[:subplots_adjust](left=.02, right=.98)\n",
    "\n",
    "\n",
    "\n"
   ]
  },
  {
   "cell_type": "code",
   "execution_count": 111,
   "metadata": {
    "collapsed": true
   },
   "outputs": [],
   "source": [
    "# classifier = fit!(LogisticRegression(), X, y)\n",
    "\n",
    "\n",
    "\n",
    "# Some previous results for SVC(gamma=2, C=1, class_weight=\"balanced\")\n",
    "# Dict{Any,Any}(Pair{Any,Any}(\"Fully Paid\", 20939),Pair{Any,Any}(\"Current\", 60),Pair{Any,Any}(\"Charged Off\", 1))\n"
   ]
  },
  {
   "cell_type": "code",
   "execution_count": 112,
   "metadata": {
    "collapsed": false
   },
   "outputs": [],
   "source": [
    "# Pkg.add(\"JLD\")\n",
    "using JLD"
   ]
  },
  {
   "cell_type": "code",
   "execution_count": 113,
   "metadata": {
    "collapsed": true
   },
   "outputs": [],
   "source": [
    "# TODO\n",
    "# need to incorporate class weights when i use SVC - done!\n",
    "# fix how I split up the data -- (I currently hardcode...)"
   ]
  },
  {
   "cell_type": "code",
   "execution_count": null,
   "metadata": {
    "collapsed": true
   },
   "outputs": [],
   "source": []
  },
  {
   "cell_type": "code",
   "execution_count": null,
   "metadata": {
    "collapsed": true
   },
   "outputs": [],
   "source": []
  },
  {
   "cell_type": "code",
   "execution_count": null,
   "metadata": {
    "collapsed": true
   },
   "outputs": [],
   "source": []
  }
 ],
 "metadata": {
  "anaconda-cloud": {},
  "kernelspec": {
   "display_name": "Julia 0.6.0",
   "language": "julia",
   "name": "julia-0.6"
  },
  "language_info": {
   "file_extension": ".jl",
   "mimetype": "application/julia",
   "name": "julia",
   "version": "0.6.0"
  }
 },
 "nbformat": 4,
 "nbformat_minor": 1
}
